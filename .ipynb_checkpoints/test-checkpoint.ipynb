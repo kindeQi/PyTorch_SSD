{
 "cells": [
  {
   "cell_type": "code",
   "execution_count": 1,
   "metadata": {},
   "outputs": [],
   "source": [
    "import os\n",
    "import torch\n",
    "from tqdm import tqdm_notebook\n",
    "from matplotlib import pyplot as plt\n",
    "from itertools import product\n",
    "import json\n",
    "from collections import defaultdict\n",
    "\n",
    "from torch import nn\n",
    "from torch.autograd import Variable\n",
    "from torch.functional import F\n",
    "from torchvision import models\n",
    "import torchvision\n",
    "from torch.utils.data import Dataset, DataLoader\n",
    "import cv2\n",
    "import numpy as np\n",
    "\n",
    "# from fastai import transforms, model, dataset, conv_learner\n",
    "\n",
    "from PIL import ImageDraw, ImageFont\n",
    "from matplotlib import patches, patheffects\n",
    "from matplotlib import pyplot as plt\n",
    "import numpy as np\n",
    "import pandas as pd\n",
    "from augmentation import SSDAugmentation\n",
    "\n",
    "from Config import Config\n",
    "from SSD_model import get_SSD_model\n",
    "from VOC_data import VOC_dataset\n",
    "\n",
    "torch.set_printoptions(precision=3)"
   ]
  },
  {
   "cell_type": "code",
   "execution_count": 26,
   "metadata": {},
   "outputs": [],
   "source": [
    "x = torch.randn(4, 4)\n",
    "w = nn.Parameter(torch.randn(4, 3))\n",
    "b = nn.Parameter(torch.randn(1, 3))\n",
    "y = torch.randn(4, 3)"
   ]
  },
  {
   "cell_type": "code",
   "execution_count": 39,
   "metadata": {},
   "outputs": [],
   "source": [
    "criterion = nn.SmoothL1Loss()\n",
    "optimizer = torch.optim.SGD([w, b], lr=1e-2, momentum=0.9)\n",
    "scheduler = torch.optim.lr_scheduler.CosineAnnealingLR(optimizer, 16)"
   ]
  },
  {
   "cell_type": "code",
   "execution_count": 40,
   "metadata": {},
   "outputs": [],
   "source": [
    "epoch, batch = 4, 16"
   ]
  },
  {
   "cell_type": "code",
   "execution_count": 41,
   "metadata": {},
   "outputs": [
    {
     "name": "stdout",
     "output_type": "stream",
     "text": [
      "0.01\n"
     ]
    }
   ],
   "source": [
    "print(optimizer.param_groups[0]['lr'])"
   ]
  },
  {
   "cell_type": "code",
   "execution_count": 42,
   "metadata": {},
   "outputs": [],
   "source": [
    "lr_array = []\n",
    "\n",
    "for j in range(epoch):\n",
    "    for k in range(batch):\n",
    "        pred = torch.matmul(x, w) + b\n",
    "        loss = criterion(pred, y)\n",
    "        loss.backward()\n",
    "        optimizer.step()\n",
    "        scheduler.step()\n",
    "        lr_array.append(optimizer.param_groups[0]['lr'])"
   ]
  },
  {
   "cell_type": "code",
   "execution_count": 43,
   "metadata": {},
   "outputs": [
    {
     "data": {
      "text/plain": [
       "[<matplotlib.lines.Line2D at 0x1fafdecc358>]"
      ]
     },
     "execution_count": 43,
     "metadata": {},
     "output_type": "execute_result"
    },
    {
     "data": {
      "image/png": "[encoded data removed]",
      "text/plain": [
       "<Figure size 432x288 with 1 Axes>"
      ]
     },
     "metadata": {},
     "output_type": "display_data"
    }
   ],
   "source": [
    "plt.plot(lr_array)"
   ]
  },
  {
   "cell_type": "code",
   "execution_count": 44,
   "metadata": {},
   "outputs": [],
   "source": [
    "lr_array = []\n",
    "lr_min, lr_max = 1e-4, 10\n",
    "ratio = lr_max / lr_min\n",
    "\n",
    "for j in range(epoch):\n",
    "    for k in range(batch):\n",
    "        \n",
    "        pred = torch.matmul(x, w) + b\n",
    "        loss = criterion(pred, y)\n",
    "        loss.backward()\n",
    "        optimizer.step()\n",
    "        scheduler.step()\n",
    "        lr_array.append(optimizer.param_groups[0]['lr'])"
   ]
  },
  {
   "cell_type": "code",
   "execution_count": 52,
   "metadata": {},
   "outputs": [
    {
     "name": "stdout",
     "output_type": "stream",
     "text": [
      "0.0001\n",
      "0.00020535250264571464\n",
      "0.00042169650342858224\n",
      "0.0008659643233600655\n",
      "0.001778279410038923\n",
      "0.0036517412725483775\n",
      "0.007498942093324559\n",
      "0.01539926526059492\n",
      "0.0316227766016838\n",
      "0.06493816315762115\n",
      "0.13335214321633243\n",
      "0.27384196342643613\n",
      "0.5623413251903492\n",
      "1.1547819846894583\n",
      "2.3713737056616555\n",
      "4.869675251658632\n",
      "10.0\n"
     ]
    }
   ],
   "source": [
    "lr_change = []\n",
    "\n",
    "for t in range(batch + 1):\n",
    "    optimizer.param_groups[0]['lr'] = lr_min * ratio ** (t / batch)\n",
    "#     lr_change.append(lr_min * ratio ** (t / batch))\n",
    "    print(optimizer.param_groups[0]['lr'])"
   ]
  },
  {
   "cell_type": "code",
   "execution_count": null,
   "metadata": {},
   "outputs": [],
   "source": []
  },
  {
   "cell_type": "code",
   "execution_count": 50,
   "metadata": {},
   "outputs": [
    {
     "data": {
      "text/plain": [
       "[<matplotlib.lines.Line2D at 0x1fafdf28278>]"
      ]
     },
     "execution_count": 50,
     "metadata": {},
     "output_type": "execute_result"
    },
    {
     "data": {
      "image/png": "[encoded data removed]",
      "text/plain": [
       "<Figure size 432x288 with 1 Axes>"
      ]
     },
     "metadata": {},
     "output_type": "display_data"
    }
   ],
   "source": [
    "plt.plot(lr_change)"
   ]
  },
  {
   "cell_type": "code",
   "execution_count": 45,
   "metadata": {},
   "outputs": [
    {
     "data": {
      "text/plain": [
       "100000.0"
      ]
     },
     "execution_count": 45,
     "metadata": {},
     "output_type": "execute_result"
    }
   ],
   "source": [
    "ratio"
   ]
  },
  {
   "cell_type": "code",
   "execution_count": 54,
   "metadata": {},
   "outputs": [
    {
     "name": "stderr",
     "output_type": "stream",
     "text": [
      "D:\\1-usc\\SSD_PyTorch\\SSD_model.py:141: UserWarning: nn.init.xavier_uniform is now deprecated in favor of nn.init.xavier_uniform_.\n",
      "  nn.init.xavier_uniform(m.weight.data)\n"
     ]
    },
    {
     "name": "stdout",
     "output_type": "stream",
     "text": [
      "success build ssd model\n"
     ]
    }
   ],
   "source": [
    "config = Config('local')\n",
    "ssd_model = get_SSD_model(1, config.vgg_weight_path, config.vgg_reduced_weight_path)\n",
    "ssd_model.freeze_basenet()\n",
    "\n",
    "print('success build ssd model')\n",
    "\n",
    "train_dataset = VOC_dataset(config.voc2007_root, config.voc2007_trn_anno)\n",
    "\n",
    "# img, bbox, label = train_dataset[0]\n",
    "# img = img.unsqueeze(0)\n",
    "\n",
    "# conf_pred, loc_pred = ssd_model(img)\n",
    "# print(conf_pred.shape, loc_pred.shape)"
   ]
  },
  {
   "cell_type": "code",
   "execution_count": 56,
   "metadata": {},
   "outputs": [],
   "source": [
    "torch.save(ssd_model.state_dict(), 'tmp.pth')"
   ]
  },
  {
   "cell_type": "code",
   "execution_count": 57,
   "metadata": {},
   "outputs": [
    {
     "name": "stdout",
     "output_type": "stream",
     "text": [
      "Config.py\n",
      "README.md\n",
      "SSD_model.py\n",
      "SSDloss.py\n",
      "VOC_data.py\n",
      "__pycache__\n",
      "annotation\n",
      "augmentation.py\n",
      "dataset\n",
      "draw_img_utils.py\n",
      "lr_find.py\n",
      "main.ipynb\n",
      "test.ipynb\n",
      "test_loss.ipynb\n",
      "tmp\n",
      "train.py\n",
      "train_entrance.ipynb\n"
     ]
    }
   ],
   "source": [
    "!ls"
   ]
  },
  {
   "cell_type": "code",
   "execution_count": 3,
   "metadata": {},
   "outputs": [],
   "source": [
    "original_dict = ssd_model.state_dict()\n",
    "reduced_fc_weight = torch.load(config.vgg_reduced_weight_path)"
   ]
  },
  {
   "cell_type": "code",
   "execution_count": 4,
   "metadata": {},
   "outputs": [
    {
     "name": "stdout",
     "output_type": "stream",
     "text": [
      "D:\\1-usc\\SSD_3rd party implementation\\ssd.pytorch\\weights\\vgg16_reducedfc.pth\n"
     ]
    }
   ],
   "source": [
    "print(config.vgg_reduced_weight_path)"
   ]
  },
  {
   "cell_type": "code",
   "execution_count": 7,
   "metadata": {
    "scrolled": true
   },
   "outputs": [
    {
     "name": "stdout",
     "output_type": "stream",
     "text": [
      "base_net.0.weight    0.weight             True\n",
      "base_net.0.bias      0.bias               True\n",
      "base_net.2.weight    2.weight             True\n",
      "base_net.2.bias      2.bias               True\n",
      "base_net.5.weight    5.weight             True\n",
      "base_net.5.bias      5.bias               True\n",
      "base_net.7.weight    7.weight             True\n",
      "base_net.7.bias      7.bias               True\n",
      "base_net.10.weight   10.weight            True\n",
      "base_net.10.bias     10.bias              True\n",
      "base_net.12.weight   12.weight            True\n",
      "base_net.12.bias     12.bias              True\n",
      "base_net.14.weight   14.weight            True\n",
      "base_net.14.bias     14.bias              True\n",
      "base_net.17.weight   17.weight            True\n",
      "base_net.17.bias     17.bias              True\n",
      "base_net.19.weight   19.weight            True\n",
      "base_net.19.bias     19.bias              True\n",
      "base_net.21.weight   21.weight            True\n",
      "base_net.21.bias     21.bias              True\n",
      "base_net.24.weight   24.weight            True\n",
      "base_net.24.bias     24.bias              True\n",
      "base_net.26.weight   26.weight            True\n",
      "base_net.26.bias     26.bias              True\n",
      "base_net.28.weight   28.weight            True\n",
      "base_net.28.bias     28.bias              True\n",
      "reduced_fc.1.weight  31.weight            True\n",
      "reduced_fc.1.bias    31.bias              True\n",
      "reduced_fc.3.weight  33.weight            True\n",
      "reduced_fc.3.bias    33.bias              True\n"
     ]
    }
   ],
   "source": [
    "for k0, k1 in zip(original_dict.keys(), reduced_fc_weight.keys()):\n",
    "    shape_equal = original_dict[k0].shape == reduced_fc_weight[k1].shape\n",
    "    print('{:20s} {:20s} {}'.format(k0, k1, shape_equal))"
   ]
  },
  {
   "cell_type": "code",
   "execution_count": 8,
   "metadata": {},
   "outputs": [
    {
     "data": {
      "text/plain": [
       "tensor([ 0.403,  0.378,  0.464, -0.323,  0.394, -0.395,  0.395, -0.550,  0.269,\n",
       "        -0.760, -0.351,  0.233, -1.324, -0.169,  0.394, -0.103,  0.046, -0.700,\n",
       "         0.155,  0.563,  0.301,  0.343,  0.107,  0.465,  0.129,  0.079, -0.049,\n",
       "        -0.564,  0.147, -0.389, -0.071,  0.065,  0.277,  0.328,  0.568, -1.264,\n",
       "        -0.837, -0.948,  0.136,  0.273,  0.184, -0.533,  0.351, -0.083, -1.025,\n",
       "        -0.691, -0.771,  0.261,  0.403, -0.480, -0.307,  0.581, -1.333,  0.484,\n",
       "        -0.816,  0.239,  0.230,  0.498,  0.555,  0.523, -0.218,  0.012, -0.552,\n",
       "         0.211])"
      ]
     },
     "execution_count": 8,
     "metadata": {},
     "output_type": "execute_result"
    }
   ],
   "source": [
    "original_dict['base_net.0.bias']"
   ]
  },
  {
   "cell_type": "code",
   "execution_count": 9,
   "metadata": {},
   "outputs": [
    {
     "data": {
      "text/plain": [
       "tensor([ 0.734,  0.093,  0.068,  0.886,  0.260,  0.664, -0.016,  0.325,  0.686,\n",
       "         0.062,  0.582,  0.236,  0.697,  0.195,  0.486,  0.446,  0.511,  0.209,\n",
       "         0.576,  0.332,  0.500,  0.712,  0.303,  0.708,  0.045,  0.745,  0.298,\n",
       "         0.482,  0.817,  0.626,  0.377,  2.064,  0.773,  0.346,  0.613,  0.655,\n",
       "         0.390,  0.509,  0.263,  0.237,  0.080,  1.118,  0.261,  0.870,  0.215,\n",
       "         0.780,  0.370,  0.480,  0.431,  0.508,  0.230,  0.764,  0.354,  0.458,\n",
       "         0.466,  0.099,  0.380,  0.669,  0.402,  0.905,  0.432,  1.302,  0.531,\n",
       "         0.490])"
      ]
     },
     "execution_count": 9,
     "metadata": {},
     "output_type": "execute_result"
    }
   ],
   "source": [
    "reduced_fc_weight['0.bias']"
   ]
  },
  {
   "cell_type": "code",
   "execution_count": 10,
   "metadata": {},
   "outputs": [],
   "source": [
    "for k0, k1 in zip(original_dict.keys(), reduced_fc_weight.keys()):\n",
    "    original_dict[k0] = reduced_fc_weight[k1]"
   ]
  },
  {
   "cell_type": "code",
   "execution_count": 12,
   "metadata": {},
   "outputs": [],
   "source": [
    "ssd_model.load_state_dict(original_dict)"
   ]
  },
  {
   "cell_type": "code",
   "execution_count": 13,
   "metadata": {},
   "outputs": [
    {
     "data": {
      "text/plain": [
       "Parameter containing:\n",
       "tensor([ 0.734,  0.093,  0.068,  0.886,  0.260,  0.664, -0.016,  0.325,  0.686,\n",
       "         0.062,  0.582,  0.236,  0.697,  0.195,  0.486,  0.446,  0.511,  0.209,\n",
       "         0.576,  0.332,  0.500,  0.712,  0.303,  0.708,  0.045,  0.745,  0.298,\n",
       "         0.482,  0.817,  0.626,  0.377,  2.064,  0.773,  0.346,  0.613,  0.655,\n",
       "         0.390,  0.509,  0.263,  0.237,  0.080,  1.118,  0.261,  0.870,  0.215,\n",
       "         0.780,  0.370,  0.480,  0.431,  0.508,  0.230,  0.764,  0.354,  0.458,\n",
       "         0.466,  0.099,  0.380,  0.669,  0.402,  0.905,  0.432,  1.302,  0.531,\n",
       "         0.490])"
      ]
     },
     "execution_count": 13,
     "metadata": {},
     "output_type": "execute_result"
    }
   ],
   "source": [
    "ssd_model.base_net[0].bias"
   ]
  },
  {
   "cell_type": "code",
   "execution_count": 21,
   "metadata": {},
   "outputs": [],
   "source": [
    "base, ratio, batch_num = 1e-5, 1e6, 200"
   ]
  },
  {
   "cell_type": "code",
   "execution_count": 30,
   "metadata": {},
   "outputs": [
    {
     "name": "stdout",
     "output_type": "stream",
     "text": [
      "0 :  0.0\n",
      "1 :  0.0\n",
      "2 :  0.0\n",
      "3 :  0.0\n",
      "4 :  0.0\n",
      "5 :  0.0\n",
      "6 :  0.0\n",
      "7 :  0.0\n",
      "8 :  0.0\n",
      "9 :  0.0\n",
      "10 :  0.0\n",
      "11 :  0.0\n",
      "12 :  0.0\n",
      "13 :  0.0\n",
      "14 :  0.0\n",
      "15 :  0.0\n",
      "16 :  0.0\n",
      "17 :  0.0\n",
      "18 :  0.0\n",
      "19 :  0.0\n",
      "20 :  0.0\n",
      "21 :  0.0\n",
      "22 :  0.0\n",
      "23 :  0.0\n",
      "24 :  0.0\n",
      "25 :  0.0\n",
      "26 :  0.0\n",
      "27 :  0.0\n",
      "28 :  0.0\n",
      "29 :  0.0\n",
      "30 :  0.0\n",
      "31 :  0.0\n",
      "32 :  0.0\n",
      "33 :  0.0\n",
      "34 :  0.0\n",
      "35 :  0.0\n",
      "36 :  0.0\n",
      "37 :  0.0\n",
      "38 :  0.0\n",
      "39 :  0.0\n",
      "40 :  0.0\n",
      "41 :  0.0\n",
      "42 :  0.0\n",
      "43 :  0.0\n",
      "44 :  0.0\n",
      "45 :  0.0\n",
      "46 :  0.0\n",
      "47 :  0.0\n",
      "48 :  0.0\n",
      "49 :  0.0\n",
      "50 :  0.0\n",
      "51 :  0.0\n",
      "52 :  0.0\n",
      "53 :  0.0\n",
      "54 :  0.0\n",
      "55 :  0.0\n",
      "56 :  0.0\n",
      "57 :  0.0\n",
      "58 :  0.0\n",
      "59 :  0.0\n",
      "60 :  0.0\n",
      "61 :  0.0\n",
      "62 :  0.0\n",
      "63 :  0.0\n",
      "64 :  0.0\n",
      "65 :  0.0\n",
      "66 :  0.0\n",
      "67 :  0.0\n",
      "68 :  0.0\n",
      "69 :  0.0\n",
      "70 :  0.0\n",
      "71 :  0.0\n",
      "72 :  0.0\n",
      "73 :  0.0\n",
      "74 :  0.0\n",
      "75 :  0.0\n",
      "76 :  0.0\n",
      "77 :  0.0\n",
      "78 :  0.0\n",
      "79 :  0.0\n",
      "80 :  0.0\n",
      "81 :  0.0\n",
      "82 :  0.0\n",
      "83 :  0.0\n",
      "84 :  0.0\n",
      "85 :  0.0\n",
      "86 :  0.0\n",
      "87 :  0.0\n",
      "88 :  0.0\n",
      "89 :  0.0\n",
      "90 :  0.0\n",
      "91 :  0.0\n",
      "92 :  0.0\n",
      "93 :  0.0\n",
      "94 :  0.0\n",
      "95 :  0.0\n",
      "96 :  0.0\n",
      "97 :  0.0\n",
      "98 :  0.0\n",
      "99 :  0.0\n",
      "100 :  0.0\n",
      "101 :  0.0\n",
      "102 :  0.0\n",
      "103 :  0.0\n",
      "104 :  0.0\n",
      "105 :  0.0\n",
      "106 :  0.0\n",
      "107 :  0.0\n",
      "108 :  0.0\n",
      "109 :  0.0\n",
      "110 :  0.0\n",
      "111 :  0.0\n",
      "112 :  0.0\n",
      "113 :  0.0\n",
      "114 :  0.0\n",
      "115 :  0.0\n",
      "116 :  0.0\n",
      "117 :  0.0\n",
      "118 :  0.0\n",
      "119 :  0.0\n",
      "120 :  0.0\n",
      "121 :  0.0\n",
      "122 :  0.0\n",
      "123 :  0.0\n",
      "124 :  0.1\n",
      "125 :  0.1\n",
      "126 :  0.1\n",
      "127 :  0.1\n",
      "128 :  0.1\n",
      "129 :  0.1\n",
      "130 :  0.1\n",
      "131 :  0.1\n",
      "132 :  0.1\n",
      "133 :  0.1\n",
      "134 :  0.1\n",
      "135 :  0.1\n",
      "136 :  0.1\n",
      "137 :  0.1\n",
      "138 :  0.1\n",
      "139 :  0.1\n",
      "140 :  0.2\n",
      "141 :  0.2\n",
      "142 :  0.2\n",
      "143 :  0.2\n",
      "144 :  0.2\n",
      "145 :  0.2\n",
      "146 :  0.2\n",
      "147 :  0.3\n",
      "148 :  0.3\n",
      "149 :  0.3\n",
      "150 :  0.3\n",
      "151 :  0.3\n",
      "152 :  0.4\n",
      "153 :  0.4\n",
      "154 :  0.4\n",
      "155 :  0.4\n",
      "156 :  0.5\n",
      "157 :  0.5\n",
      "158 :  0.5\n",
      "159 :  0.6\n",
      "160 :  0.6\n",
      "161 :  0.7\n",
      "162 :  0.7\n",
      "163 :  0.8\n",
      "164 :  0.8\n",
      "165 :  0.9\n",
      "166 :  1.0\n",
      "167 :  1.0\n",
      "168 :  1.1\n",
      "169 :  1.2\n",
      "170 :  1.3\n",
      "171 :  1.3\n",
      "172 :  1.4\n",
      "173 :  1.5\n",
      "174 :  1.7\n",
      "175 :  1.8\n",
      "176 :  1.9\n",
      "177 :  2.0\n",
      "178 :  2.2\n",
      "179 :  2.3\n",
      "180 :  2.5\n",
      "181 :  2.7\n",
      "182 :  2.9\n",
      "183 :  3.1\n",
      "184 :  3.3\n",
      "185 :  3.5\n",
      "186 :  3.8\n",
      "187 :  4.1\n",
      "188 :  4.4\n",
      "189 :  4.7\n",
      "190 :  5.0\n",
      "191 :  5.4\n",
      "192 :  5.8\n",
      "193 :  6.2\n",
      "194 :  6.6\n",
      "195 :  7.1\n",
      "196 :  7.6\n",
      "197 :  8.1\n",
      "198 :  8.7\n",
      "199 :  9.3\n"
     ]
    }
   ],
   "source": [
    "for idx, i in enumerate(range(batch_num)):\n",
    "    lr = round(base * ratio ** (i / batch_num), 1)\n",
    "    print(idx, \": \", lr)"
   ]
  },
  {
   "cell_type": "code",
   "execution_count": null,
   "metadata": {},
   "outputs": [],
   "source": []
  },
  {
   "cell_type": "code",
   "execution_count": 22,
   "metadata": {},
   "outputs": [
    {
     "data": {
      "text/plain": [
       "torch.Size([4096, 25088])"
      ]
     },
     "execution_count": 22,
     "metadata": {},
     "output_type": "execute_result"
    }
   ],
   "source": [
    "reduced_fc_weight['classifier.0.weight'].shape"
   ]
  },
  {
   "cell_type": "code",
   "execution_count": 21,
   "metadata": {},
   "outputs": [
    {
     "name": "stdout",
     "output_type": "stream",
     "text": [
      "base_net.0.weight\n",
      "base_net.0.bias\n",
      "base_net.2.weight\n",
      "base_net.2.bias\n",
      "base_net.5.weight\n",
      "base_net.5.bias\n",
      "base_net.7.weight\n",
      "base_net.7.bias\n",
      "base_net.10.weight\n",
      "base_net.10.bias\n",
      "base_net.12.weight\n",
      "base_net.12.bias\n",
      "base_net.14.weight\n",
      "base_net.14.bias\n",
      "base_net.17.weight\n",
      "base_net.17.bias\n",
      "base_net.19.weight\n",
      "base_net.19.bias\n",
      "base_net.21.weight\n",
      "base_net.21.bias\n",
      "base_net.24.weight\n",
      "base_net.24.bias\n",
      "base_net.26.weight\n",
      "base_net.26.bias\n",
      "base_net.28.weight\n",
      "base_net.28.bias\n",
      "reduced_fc.1.weight\n",
      "reduced_fc.1.bias\n",
      "reduced_fc.3.weight\n",
      "reduced_fc.3.bias\n",
      "extra.0.weight\n",
      "extra.0.bias\n",
      "extra.1.weight\n",
      "extra.1.bias\n",
      "extra.2.weight\n",
      "extra.2.bias\n",
      "extra.3.weight\n",
      "extra.3.bias\n",
      "extra.4.weight\n",
      "extra.4.bias\n",
      "extra.5.weight\n",
      "extra.5.bias\n",
      "extra.6.weight\n",
      "extra.6.bias\n",
      "extra.7.weight\n",
      "extra.7.bias\n",
      "conf_layers.0.weight\n",
      "conf_layers.0.bias\n",
      "conf_layers.1.weight\n",
      "conf_layers.1.bias\n",
      "conf_layers.2.weight\n",
      "conf_layers.2.bias\n",
      "conf_layers.3.weight\n",
      "conf_layers.3.bias\n",
      "conf_layers.4.weight\n",
      "conf_layers.4.bias\n",
      "conf_layers.5.weight\n",
      "conf_layers.5.bias\n",
      "loc_layers.0.weight\n",
      "loc_layers.0.bias\n",
      "loc_layers.1.weight\n",
      "loc_layers.1.bias\n",
      "loc_layers.2.weight\n",
      "loc_layers.2.bias\n",
      "loc_layers.3.weight\n",
      "loc_layers.3.bias\n",
      "loc_layers.4.weight\n",
      "loc_layers.4.bias\n",
      "loc_layers.5.weight\n",
      "loc_layers.5.bias\n",
      "l2_norm.weights\n"
     ]
    }
   ],
   "source": [
    "for t in ssd_model.state_dict():\n",
    "    print(t)"
   ]
  },
  {
   "cell_type": "code",
   "execution_count": 3,
   "metadata": {},
   "outputs": [],
   "source": [
    "ssd_model.freeze_basenet()"
   ]
  },
  {
   "cell_type": "code",
   "execution_count": 4,
   "metadata": {},
   "outputs": [
    {
     "name": "stdout",
     "output_type": "stream",
     "text": [
      "False\n",
      "False\n",
      "False\n",
      "False\n",
      "False\n",
      "False\n",
      "False\n",
      "False\n",
      "False\n",
      "False\n",
      "False\n",
      "False\n",
      "False\n",
      "False\n",
      "False\n",
      "False\n",
      "False\n",
      "False\n",
      "False\n",
      "False\n",
      "False\n",
      "False\n",
      "False\n",
      "False\n",
      "False\n",
      "False\n",
      "True\n",
      "True\n",
      "True\n",
      "True\n",
      "True\n",
      "True\n",
      "True\n",
      "True\n",
      "True\n",
      "True\n",
      "True\n",
      "True\n",
      "True\n",
      "True\n",
      "True\n",
      "True\n",
      "True\n",
      "True\n",
      "True\n",
      "True\n",
      "True\n",
      "True\n",
      "True\n",
      "True\n",
      "True\n",
      "True\n",
      "True\n",
      "True\n",
      "True\n",
      "True\n",
      "True\n",
      "True\n",
      "True\n",
      "True\n",
      "True\n",
      "True\n",
      "True\n",
      "True\n",
      "True\n",
      "True\n",
      "True\n",
      "True\n",
      "True\n",
      "True\n",
      "True\n"
     ]
    }
   ],
   "source": [
    "for k in ssd_model.parameters():\n",
    "    print(k.requires_grad)"
   ]
  },
  {
   "cell_type": "code",
   "execution_count": 13,
   "metadata": {},
   "outputs": [],
   "source": [
    "x = torch.randn(4, 4)\n",
    "w1 = nn.Parameter(torch.randn(4, 3))\n",
    "b1 = nn.Parameter(torch.randn(1, 3))\n",
    "y = torch.randn(4, 3)\n",
    "pred = torch.matmul(x, w1) + b1\n",
    "\n",
    "optimizer = torch.optim.Adam([w1, b1])\n",
    "criterion = nn.SmoothL1Loss()\n",
    "loss = criterion(pred, y)"
   ]
  },
  {
   "cell_type": "code",
   "execution_count": 14,
   "metadata": {},
   "outputs": [],
   "source": [
    "w1.requires_grad = False"
   ]
  },
  {
   "cell_type": "code",
   "execution_count": 15,
   "metadata": {},
   "outputs": [],
   "source": [
    "loss.backward(retain_graph=True)\n",
    "# optimizer.step()"
   ]
  },
  {
   "cell_type": "code",
   "execution_count": 16,
   "metadata": {},
   "outputs": [],
   "source": [
    "w1.grad"
   ]
  },
  {
   "cell_type": "code",
   "execution_count": 18,
   "metadata": {},
   "outputs": [
    {
     "data": {
      "text/plain": [
       "tensor([[ 0.118, -0.102, -0.116]])"
      ]
     },
     "execution_count": 18,
     "metadata": {},
     "output_type": "execute_result"
    }
   ],
   "source": [
    "b1.grad"
   ]
  },
  {
   "cell_type": "code",
   "execution_count": 19,
   "metadata": {},
   "outputs": [
    {
     "data": {
      "text/plain": [
       "Parameter containing:\n",
       "tensor([[-0.763, -0.043,  1.046],\n",
       "        [ 1.506, -0.135, -1.143],\n",
       "        [ 0.087, -0.807, -1.532],\n",
       "        [-0.955,  0.441,  0.128]])"
      ]
     },
     "execution_count": 19,
     "metadata": {},
     "output_type": "execute_result"
    }
   ],
   "source": [
    "w1"
   ]
  },
  {
   "cell_type": "code",
   "execution_count": 20,
   "metadata": {},
   "outputs": [
    {
     "data": {
      "text/plain": [
       "Parameter containing:\n",
       "tensor([[-0.445, -0.305,  0.973]], requires_grad=True)"
      ]
     },
     "execution_count": 20,
     "metadata": {},
     "output_type": "execute_result"
    }
   ],
   "source": [
    "b1"
   ]
  },
  {
   "cell_type": "code",
   "execution_count": 21,
   "metadata": {},
   "outputs": [],
   "source": [
    "optimizer.step()"
   ]
  },
  {
   "cell_type": "code",
   "execution_count": 22,
   "metadata": {},
   "outputs": [
    {
     "data": {
      "text/plain": [
       "Parameter containing:\n",
       "tensor([[-0.763, -0.043,  1.046],\n",
       "        [ 1.506, -0.135, -1.143],\n",
       "        [ 0.087, -0.807, -1.532],\n",
       "        [-0.955,  0.441,  0.128]])"
      ]
     },
     "execution_count": 22,
     "metadata": {},
     "output_type": "execute_result"
    }
   ],
   "source": [
    "w1"
   ]
  },
  {
   "cell_type": "code",
   "execution_count": 23,
   "metadata": {},
   "outputs": [
    {
     "data": {
      "text/plain": [
       "Parameter containing:\n",
       "tensor([[-0.446, -0.304,  0.974]], requires_grad=True)"
      ]
     },
     "execution_count": 23,
     "metadata": {},
     "output_type": "execute_result"
    }
   ],
   "source": [
    "b1"
   ]
  },
  {
   "cell_type": "code",
   "execution_count": null,
   "metadata": {},
   "outputs": [],
   "source": []
  }
 ],
 "metadata": {
  "kernelspec": {
   "display_name": "Python 3",
   "language": "python",
   "name": "python3"
  },
  "language_info": {
   "codemirror_mode": {
    "name": "ipython",
    "version": 3
   },
   "file_extension": ".py",
   "mimetype": "text/x-python",
   "name": "python",
   "nbconvert_exporter": "python",
   "pygments_lexer": "ipython3",
   "version": "3.6.5"
  }
 },
 "nbformat": 4,
 "nbformat_minor": 2
}
