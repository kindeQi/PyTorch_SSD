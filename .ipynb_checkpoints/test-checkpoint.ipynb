{
 "cells": [
  {
   "cell_type": "code",
   "execution_count": 9,
   "metadata": {},
   "outputs": [],
   "source": [
    "import os\n",
    "import torch\n",
    "from tqdm import tqdm_notebook\n",
    "from matplotlib import pyplot as plt\n",
    "from itertools import product\n",
    "import json\n",
    "from collections import defaultdict\n",
    "\n",
    "from torch import nn\n",
    "from torch.autograd import Variable\n",
    "from torch.functional import F\n",
    "from torchvision import models\n",
    "import torchvision\n",
    "from torch.utils.data import Dataset, DataLoader\n",
    "import cv2\n",
    "import numpy as np\n",
    "\n",
    "# from fastai import transforms, model, dataset, conv_learner\n",
    "\n",
    "from PIL import ImageDraw, ImageFont\n",
    "from matplotlib import patches, patheffects\n",
    "from matplotlib import pyplot as plt\n",
    "import numpy as np\n",
    "import pandas as pd\n",
    "from augmentation import SSDAugmentation\n",
    "\n",
    "from Config import Config\n",
    "from SSD_model import get_SSD_model, lr_find\n",
    "from VOC_data import VOC_dataset\n",
    "\n",
    "torch.set_printoptions(precision=3)"
   ]
  },
  {
   "cell_type": "code",
   "execution_count": 10,
   "metadata": {},
   "outputs": [],
   "source": [
    "def detection_collate_fn(batch):\n",
    "    imgs, bboxes, labels = [], [], []\n",
    "    for i, b, l in batch:\n",
    "        imgs.append(i); bboxes.append(b); labels.append(l)\n",
    "    return torch.stack(imgs), bboxes, labels"
   ]
  },
  {
   "cell_type": "code",
   "execution_count": 11,
   "metadata": {},
   "outputs": [
    {
     "name": "stderr",
     "output_type": "stream",
     "text": [
      "/home/kindeqi/PyTorch_SSD/SSD_model.py:141: UserWarning: nn.init.xavier_uniform is now deprecated in favor of nn.init.xavier_uniform_.\n",
      "  nn.init.xavier_uniform(m.weight.data)\n"
     ]
    },
    {
     "name": "stdout",
     "output_type": "stream",
     "text": [
      "Parameter containing:\n",
      "tensor([ 0.734,  0.093,  0.068,  0.886,  0.260,  0.664, -0.016,  0.325,  0.686,\n",
      "         0.062,  0.582,  0.236,  0.697,  0.195,  0.486,  0.446,  0.511,  0.209,\n",
      "         0.576,  0.332,  0.500,  0.712,  0.303,  0.708,  0.045,  0.745,  0.298,\n",
      "         0.482,  0.817,  0.626,  0.377,  2.064,  0.773,  0.346,  0.613,  0.655,\n",
      "         0.390,  0.509,  0.263,  0.237,  0.080,  1.118,  0.261,  0.870,  0.215,\n",
      "         0.780,  0.370,  0.480,  0.431,  0.508,  0.230,  0.764,  0.354,  0.458,\n",
      "         0.466,  0.099,  0.380,  0.669,  0.402,  0.905,  0.432,  1.302,  0.531,\n",
      "         0.490])\n",
      "success build ssd model\n"
     ]
    },
    {
     "name": "stderr",
     "output_type": "stream",
     "text": [
      "  0%|          | 0/157 [00:00<?, ?it/s]/home/kindeqi/.local/lib/python3.6/site-packages/torch/nn/_reduction.py:49: UserWarning: size_average and reduce args will be deprecated, please use reduction='none' instead.\n",
      "  warnings.warn(warning.format(ret))\n",
      "100%|██████████| 157/157 [04:45<00:00,  1.39s/it]\n"
     ]
    }
   ],
   "source": [
    "config = Config('remote')\n",
    "ssd_model = get_SSD_model(1, config.vgg_weight_path, config.vgg_reduced_weight_path)\n",
    "ssd_model.freeze_basenet()\n",
    "\n",
    "print(ssd_model.base_net[0].bias)\n",
    "\n",
    "print('success build ssd model')\n",
    "\n",
    "train_dataset = VOC_dataset(config.voc2007_root, config.voc2007_trn_anno)\n",
    "\n",
    "# img, bbox, label = train_dataset[0]\n",
    "# img = img.unsqueeze(0)\n",
    "\n",
    "# conf_pred, loc_pred = ssd_model(img)\n",
    "# print(conf_pred.shape, loc_pred.shape)\n",
    "trn_dataloader = DataLoader(train_dataset, 16, shuffle=False, collate_fn=detection_collate_fn)\n",
    "lr_array, loss_array = lr_find(ssd_model, 10, 1e-5, trn_dataloader)"
   ]
  },
  {
   "cell_type": "code",
   "execution_count": 12,
   "metadata": {},
   "outputs": [
    {
     "data": {
      "text/plain": [
       "[1e-05,\n",
       " 1.0919847177985392e-05,\n",
       " 1.1924306239055554e-05,\n",
       " 1.3021160183398441e-05,\n",
       " 1.4218907928277921e-05,\n",
       " 1.5526830161463976e-05,\n",
       " 1.6955061252172086e-05,\n",
       " 1.8514667776710084e-05,\n",
       " 2.0217734267284466e-05,\n",
       " 2.2077456848386482e-05,\n",
       " 2.4108245486294738e-05,\n",
       " 2.632583564396947e-05,\n",
       " 2.874741020649072e-05,\n",
       " 3.1391732621773616e-05,\n",
       " 3.427929228819466e-05,\n",
       " 3.74324633156579e-05,\n",
       " 4.0875677890252854e-05,\n",
       " 4.463561558581175e-05,\n",
       " 4.8741410089236725e-05,\n",
       " 5.322487494139803e-05,\n",
       " 5.812075004274507e-05,\n",
       " 6.346697083366641e-05,\n",
       " 6.930496223532932e-05,\n",
       " 7.567995962858451e-05,\n",
       " 8.26413593580247e-05,\n",
       " 9.024310147706026e-05,\n",
       " 9.854408769969258e-05,\n",
       " 0.00010760863779746331,\n",
       " 0.00011750698797794817,\n",
       " 0.0001283158351064561,\n",
       " 0.00014011893098780738,\n",
       " 0.00015300773131295383,\n",
       " 0.0001670821042987706,\n",
       " 0.0001824511045118791,\n",
       " 0.00019923381787243609,\n",
       " 0.00021756028438535765,\n",
       " 0.0002375725057487147,\n",
       " 0.00025942554564670206,\n",
       " 0.000283288731252746,\n",
       " 0.00030934696525253605,\n",
       " 0.00033780215855312506,\n",
       " 0.00036887479477937165,\n",
       " 0.0004028056386801462,\n",
       " 0.0004398576016817998,\n",
       " 0.0004803177790440424,\n",
       " 0.0005244996744030297,\n",
       " 0.0005727456289384181,\n",
       " 0.0006254294739866654,\n",
       " 0.0006829594276542176,\n",
       " 0.0007457812578748426,\n",
       " 0.0008143817364198995,\n",
       " 0.0008892924106247684,\n",
       " 0.0009710937220564703,\n",
       " 0.001060419504035768,\n",
       " 0.0011579618928625648,\n",
       " 0.0012644766907989901,\n",
       " 0.0013807892223649657,\n",
       " 0.0015078007293234715,\n",
       " 0.0016464953539067225,\n",
       " 0.0017979477643924398,\n",
       " 0.0019633314821165928,\n",
       " 0.0021439279744440752,\n",
       " 0.0023411365841537073,\n",
       " 0.002556485372174922,\n",
       " 0.002791642957690526,\n",
       " 0.0030484314473479676,\n",
       " 0.003328840553760463,\n",
       " 0.0036350430126944524,\n",
       " 0.003969411418402703,\n",
       " 0.004334536607550774,\n",
       " 0.00473324773418377,\n",
       " 0.0051686341912832385,\n",
       " 0.005644069548772308,\n",
       " 0.006163237693451458,\n",
       " 0.006730161373408909,\n",
       " 0.007349233368080557,\n",
       " 0.008025250525479054,\n",
       " 0.008763450930327824,\n",
       " 0.009569554491095374,\n",
       " 0.010449807260416524,\n",
       " 0.011411029832315065,\n",
       " 0.012460670191231277,\n",
       " 0.013606861422352358,\n",
       " 0.014858484730411268,\n",
       " 0.01622523825525205,\n",
       " 0.017717712217375472,\n",
       " 0.019347470975726488,\n",
       " 0.021127142633544115,\n",
       " 0.023070516886580156,\n",
       " 0.02519265187185866,\n",
       " 0.027509990844888425,\n",
       " 0.030040489589395883,\n",
       " 0.03280375554680641,\n",
       " 0.03582119974351167,\n",
       " 0.03911620269312369,\n",
       " 0.04271429555920113,\n",
       " 0.04664335798217764,\n",
       " 0.05093383410334449,\n",
       " 0.055618968459738245,\n",
       " 0.06073506357775312,\n",
       " 0.06632176126142908,\n",
       " 0.07242234975496373,\n",
       " 0.07908409915948117,\n",
       " 0.08635862770301772,\n",
       " 0.09430230170174891,\n",
       " 0.102976672311537,\n",
       " 0.11244895245394636,\n",
       " 0.12279253761216397,\n",
       " 0.1340875745321854,\n",
       " 0.14642158223581903,\n",
       " 0.15989013015739645,\n",
       " 0.17459757865869627,\n",
       " 0.1906578876599247,\n",
       " 0.20819549965238845,\n",
       " 0.22734630393483926,\n",
       " 0.24825868954482636,\n",
       " 0.27109469504364236,\n",
       " 0.29603126406391284,\n",
       " 0.3232616163483772,\n",
       " 0.3529967449032823,\n",
       " 0.38546705086701366,\n",
       " 0.42092412876165103,\n",
       " 0.45964271596038747,\n",
       " 0.5019228214761579,\n",
       " 0.5480920505662887,\n",
       " 0.5985081431652515,\n",
       " 0.6535617458144349,\n",
       " 0.7136794385670963,\n",
       " 0.7793270403223104,\n",
       " 0.851013218199129,\n",
       " 0.9292934289180026,\n",
       " 1.0147742227290617,\n",
       " 1.1081179432360264,\n",
       " 1.21004785953209,\n",
       " 1.3213537704138756,\n",
       " 1.442898124097432,\n",
       " 1.5756227008545756,\n",
       " 1.7205559103496557,\n",
       " 1.8788207602197777,\n",
       " 2.0516435576426306,\n",
       " 2.2403634113155793,\n",
       " 2.446442607471615,\n",
       " 2.671477940330214,\n",
       " 2.917213084776511,\n",
       " 3.1855521071378847,\n",
       " 3.478574218745505,\n",
       " 3.798549886598084,\n",
       " 4.147958425960482,\n",
       " 4.52950721121253,\n",
       " 4.946152653802362,\n",
       " 5.401123109850867,\n",
       " 5.897943894905668,\n",
       " 6.440464599670184,\n",
       " 7.032888918362326,\n",
       " 7.679807220826359,\n",
       " 8.386232120781255,\n",
       " 9.157637315804363]"
      ]
     },
     "execution_count": 12,
     "metadata": {},
     "output_type": "execute_result"
    }
   ],
   "source": [
    "lr_array"
   ]
  },
  {
   "cell_type": "code",
   "execution_count": 13,
   "metadata": {
    "scrolled": true
   },
   "outputs": [
    {
     "data": {
      "text/plain": [
       "[<matplotlib.lines.Line2D at 0x7fb162f749e8>]"
      ]
     },
     "execution_count": 13,
     "metadata": {},
     "output_type": "execute_result"
    },
    {
     "data": {
      "image/png": "[encoded data removed]",
      "text/plain": [
       "<Figure size 432x288 with 1 Axes>"
      ]
     },
     "metadata": {
      "needs_background": "light"
     },
     "output_type": "display_data"
    }
   ],
   "source": [
    "plt.plot(loss_array)"
   ]
  },
  {
   "cell_type": "code",
   "execution_count": 8,
   "metadata": {},
   "outputs": [
    {
     "data": {
      "text/plain": [
       "Parameter containing:\n",
       "tensor([ 0.734,  0.093,  0.068,  0.886,  0.260,  0.664, -0.016,  0.325,  0.686,\n",
       "         0.062,  0.582,  0.236,  0.697,  0.195,  0.486,  0.446,  0.511,  0.209,\n",
       "         0.576,  0.332,  0.500,  0.712,  0.303,  0.708,  0.045,  0.745,  0.298,\n",
       "         0.482,  0.817,  0.626,  0.377,  2.064,  0.773,  0.346,  0.613,  0.655,\n",
       "         0.390,  0.509,  0.263,  0.237,  0.080,  1.118,  0.261,  0.870,  0.215,\n",
       "         0.780,  0.370,  0.480,  0.431,  0.508,  0.230,  0.764,  0.354,  0.458,\n",
       "         0.466,  0.099,  0.380,  0.669,  0.402,  0.905,  0.432,  1.302,  0.531,\n",
       "         0.490], device='cuda:0')"
      ]
     },
     "execution_count": 8,
     "metadata": {},
     "output_type": "execute_result"
    }
   ],
   "source": [
    "ssd_model.base_net[0].bias"
   ]
  },
  {
   "cell_type": "code",
   "execution_count": 54,
   "metadata": {},
   "outputs": [
    {
     "name": "stderr",
     "output_type": "stream",
     "text": [
      "D:\\1-usc\\SSD_PyTorch\\SSD_model.py:141: UserWarning: nn.init.xavier_uniform is now deprecated in favor of nn.init.xavier_uniform_.\n",
      "  nn.init.xavier_uniform(m.weight.data)\n"
     ]
    },
    {
     "name": "stdout",
     "output_type": "stream",
     "text": [
      "success build ssd model\n"
     ]
    }
   ],
   "source": [
    "config = Config('local')\n",
    "ssd_model = get_SSD_model(1, config.vgg_weight_path, config.vgg_reduced_weight_path)\n",
    "ssd_model.freeze_basenet()\n",
    "\n",
    "print('success build ssd model')\n",
    "\n",
    "train_dataset = VOC_dataset(config.voc2007_root, config.voc2007_trn_anno)\n",
    "\n",
    "# img, bbox, label = train_dataset[0]\n",
    "# img = img.unsqueeze(0)\n",
    "\n",
    "# conf_pred, loc_pred = ssd_model(img)\n",
    "# print(conf_pred.shape, loc_pred.shape)"
   ]
  },
  {
   "cell_type": "code",
   "execution_count": 58,
   "metadata": {},
   "outputs": [],
   "source": [
    "torch.save(ssd_model.state_dict(), 'tmp.pth')"
   ]
  },
  {
   "cell_type": "code",
   "execution_count": 61,
   "metadata": {},
   "outputs": [
    {
     "name": "stdout",
     "output_type": "stream",
     "text": [
      "base_net.0.weight\n",
      "base_net.0.bias\n",
      "base_net.2.weight\n",
      "base_net.2.bias\n",
      "base_net.5.weight\n",
      "base_net.5.bias\n",
      "base_net.7.weight\n",
      "base_net.7.bias\n",
      "base_net.10.weight\n",
      "base_net.10.bias\n",
      "base_net.12.weight\n",
      "base_net.12.bias\n",
      "base_net.14.weight\n",
      "base_net.14.bias\n",
      "base_net.17.weight\n",
      "base_net.17.bias\n",
      "base_net.19.weight\n",
      "base_net.19.bias\n",
      "base_net.21.weight\n",
      "base_net.21.bias\n",
      "base_net.24.weight\n",
      "base_net.24.bias\n",
      "base_net.26.weight\n",
      "base_net.26.bias\n",
      "base_net.28.weight\n",
      "base_net.28.bias\n",
      "reduced_fc.1.weight\n",
      "reduced_fc.1.bias\n",
      "reduced_fc.3.weight\n",
      "reduced_fc.3.bias\n",
      "extra.0.weight\n",
      "extra.0.bias\n",
      "extra.1.weight\n",
      "extra.1.bias\n",
      "extra.2.weight\n",
      "extra.2.bias\n",
      "extra.3.weight\n",
      "extra.3.bias\n",
      "extra.4.weight\n",
      "extra.4.bias\n",
      "extra.5.weight\n",
      "extra.5.bias\n",
      "extra.6.weight\n",
      "extra.6.bias\n",
      "extra.7.weight\n",
      "extra.7.bias\n",
      "conf_layers.0.weight\n",
      "conf_layers.0.bias\n",
      "conf_layers.1.weight\n",
      "conf_layers.1.bias\n",
      "conf_layers.2.weight\n",
      "conf_layers.2.bias\n",
      "conf_layers.3.weight\n",
      "conf_layers.3.bias\n",
      "conf_layers.4.weight\n",
      "conf_layers.4.bias\n",
      "conf_layers.5.weight\n",
      "conf_layers.5.bias\n",
      "loc_layers.0.weight\n",
      "loc_layers.0.bias\n",
      "loc_layers.1.weight\n",
      "loc_layers.1.bias\n",
      "loc_layers.2.weight\n",
      "loc_layers.2.bias\n",
      "loc_layers.3.weight\n",
      "loc_layers.3.bias\n",
      "loc_layers.4.weight\n",
      "loc_layers.4.bias\n",
      "loc_layers.5.weight\n",
      "loc_layers.5.bias\n",
      "l2_norm.weights\n"
     ]
    }
   ],
   "source": [
    "for k in torch.load('tmp.pth').keys():\n",
    "    print(k)"
   ]
  },
  {
   "cell_type": "code",
   "execution_count": 3,
   "metadata": {},
   "outputs": [],
   "source": [
    "original_dict = ssd_model.state_dict()\n",
    "reduced_fc_weight = torch.load(config.vgg_reduced_weight_path)"
   ]
  },
  {
   "cell_type": "code",
   "execution_count": 4,
   "metadata": {},
   "outputs": [
    {
     "name": "stdout",
     "output_type": "stream",
     "text": [
      "D:\\1-usc\\SSD_3rd party implementation\\ssd.pytorch\\weights\\vgg16_reducedfc.pth\n"
     ]
    }
   ],
   "source": [
    "print(config.vgg_reduced_weight_path)"
   ]
  },
  {
   "cell_type": "code",
   "execution_count": 7,
   "metadata": {
    "scrolled": true
   },
   "outputs": [
    {
     "name": "stdout",
     "output_type": "stream",
     "text": [
      "base_net.0.weight    0.weight             True\n",
      "base_net.0.bias      0.bias               True\n",
      "base_net.2.weight    2.weight             True\n",
      "base_net.2.bias      2.bias               True\n",
      "base_net.5.weight    5.weight             True\n",
      "base_net.5.bias      5.bias               True\n",
      "base_net.7.weight    7.weight             True\n",
      "base_net.7.bias      7.bias               True\n",
      "base_net.10.weight   10.weight            True\n",
      "base_net.10.bias     10.bias              True\n",
      "base_net.12.weight   12.weight            True\n",
      "base_net.12.bias     12.bias              True\n",
      "base_net.14.weight   14.weight            True\n",
      "base_net.14.bias     14.bias              True\n",
      "base_net.17.weight   17.weight            True\n",
      "base_net.17.bias     17.bias              True\n",
      "base_net.19.weight   19.weight            True\n",
      "base_net.19.bias     19.bias              True\n",
      "base_net.21.weight   21.weight            True\n",
      "base_net.21.bias     21.bias              True\n",
      "base_net.24.weight   24.weight            True\n",
      "base_net.24.bias     24.bias              True\n",
      "base_net.26.weight   26.weight            True\n",
      "base_net.26.bias     26.bias              True\n",
      "base_net.28.weight   28.weight            True\n",
      "base_net.28.bias     28.bias              True\n",
      "reduced_fc.1.weight  31.weight            True\n",
      "reduced_fc.1.bias    31.bias              True\n",
      "reduced_fc.3.weight  33.weight            True\n",
      "reduced_fc.3.bias    33.bias              True\n"
     ]
    }
   ],
   "source": [
    "for k0, k1 in zip(original_dict.keys(), reduced_fc_weight.keys()):\n",
    "    shape_equal = original_dict[k0].shape == reduced_fc_weight[k1].shape\n",
    "    print('{:20s} {:20s} {}'.format(k0, k1, shape_equal))"
   ]
  },
  {
   "cell_type": "code",
   "execution_count": 8,
   "metadata": {},
   "outputs": [
    {
     "data": {
      "text/plain": [
       "tensor([ 0.403,  0.378,  0.464, -0.323,  0.394, -0.395,  0.395, -0.550,  0.269,\n",
       "        -0.760, -0.351,  0.233, -1.324, -0.169,  0.394, -0.103,  0.046, -0.700,\n",
       "         0.155,  0.563,  0.301,  0.343,  0.107,  0.465,  0.129,  0.079, -0.049,\n",
       "        -0.564,  0.147, -0.389, -0.071,  0.065,  0.277,  0.328,  0.568, -1.264,\n",
       "        -0.837, -0.948,  0.136,  0.273,  0.184, -0.533,  0.351, -0.083, -1.025,\n",
       "        -0.691, -0.771,  0.261,  0.403, -0.480, -0.307,  0.581, -1.333,  0.484,\n",
       "        -0.816,  0.239,  0.230,  0.498,  0.555,  0.523, -0.218,  0.012, -0.552,\n",
       "         0.211])"
      ]
     },
     "execution_count": 8,
     "metadata": {},
     "output_type": "execute_result"
    }
   ],
   "source": [
    "original_dict['base_net.0.bias']"
   ]
  },
  {
   "cell_type": "code",
   "execution_count": 9,
   "metadata": {},
   "outputs": [
    {
     "data": {
      "text/plain": [
       "tensor([ 0.734,  0.093,  0.068,  0.886,  0.260,  0.664, -0.016,  0.325,  0.686,\n",
       "         0.062,  0.582,  0.236,  0.697,  0.195,  0.486,  0.446,  0.511,  0.209,\n",
       "         0.576,  0.332,  0.500,  0.712,  0.303,  0.708,  0.045,  0.745,  0.298,\n",
       "         0.482,  0.817,  0.626,  0.377,  2.064,  0.773,  0.346,  0.613,  0.655,\n",
       "         0.390,  0.509,  0.263,  0.237,  0.080,  1.118,  0.261,  0.870,  0.215,\n",
       "         0.780,  0.370,  0.480,  0.431,  0.508,  0.230,  0.764,  0.354,  0.458,\n",
       "         0.466,  0.099,  0.380,  0.669,  0.402,  0.905,  0.432,  1.302,  0.531,\n",
       "         0.490])"
      ]
     },
     "execution_count": 9,
     "metadata": {},
     "output_type": "execute_result"
    }
   ],
   "source": [
    "reduced_fc_weight['0.bias']"
   ]
  },
  {
   "cell_type": "code",
   "execution_count": 10,
   "metadata": {},
   "outputs": [],
   "source": [
    "for k0, k1 in zip(original_dict.keys(), reduced_fc_weight.keys()):\n",
    "    original_dict[k0] = reduced_fc_weight[k1]"
   ]
  },
  {
   "cell_type": "code",
   "execution_count": 12,
   "metadata": {},
   "outputs": [],
   "source": [
    "ssd_model.load_state_dict(original_dict)"
   ]
  },
  {
   "cell_type": "code",
   "execution_count": 13,
   "metadata": {},
   "outputs": [
    {
     "data": {
      "text/plain": [
       "Parameter containing:\n",
       "tensor([ 0.734,  0.093,  0.068,  0.886,  0.260,  0.664, -0.016,  0.325,  0.686,\n",
       "         0.062,  0.582,  0.236,  0.697,  0.195,  0.486,  0.446,  0.511,  0.209,\n",
       "         0.576,  0.332,  0.500,  0.712,  0.303,  0.708,  0.045,  0.745,  0.298,\n",
       "         0.482,  0.817,  0.626,  0.377,  2.064,  0.773,  0.346,  0.613,  0.655,\n",
       "         0.390,  0.509,  0.263,  0.237,  0.080,  1.118,  0.261,  0.870,  0.215,\n",
       "         0.780,  0.370,  0.480,  0.431,  0.508,  0.230,  0.764,  0.354,  0.458,\n",
       "         0.466,  0.099,  0.380,  0.669,  0.402,  0.905,  0.432,  1.302,  0.531,\n",
       "         0.490])"
      ]
     },
     "execution_count": 13,
     "metadata": {},
     "output_type": "execute_result"
    }
   ],
   "source": [
    "ssd_model.base_net[0].bias"
   ]
  },
  {
   "cell_type": "code",
   "execution_count": 21,
   "metadata": {},
   "outputs": [],
   "source": [
    "base, ratio, batch_num = 1e-5, 1e6, 200"
   ]
  },
  {
   "cell_type": "code",
   "execution_count": 30,
   "metadata": {},
   "outputs": [
    {
     "name": "stdout",
     "output_type": "stream",
     "text": [
      "0 :  0.0\n",
      "1 :  0.0\n",
      "2 :  0.0\n",
      "3 :  0.0\n",
      "4 :  0.0\n",
      "5 :  0.0\n",
      "6 :  0.0\n",
      "7 :  0.0\n",
      "8 :  0.0\n",
      "9 :  0.0\n",
      "10 :  0.0\n",
      "11 :  0.0\n",
      "12 :  0.0\n",
      "13 :  0.0\n",
      "14 :  0.0\n",
      "15 :  0.0\n",
      "16 :  0.0\n",
      "17 :  0.0\n",
      "18 :  0.0\n",
      "19 :  0.0\n",
      "20 :  0.0\n",
      "21 :  0.0\n",
      "22 :  0.0\n",
      "23 :  0.0\n",
      "24 :  0.0\n",
      "25 :  0.0\n",
      "26 :  0.0\n",
      "27 :  0.0\n",
      "28 :  0.0\n",
      "29 :  0.0\n",
      "30 :  0.0\n",
      "31 :  0.0\n",
      "32 :  0.0\n",
      "33 :  0.0\n",
      "34 :  0.0\n",
      "35 :  0.0\n",
      "36 :  0.0\n",
      "37 :  0.0\n",
      "38 :  0.0\n",
      "39 :  0.0\n",
      "40 :  0.0\n",
      "41 :  0.0\n",
      "42 :  0.0\n",
      "43 :  0.0\n",
      "44 :  0.0\n",
      "45 :  0.0\n",
      "46 :  0.0\n",
      "47 :  0.0\n",
      "48 :  0.0\n",
      "49 :  0.0\n",
      "50 :  0.0\n",
      "51 :  0.0\n",
      "52 :  0.0\n",
      "53 :  0.0\n",
      "54 :  0.0\n",
      "55 :  0.0\n",
      "56 :  0.0\n",
      "57 :  0.0\n",
      "58 :  0.0\n",
      "59 :  0.0\n",
      "60 :  0.0\n",
      "61 :  0.0\n",
      "62 :  0.0\n",
      "63 :  0.0\n",
      "64 :  0.0\n",
      "65 :  0.0\n",
      "66 :  0.0\n",
      "67 :  0.0\n",
      "68 :  0.0\n",
      "69 :  0.0\n",
      "70 :  0.0\n",
      "71 :  0.0\n",
      "72 :  0.0\n",
      "73 :  0.0\n",
      "74 :  0.0\n",
      "75 :  0.0\n",
      "76 :  0.0\n",
      "77 :  0.0\n",
      "78 :  0.0\n",
      "79 :  0.0\n",
      "80 :  0.0\n",
      "81 :  0.0\n",
      "82 :  0.0\n",
      "83 :  0.0\n",
      "84 :  0.0\n",
      "85 :  0.0\n",
      "86 :  0.0\n",
      "87 :  0.0\n",
      "88 :  0.0\n",
      "89 :  0.0\n",
      "90 :  0.0\n",
      "91 :  0.0\n",
      "92 :  0.0\n",
      "93 :  0.0\n",
      "94 :  0.0\n",
      "95 :  0.0\n",
      "96 :  0.0\n",
      "97 :  0.0\n",
      "98 :  0.0\n",
      "99 :  0.0\n",
      "100 :  0.0\n",
      "101 :  0.0\n",
      "102 :  0.0\n",
      "103 :  0.0\n",
      "104 :  0.0\n",
      "105 :  0.0\n",
      "106 :  0.0\n",
      "107 :  0.0\n",
      "108 :  0.0\n",
      "109 :  0.0\n",
      "110 :  0.0\n",
      "111 :  0.0\n",
      "112 :  0.0\n",
      "113 :  0.0\n",
      "114 :  0.0\n",
      "115 :  0.0\n",
      "116 :  0.0\n",
      "117 :  0.0\n",
      "118 :  0.0\n",
      "119 :  0.0\n",
      "120 :  0.0\n",
      "121 :  0.0\n",
      "122 :  0.0\n",
      "123 :  0.0\n",
      "124 :  0.1\n",
      "125 :  0.1\n",
      "126 :  0.1\n",
      "127 :  0.1\n",
      "128 :  0.1\n",
      "129 :  0.1\n",
      "130 :  0.1\n",
      "131 :  0.1\n",
      "132 :  0.1\n",
      "133 :  0.1\n",
      "134 :  0.1\n",
      "135 :  0.1\n",
      "136 :  0.1\n",
      "137 :  0.1\n",
      "138 :  0.1\n",
      "139 :  0.1\n",
      "140 :  0.2\n",
      "141 :  0.2\n",
      "142 :  0.2\n",
      "143 :  0.2\n",
      "144 :  0.2\n",
      "145 :  0.2\n",
      "146 :  0.2\n",
      "147 :  0.3\n",
      "148 :  0.3\n",
      "149 :  0.3\n",
      "150 :  0.3\n",
      "151 :  0.3\n",
      "152 :  0.4\n",
      "153 :  0.4\n",
      "154 :  0.4\n",
      "155 :  0.4\n",
      "156 :  0.5\n",
      "157 :  0.5\n",
      "158 :  0.5\n",
      "159 :  0.6\n",
      "160 :  0.6\n",
      "161 :  0.7\n",
      "162 :  0.7\n",
      "163 :  0.8\n",
      "164 :  0.8\n",
      "165 :  0.9\n",
      "166 :  1.0\n",
      "167 :  1.0\n",
      "168 :  1.1\n",
      "169 :  1.2\n",
      "170 :  1.3\n",
      "171 :  1.3\n",
      "172 :  1.4\n",
      "173 :  1.5\n",
      "174 :  1.7\n",
      "175 :  1.8\n",
      "176 :  1.9\n",
      "177 :  2.0\n",
      "178 :  2.2\n",
      "179 :  2.3\n",
      "180 :  2.5\n",
      "181 :  2.7\n",
      "182 :  2.9\n",
      "183 :  3.1\n",
      "184 :  3.3\n",
      "185 :  3.5\n",
      "186 :  3.8\n",
      "187 :  4.1\n",
      "188 :  4.4\n",
      "189 :  4.7\n",
      "190 :  5.0\n",
      "191 :  5.4\n",
      "192 :  5.8\n",
      "193 :  6.2\n",
      "194 :  6.6\n",
      "195 :  7.1\n",
      "196 :  7.6\n",
      "197 :  8.1\n",
      "198 :  8.7\n",
      "199 :  9.3\n"
     ]
    }
   ],
   "source": [
    "for idx, i in enumerate(range(batch_num)):\n",
    "    lr = round(base * ratio ** (i / batch_num), 1)\n",
    "    print(idx, \": \", lr)"
   ]
  },
  {
   "cell_type": "code",
   "execution_count": null,
   "metadata": {},
   "outputs": [],
   "source": []
  },
  {
   "cell_type": "code",
   "execution_count": 22,
   "metadata": {},
   "outputs": [
    {
     "data": {
      "text/plain": [
       "torch.Size([4096, 25088])"
      ]
     },
     "execution_count": 22,
     "metadata": {},
     "output_type": "execute_result"
    }
   ],
   "source": [
    "reduced_fc_weight['classifier.0.weight'].shape"
   ]
  },
  {
   "cell_type": "code",
   "execution_count": 21,
   "metadata": {},
   "outputs": [
    {
     "name": "stdout",
     "output_type": "stream",
     "text": [
      "base_net.0.weight\n",
      "base_net.0.bias\n",
      "base_net.2.weight\n",
      "base_net.2.bias\n",
      "base_net.5.weight\n",
      "base_net.5.bias\n",
      "base_net.7.weight\n",
      "base_net.7.bias\n",
      "base_net.10.weight\n",
      "base_net.10.bias\n",
      "base_net.12.weight\n",
      "base_net.12.bias\n",
      "base_net.14.weight\n",
      "base_net.14.bias\n",
      "base_net.17.weight\n",
      "base_net.17.bias\n",
      "base_net.19.weight\n",
      "base_net.19.bias\n",
      "base_net.21.weight\n",
      "base_net.21.bias\n",
      "base_net.24.weight\n",
      "base_net.24.bias\n",
      "base_net.26.weight\n",
      "base_net.26.bias\n",
      "base_net.28.weight\n",
      "base_net.28.bias\n",
      "reduced_fc.1.weight\n",
      "reduced_fc.1.bias\n",
      "reduced_fc.3.weight\n",
      "reduced_fc.3.bias\n",
      "extra.0.weight\n",
      "extra.0.bias\n",
      "extra.1.weight\n",
      "extra.1.bias\n",
      "extra.2.weight\n",
      "extra.2.bias\n",
      "extra.3.weight\n",
      "extra.3.bias\n",
      "extra.4.weight\n",
      "extra.4.bias\n",
      "extra.5.weight\n",
      "extra.5.bias\n",
      "extra.6.weight\n",
      "extra.6.bias\n",
      "extra.7.weight\n",
      "extra.7.bias\n",
      "conf_layers.0.weight\n",
      "conf_layers.0.bias\n",
      "conf_layers.1.weight\n",
      "conf_layers.1.bias\n",
      "conf_layers.2.weight\n",
      "conf_layers.2.bias\n",
      "conf_layers.3.weight\n",
      "conf_layers.3.bias\n",
      "conf_layers.4.weight\n",
      "conf_layers.4.bias\n",
      "conf_layers.5.weight\n",
      "conf_layers.5.bias\n",
      "loc_layers.0.weight\n",
      "loc_layers.0.bias\n",
      "loc_layers.1.weight\n",
      "loc_layers.1.bias\n",
      "loc_layers.2.weight\n",
      "loc_layers.2.bias\n",
      "loc_layers.3.weight\n",
      "loc_layers.3.bias\n",
      "loc_layers.4.weight\n",
      "loc_layers.4.bias\n",
      "loc_layers.5.weight\n",
      "loc_layers.5.bias\n",
      "l2_norm.weights\n"
     ]
    }
   ],
   "source": [
    "for t in ssd_model.state_dict():\n",
    "    print(t)"
   ]
  },
  {
   "cell_type": "code",
   "execution_count": 3,
   "metadata": {},
   "outputs": [],
   "source": [
    "ssd_model.freeze_basenet()"
   ]
  },
  {
   "cell_type": "code",
   "execution_count": 4,
   "metadata": {},
   "outputs": [
    {
     "name": "stdout",
     "output_type": "stream",
     "text": [
      "False\n",
      "False\n",
      "False\n",
      "False\n",
      "False\n",
      "False\n",
      "False\n",
      "False\n",
      "False\n",
      "False\n",
      "False\n",
      "False\n",
      "False\n",
      "False\n",
      "False\n",
      "False\n",
      "False\n",
      "False\n",
      "False\n",
      "False\n",
      "False\n",
      "False\n",
      "False\n",
      "False\n",
      "False\n",
      "False\n",
      "True\n",
      "True\n",
      "True\n",
      "True\n",
      "True\n",
      "True\n",
      "True\n",
      "True\n",
      "True\n",
      "True\n",
      "True\n",
      "True\n",
      "True\n",
      "True\n",
      "True\n",
      "True\n",
      "True\n",
      "True\n",
      "True\n",
      "True\n",
      "True\n",
      "True\n",
      "True\n",
      "True\n",
      "True\n",
      "True\n",
      "True\n",
      "True\n",
      "True\n",
      "True\n",
      "True\n",
      "True\n",
      "True\n",
      "True\n",
      "True\n",
      "True\n",
      "True\n",
      "True\n",
      "True\n",
      "True\n",
      "True\n",
      "True\n",
      "True\n",
      "True\n",
      "True\n"
     ]
    }
   ],
   "source": [
    "for k in ssd_model.parameters():\n",
    "    print(k.requires_grad)"
   ]
  },
  {
   "cell_type": "code",
   "execution_count": 13,
   "metadata": {},
   "outputs": [],
   "source": [
    "x = torch.randn(4, 4)\n",
    "w1 = nn.Parameter(torch.randn(4, 3))\n",
    "b1 = nn.Parameter(torch.randn(1, 3))\n",
    "y = torch.randn(4, 3)\n",
    "pred = torch.matmul(x, w1) + b1\n",
    "\n",
    "optimizer = torch.optim.Adam([w1, b1])\n",
    "criterion = nn.SmoothL1Loss()\n",
    "loss = criterion(pred, y)"
   ]
  },
  {
   "cell_type": "code",
   "execution_count": 14,
   "metadata": {},
   "outputs": [],
   "source": [
    "w1.requires_grad = False"
   ]
  },
  {
   "cell_type": "code",
   "execution_count": 15,
   "metadata": {},
   "outputs": [],
   "source": [
    "loss.backward(retain_graph=True)\n",
    "# optimizer.step()"
   ]
  },
  {
   "cell_type": "code",
   "execution_count": 16,
   "metadata": {},
   "outputs": [],
   "source": [
    "w1.grad"
   ]
  },
  {
   "cell_type": "code",
   "execution_count": 18,
   "metadata": {},
   "outputs": [
    {
     "data": {
      "text/plain": [
       "tensor([[ 0.118, -0.102, -0.116]])"
      ]
     },
     "execution_count": 18,
     "metadata": {},
     "output_type": "execute_result"
    }
   ],
   "source": [
    "b1.grad"
   ]
  },
  {
   "cell_type": "code",
   "execution_count": 19,
   "metadata": {},
   "outputs": [
    {
     "data": {
      "text/plain": [
       "Parameter containing:\n",
       "tensor([[-0.763, -0.043,  1.046],\n",
       "        [ 1.506, -0.135, -1.143],\n",
       "        [ 0.087, -0.807, -1.532],\n",
       "        [-0.955,  0.441,  0.128]])"
      ]
     },
     "execution_count": 19,
     "metadata": {},
     "output_type": "execute_result"
    }
   ],
   "source": [
    "w1"
   ]
  },
  {
   "cell_type": "code",
   "execution_count": 20,
   "metadata": {},
   "outputs": [
    {
     "data": {
      "text/plain": [
       "Parameter containing:\n",
       "tensor([[-0.445, -0.305,  0.973]], requires_grad=True)"
      ]
     },
     "execution_count": 20,
     "metadata": {},
     "output_type": "execute_result"
    }
   ],
   "source": [
    "b1"
   ]
  },
  {
   "cell_type": "code",
   "execution_count": 21,
   "metadata": {},
   "outputs": [],
   "source": [
    "optimizer.step()"
   ]
  },
  {
   "cell_type": "code",
   "execution_count": 22,
   "metadata": {},
   "outputs": [
    {
     "data": {
      "text/plain": [
       "Parameter containing:\n",
       "tensor([[-0.763, -0.043,  1.046],\n",
       "        [ 1.506, -0.135, -1.143],\n",
       "        [ 0.087, -0.807, -1.532],\n",
       "        [-0.955,  0.441,  0.128]])"
      ]
     },
     "execution_count": 22,
     "metadata": {},
     "output_type": "execute_result"
    }
   ],
   "source": [
    "w1"
   ]
  },
  {
   "cell_type": "code",
   "execution_count": 23,
   "metadata": {},
   "outputs": [
    {
     "data": {
      "text/plain": [
       "Parameter containing:\n",
       "tensor([[-0.446, -0.304,  0.974]], requires_grad=True)"
      ]
     },
     "execution_count": 23,
     "metadata": {},
     "output_type": "execute_result"
    }
   ],
   "source": [
    "b1"
   ]
  },
  {
   "cell_type": "code",
   "execution_count": 3,
   "metadata": {},
   "outputs": [
    {
     "data": {
      "text/plain": [
       "[<matplotlib.lines.Line2D at 0x7f560e627588>]"
      ]
     },
     "execution_count": 3,
     "metadata": {},
     "output_type": "execute_result"
    },
    {
     "data": {
      "image/png": "[encoded data removed]",
      "text/plain": [
       "<Figure size 432x288 with 1 Axes>"
      ]
     },
     "metadata": {
      "needs_background": "light"
     },
     "output_type": "display_data"
    }
   ],
   "source": [
    "x = torch.randn(4, 4)\n",
    "w = nn.Parameter(torch.randn(4, 3))\n",
    "b = nn.Parameter(torch.randn(1, 3))\n",
    "y = torch.randn(4, 3)\n",
    "\n",
    "criterion = nn.SmoothL1Loss()\n",
    "optimizer = torch.optim.SGD([w, b], lr=1e-2, momentum=0.9)\n",
    "scheduler = torch.optim.lr_scheduler.CosineAnnealingLR(optimizer, 16)\n",
    "\n",
    "epoch, batch = 4, 16\n",
    "\n",
    "lr_array = []\n",
    "\n",
    "for j in range(epoch):\n",
    "    for k in range(batch):\n",
    "        pred = torch.matmul(x, w) + b\n",
    "        loss = criterion(pred, y)\n",
    "        loss.backward()\n",
    "        optimizer.step()\n",
    "        scheduler.step()\n",
    "        lr_array.append(optimizer.param_groups[0]['lr'])\n",
    "\n",
    "plt.plot(lr_array)"
   ]
  },
  {
   "cell_type": "code",
   "execution_count": 6,
   "metadata": {},
   "outputs": [
    {
     "data": {
      "text/plain": [
       "[<matplotlib.lines.Line2D at 0x7f560cd9d4a8>]"
      ]
     },
     "execution_count": 6,
     "metadata": {},
     "output_type": "execute_result"
    },
    {
     "data": {
      "image/png": "[encoded data removed]",
      "text/plain": [
       "<Figure size 432x288 with 1 Axes>"
      ]
     },
     "metadata": {
      "needs_background": "light"
     },
     "output_type": "display_data"
    }
   ],
   "source": [
    "x = torch.randn(4, 4)\n",
    "w = nn.Parameter(torch.randn(4, 3))\n",
    "b = nn.Parameter(torch.randn(1, 3))\n",
    "y = torch.randn(4, 3)\n",
    "\n",
    "criterion = nn.SmoothL1Loss()\n",
    "optimizer = torch.optim.SGD([w, b], lr=1e-2, momentum=0.9)\n",
    "scheduler = torch.optim.lr_scheduler.CosineAnnealingLR(optimizer, 16)\n",
    "\n",
    "lr_change = []\n",
    "lr_min, lr_max = 1e-4, 10\n",
    "ratio = lr_max / lr_min\n",
    "\n",
    "for t in range(batch + 1):\n",
    "    optimizer.param_groups[0]['lr'] = lr_min * ratio ** (t / batch)\n",
    "    lr_change.append(lr_min * ratio ** (t / batch))\n",
    "#     print(optimizer.param_groups[0]['lr'])\n",
    "\n",
    "plt.plot(lr_change)"
   ]
  },
  {
   "cell_type": "code",
   "execution_count": null,
   "metadata": {},
   "outputs": [],
   "source": []
  }
 ],
 "metadata": {
  "kernelspec": {
   "display_name": "Python 3",
   "language": "python",
   "name": "python3"
  },
  "language_info": {
   "codemirror_mode": {
    "name": "ipython",
    "version": 3
   },
   "file_extension": ".py",
   "mimetype": "text/x-python",
   "name": "python",
   "nbconvert_exporter": "python",
   "pygments_lexer": "ipython3",
   "version": "3.6.7"
  }
 },
 "nbformat": 4,
 "nbformat_minor": 2
}
