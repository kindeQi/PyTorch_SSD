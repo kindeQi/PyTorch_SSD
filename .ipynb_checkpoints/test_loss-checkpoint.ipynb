{
 "cells": [
  {
   "cell_type": "code",
   "execution_count": 1,
   "metadata": {},
   "outputs": [],
   "source": [
    "import os\n",
    "import torch\n",
    "from tqdm import tqdm_notebook\n",
    "from matplotlib import pyplot as plt\n",
    "from itertools import product\n",
    "import json\n",
    "from collections import defaultdict\n",
    "import random\n",
    "\n",
    "from torch import nn\n",
    "from torch.autograd import Variable\n",
    "from torch.functional import F\n",
    "from torchvision import models\n",
    "import torchvision\n",
    "from torch.utils.data import Dataset, DataLoader\n",
    "import cv2\n",
    "import numpy as np\n",
    "\n",
    "# %matplotlib inline\n",
    "# %reload_ext autoreload\n",
    "# %autoreload 2\n",
    "\n",
    "# from fastai import transforms, model, dataset, conv_learner\n",
    "\n",
    "from PIL import ImageDraw, ImageFont\n",
    "from matplotlib import patches, patheffects\n",
    "from matplotlib import pyplot as plt\n",
    "import numpy as np\n",
    "import pandas as pd\n",
    "\n",
    "torch.set_printoptions(precision=3)\n",
    "\n",
    "from SSD_model import get_SSD_model\n",
    "from VOC_data import VOC_dataset\n",
    "from draw_img_utils import *\n",
    "from SSDloss import *"
   ]
  },
  {
   "cell_type": "code",
   "execution_count": 60,
   "metadata": {
    "scrolled": true
   },
   "outputs": [],
   "source": [
    "pred = torch.randn(21) * 200\n",
    "pred = pred.unsqueeze(0)\n",
    "\n",
    "res = torch.LongTensor([16])"
   ]
  },
  {
   "cell_type": "code",
   "execution_count": 61,
   "metadata": {},
   "outputs": [
    {
     "name": "stderr",
     "output_type": "stream",
     "text": [
      "D:\\py3\\anaconda3\\lib\\site-packages\\torch\\nn\\functional.py:52: UserWarning: size_average and reduce args will be deprecated, please use reduction='none' instead.\n",
      "  warnings.warn(warning.format(ret))\n"
     ]
    },
    {
     "data": {
      "text/plain": [
       "tensor([717.239])"
      ]
     },
     "execution_count": 61,
     "metadata": {},
     "output_type": "execute_result"
    }
   ],
   "source": [
    "c_loss = nn.CrossEntropyLoss(reduce=False)\n",
    "# c_loss = nn.CrossEntropyLoss()\n",
    "c_loss(pred, res)"
   ]
  },
  {
   "cell_type": "code",
   "execution_count": 25,
   "metadata": {},
   "outputs": [
    {
     "name": "stderr",
     "output_type": "stream",
     "text": [
      "D:\\py3\\anaconda3\\lib\\site-packages\\ipykernel_launcher.py:1: UserWarning: Implicit dimension choice for softmax has been deprecated. Change the call to include dim=X as an argument.\n",
      "  \"\"\"Entry point for launching an IPython kernel.\n"
     ]
    }
   ],
   "source": [
    "s_pred = F.softmax(pred)"
   ]
  },
  {
   "cell_type": "code",
   "execution_count": 26,
   "metadata": {},
   "outputs": [
    {
     "data": {
      "text/plain": [
       "tensor([[0.000, 0.000, 0.000, 0.000, 0.000, 0.000, 0.000, 0.000, 0.000, 0.000,\n",
       "         0.804, 0.000, 0.000, 0.196, 0.000, 0.000, 0.000, 0.000, 0.000, 0.000,\n",
       "         0.000]])"
      ]
     },
     "execution_count": 26,
     "metadata": {},
     "output_type": "execute_result"
    }
   ],
   "source": [
    "s_pred"
   ]
  },
  {
   "cell_type": "code",
   "execution_count": 27,
   "metadata": {},
   "outputs": [
    {
     "data": {
      "text/plain": [
       "tensor([[ -22.755,  -16.453,    5.476,  -40.242,  -58.208,   11.887,   26.608,\n",
       "         -132.171,   23.920,   30.792,   95.328,   54.485,  -25.477,   93.916,\n",
       "          -48.011,  -48.178,   16.141,    8.699,  -31.077,   51.406,   10.143]])"
      ]
     },
     "execution_count": 27,
     "metadata": {},
     "output_type": "execute_result"
    }
   ],
   "source": [
    "pred"
   ]
  },
  {
   "cell_type": "code",
   "execution_count": 30,
   "metadata": {},
   "outputs": [],
   "source": [
    "sum_pred = torch.sum(torch.exp(pred - torch.max(pred)))"
   ]
  },
  {
   "cell_type": "code",
   "execution_count": 31,
   "metadata": {},
   "outputs": [
    {
     "data": {
      "text/plain": [
       "tensor(1.244)"
      ]
     },
     "execution_count": 31,
     "metadata": {},
     "output_type": "execute_result"
    }
   ],
   "source": [
    "sum_pred"
   ]
  },
  {
   "cell_type": "code",
   "execution_count": 32,
   "metadata": {},
   "outputs": [],
   "source": [
    "sofrmax_res = torch.exp(pred - torch.max(pred)) / sum_pred"
   ]
  },
  {
   "cell_type": "code",
   "execution_count": 33,
   "metadata": {},
   "outputs": [
    {
     "data": {
      "text/plain": [
       "tensor([[0.000, 0.000, 0.000, 0.000, 0.000, 0.000, 0.000, 0.000, 0.000, 0.000,\n",
       "         0.804, 0.000, 0.000, 0.196, 0.000, 0.000, 0.000, 0.000, 0.000, 0.000,\n",
       "         0.000]])"
      ]
     },
     "execution_count": 33,
     "metadata": {},
     "output_type": "execute_result"
    }
   ],
   "source": [
    "sofrmax_res"
   ]
  },
  {
   "cell_type": "code",
   "execution_count": 34,
   "metadata": {},
   "outputs": [
    {
     "data": {
      "text/plain": [
       "tensor(95.328)"
      ]
     },
     "execution_count": 34,
     "metadata": {},
     "output_type": "execute_result"
    }
   ],
   "source": [
    "torch.max(pred)"
   ]
  },
  {
   "cell_type": "code",
   "execution_count": 36,
   "metadata": {},
   "outputs": [
    {
     "data": {
      "text/plain": [
       "tensor(0.)"
      ]
     },
     "execution_count": 36,
     "metadata": {},
     "output_type": "execute_result"
    }
   ],
   "source": [
    "torch.exp(torch.tensor(-132.171 - 95.328))"
   ]
  },
  {
   "cell_type": "code",
   "execution_count": 41,
   "metadata": {},
   "outputs": [
    {
     "data": {
      "text/plain": [
       "tensor([[   -inf,    -inf, -90.070,    -inf,    -inf, -83.659, -68.938,    -inf,\n",
       "         -71.626, -64.754,  -0.218, -41.061,    -inf,  -1.630,    -inf,    -inf,\n",
       "         -79.405, -86.847,    -inf, -44.140, -85.403]])"
      ]
     },
     "execution_count": 41,
     "metadata": {},
     "output_type": "execute_result"
    }
   ],
   "source": [
    "torch.log(sofrmax_res)"
   ]
  },
  {
   "cell_type": "code",
   "execution_count": 67,
   "metadata": {},
   "outputs": [],
   "source": [
    "x = torch.randn(2, 4)\n",
    "w = nn.Parameter(torch.randn(4, 2))\n",
    "b = nn.Parameter(torch.randn(2, 1))\n",
    "y = torch.randn(2, 2)"
   ]
  },
  {
   "cell_type": "code",
   "execution_count": null,
   "metadata": {},
   "outputs": [],
   "source": [
    "model = nn.Para"
   ]
  },
  {
   "cell_type": "code",
   "execution_count": 68,
   "metadata": {},
   "outputs": [],
   "source": [
    "pred = torch.matmul(x, w) + b"
   ]
  },
  {
   "cell_type": "code",
   "execution_count": 69,
   "metadata": {},
   "outputs": [
    {
     "data": {
      "text/plain": [
       "tensor([[ 0.233, -0.430],\n",
       "        [ 1.184,  0.563]], grad_fn=<ThAddBackward>)"
      ]
     },
     "execution_count": 69,
     "metadata": {},
     "output_type": "execute_result"
    }
   ],
   "source": [
    "pred"
   ]
  },
  {
   "cell_type": "code",
   "execution_count": 81,
   "metadata": {},
   "outputs": [
    {
     "data": {
      "text/plain": [
       "tensor([ 0.233, -0.430], grad_fn=<ThAddBackward>)"
      ]
     },
     "execution_count": 81,
     "metadata": {},
     "output_type": "execute_result"
    }
   ],
   "source": [
    "pred1 = torch.matmul(x[0], w) + b[0]\n",
    "pred1"
   ]
  },
  {
   "cell_type": "code",
   "execution_count": 82,
   "metadata": {},
   "outputs": [
    {
     "data": {
      "text/plain": [
       "tensor([1.184, 0.563], grad_fn=<ThAddBackward>)"
      ]
     },
     "execution_count": 82,
     "metadata": {},
     "output_type": "execute_result"
    }
   ],
   "source": [
    "pred2 = torch.matmul(x[1], w) + b[1]\n",
    "pred2"
   ]
  },
  {
   "cell_type": "code",
   "execution_count": 86,
   "metadata": {},
   "outputs": [],
   "source": [
    "optimizer = torch.optim.Adam(nn.ParameterList((w, b)))\n",
    "criterion = nn.SmoothL1Loss()"
   ]
  },
  {
   "cell_type": "code",
   "execution_count": 99,
   "metadata": {},
   "outputs": [],
   "source": [
    "loss = criterion(pred, y)"
   ]
  },
  {
   "cell_type": "code",
   "execution_count": 100,
   "metadata": {},
   "outputs": [
    {
     "data": {
      "text/plain": [
       "tensor(0.217, grad_fn=<SmoothL1LossBackward>)"
      ]
     },
     "execution_count": 100,
     "metadata": {},
     "output_type": "execute_result"
    }
   ],
   "source": [
    "loss"
   ]
  },
  {
   "cell_type": "code",
   "execution_count": 89,
   "metadata": {},
   "outputs": [],
   "source": [
    "loss.backward(retain_graph=True)"
   ]
  },
  {
   "cell_type": "code",
   "execution_count": 90,
   "metadata": {},
   "outputs": [
    {
     "data": {
      "text/plain": [
       "tensor([[ 0.139,  0.082],\n",
       "        [ 0.258,  0.242],\n",
       "        [-0.265, -0.173],\n",
       "        [-0.047,  0.030]])"
      ]
     },
     "execution_count": 90,
     "metadata": {},
     "output_type": "execute_result"
    }
   ],
   "source": [
    "w.grad"
   ]
  },
  {
   "cell_type": "code",
   "execution_count": 92,
   "metadata": {},
   "outputs": [],
   "source": [
    "w.grad = torch.zeros(4, 2)\n",
    "b.grad = torch.zeros(2, 1)"
   ]
  },
  {
   "cell_type": "code",
   "execution_count": 93,
   "metadata": {},
   "outputs": [
    {
     "data": {
      "text/plain": [
       "tensor([[0., 0.],\n",
       "        [0., 0.],\n",
       "        [0., 0.],\n",
       "        [0., 0.]])"
      ]
     },
     "execution_count": 93,
     "metadata": {},
     "output_type": "execute_result"
    }
   ],
   "source": [
    "w.grad"
   ]
  },
  {
   "cell_type": "code",
   "execution_count": 94,
   "metadata": {},
   "outputs": [
    {
     "data": {
      "text/plain": [
       "tensor([[0.],\n",
       "        [0.]])"
      ]
     },
     "execution_count": 94,
     "metadata": {},
     "output_type": "execute_result"
    }
   ],
   "source": [
    "b.grad"
   ]
  },
  {
   "cell_type": "code",
   "execution_count": 95,
   "metadata": {},
   "outputs": [],
   "source": [
    "l1 = criterion(pred1, y[0])"
   ]
  },
  {
   "cell_type": "code",
   "execution_count": 96,
   "metadata": {},
   "outputs": [
    {
     "data": {
      "text/plain": [
       "tensor(0.054, grad_fn=<SmoothL1LossBackward>)"
      ]
     },
     "execution_count": 96,
     "metadata": {},
     "output_type": "execute_result"
    }
   ],
   "source": [
    "l1"
   ]
  },
  {
   "cell_type": "code",
   "execution_count": 97,
   "metadata": {},
   "outputs": [],
   "source": [
    "l2 = criterion(pred2, y[1])"
   ]
  },
  {
   "cell_type": "code",
   "execution_count": 98,
   "metadata": {},
   "outputs": [
    {
     "data": {
      "text/plain": [
       "tensor(0.381, grad_fn=<SmoothL1LossBackward>)"
      ]
     },
     "execution_count": 98,
     "metadata": {},
     "output_type": "execute_result"
    }
   ],
   "source": [
    "l2"
   ]
  },
  {
   "cell_type": "code",
   "execution_count": 102,
   "metadata": {},
   "outputs": [],
   "source": [
    "l = (l1 + l2) / 2"
   ]
  },
  {
   "cell_type": "code",
   "execution_count": 103,
   "metadata": {},
   "outputs": [
    {
     "data": {
      "text/plain": [
       "tensor(0.217, grad_fn=<DivBackward0>)"
      ]
     },
     "execution_count": 103,
     "metadata": {},
     "output_type": "execute_result"
    }
   ],
   "source": [
    "l"
   ]
  },
  {
   "cell_type": "code",
   "execution_count": 104,
   "metadata": {},
   "outputs": [],
   "source": [
    "l.backward(retain_graph=True)"
   ]
  },
  {
   "cell_type": "code",
   "execution_count": 105,
   "metadata": {},
   "outputs": [
    {
     "data": {
      "text/plain": [
       "tensor([[ 0.139,  0.082],\n",
       "        [ 0.258,  0.242],\n",
       "        [-0.265, -0.173],\n",
       "        [-0.047,  0.030]])"
      ]
     },
     "execution_count": 105,
     "metadata": {},
     "output_type": "execute_result"
    }
   ],
   "source": [
    "w.grad"
   ]
  },
  {
   "cell_type": "code",
   "execution_count": 111,
   "metadata": {},
   "outputs": [],
   "source": [
    "import os\n",
    "import torch\n",
    "from tqdm import tqdm_notebook\n",
    "from matplotlib import pyplot as plt\n",
    "from itertools import product\n",
    "import json\n",
    "from collections import defaultdict\n",
    "import random\n",
    "\n",
    "from torch import nn\n",
    "from torch.autograd import Variable\n",
    "from torch.functional import F\n",
    "from torchvision import models\n",
    "import torchvision\n",
    "from torch.utils.data import Dataset, DataLoader\n",
    "import cv2\n",
    "import numpy as np\n",
    "\n",
    "# %matplotlib inline\n",
    "# %reload_ext autoreload\n",
    "# %autoreload 2\n",
    "\n",
    "# from fastai import transforms, model, dataset, conv_learner\n",
    "\n",
    "from PIL import ImageDraw, ImageFont\n",
    "from matplotlib import patches, patheffects\n",
    "from matplotlib import pyplot as plt\n",
    "import numpy as np\n",
    "import pandas as pd\n",
    "\n",
    "torch.set_printoptions(precision=3)\n",
    "\n",
    "from SSD_model import get_SSD_model\n",
    "from VOC_data import VOC_dataset\n",
    "from draw_img_utils import *\n",
    "from SSDloss import *\n",
    "\n",
    "torch.set_printoptions(precision=3)"
   ]
  },
  {
   "cell_type": "code",
   "execution_count": 107,
   "metadata": {},
   "outputs": [],
   "source": [
    "PATH = 'C:\\\\datasets\\\\pascal\\\\'\n",
    "anno_path = f'{PATH}PASCAL_VOC\\\\pascal_train2007.json'\n",
    "train_dataset = VOC_dataset(PATH, anno_path)\n",
    "\n",
    "img, bbox, label = train_dataset[7]\n",
    "img = img.unsqueeze(0)\n",
    "\n",
    "prior_box = get_prior_box()\n",
    "iou = get_iou(bbox, prior_box)\n",
    "\n",
    "pos_mask, cls_target, bbox_target = get_target(iou, prior_box, img, bbox, label)\n",
    "\n",
    "model = get_SSD_model(1)\n",
    "cls_pred, loc_pred = model(img)\n",
    "cls_pred, loc_pred = cls_pred.squeeze(0), loc_pred.squeeze(0)"
   ]
  },
  {
   "cell_type": "code",
   "execution_count": 117,
   "metadata": {},
   "outputs": [
    {
     "name": "stderr",
     "output_type": "stream",
     "text": [
      "D:\\py3\\anaconda3\\lib\\site-packages\\torch\\nn\\functional.py:52: UserWarning: size_average and reduce args will be deprecated, please use reduction='none' instead.\n",
      "  warnings.warn(warning.format(ret))\n"
     ]
    },
    {
     "name": "stdout",
     "output_type": "stream",
     "text": [
      "tensor(320.754) tensor(3.418, grad_fn=<SmoothL1LossBackward>)\n"
     ]
    }
   ],
   "source": [
    "prior_box = get_prior_box()\n",
    "iou = get_iou(bbox, prior_box)\n",
    "pos_mask, cls_target, bbox_target = get_target(iou, prior_box, img, bbox, label)\n",
    "\n",
    "ratio = 3\n",
    "num_pos = torch.sum(pos_mask)\n",
    "num_neg = ratio * num_pos\n",
    "\n",
    "# if num_pos == 0:\n",
    "#     return torch.tensor(0)\n",
    "\n",
    "# loss of class including hard negative mining\n",
    "loc_criterion, cls_criterion = nn.SmoothL1Loss(), nn.CrossEntropyLoss(reduce=False)\n",
    "\n",
    "\n",
    "loss_cls_pos = cls_criterion(cls_pred[pos_mask], cls_target.long()[pos_mask])\n",
    "loss_cls_pos = torch.sum(loss_cls_pos)\n",
    "\n",
    "conf_loss_neg = cls_criterion(cls_pred[1 - pos_mask], cls_target.long()[1 - pos_mask])\n",
    "val, arg = torch.sort(conf_loss_neg, descending=True)\n",
    "loss_cls_neg = torch.sum(conf_loss_neg[arg[:num_neg]])\n",
    "\n",
    "loss_cls = loss_cls_neg + loss_cls_pos \n",
    "\n",
    "# loss of location\n",
    "loss_loc = loc_criterion(loc_pred[pos_mask], bbox_target[pos_mask])\n",
    "loss = loss_loc + loss_cls / float(num_pos)\n",
    "\n",
    "print(loss_cls.data / float(num_pos), loss_loc)"
   ]
  },
  {
   "cell_type": "code",
   "execution_count": 114,
   "metadata": {},
   "outputs": [
    {
     "data": {
      "text/plain": [
       "tensor([[ 4.226e+00,  1.618e+01,  3.050e+01,  1.663e+01],\n",
       "        [ 5.867e-01, -6.607e-01, -1.243e-01, -2.324e+00],\n",
       "        [ 1.057e+00, -9.935e-01, -3.803e-01, -1.221e+00],\n",
       "        [ 1.064e+00,  1.511e-01, -5.674e-01,  4.986e-03],\n",
       "        [ 9.808e-01, -1.007e+00, -3.672e-01, -1.416e+00],\n",
       "        [ 1.729e+00,  1.612e+00, -3.766e-01, -5.434e-01],\n",
       "        [-6.616e-01, -1.868e-01, -6.477e-01, -1.707e+00],\n",
       "        [ 2.729e+00,  2.480e+00, -6.058e-01, -1.105e+00],\n",
       "        [-1.043e+00,  1.473e+00,  2.648e+00, -5.009e+00],\n",
       "        [-3.756e-01,  7.795e-01,  2.583e+00, -3.655e+00],\n",
       "        [ 9.107e-01,  2.989e-01,  2.190e+00, -2.428e+00],\n",
       "        [ 8.180e-01,  2.958e-01,  4.789e-01, -2.304e+00],\n",
       "        [ 4.447e-01, -1.195e+00,  7.327e-01, -1.351e+00],\n",
       "        [ 1.185e+00,  6.343e-03, -5.125e-01, -6.225e-01],\n",
       "        [ 2.489e-01, -5.643e-01,  1.083e+00, -1.102e+00],\n",
       "        [ 9.190e-01,  1.428e+00, -6.697e-01, -1.986e+00],\n",
       "        [-1.236e+00,  5.023e-01,  7.296e-01, -1.508e+00],\n",
       "        [ 8.501e-01,  2.436e+00, -6.844e-01, -1.853e+00],\n",
       "        [-2.410e-01,  2.759e+00,  1.628e+00, -2.360e+00],\n",
       "        [ 1.973e-01,  2.342e+00,  1.711e+00, -1.642e+00],\n",
       "        [ 1.004e+00,  2.071e+00,  2.051e+00, -1.163e+00],\n",
       "        [ 1.514e+00,  1.730e+00,  7.590e-01, -2.665e-01],\n",
       "        [ 6.955e-03, -1.212e+00,  8.519e-01, -1.589e+00],\n",
       "        [ 1.220e+00,  6.543e-01, -4.632e-01, -1.410e+00],\n",
       "        [-3.672e-01, -6.988e-01,  1.097e+00, -1.498e+00],\n",
       "        [ 1.232e+00,  1.602e+00, -8.928e-01, -2.409e+00],\n",
       "        [-1.328e+00,  2.263e-01,  1.059e+00, -1.707e+00],\n",
       "        [ 1.452e+00,  1.530e+00, -8.576e-01, -2.109e+00],\n",
       "        [-1.643e+00,  1.258e+00,  5.418e-01, -1.760e+00],\n",
       "        [ 8.847e-01,  1.285e+00, -1.478e+00, -1.475e+00],\n",
       "        [ 5.637e-02,  2.754e+00,  1.349e+00, -2.298e+00],\n",
       "        [-9.791e-01,  2.602e+00,  8.002e-01, -1.554e+00],\n",
       "        [ 7.202e-02,  2.522e+00,  1.420e+00, -4.513e-01],\n",
       "        [ 8.466e-01,  2.000e+00,  1.339e+00, -4.086e-01],\n",
       "        [-6.309e-02, -1.021e-01,  5.840e-01, -7.848e-01],\n",
       "        [ 9.356e-01,  1.565e+00,  1.577e-01, -1.670e+00],\n",
       "        [-3.030e-01,  6.528e-01,  1.166e+00, -1.078e+00],\n",
       "        [ 1.867e+00,  2.341e+00, -9.142e-01, -2.039e+00],\n",
       "        [-7.686e-01,  1.538e+00,  9.900e-01, -1.042e+00],\n",
       "        [ 1.710e+00,  2.086e+00, -1.187e+00, -1.422e+00],\n",
       "        [-1.513e+00,  5.401e-01,  1.532e+00, -9.903e-01],\n",
       "        [ 1.018e+00,  1.321e+00,  5.093e-01, -1.060e+00],\n",
       "        [-1.227e+00,  1.780e+00,  2.002e+00, -1.753e+00],\n",
       "        [ 1.258e+00,  2.100e+00, -4.870e-01, -4.633e-01],\n",
       "        [-1.408e+00,  2.164e+00,  1.607e+00, -1.252e+00],\n",
       "        [ 1.210e+00,  1.673e+00, -1.156e+00, -3.376e-01],\n",
       "        [-4.301e-01,  2.136e+00,  1.437e+00, -1.728e+00],\n",
       "        [-8.513e-01,  9.747e-02, -2.055e+00, -1.325e-01],\n",
       "        [-1.569e+00,  4.287e-01, -1.184e+00,  3.760e-01],\n",
       "        [-7.147e-01,  2.857e-01, -1.303e+00,  4.740e-01],\n",
       "        [-1.311e+00,  5.013e-01, -1.195e+00,  9.394e-01],\n",
       "        [-5.684e-01,  6.689e-01, -2.937e-01,  7.648e-01],\n",
       "        [-1.548e+00,  8.749e-01, -4.802e-01,  8.520e-01],\n",
       "        [-1.164e+00,  2.718e-02, -9.830e-01,  4.937e-01],\n",
       "        [-4.354e-01,  2.413e-01, -1.908e+00,  1.147e-01],\n",
       "        [-9.916e-01,  3.324e-01, -2.318e+00, -6.039e-02],\n",
       "        [-6.814e-01,  6.027e-01, -1.360e+00, -4.260e-02],\n",
       "        [-7.988e-01,  4.186e-01, -1.136e+00,  8.768e-01],\n",
       "        [-4.745e-01,  8.671e-01, -9.816e-01,  1.089e+00],\n",
       "        [-7.336e-01,  1.374e+00, -2.932e-01,  7.151e-01],\n",
       "        [-1.032e+00,  9.150e-01, -3.663e-01,  5.468e-01],\n",
       "        [ 4.694e-01,  1.004e-01, -1.170e-01,  6.386e-01],\n",
       "        [ 1.063e-01,  3.045e-01,  1.746e-01,  3.677e-01],\n",
       "        [-1.429e-01, -8.063e-02, -3.452e-01, -3.396e-01],\n",
       "        [-6.980e-01,  9.444e-01, -3.191e-01,  2.410e-01],\n",
       "        [ 1.648e-01,  4.748e-01, -1.573e-01,  6.248e-01],\n",
       "        [-5.539e-01,  5.534e-01, -8.924e-02, -2.295e-01],\n",
       "        [-1.009e+00,  1.190e-01, -2.877e-01, -1.449e-01],\n",
       "        [ 8.711e-01,  2.063e-01, -2.469e-01, -2.452e-01],\n",
       "        [-5.315e-01,  6.534e-01, -6.007e-03, -2.755e-01],\n",
       "        [ 7.049e-01,  3.925e-02, -6.571e-01,  3.468e-01],\n",
       "        [ 3.357e-01,  5.710e-01,  4.539e-01,  9.208e-02],\n",
       "        [ 1.222e-01, -2.064e-01, -7.691e-02, -1.387e-01],\n",
       "        [-7.955e-01,  5.571e-01, -3.100e-01,  1.985e-01],\n",
       "        [-4.376e-01,  8.965e-01,  3.330e-01,  9.812e-03],\n",
       "        [ 1.573e-01, -1.749e-01, -4.451e-02,  2.995e-01],\n",
       "        [-5.307e-01,  5.563e-01, -3.952e-01, -3.000e-01],\n",
       "        [-9.029e-01, -3.765e-01, -1.932e-01, -3.367e-01],\n",
       "        [ 6.246e-01, -4.619e-02, -5.781e-01, -2.454e-01],\n",
       "        [-6.532e-01, -4.704e-02, -1.068e-01, -6.118e-01],\n",
       "        [ 9.234e-01, -1.530e-02, -4.168e-01,  3.543e-01],\n",
       "        [ 3.393e-01,  2.940e-01,  9.511e-02, -7.107e-02],\n",
       "        [ 5.956e-03, -4.606e-01,  9.588e-02,  2.207e-01],\n",
       "        [-4.101e-01,  8.115e-01, -2.189e-01,  4.374e-01],\n",
       "        [-2.679e-01,  5.446e-01,  1.427e-02, -9.133e-02],\n",
       "        [ 2.664e-01, -8.481e-01, -4.257e-02,  1.578e-01],\n",
       "        [-9.427e-02,  4.871e-01, -7.855e-02, -3.703e-02],\n",
       "        [-8.206e-01,  8.633e-04, -1.194e-01, -6.974e-01],\n",
       "        [ 7.426e-01, -2.860e-01, -9.078e-02,  4.480e-01],\n",
       "        [-4.604e-01,  3.300e-01,  1.024e-02, -5.072e-01],\n",
       "        [ 8.307e-01, -1.661e-01,  1.716e-01,  3.509e-01],\n",
       "        [ 2.976e-01,  5.718e-01, -7.498e-02, -3.750e-01],\n",
       "        [ 2.002e-01, -9.569e-02,  4.175e-01,  3.748e-01],\n",
       "        [-1.314e-01,  4.890e-01,  2.070e-01,  2.253e-01],\n",
       "        [-3.811e-02, -3.504e-01, -1.592e-01,  1.546e-02],\n",
       "        [-4.648e-01,  5.849e-01,  7.430e-01,  1.561e-01],\n",
       "        [ 1.022e+00, -1.416e-01, -2.850e-01,  6.177e-01],\n",
       "        [ 2.938e-01, -1.977e-02, -7.515e-02,  8.098e-01],\n",
       "        [ 1.972e-01, -2.062e-01, -7.141e-03,  1.584e-01],\n",
       "        [ 3.919e-02, -5.388e-02, -1.905e-01, -1.332e-01],\n",
       "        [-1.175e-01, -7.625e-02, -1.003e-01, -6.284e-03],\n",
       "        [-2.007e-01,  1.828e-02, -1.485e-01,  7.745e-02],\n",
       "        [ 3.403e-02,  1.702e-01, -4.065e-01,  1.602e-02],\n",
       "        [-3.463e-02, -1.426e-02,  4.485e-02, -1.732e-01],\n",
       "        [-5.779e-02, -1.209e-01, -7.991e-02,  2.715e-02],\n",
       "        [-1.687e-01,  4.503e-02, -2.877e-01, -3.684e-02],\n",
       "        [ 3.051e-02,  3.355e-02, -1.533e-01, -1.637e-01],\n",
       "        [ 1.532e-02, -8.509e-02, -7.711e-02,  2.072e-01],\n",
       "        [-1.057e-02, -1.319e-01,  1.268e-01, -1.025e-01],\n",
       "        [-5.284e-02, -6.561e-02,  1.130e-02,  1.835e-02]],\n",
       "       grad_fn=<TakeBackward>)"
      ]
     },
     "execution_count": 114,
     "metadata": {},
     "output_type": "execute_result"
    }
   ],
   "source": [
    "loc_pred[pos_mask]"
   ]
  },
  {
   "cell_type": "code",
   "execution_count": 115,
   "metadata": {},
   "outputs": [
    {
     "data": {
      "text/plain": [
       "tensor([[ 4.179, 11.892, -3.810,  4.206],\n",
       "        [-5.194,  4.828,  0.945,  0.574],\n",
       "        [-4.362,  0.251,  0.945,  0.574],\n",
       "        [-5.343,  0.205,  1.958, -0.440],\n",
       "        [-4.362,  0.667,  0.945,  0.574],\n",
       "        [-5.343,  0.885,  1.958, -0.440],\n",
       "        [-4.362,  1.500,  0.945,  0.574],\n",
       "        [-5.343,  1.224,  1.958, -0.440],\n",
       "        [11.165,  4.796,  2.251, -0.353],\n",
       "        [11.165,  5.628,  2.251, -0.353],\n",
       "        [11.165,  6.044,  2.251, -0.353],\n",
       "        [11.165,  6.877,  2.251, -0.353],\n",
       "        [-3.530, -3.910,  0.945,  0.574],\n",
       "        [-4.323, -2.852,  1.958, -0.440],\n",
       "        [-3.530, -3.077,  0.945,  0.574],\n",
       "        [-4.323, -2.513,  1.958, -0.440],\n",
       "        [-3.530, -2.661,  0.945,  0.574],\n",
       "        [-4.323, -1.833,  1.958, -0.440],\n",
       "        [11.997,  1.051,  2.251, -0.353],\n",
       "        [11.997,  1.467,  2.251, -0.353],\n",
       "        [11.997,  2.300,  2.251, -0.353],\n",
       "        [11.997,  2.716,  2.251, -0.353],\n",
       "        [-3.530,  8.157,  0.945,  0.574],\n",
       "        [-4.323,  6.660,  1.958, -0.440],\n",
       "        [-3.530,  8.573,  0.945,  0.574],\n",
       "        [-4.323,  7.340,  1.958, -0.440],\n",
       "        [-3.530,  9.405,  0.945,  0.574],\n",
       "        [-4.323,  7.679,  1.958, -0.440],\n",
       "        [-2.698, -5.990,  0.945,  0.574],\n",
       "        [-3.304, -4.551,  1.958, -0.440],\n",
       "        [12.829, -3.110,  2.251, -0.353],\n",
       "        [12.829, -2.277,  2.251, -0.353],\n",
       "        [12.829, -1.861,  2.251, -0.353],\n",
       "        [12.829, -1.029,  2.251, -0.353],\n",
       "        [-2.698,  3.996,  0.945,  0.574],\n",
       "        [-3.304,  3.603,  1.958, -0.440],\n",
       "        [-2.698,  4.828,  0.945,  0.574],\n",
       "        [-3.304,  3.942,  1.958, -0.440],\n",
       "        [-2.698,  5.244,  0.945,  0.574],\n",
       "        [-3.304,  4.622,  1.958, -0.440],\n",
       "        [-1.866,  0.251,  0.945,  0.574],\n",
       "        [-2.285,  0.205,  1.958, -0.440],\n",
       "        [-1.866,  0.667,  0.945,  0.574],\n",
       "        [-2.285,  0.885,  1.958, -0.440],\n",
       "        [-1.866,  1.500,  0.945,  0.574],\n",
       "        [-2.285,  1.224,  1.958, -0.440],\n",
       "        [-1.034, -3.077,  0.945,  0.574],\n",
       "        [ 3.933, 28.387,  1.257, -1.481],\n",
       "        [ 3.933, 29.406,  1.257, -1.481],\n",
       "        [ 3.933, 31.445,  1.257, -1.481],\n",
       "        [ 3.933, 32.464,  1.257, -1.481],\n",
       "        [ 3.933, 34.502,  1.257, -1.481],\n",
       "        [ 4.273, -3.208,  1.257, -1.481],\n",
       "        [ 4.273, -1.170,  1.257, -1.481],\n",
       "        [ 4.273, 18.195,  1.257, -1.481],\n",
       "        [ 4.273, 20.233,  1.257, -1.481],\n",
       "        [ 4.273, 21.252,  1.257, -1.481],\n",
       "        [ 4.273, 23.291,  1.257, -1.481],\n",
       "        [ 4.273, 24.310,  1.257, -1.481],\n",
       "        [ 4.273, 26.349,  1.257, -1.481],\n",
       "        [ 4.273, 27.368,  1.257, -1.481],\n",
       "        [13.715, -2.286,  0.713, -1.891],\n",
       "        [ 2.212,  0.944, -0.786,  2.309],\n",
       "        [ 2.299,  0.491, -0.593, -0.964],\n",
       "        [ 2.816,  0.650,  0.420, -1.978],\n",
       "        [ 2.299,  1.103, -0.593, -0.964],\n",
       "        [ 2.816,  0.900,  0.420, -1.978],\n",
       "        [13.197,  3.842,  0.520,  1.382],\n",
       "        [13.715,  2.303,  0.713, -1.891],\n",
       "        [13.197,  5.020,  0.520,  1.382],\n",
       "        [13.715,  2.608,  0.713, -1.891],\n",
       "        [ 2.212,  9.775, -0.786,  2.309],\n",
       "        [ 2.299,  5.079, -0.593, -0.964],\n",
       "        [ 2.816,  4.397,  0.420, -1.978],\n",
       "        [ 2.212, 10.364, -0.786,  2.309],\n",
       "        [ 2.299,  5.691, -0.593, -0.964],\n",
       "        [ 2.816,  4.647,  0.420, -1.978],\n",
       "        [13.786, -9.698,  0.520,  1.382],\n",
       "        [14.327, -4.734,  0.713, -1.891],\n",
       "        [13.786, -8.521,  0.520,  1.382],\n",
       "        [14.327, -4.428,  0.713, -1.891],\n",
       "        [ 2.801, -3.766, -0.786,  2.309],\n",
       "        [ 2.911, -1.957, -0.593, -0.964],\n",
       "        [ 3.565, -1.348,  0.420, -1.978],\n",
       "        [ 2.801, -3.177, -0.786,  2.309],\n",
       "        [ 2.911, -1.345, -0.593, -0.964],\n",
       "        [ 3.565, -1.098,  0.420, -1.978],\n",
       "        [13.786, -0.867,  0.520,  1.382],\n",
       "        [14.327, -0.145,  0.713, -1.891],\n",
       "        [13.786,  0.310,  0.520,  1.382],\n",
       "        [14.327,  0.161,  0.713, -1.891],\n",
       "        [ 2.801,  5.065, -0.786,  2.309],\n",
       "        [ 2.911,  2.632, -0.593, -0.964],\n",
       "        [ 3.565,  2.399,  0.420, -1.978],\n",
       "        [ 2.911,  3.244, -0.593, -0.964],\n",
       "        [ 3.565,  2.649,  0.420, -1.978],\n",
       "        [14.327,  4.444,  0.713, -1.891],\n",
       "        [ 4.390,  2.886, -0.281, -3.019],\n",
       "        [ 4.390, 14.126, -0.281, -3.019],\n",
       "        [ 3.293, -4.579, -1.731,  1.364],\n",
       "        [12.386, -3.155, -0.425,  0.437],\n",
       "        [10.802, -2.751, -1.109, -0.247],\n",
       "        [12.872, -1.639, -0.233, -2.836],\n",
       "        [ 3.293, -0.680, -1.731,  1.364],\n",
       "        [ 2.872, -0.593, -2.415,  0.680],\n",
       "        [ 2.872, -0.168, -2.415,  0.680],\n",
       "        [12.386,  0.257, -0.425,  0.437],\n",
       "        [10.802,  0.224, -1.109, -0.247],\n",
       "        [12.872,  0.387, -0.233, -2.836],\n",
       "        [ 9.420,  6.126, -1.793, -0.931]])"
      ]
     },
     "execution_count": 115,
     "metadata": {},
     "output_type": "execute_result"
    }
   ],
   "source": [
    "bbox_target[pos_mask]"
   ]
  },
  {
   "cell_type": "code",
   "execution_count": 118,
   "metadata": {},
   "outputs": [
    {
     "data": {
      "text/plain": [
       "tensor(15.292, grad_fn=<SmoothL1LossBackward>)"
      ]
     },
     "execution_count": 118,
     "metadata": {},
     "output_type": "execute_result"
    }
   ],
   "source": [
    "loc_criterion(loc_pred, bbox_target)"
   ]
  },
  {
   "cell_type": "code",
   "execution_count": null,
   "metadata": {},
   "outputs": [],
   "source": []
  }
 ],
 "metadata": {
  "kernelspec": {
   "display_name": "Python 3",
   "language": "python",
   "name": "python3"
  },
  "language_info": {
   "codemirror_mode": {
    "name": "ipython",
    "version": 3
   },
   "file_extension": ".py",
   "mimetype": "text/x-python",
   "name": "python",
   "nbconvert_exporter": "python",
   "pygments_lexer": "ipython3",
   "version": "3.6.5"
  }
 },
 "nbformat": 4,
 "nbformat_minor": 2
}
