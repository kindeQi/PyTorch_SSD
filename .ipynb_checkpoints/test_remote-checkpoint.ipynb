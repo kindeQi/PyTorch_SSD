{
 "cells": [
  {
   "cell_type": "code",
   "execution_count": 1,
   "metadata": {},
   "outputs": [],
   "source": [
    "import os\n",
    "import torch\n",
    "from tqdm import tqdm_notebook\n",
    "from matplotlib import pyplot as plt\n",
    "from itertools import product\n",
    "import json\n",
    "from collections import defaultdict\n",
    "\n",
    "from torch import nn\n",
    "from torch.autograd import Variable\n",
    "from torch.functional import F\n",
    "from torchvision import models\n",
    "import torchvision\n",
    "from torch.utils.data import Dataset, DataLoader\n",
    "import cv2\n",
    "import numpy as np\n",
    "\n",
    "# from fastai import transforms, model, dataset, conv_learner\n",
    "\n",
    "from PIL import ImageDraw, ImageFont\n",
    "from matplotlib import patches, patheffects\n",
    "from matplotlib import pyplot as plt\n",
    "import numpy as np\n",
    "import pandas as pd\n",
    "from augmentation import SSDAugmentation, SSD_Val_Augmentation\n",
    "\n",
    "from Config import Config\n",
    "from SSD_model import get_SSD_model, lr_find\n",
    "from VOC_data import VOC_dataset\n",
    "from SSDloss import *\n",
    "\n",
    "torch.set_printoptions(precision=3)"
   ]
  },
  {
   "cell_type": "code",
   "execution_count": 2,
   "metadata": {},
   "outputs": [],
   "source": [
    "def detection_collate_fn(batch):\n",
    "    imgs, bboxes, labels = [], [], []\n",
    "    for i, b, l in batch:\n",
    "        imgs.append(i); bboxes.append(b); labels.append(l)\n",
    "    return torch.stack(imgs), bboxes, labels"
   ]
  },
  {
   "cell_type": "code",
   "execution_count": 3,
   "metadata": {},
   "outputs": [
    {
     "name": "stderr",
     "output_type": "stream",
     "text": [
      "/home/kindeqi/PyTorch_SSD/SSD_model.py:172: UserWarning: nn.init.kaiming_uniform is now deprecated in favor of nn.init.kaiming_uniform_.\n",
      "  nn.init.kaiming_uniform(m.weight.data)\n"
     ]
    },
    {
     "name": "stdout",
     "output_type": "stream",
     "text": [
      "success build ssd model\n"
     ]
    },
    {
     "name": "stderr",
     "output_type": "stream",
     "text": [
      "\r",
      "  0%|          | 0/79 [00:00<?, ?it/s]"
     ]
    },
    {
     "name": "stdout",
     "output_type": "stream",
     "text": [
      "SGD\n"
     ]
    },
    {
     "name": "stderr",
     "output_type": "stream",
     "text": [
      "/home/kindeqi/.local/lib/python3.6/site-packages/torch/nn/_reduction.py:49: UserWarning: size_average and reduce args will be deprecated, please use reduction='none' instead.\n",
      "  warnings.warn(warning.format(ret))\n",
      " 89%|████████▊ | 70/79 [04:11<00:32,  3.60s/it]"
     ]
    }
   ],
   "source": [
    "use_cuda = torch.cuda.is_available()\n",
    "device = torch.device(\"cuda:0\" if use_cuda else \"cpu\")\n",
    "\n",
    "config = Config('remote')\n",
    "ssd_model = get_SSD_model(1, config.vgg_weight_path, config.vgg_reduced_weight_path)\n",
    "# ssd_model.freeze_basenet()\n",
    "ssd_model = ssd_model.to(device)\n",
    "\n",
    "print('success build ssd model')\n",
    "\n",
    "train_dataset = VOC_dataset(config.voc2007_root, config.voc2007_trn_anno)\n",
    "\n",
    "# img, bbox, label = train_dataset[0]\n",
    "# img = img.unsqueeze(0)\n",
    "\n",
    "# conf_pred, loc_pred = ssd_model(img)\n",
    "# print(conf_pred.shape, loc_pred.shape)\n",
    "trn_dataloader = DataLoader(train_dataset, config.batch_size, shuffle=True, collate_fn=detection_collate_fn)\n",
    "lr_array, loss_array = lr_find(ssd_model, 1e-1, 1e-5, trn_dataloader, linear=False)"
   ]
  },
  {
   "cell_type": "code",
   "execution_count": 5,
   "metadata": {},
   "outputs": [
    {
     "data": {
      "text/plain": [
       "[<matplotlib.lines.Line2D at 0x7f6ca6a32a20>]"
      ]
     },
     "execution_count": 5,
     "metadata": {},
     "output_type": "execute_result"
    },
    {
     "data": {
      "image/png": "[encoded data removed]",
      "text/plain": [
       "<Figure size 432x288 with 1 Axes>"
      ]
     },
     "metadata": {
      "needs_background": "light"
     },
     "output_type": "display_data"
    }
   ],
   "source": [
    "plt.plot(lr_array)"
   ]
  },
  {
   "cell_type": "code",
   "execution_count": 4,
   "metadata": {},
   "outputs": [
    {
     "data": {
      "text/plain": [
       "[<matplotlib.lines.Line2D at 0x7f6ca69d37b8>]"
      ]
     },
     "execution_count": 4,
     "metadata": {},
     "output_type": "execute_result"
    },
    {
     "data": {
      "image/png": "[encoded data removed]",
      "text/plain": [
       "<Figure size 432x288 with 1 Axes>"
      ]
     },
     "metadata": {
      "needs_background": "light"
     },
     "output_type": "display_data"
    }
   ],
   "source": [
    "plt.plot(loss_array)"
   ]
  },
  {
   "cell_type": "code",
   "execution_count": 4,
   "metadata": {},
   "outputs": [],
   "source": [
    "# ssd_model.load_trained_model(config.trained_path)\n",
    "# optimizer = torch.optim.Adam(ssd_model.parameters())"
   ]
  },
  {
   "cell_type": "code",
   "execution_count": 3,
   "metadata": {},
   "outputs": [
    {
     "name": "stderr",
     "output_type": "stream",
     "text": [
      "/home/kindeqi/PyTorch_SSD/SSD_model.py:172: UserWarning: nn.init.kaiming_uniform is now deprecated in favor of nn.init.kaiming_uniform_.\n",
      "  nn.init.kaiming_uniform(m.weight.data)\n"
     ]
    }
   ],
   "source": [
    "use_cuda = torch.cuda.is_available()\n",
    "device = torch.device(\"cuda:0\" if use_cuda else \"cpu\")\n",
    "config = Config('remote')\n",
    "num_epoch = 120\n",
    "\n",
    "ssd_model = get_SSD_model(1, config.vgg_weight_path, config.vgg_reduced_weight_path)\n",
    "ssd_model = ssd_model.to(device)\n",
    "\n",
    "train_dataset = VOC_dataset(config.voc2007_root, config.voc2007_trn_anno, trn_val='trn')\n",
    "val_dataset = VOC_dataset(config.voc2007_root, config.voc2007_val_anno, trn_val='val')\n",
    "\n",
    "trn_dataloader = DataLoader(train_dataset, config.batch_size, shuffle=True, collate_fn=detection_collate_fn, num_workers=8)\n",
    "val_dataloader = DataLoader(val_dataset, config.batch_size, shuffle=True, collate_fn=detection_collate_fn, num_workers=8)\n",
    "\n",
    "optimizer = torch.optim.SGD(ssd_model.parameters(), lr=1e-3, momentum=0.9, weight_decay=5 * 1e-4)"
   ]
  },
  {
   "cell_type": "code",
   "execution_count": 4,
   "metadata": {},
   "outputs": [],
   "source": [
    "ssd_model.load_state_dict(torch.load('./15_epoch_trained.pth'))"
   ]
  },
  {
   "cell_type": "code",
   "execution_count": 4,
   "metadata": {},
   "outputs": [
    {
     "name": "stderr",
     "output_type": "stream",
     "text": [
      "/home/kindeqi/.local/lib/python3.6/site-packages/torch/nn/_reduction.py:49: UserWarning: size_average and reduce args will be deprecated, please use reduction='none' instead.\n",
      "  warnings.warn(warning.format(ret))\n"
     ]
    },
    {
     "name": "stdout",
     "output_type": "stream",
     "text": [
      "0 cls_loss: 23.468, loc_loss: 3.419, loss: 26.887\n",
      "5 cls_loss: 14.205, loc_loss: 3.624, loss: 17.829\n",
      "10 cls_loss: 13.128, loc_loss: 3.505, loss: 16.633\n",
      "15 cls_loss: 11.389, loc_loss: 2.903, loss: 14.292\n",
      "20 cls_loss: 10.908, loc_loss: 2.877, loss: 13.785\n",
      "25 cls_loss: 10.404, loc_loss: 3.193, loss: 13.597\n",
      "30 cls_loss: 8.772, loc_loss: 2.926, loss: 11.698\n",
      "35 cls_loss: 7.979, loc_loss: 3.336, loss: 11.315\n",
      "40 cls_loss: 10.225, loc_loss: 2.718, loss: 12.943\n",
      "45 cls_loss: 10.225, loc_loss: 3.078, loss: 13.303\n",
      "50 cls_loss: 8.908, loc_loss: 2.531, loss: 11.438\n",
      "55 cls_loss: 9.654, loc_loss: 3.401, loss: 13.055\n",
      "60 cls_loss: 7.447, loc_loss: 2.847, loss: 10.294\n",
      "65 cls_loss: 13.153, loc_loss: 2.768, loss: 15.921\n",
      "70 cls_loss: 11.583, loc_loss: 2.855, loss: 14.438\n",
      "75 cls_loss: 8.671, loc_loss: 3.132, loss: 11.803\n",
      "0 cls_loss: 8.738, loc_loss: 3.029, loss: 11.767\n",
      "5 cls_loss: 7.705, loc_loss: 2.59, loss: 10.295\n",
      "10 cls_loss: 6.846, loc_loss: 2.531, loss: 9.377\n",
      "15 cls_loss: 6.615, loc_loss: 2.693, loss: 9.308\n",
      "20 cls_loss: 6.23, loc_loss: 2.699, loss: 8.929\n",
      "25 cls_loss: 6.81, loc_loss: 2.591, loss: 9.401\n",
      "30 cls_loss: 6.284, loc_loss: 2.304, loss: 8.588\n",
      "35 cls_loss: 6.209, loc_loss: 2.333, loss: 8.541\n",
      "40 cls_loss: 6.244, loc_loss: 2.619, loss: 8.863\n",
      "45 cls_loss: 6.994, loc_loss: 2.909, loss: 9.903\n",
      "50 cls_loss: 9.081, loc_loss: 3.429, loss: 12.51\n",
      "55 cls_loss: 6.36, loc_loss: 2.304, loss: 8.664\n",
      "60 cls_loss: 7.466, loc_loss: 2.697, loss: 10.163\n",
      "65 cls_loss: 7.909, loc_loss: 2.815, loss: 10.724\n",
      "70 cls_loss: 9.785, loc_loss: 2.637, loss: 12.422\n",
      "75 cls_loss: 9.887, loc_loss: 3.026, loss: 12.913\n",
      "0 cls_loss: 11.186, loc_loss: 3.007, loss: 14.193\n",
      "5 cls_loss: 11.343, loc_loss: 3.003, loss: 14.346\n",
      "10 cls_loss: 7.565, loc_loss: 2.757, loss: 10.322\n",
      "15 cls_loss: 8.896, loc_loss: 2.758, loss: 11.654\n",
      "20 cls_loss: 6.969, loc_loss: 2.484, loss: 9.453\n",
      "25 cls_loss: 8.262, loc_loss: 2.646, loss: 10.908\n",
      "30 cls_loss: 7.859, loc_loss: 2.733, loss: 10.592\n",
      "35 cls_loss: 7.596, loc_loss: 2.97, loss: 10.566\n",
      "40 cls_loss: 9.009, loc_loss: 2.425, loss: 11.434\n",
      "45 cls_loss: 6.2, loc_loss: 2.647, loss: 8.847\n",
      "50 cls_loss: 7.136, loc_loss: 2.486, loss: 9.622\n",
      "55 cls_loss: 7.547, loc_loss: 2.628, loss: 10.175\n",
      "60 cls_loss: 6.166, loc_loss: 2.404, loss: 8.57\n",
      "65 cls_loss: 7.17, loc_loss: 3.067, loss: 10.237\n",
      "70 cls_loss: 6.659, loc_loss: 2.203, loss: 8.862\n",
      "75 cls_loss: 7.188, loc_loss: 2.362, loss: 9.55\n",
      "0 cls_loss: 8.199, loc_loss: 3.592, loss: 11.791\n",
      "5 cls_loss: 9.761, loc_loss: 2.913, loss: 12.674\n",
      "10 cls_loss: 8.947, loc_loss: 2.493, loss: 11.439\n",
      "15 cls_loss: 8.021, loc_loss: 2.63, loss: 10.651\n",
      "20 cls_loss: 8.461, loc_loss: 2.93, loss: 11.391\n",
      "25 cls_loss: 6.93, loc_loss: 2.744, loss: 9.674\n",
      "30 cls_loss: 7.709, loc_loss: 2.781, loss: 10.49\n",
      "35 cls_loss: 7.666, loc_loss: 2.348, loss: 10.014\n",
      "40 cls_loss: 10.436, loc_loss: 2.552, loss: 12.988\n",
      "45 cls_loss: 8.178, loc_loss: 3.009, loss: 11.187\n",
      "50 cls_loss: 5.79, loc_loss: 2.329, loss: 8.119\n",
      "55 cls_loss: 5.362, loc_loss: 2.413, loss: 7.775\n",
      "60 cls_loss: 6.506, loc_loss: 2.68, loss: 9.186\n",
      "65 cls_loss: 6.567, loc_loss: 2.179, loss: 8.746\n",
      "70 cls_loss: 6.78, loc_loss: 2.368, loss: 9.148\n",
      "75 cls_loss: 6.447, loc_loss: 2.367, loss: 8.814\n",
      "0 cls_loss: 6.121, loc_loss: 2.706, loss: 8.827\n",
      "5 cls_loss: 6.282, loc_loss: 2.631, loss: 8.913\n",
      "10 cls_loss: 7.641, loc_loss: 3.322, loss: 10.963\n",
      "15 cls_loss: 6.592, loc_loss: 3.089, loss: 9.681\n",
      "20 cls_loss: 8.082, loc_loss: 2.432, loss: 10.515\n",
      "25 cls_loss: 7.792, loc_loss: 2.729, loss: 10.521\n",
      "30 cls_loss: 7.056, loc_loss: 2.746, loss: 9.802\n",
      "35 cls_loss: 7.959, loc_loss: 2.75, loss: 10.709\n",
      "40 cls_loss: 7.733, loc_loss: 2.469, loss: 10.202\n",
      "45 cls_loss: 7.072, loc_loss: 2.467, loss: 9.539\n",
      "50 cls_loss: 6.157, loc_loss: 2.407, loss: 8.564\n",
      "55 cls_loss: 6.984, loc_loss: 2.451, loss: 9.435\n",
      "60 cls_loss: 9.214, loc_loss: 2.48, loss: 11.694\n",
      "65 cls_loss: 6.816, loc_loss: 2.268, loss: 9.084\n",
      "70 cls_loss: 6.809, loc_loss: 2.311, loss: 9.12\n",
      "75 cls_loss: 6.717, loc_loss: 2.53, loss: 9.247\n",
      "0 cls_loss: 10.485, loc_loss: 2.868, loss: 13.353\n",
      "5 cls_loss: 8.177, loc_loss: 2.495, loss: 10.672\n",
      "10 cls_loss: 7.58, loc_loss: 2.654, loss: 10.234\n",
      "15 cls_loss: 8.864, loc_loss: 2.324, loss: 11.188\n",
      "20 cls_loss: 9.698, loc_loss: 2.537, loss: 12.235\n",
      "25 cls_loss: 8.998, loc_loss: 2.405, loss: 11.403\n",
      "30 cls_loss: 7.945, loc_loss: 2.459, loss: 10.404\n",
      "35 cls_loss: 5.939, loc_loss: 2.371, loss: 8.31\n",
      "40 cls_loss: 6.925, loc_loss: 2.365, loss: 9.29\n",
      "45 cls_loss: 7.036, loc_loss: 2.3, loss: 9.336\n",
      "50 cls_loss: 7.594, loc_loss: 2.267, loss: 9.861\n",
      "55 cls_loss: 7.851, loc_loss: 2.422, loss: 10.273\n",
      "60 cls_loss: 5.897, loc_loss: 2.185, loss: 8.082\n",
      "65 cls_loss: 7.231, loc_loss: 2.555, loss: 9.786\n",
      "70 cls_loss: 7.533, loc_loss: 2.464, loss: 9.997\n",
      "75 cls_loss: 6.613, loc_loss: 2.526, loss: 9.139\n",
      "0 cls_loss: 7.089, loc_loss: 3.004, loss: 10.092\n",
      "5 cls_loss: 7.379, loc_loss: 2.542, loss: 9.921\n",
      "10 cls_loss: 8.254, loc_loss: 2.343, loss: 10.597\n",
      "15 cls_loss: 7.346, loc_loss: 2.103, loss: 9.449\n",
      "20 cls_loss: 7.638, loc_loss: 2.804, loss: 10.442\n",
      "25 cls_loss: 7.251, loc_loss: 2.825, loss: 10.076\n",
      "30 cls_loss: 7.605, loc_loss: 2.226, loss: 9.831\n",
      "35 cls_loss: 8.049, loc_loss: 2.352, loss: 10.401\n",
      "40 cls_loss: 6.831, loc_loss: 3.01, loss: 9.841\n",
      "45 cls_loss: 7.135, loc_loss: 2.587, loss: 9.722\n",
      "50 cls_loss: 6.023, loc_loss: 2.274, loss: 8.297\n",
      "55 cls_loss: 6.28, loc_loss: 2.615, loss: 8.895\n",
      "60 cls_loss: 5.447, loc_loss: 2.173, loss: 7.619\n",
      "65 cls_loss: 5.724, loc_loss: 2.624, loss: 8.347\n",
      "70 cls_loss: 5.863, loc_loss: 2.347, loss: 8.21\n",
      "75 cls_loss: 6.225, loc_loss: 2.618, loss: 8.843\n",
      "0 cls_loss: 6.379, loc_loss: 2.057, loss: 8.436\n",
      "5 cls_loss: 6.066, loc_loss: 2.443, loss: 8.51\n",
      "10 cls_loss: 6.116, loc_loss: 2.349, loss: 8.465\n",
      "15 cls_loss: 7.005, loc_loss: 2.62, loss: 9.626\n",
      "20 cls_loss: 6.588, loc_loss: 2.357, loss: 8.945\n",
      "25 cls_loss: 10.219, loc_loss: 2.475, loss: 12.693\n",
      "30 cls_loss: 7.81, loc_loss: 2.301, loss: 10.112\n",
      "35 cls_loss: 7.676, loc_loss: 2.256, loss: 9.932\n",
      "40 cls_loss: 7.725, loc_loss: 2.092, loss: 9.818\n",
      "45 cls_loss: 6.586, loc_loss: 2.331, loss: 8.917\n",
      "50 cls_loss: 7.786, loc_loss: 2.482, loss: 10.268\n",
      "55 cls_loss: 7.144, loc_loss: 2.585, loss: 9.729\n",
      "60 cls_loss: 6.017, loc_loss: 2.419, loss: 8.436\n",
      "65 cls_loss: 6.102, loc_loss: 2.139, loss: 8.241\n",
      "70 cls_loss: 6.058, loc_loss: 2.155, loss: 8.213\n",
      "75 cls_loss: 5.934, loc_loss: 2.135, loss: 8.068\n",
      "0 cls_loss: 5.98, loc_loss: 2.505, loss: 8.485\n",
      "5 cls_loss: 6.925, loc_loss: 2.436, loss: 9.362\n",
      "10 cls_loss: 6.63, loc_loss: 2.51, loss: 9.139\n",
      "15 cls_loss: 5.795, loc_loss: 2.2, loss: 7.995\n",
      "20 cls_loss: 5.606, loc_loss: 2.228, loss: 7.835\n",
      "25 cls_loss: 6.442, loc_loss: 2.366, loss: 8.808\n",
      "30 cls_loss: 7.049, loc_loss: 2.333, loss: 9.382\n",
      "35 cls_loss: 6.32, loc_loss: 2.188, loss: 8.508\n",
      "40 cls_loss: 6.273, loc_loss: 1.998, loss: 8.271\n",
      "45 cls_loss: 6.089, loc_loss: 2.177, loss: 8.266\n",
      "50 cls_loss: 10.177, loc_loss: 2.747, loss: 12.924\n",
      "55 cls_loss: 8.643, loc_loss: 2.121, loss: 10.764\n",
      "60 cls_loss: 7.055, loc_loss: 2.713, loss: 9.769\n",
      "65 cls_loss: 5.903, loc_loss: 2.222, loss: 8.126\n",
      "70 cls_loss: 6.457, loc_loss: 2.562, loss: 9.02\n",
      "75 cls_loss: 7.53, loc_loss: 3.024, loss: 10.555\n",
      "0 cls_loss: 7.12, loc_loss: 2.078, loss: 9.198\n",
      "5 cls_loss: 6.181, loc_loss: 2.255, loss: 8.436\n",
      "10 cls_loss: 8.624, loc_loss: 2.406, loss: 11.031\n",
      "15 cls_loss: 6.42, loc_loss: 1.769, loss: 8.189\n",
      "20 cls_loss: 8.341, loc_loss: 2.165, loss: 10.506\n",
      "25 cls_loss: 8.627, loc_loss: 2.743, loss: 11.37\n",
      "30 cls_loss: 6.948, loc_loss: 2.534, loss: 9.482\n",
      "35 cls_loss: 6.917, loc_loss: 2.554, loss: 9.47\n",
      "40 cls_loss: 5.888, loc_loss: 2.395, loss: 8.283\n",
      "45 cls_loss: 8.31, loc_loss: 2.298, loss: 10.608\n",
      "50 cls_loss: 5.83, loc_loss: 1.917, loss: 7.747\n",
      "55 cls_loss: 6.185, loc_loss: 2.213, loss: 8.398\n",
      "60 cls_loss: 5.565, loc_loss: 2.26, loss: 7.826\n",
      "65 cls_loss: 5.277, loc_loss: 2.192, loss: 7.469\n",
      "70 cls_loss: 6.798, loc_loss: 2.534, loss: 9.332\n",
      "75 cls_loss: 6.357, loc_loss: 2.157, loss: 8.514\n",
      "0 cls_loss: 6.063, loc_loss: 2.287, loss: 8.35\n",
      "5 cls_loss: 6.488, loc_loss: 2.307, loss: 8.795\n",
      "10 cls_loss: 5.326, loc_loss: 1.98, loss: 7.306\n",
      "15 cls_loss: 6.025, loc_loss: 2.232, loss: 8.257\n",
      "20 cls_loss: 6.974, loc_loss: 2.349, loss: 9.323\n",
      "25 cls_loss: 6.683, loc_loss: 2.549, loss: 9.233\n",
      "30 cls_loss: 6.736, loc_loss: 2.115, loss: 8.851\n"
     ]
    },
    {
     "name": "stdout",
     "output_type": "stream",
     "text": [
      "35 cls_loss: 6.839, loc_loss: 2.457, loss: 9.296\n",
      "40 cls_loss: 6.477, loc_loss: 2.717, loss: 9.194\n",
      "45 cls_loss: 5.464, loc_loss: 2.085, loss: 7.55\n",
      "50 cls_loss: 6.351, loc_loss: 2.096, loss: 8.447\n",
      "55 cls_loss: 5.954, loc_loss: 1.935, loss: 7.888\n",
      "60 cls_loss: 8.065, loc_loss: 2.293, loss: 10.357\n",
      "65 cls_loss: 6.669, loc_loss: 2.224, loss: 8.893\n",
      "70 cls_loss: 5.547, loc_loss: 2.1, loss: 7.647\n",
      "75 cls_loss: 6.568, loc_loss: 2.101, loss: 8.669\n",
      "0 cls_loss: 5.816, loc_loss: 1.925, loss: 7.741\n",
      "5 cls_loss: 8.276, loc_loss: 2.227, loss: 10.502\n",
      "10 cls_loss: 7.109, loc_loss: 1.915, loss: 9.023\n",
      "15 cls_loss: 6.572, loc_loss: 1.911, loss: 8.483\n",
      "20 cls_loss: 7.167, loc_loss: 2.079, loss: 9.246\n",
      "25 cls_loss: 7.106, loc_loss: 2.082, loss: 9.188\n",
      "30 cls_loss: 7.421, loc_loss: 2.355, loss: 9.777\n",
      "35 cls_loss: 7.911, loc_loss: 2.235, loss: 10.147\n",
      "40 cls_loss: 7.623, loc_loss: 2.504, loss: 10.127\n",
      "45 cls_loss: 5.861, loc_loss: 2.299, loss: 8.16\n"
     ]
    },
    {
     "name": "stderr",
     "output_type": "stream",
     "text": [
      "Traceback (most recent call last):\n",
      "Traceback (most recent call last):\n",
      "  File \"/usr/lib/python3.6/multiprocessing/queues.py\", line 240, in _feed\n",
      "    send_bytes(obj)\n",
      "  File \"/usr/lib/python3.6/multiprocessing/connection.py\", line 200, in send_bytes\n",
      "    self._send_bytes(m[offset:offset + size])\n",
      "  File \"/usr/lib/python3.6/multiprocessing/connection.py\", line 404, in _send_bytes\n",
      "    self._send(header + buf)\n",
      "  File \"/usr/lib/python3.6/multiprocessing/connection.py\", line 368, in _send\n",
      "    n = write(self._handle, buf)\n",
      "BrokenPipeError: [Errno 32] Broken pipe\n",
      "Traceback (most recent call last):\n",
      "  File \"/usr/lib/python3.6/multiprocessing/queues.py\", line 240, in _feed\n",
      "    send_bytes(obj)\n",
      "  File \"/usr/lib/python3.6/multiprocessing/connection.py\", line 200, in send_bytes\n",
      "    self._send_bytes(m[offset:offset + size])\n",
      "  File \"/usr/lib/python3.6/multiprocessing/connection.py\", line 404, in _send_bytes\n",
      "    self._send(header + buf)\n",
      "  File \"/usr/lib/python3.6/multiprocessing/connection.py\", line 368, in _send\n",
      "    n = write(self._handle, buf)\n",
      "BrokenPipeError: [Errno 32] Broken pipe\n",
      "  File \"/usr/lib/python3.6/multiprocessing/queues.py\", line 240, in _feed\n",
      "    send_bytes(obj)\n",
      "  File \"/usr/lib/python3.6/multiprocessing/connection.py\", line 200, in send_bytes\n",
      "    self._send_bytes(m[offset:offset + size])\n",
      "  File \"/usr/lib/python3.6/multiprocessing/connection.py\", line 404, in _send_bytes\n",
      "    self._send(header + buf)\n",
      "Traceback (most recent call last):\n",
      "  File \"/usr/lib/python3.6/multiprocessing/queues.py\", line 240, in _feed\n",
      "    send_bytes(obj)\n",
      "  File \"/usr/lib/python3.6/multiprocessing/connection.py\", line 200, in send_bytes\n",
      "    self._send_bytes(m[offset:offset + size])\n",
      "  File \"/usr/lib/python3.6/multiprocessing/connection.py\", line 404, in _send_bytes\n",
      "    self._send(header + buf)\n",
      "  File \"/usr/lib/python3.6/multiprocessing/connection.py\", line 368, in _send\n",
      "    n = write(self._handle, buf)\n",
      "BrokenPipeError: [Errno 32] Broken pipe\n",
      "  File \"/usr/lib/python3.6/multiprocessing/connection.py\", line 368, in _send\n",
      "    n = write(self._handle, buf)\n",
      "BrokenPipeError: [Errno 32] Broken pipe\n",
      "Traceback (most recent call last):\n",
      "  File \"/usr/lib/python3.6/multiprocessing/queues.py\", line 240, in _feed\n",
      "    send_bytes(obj)\n",
      "  File \"/usr/lib/python3.6/multiprocessing/connection.py\", line 200, in send_bytes\n",
      "    self._send_bytes(m[offset:offset + size])\n",
      "  File \"/usr/lib/python3.6/multiprocessing/connection.py\", line 404, in _send_bytes\n",
      "    self._send(header + buf)\n",
      "  File \"/usr/lib/python3.6/multiprocessing/connection.py\", line 368, in _send\n",
      "    n = write(self._handle, buf)\n",
      "Traceback (most recent call last):\n",
      "  File \"/usr/lib/python3.6/multiprocessing/queues.py\", line 240, in _feed\n",
      "    send_bytes(obj)\n",
      "  File \"/usr/lib/python3.6/multiprocessing/connection.py\", line 200, in send_bytes\n",
      "    self._send_bytes(m[offset:offset + size])\n",
      "  File \"/usr/lib/python3.6/multiprocessing/connection.py\", line 404, in _send_bytes\n",
      "    self._send(header + buf)\n",
      "Traceback (most recent call last):\n",
      "Traceback (most recent call last):\n",
      "  File \"/usr/lib/python3.6/multiprocessing/queues.py\", line 240, in _feed\n",
      "    send_bytes(obj)\n",
      "  File \"/usr/lib/python3.6/multiprocessing/connection.py\", line 200, in send_bytes\n",
      "    self._send_bytes(m[offset:offset + size])\n",
      "  File \"/usr/lib/python3.6/multiprocessing/connection.py\", line 404, in _send_bytes\n",
      "    self._send(header + buf)\n",
      "  File \"/usr/lib/python3.6/multiprocessing/connection.py\", line 368, in _send\n",
      "    n = write(self._handle, buf)\n",
      "BrokenPipeError: [Errno 32] Broken pipe\n",
      "  File \"/usr/lib/python3.6/multiprocessing/connection.py\", line 368, in _send\n",
      "    n = write(self._handle, buf)\n",
      "BrokenPipeError: [Errno 32] Broken pipe\n",
      "  File \"/usr/lib/python3.6/multiprocessing/queues.py\", line 240, in _feed\n",
      "    send_bytes(obj)\n",
      "  File \"/usr/lib/python3.6/multiprocessing/connection.py\", line 200, in send_bytes\n",
      "    self._send_bytes(m[offset:offset + size])\n",
      "  File \"/usr/lib/python3.6/multiprocessing/connection.py\", line 404, in _send_bytes\n",
      "    self._send(header + buf)\n",
      "  File \"/usr/lib/python3.6/multiprocessing/connection.py\", line 368, in _send\n",
      "    n = write(self._handle, buf)\n",
      "BrokenPipeError: [Errno 32] Broken pipe\n",
      "BrokenPipeError: [Errno 32] Broken pipe\n"
     ]
    },
    {
     "ename": "KeyboardInterrupt",
     "evalue": "",
     "output_type": "error",
     "traceback": [
      "\u001b[0;31m---------------------------------------------------------------------------\u001b[0m",
      "\u001b[0;31mKeyboardInterrupt\u001b[0m                         Traceback (most recent call last)",
      "\u001b[0;32m<ipython-input-4-6db58d709f49>\u001b[0m in \u001b[0;36m<module>\u001b[0;34m\u001b[0m\n\u001b[1;32m     36\u001b[0m \u001b[0;34m\u001b[0m\u001b[0m\n\u001b[1;32m     37\u001b[0m         \u001b[0moptimizer\u001b[0m\u001b[0;34m.\u001b[0m\u001b[0mstep\u001b[0m\u001b[0;34m(\u001b[0m\u001b[0;34m)\u001b[0m\u001b[0;34m\u001b[0m\u001b[0;34m\u001b[0m\u001b[0m\n\u001b[0;32m---> 38\u001b[0;31m         \u001b[0mcls_loss\u001b[0m \u001b[0;34m=\u001b[0m \u001b[0mround\u001b[0m\u001b[0;34m(\u001b[0m\u001b[0mfloat\u001b[0m\u001b[0;34m(\u001b[0m\u001b[0mtotal_cls_loss\u001b[0m\u001b[0;34m)\u001b[0m\u001b[0;34m,\u001b[0m \u001b[0;36m3\u001b[0m\u001b[0;34m)\u001b[0m\u001b[0;34m\u001b[0m\u001b[0;34m\u001b[0m\u001b[0m\n\u001b[0m\u001b[1;32m     39\u001b[0m         \u001b[0mloc_loss\u001b[0m \u001b[0;34m=\u001b[0m \u001b[0mround\u001b[0m\u001b[0;34m(\u001b[0m\u001b[0mfloat\u001b[0m\u001b[0;34m(\u001b[0m\u001b[0mtotal_loc_loss\u001b[0m\u001b[0;34m)\u001b[0m\u001b[0;34m,\u001b[0m \u001b[0;36m3\u001b[0m\u001b[0;34m)\u001b[0m\u001b[0;34m\u001b[0m\u001b[0;34m\u001b[0m\u001b[0m\n\u001b[1;32m     40\u001b[0m         \u001b[0mt_loss\u001b[0m \u001b[0;34m=\u001b[0m \u001b[0mround\u001b[0m\u001b[0;34m(\u001b[0m\u001b[0mfloat\u001b[0m\u001b[0;34m(\u001b[0m\u001b[0mtotal_loss\u001b[0m\u001b[0;34m)\u001b[0m\u001b[0;34m,\u001b[0m \u001b[0;36m3\u001b[0m\u001b[0;34m)\u001b[0m\u001b[0;34m\u001b[0m\u001b[0;34m\u001b[0m\u001b[0m\n",
      "\u001b[0;31mKeyboardInterrupt\u001b[0m: "
     ]
    }
   ],
   "source": [
    "prior_box = get_prior_box()\n",
    "loss_array = []\n",
    "val_array = []\n",
    "\n",
    "for epoch in range(num_epoch):\n",
    "    for i, batch in enumerate(trn_dataloader):\n",
    "\n",
    "        imgs, bboxes, labels = batch\n",
    "        imgs = imgs.to(device)\n",
    "        cls_preds, loc_preds = ssd_model(imgs)\n",
    "\n",
    "        ssd_model.zero_grad()\n",
    "\n",
    "        total_loss = 0\n",
    "        total_loc_loss, total_cls_loss = 0, 0\n",
    "\n",
    "        for idx in range(imgs.shape[0]):\n",
    "\n",
    "            img, bbox, label = imgs[idx], bboxes[idx], labels[idx]\n",
    "            cls_pred, loc_pred = cls_preds[idx], loc_preds[idx]\n",
    "            iou = get_iou(bbox, prior_box)\n",
    "\n",
    "            pos_mask, cls_target, bbox_target = get_target(iou, prior_box, img, bbox, label)\n",
    "            pos_mask, cls_target, bbox_target = pos_mask.to(device), cls_target.to(device), bbox_target.to(device)\n",
    "\n",
    "            loss_loc, loss_cls = loss(cls_pred, loc_pred, pos_mask, cls_target, bbox_target)\n",
    "            total_loc_loss += loss_loc; total_cls_loss += loss_cls\n",
    "\n",
    "            total_loss += (loss_cls + loss_loc)\n",
    "\n",
    "        total_loss /= float(imgs.shape[0])\n",
    "        total_cls_loss /= float(imgs.shape[0])\n",
    "        total_loc_loss /= float(imgs.shape[0])\n",
    "\n",
    "        total_loss.backward()\n",
    "\n",
    "        optimizer.step()\n",
    "        cls_loss = round(float(total_cls_loss), 3)\n",
    "        loc_loss = round(float(total_loc_loss), 3)\n",
    "        t_loss = round(float(total_loss), 3)\n",
    "        if i % 5 == 0:\n",
    "            print(i, 'cls_loss: {}, loc_loss: {}, loss: {}'.format(cls_loss, loc_loss, t_loss))\n",
    "        loss_array.append(t_loss)\n",
    "        \n",
    "    if (epoch) % 10 == 0:\n",
    "        torch.save(ssd_model.state_dict(), 'trained_{}_epoch'.format(i))\n",
    "        print('val--------------------------')\n",
    "        for val_i, batch in enumerate(val_dataloader):\n",
    "            imgs, bboxes, labels = batch\n",
    "            imgs = imgs.to(device)\n",
    "            cls_preds, loc_preds = ssd_model(imgs)\n",
    "\n",
    "            total_loss = 0\n",
    "            total_loc_loss, total_cls_loss = 0, 0\n",
    "\n",
    "            for idx in range(imgs.shape[0]):\n",
    "\n",
    "                img, bbox, label = imgs[idx], bboxes[idx], labels[idx]\n",
    "                cls_pred, loc_pred = cls_preds[idx], loc_preds[idx]\n",
    "                iou = get_iou(bbox, prior_box)\n",
    "\n",
    "                pos_mask, cls_target, bbox_target = get_target(iou, prior_box, img, bbox, label)\n",
    "                pos_mask, cls_target, bbox_target = pos_mask.to(device), cls_target.to(device), bbox_target.to(device)\n",
    "\n",
    "                loss_loc, loss_cls = loss(cls_pred, loc_pred, pos_mask, cls_target, bbox_target)\n",
    "                total_loc_loss += loss_loc; total_cls_loss += loss_cls\n",
    "\n",
    "                total_loss += (loss_cls + loss_loc)\n",
    "\n",
    "            total_loss /= float(imgs.shape[0])\n",
    "            total_cls_loss /= float(imgs.shape[0])\n",
    "            total_loc_loss /= float(imgs.shape[0])\n",
    "\n",
    "            cls_loss = round(float(total_cls_loss), 3)\n",
    "            loc_loss = round(float(total_loc_loss), 3)\n",
    "            t_loss = round(float(total_loss), 3)\n",
    "            if val_i % 5 == 0:\n",
    "                print(val_i, 'cls_loss: {}, loc_loss: {}, loss: {}'.format(cls_loss, loc_loss, t_loss))\n",
    "            val_array.append(t_loss)\n",
    "        print('val--------------------------')"
   ]
  },
  {
   "cell_type": "code",
   "execution_count": null,
   "metadata": {},
   "outputs": [],
   "source": []
  },
  {
   "cell_type": "code",
   "execution_count": null,
   "metadata": {},
   "outputs": [],
   "source": []
  },
  {
   "cell_type": "code",
   "execution_count": null,
   "metadata": {},
   "outputs": [],
   "source": []
  },
  {
   "cell_type": "code",
   "execution_count": null,
   "metadata": {},
   "outputs": [],
   "source": []
  },
  {
   "cell_type": "code",
   "execution_count": null,
   "metadata": {},
   "outputs": [],
   "source": []
  },
  {
   "cell_type": "code",
   "execution_count": null,
   "metadata": {},
   "outputs": [],
   "source": []
  },
  {
   "cell_type": "code",
   "execution_count": null,
   "metadata": {},
   "outputs": [],
   "source": []
  },
  {
   "cell_type": "code",
   "execution_count": null,
   "metadata": {},
   "outputs": [],
   "source": []
  },
  {
   "cell_type": "code",
   "execution_count": null,
   "metadata": {},
   "outputs": [],
   "source": []
  },
  {
   "cell_type": "code",
   "execution_count": 23,
   "metadata": {},
   "outputs": [
    {
     "data": {
      "text/plain": [
       "[<matplotlib.lines.Line2D at 0x7f6c8d264a20>]"
      ]
     },
     "execution_count": 23,
     "metadata": {},
     "output_type": "execute_result"
    },
    {
     "data": {
      "image/png": "[encoded data removed]",
      "text/plain": [
       "<Figure size 432x288 with 1 Axes>"
      ]
     },
     "metadata": {
      "needs_background": "light"
     },
     "output_type": "display_data"
    }
   ],
   "source": [
    "plt.plot(loss_array[400:])"
   ]
  },
  {
   "cell_type": "code",
   "execution_count": 33,
   "metadata": {},
   "outputs": [],
   "source": [
    "torch.save(ssd_model.state_dict(), '15_epoch_trained.pth')"
   ]
  },
  {
   "cell_type": "code",
   "execution_count": 34,
   "metadata": {},
   "outputs": [],
   "source": [
    "val_dataset = VOC_dataset(config.voc2007_root, config.voc2007_val_anno)\n",
    "val_dataloader = DataLoader(val_dataset, config.batch_size, shuffle=True, collate_fn=detection_collate_fn)"
   ]
  },
  {
   "cell_type": "code",
   "execution_count": 35,
   "metadata": {},
   "outputs": [
    {
     "name": "stderr",
     "output_type": "stream",
     "text": [
      "/home/kindeqi/.local/lib/python3.6/site-packages/torch/nn/_reduction.py:49: UserWarning: size_average and reduce args will be deprecated, please use reduction='none' instead.\n",
      "  warnings.warn(warning.format(ret))\n"
     ]
    },
    {
     "name": "stdout",
     "output_type": "stream",
     "text": [
      "0 cls_loss: 4.056, loc_loss: 1.733, loss: 5.788\n",
      "1 cls_loss: 4.025, loc_loss: 1.705, loss: 5.73\n",
      "2 cls_loss: 3.964, loc_loss: 1.726, loss: 5.69\n",
      "3 cls_loss: 4.181, loc_loss: 1.511, loss: 5.692\n",
      "4 cls_loss: 3.889, loc_loss: 2.152, loss: 6.041\n",
      "5 cls_loss: 3.845, loc_loss: 1.398, loss: 5.243\n",
      "6 cls_loss: 4.316, loc_loss: 1.651, loss: 5.967\n",
      "7 cls_loss: 4.207, loc_loss: 1.771, loss: 5.977\n",
      "8 cls_loss: 4.056, loc_loss: 1.793, loss: 5.849\n",
      "9 cls_loss: 4.15, loc_loss: 1.488, loss: 5.638\n",
      "10 cls_loss: 3.835, loc_loss: 1.804, loss: 5.638\n",
      "11 cls_loss: 3.93, loc_loss: 1.64, loss: 5.57\n",
      "12 cls_loss: 4.301, loc_loss: 1.641, loss: 5.942\n",
      "13 cls_loss: 4.363, loc_loss: 1.66, loss: 6.023\n",
      "14 cls_loss: 4.678, loc_loss: 1.968, loss: 6.645\n",
      "15 cls_loss: 4.577, loc_loss: 1.769, loss: 6.346\n",
      "16 cls_loss: 4.439, loc_loss: 1.533, loss: 5.972\n",
      "17 cls_loss: 4.008, loc_loss: 1.619, loss: 5.627\n",
      "18 cls_loss: 4.053, loc_loss: 1.665, loss: 5.718\n",
      "19 cls_loss: 4.302, loc_loss: 1.947, loss: 6.249\n",
      "20 cls_loss: 3.523, loc_loss: 1.543, loss: 5.067\n",
      "21 cls_loss: 3.834, loc_loss: 1.373, loss: 5.206\n",
      "22 cls_loss: 4.281, loc_loss: 1.974, loss: 6.255\n",
      "23 cls_loss: 3.931, loc_loss: 1.634, loss: 5.566\n",
      "24 cls_loss: 3.75, loc_loss: 1.496, loss: 5.246\n",
      "25 cls_loss: 4.114, loc_loss: 1.582, loss: 5.696\n",
      "26 cls_loss: 4.125, loc_loss: 1.714, loss: 5.839\n",
      "27 cls_loss: 4.186, loc_loss: 1.822, loss: 6.007\n",
      "28 cls_loss: 4.206, loc_loss: 1.712, loss: 5.918\n",
      "29 cls_loss: 3.669, loc_loss: 1.576, loss: 5.245\n",
      "30 cls_loss: 4.248, loc_loss: 1.723, loss: 5.971\n",
      "31 cls_loss: 4.172, loc_loss: 1.691, loss: 5.864\n",
      "32 cls_loss: 4.061, loc_loss: 1.914, loss: 5.975\n",
      "33 cls_loss: 4.257, loc_loss: 1.602, loss: 5.86\n",
      "34 cls_loss: 4.535, loc_loss: 1.826, loss: 6.361\n",
      "35 cls_loss: 4.179, loc_loss: 1.495, loss: 5.674\n",
      "36 cls_loss: 4.35, loc_loss: 1.582, loss: 5.932\n",
      "37 cls_loss: 4.052, loc_loss: 1.959, loss: 6.011\n",
      "38 cls_loss: 4.248, loc_loss: 1.803, loss: 6.051\n",
      "39 cls_loss: 3.886, loc_loss: 1.75, loss: 5.637\n"
     ]
    },
    {
     "ename": "KeyboardInterrupt",
     "evalue": "",
     "output_type": "error",
     "traceback": [
      "\u001b[0;31m---------------------------------------------------------------------------\u001b[0m",
      "\u001b[0;31mKeyboardInterrupt\u001b[0m                         Traceback (most recent call last)",
      "\u001b[0;32m<ipython-input-35-5b54de1f8877>\u001b[0m in \u001b[0;36m<module>\u001b[0;34m\u001b[0m\n\u001b[1;32m     14\u001b[0m \u001b[0;34m\u001b[0m\u001b[0m\n\u001b[1;32m     15\u001b[0m         \u001b[0mpos_mask\u001b[0m\u001b[0;34m,\u001b[0m \u001b[0mcls_target\u001b[0m\u001b[0;34m,\u001b[0m \u001b[0mbbox_target\u001b[0m \u001b[0;34m=\u001b[0m \u001b[0mget_target\u001b[0m\u001b[0;34m(\u001b[0m\u001b[0miou\u001b[0m\u001b[0;34m,\u001b[0m \u001b[0mprior_box\u001b[0m\u001b[0;34m,\u001b[0m \u001b[0mimg\u001b[0m\u001b[0;34m,\u001b[0m \u001b[0mbbox\u001b[0m\u001b[0;34m,\u001b[0m \u001b[0mlabel\u001b[0m\u001b[0;34m)\u001b[0m\u001b[0;34m\u001b[0m\u001b[0;34m\u001b[0m\u001b[0m\n\u001b[0;32m---> 16\u001b[0;31m         \u001b[0mpos_mask\u001b[0m\u001b[0;34m,\u001b[0m \u001b[0mcls_target\u001b[0m\u001b[0;34m,\u001b[0m \u001b[0mbbox_target\u001b[0m \u001b[0;34m=\u001b[0m \u001b[0mpos_mask\u001b[0m\u001b[0;34m.\u001b[0m\u001b[0mto\u001b[0m\u001b[0;34m(\u001b[0m\u001b[0mdevice\u001b[0m\u001b[0;34m)\u001b[0m\u001b[0;34m,\u001b[0m \u001b[0mcls_target\u001b[0m\u001b[0;34m.\u001b[0m\u001b[0mto\u001b[0m\u001b[0;34m(\u001b[0m\u001b[0mdevice\u001b[0m\u001b[0;34m)\u001b[0m\u001b[0;34m,\u001b[0m \u001b[0mbbox_target\u001b[0m\u001b[0;34m.\u001b[0m\u001b[0mto\u001b[0m\u001b[0;34m(\u001b[0m\u001b[0mdevice\u001b[0m\u001b[0;34m)\u001b[0m\u001b[0;34m\u001b[0m\u001b[0;34m\u001b[0m\u001b[0m\n\u001b[0m\u001b[1;32m     17\u001b[0m \u001b[0;34m\u001b[0m\u001b[0m\n\u001b[1;32m     18\u001b[0m         \u001b[0mloss_loc\u001b[0m\u001b[0;34m,\u001b[0m \u001b[0mloss_cls\u001b[0m \u001b[0;34m=\u001b[0m \u001b[0mloss\u001b[0m\u001b[0;34m(\u001b[0m\u001b[0mcls_pred\u001b[0m\u001b[0;34m,\u001b[0m \u001b[0mloc_pred\u001b[0m\u001b[0;34m,\u001b[0m \u001b[0mpos_mask\u001b[0m\u001b[0;34m,\u001b[0m \u001b[0mcls_target\u001b[0m\u001b[0;34m,\u001b[0m \u001b[0mbbox_target\u001b[0m\u001b[0;34m)\u001b[0m\u001b[0;34m\u001b[0m\u001b[0;34m\u001b[0m\u001b[0m\n",
      "\u001b[0;31mKeyboardInterrupt\u001b[0m: "
     ]
    }
   ],
   "source": [
    "val_loss = []\n",
    "for i, batch in enumerate(val_dataloader):\n",
    "    imgs, bboxes, labels = batch\n",
    "    imgs = imgs.to(device)\n",
    "    cls_preds, loc_preds = ssd_model(imgs)\n",
    "\n",
    "    total_loss = 0\n",
    "    total_loc_loss, total_cls_loss = 0, 0\n",
    "\n",
    "    for idx in range(imgs.shape[0]):\n",
    "        img, bbox, label = imgs[idx], bboxes[idx], labels[idx]\n",
    "        cls_pred, loc_pred = cls_preds[idx], loc_preds[idx]\n",
    "        iou = get_iou(bbox, prior_box)\n",
    "\n",
    "        pos_mask, cls_target, bbox_target = get_target(iou, prior_box, img, bbox, label)\n",
    "        pos_mask, cls_target, bbox_target = pos_mask.to(device), cls_target.to(device), bbox_target.to(device)\n",
    "\n",
    "        loss_loc, loss_cls = loss(cls_pred, loc_pred, pos_mask, cls_target, bbox_target)\n",
    "        total_loc_loss += loss_loc; total_cls_loss += loss_cls\n",
    "\n",
    "        total_loss += (loss_cls + loss_loc)\n",
    "\n",
    "    total_loss /= float(imgs.shape[0])\n",
    "    total_cls_loss /= float(imgs.shape[0])\n",
    "    total_loc_loss /= float(imgs.shape[0])\n",
    "\n",
    "    cls_loss = round(float(total_cls_loss), 3)\n",
    "    loc_loss = round(float(total_loc_loss), 3)\n",
    "    t_loss = round(float(total_loss), 3)\n",
    "    print(i, 'cls_loss: {}, loc_loss: {}, loss: {}'.format(cls_loss, loc_loss, t_loss))\n",
    "    val_loss.append(t_loss)"
   ]
  },
  {
   "cell_type": "code",
   "execution_count": 40,
   "metadata": {},
   "outputs": [
    {
     "data": {
      "text/plain": [
       "torch.Size([8732, 21])"
      ]
     },
     "execution_count": 40,
     "metadata": {},
     "output_type": "execute_result"
    }
   ],
   "source": [
    "cls_pred.shape"
   ]
  },
  {
   "cell_type": "code",
   "execution_count": 42,
   "metadata": {},
   "outputs": [
    {
     "data": {
      "text/plain": [
       "torch.Size([8732, 4])"
      ]
     },
     "execution_count": 42,
     "metadata": {},
     "output_type": "execute_result"
    }
   ],
   "source": [
    "loc_pred.shape"
   ]
  },
  {
   "cell_type": "code",
   "execution_count": 43,
   "metadata": {},
   "outputs": [
    {
     "data": {
      "text/plain": [
       "torch.Size([8732])"
      ]
     },
     "execution_count": 43,
     "metadata": {},
     "output_type": "execute_result"
    }
   ],
   "source": [
    "cls_target.shape"
   ]
  },
  {
   "cell_type": "code",
   "execution_count": 44,
   "metadata": {},
   "outputs": [
    {
     "data": {
      "text/plain": [
       "torch.Size([8732, 4])"
      ]
     },
     "execution_count": 44,
     "metadata": {},
     "output_type": "execute_result"
    }
   ],
   "source": [
    "bbox_target.shape"
   ]
  },
  {
   "cell_type": "code",
   "execution_count": 46,
   "metadata": {},
   "outputs": [
    {
     "data": {
      "text/plain": [
       "tensor(25)"
      ]
     },
     "execution_count": 46,
     "metadata": {},
     "output_type": "execute_result"
    }
   ],
   "source": [
    "torch.sum(pos_mask)"
   ]
  },
  {
   "cell_type": "code",
   "execution_count": 48,
   "metadata": {},
   "outputs": [
    {
     "data": {
      "text/plain": [
       "torch.Size([3, 300, 300])"
      ]
     },
     "execution_count": 48,
     "metadata": {},
     "output_type": "execute_result"
    }
   ],
   "source": [
    "img.shape"
   ]
  },
  {
   "cell_type": "code",
   "execution_count": 52,
   "metadata": {},
   "outputs": [
    {
     "data": {
      "text/plain": [
       "array([[155.97346, 102.21465, 230.6416 , 211.58432],\n",
       "       [194.80089,  68.99489, 225.33186, 119.08006],\n",
       "       [240.92921,  95.5707 , 252.54425, 110.39182]], dtype=float32)"
      ]
     },
     "execution_count": 52,
     "metadata": {},
     "output_type": "execute_result"
    }
   ],
   "source": [
    "bbox * 300"
   ]
  },
  {
   "cell_type": "code",
   "execution_count": 50,
   "metadata": {},
   "outputs": [
    {
     "data": {
      "text/plain": [
       "array([ 9, 20, 20], dtype=int32)"
      ]
     },
     "execution_count": 50,
     "metadata": {},
     "output_type": "execute_result"
    }
   ],
   "source": [
    "label"
   ]
  },
  {
   "cell_type": "code",
   "execution_count": 55,
   "metadata": {},
   "outputs": [
    {
     "data": {
      "text/plain": [
       "torch.Size([25, 21])"
      ]
     },
     "execution_count": 55,
     "metadata": {},
     "output_type": "execute_result"
    }
   ],
   "source": [
    "cls_pred[pos_mask].shape"
   ]
  },
  {
   "cell_type": "code",
   "execution_count": 61,
   "metadata": {},
   "outputs": [
    {
     "name": "stderr",
     "output_type": "stream",
     "text": [
      "/home/kindeqi/.local/lib/python3.6/site-packages/ipykernel_launcher.py:1: UserWarning: Implicit dimension choice for softmax has been deprecated. Change the call to include dim=X as an argument.\n",
      "  \"\"\"Entry point for launching an IPython kernel.\n"
     ]
    },
    {
     "data": {
      "text/plain": [
       "tensor([[9.497e-01, 6.597e-05, 4.108e-05, 9.619e-05, 6.770e-04, 3.989e-04,\n",
       "         6.021e-04, 8.281e-04, 3.700e-04, 2.260e-03, 6.142e-04, 1.350e-04,\n",
       "         2.587e-04, 7.750e-05, 3.422e-04, 1.830e-03, 2.164e-03, 2.903e-04,\n",
       "         5.898e-04, 5.892e-03, 3.278e-02],\n",
       "        [7.778e-01, 1.712e-04, 9.319e-05, 9.685e-05, 2.463e-03, 4.067e-03,\n",
       "         2.084e-02, 5.992e-03, 6.644e-04, 1.338e-02, 3.573e-04, 2.310e-03,\n",
       "         6.033e-05, 2.790e-04, 2.642e-04, 6.452e-03, 5.910e-03, 5.732e-04,\n",
       "         5.215e-03, 4.034e-03, 1.490e-01],\n",
       "        [9.270e-01, 8.006e-05, 4.536e-05, 1.427e-04, 3.978e-04, 6.646e-04,\n",
       "         1.125e-03, 1.525e-03, 2.013e-04, 8.571e-03, 4.919e-04, 2.419e-04,\n",
       "         3.922e-04, 1.477e-04, 3.927e-04, 1.529e-03, 2.705e-03, 1.841e-04,\n",
       "         2.371e-03, 1.220e-02, 3.957e-02],\n",
       "        [6.063e-01, 1.917e-04, 9.106e-05, 1.215e-04, 2.161e-03, 3.796e-03,\n",
       "         5.781e-02, 8.417e-03, 1.113e-03, 3.391e-02, 3.055e-04, 1.453e-03,\n",
       "         6.821e-05, 3.279e-04, 3.720e-04, 4.023e-03, 5.893e-03, 1.214e-03,\n",
       "         2.949e-03, 7.054e-03, 2.624e-01],\n",
       "        [8.808e-01, 1.454e-04, 1.013e-04, 1.901e-04, 1.370e-03, 4.492e-03,\n",
       "         3.886e-03, 5.340e-03, 4.811e-04, 1.014e-02, 1.125e-04, 1.034e-04,\n",
       "         1.115e-03, 2.819e-04, 1.596e-04, 3.053e-03, 9.316e-03, 1.155e-03,\n",
       "         1.124e-03, 4.033e-03, 7.256e-02],\n",
       "        [8.572e-01, 3.655e-04, 2.261e-04, 2.354e-04, 4.112e-03, 2.412e-03,\n",
       "         1.659e-02, 5.559e-03, 7.400e-04, 3.881e-02, 8.297e-04, 3.422e-03,\n",
       "         3.575e-04, 6.100e-04, 4.094e-04, 4.559e-03, 1.114e-02, 1.336e-03,\n",
       "         3.373e-03, 8.676e-03, 3.907e-02],\n",
       "        [8.768e-01, 4.265e-04, 1.871e-04, 8.066e-05, 3.056e-03, 2.602e-03,\n",
       "         1.499e-02, 9.872e-03, 4.245e-04, 1.148e-02, 2.007e-04, 1.580e-03,\n",
       "         1.000e-04, 2.739e-04, 2.528e-04, 6.026e-03, 3.442e-03, 1.612e-04,\n",
       "         2.979e-03, 3.488e-03, 6.161e-02],\n",
       "        [8.964e-01, 1.285e-04, 2.685e-04, 2.760e-04, 8.560e-04, 1.772e-03,\n",
       "         2.602e-03, 2.380e-03, 1.952e-04, 2.601e-02, 4.618e-04, 3.666e-04,\n",
       "         1.074e-03, 3.493e-04, 3.738e-04, 1.667e-03, 7.249e-03, 2.028e-04,\n",
       "         4.062e-03, 8.734e-03, 4.456e-02],\n",
       "        [8.023e-01, 4.367e-04, 1.317e-04, 6.237e-05, 2.577e-03, 1.711e-03,\n",
       "         3.225e-02, 1.130e-02, 4.968e-04, 1.991e-02, 3.082e-04, 1.613e-03,\n",
       "         9.063e-05, 4.220e-04, 3.507e-04, 3.324e-03, 2.350e-03, 3.743e-04,\n",
       "         2.020e-03, 5.316e-03, 1.127e-01],\n",
       "        [8.981e-01, 2.187e-04, 2.258e-04, 1.334e-04, 2.847e-03, 4.548e-03,\n",
       "         5.636e-03, 6.462e-03, 5.411e-04, 1.616e-02, 2.287e-04, 3.307e-04,\n",
       "         1.706e-03, 2.900e-04, 5.530e-04, 8.971e-03, 1.149e-02, 9.770e-04,\n",
       "         1.615e-03, 7.004e-03, 3.194e-02],\n",
       "        [8.742e-01, 7.381e-04, 5.214e-04, 2.265e-04, 5.182e-03, 1.504e-03,\n",
       "         1.660e-02, 9.277e-03, 4.589e-04, 2.880e-02, 8.647e-04, 3.416e-03,\n",
       "         4.404e-04, 8.959e-04, 4.272e-04, 4.809e-03, 5.195e-03, 5.374e-04,\n",
       "         2.389e-03, 5.685e-03, 3.785e-02],\n",
       "        [9.141e-01, 5.522e-04, 3.582e-04, 4.984e-04, 6.649e-03, 1.139e-02,\n",
       "         7.960e-04, 6.715e-03, 6.556e-04, 4.264e-03, 9.844e-04, 3.905e-04,\n",
       "         8.544e-04, 5.599e-04, 7.848e-04, 3.059e-02, 1.579e-02, 7.873e-04,\n",
       "         2.198e-04, 5.953e-04, 2.436e-03],\n",
       "        [8.028e-01, 3.288e-03, 1.275e-02, 8.168e-04, 1.346e-02, 3.978e-03,\n",
       "         1.048e-02, 2.054e-02, 6.234e-04, 4.102e-02, 1.712e-03, 9.466e-03,\n",
       "         1.423e-03, 2.191e-03, 9.390e-03, 6.292e-03, 1.077e-02, 1.766e-03,\n",
       "         2.143e-02, 7.397e-03, 1.838e-02],\n",
       "        [7.474e-01, 2.590e-03, 1.830e-02, 1.253e-03, 6.071e-03, 5.673e-03,\n",
       "         5.218e-03, 1.968e-02, 8.524e-04, 7.001e-02, 2.406e-03, 1.178e-02,\n",
       "         2.776e-03, 6.279e-03, 2.502e-02, 1.827e-02, 9.388e-03, 2.816e-03,\n",
       "         3.242e-02, 3.504e-03, 8.341e-03],\n",
       "        [6.695e-01, 3.781e-03, 2.595e-02, 1.573e-03, 7.576e-03, 5.605e-03,\n",
       "         9.662e-03, 3.744e-02, 1.309e-03, 8.749e-02, 2.766e-03, 2.183e-02,\n",
       "         3.096e-03, 5.625e-03, 3.430e-02, 1.352e-02, 9.285e-03, 3.549e-03,\n",
       "         4.270e-02, 4.635e-03, 8.761e-03],\n",
       "        [8.012e-01, 1.794e-03, 1.943e-02, 8.682e-04, 3.054e-03, 4.230e-03,\n",
       "         3.344e-03, 1.430e-02, 7.083e-04, 6.189e-02, 1.090e-03, 1.278e-02,\n",
       "         1.832e-03, 4.207e-03, 1.747e-02, 1.333e-02, 3.760e-03, 1.922e-03,\n",
       "         2.724e-02, 1.820e-03, 3.714e-03],\n",
       "        [6.884e-01, 2.989e-03, 2.534e-02, 1.597e-03, 3.705e-03, 4.762e-03,\n",
       "         5.212e-03, 4.049e-02, 1.674e-03, 8.408e-02, 1.884e-03, 2.551e-02,\n",
       "         2.945e-03, 5.951e-03, 3.796e-02, 1.281e-02, 4.173e-03, 2.276e-03,\n",
       "         4.164e-02, 2.833e-03, 3.773e-03],\n",
       "        [8.597e-01, 1.360e-03, 1.383e-02, 1.017e-03, 1.968e-03, 2.005e-03,\n",
       "         1.760e-03, 1.131e-02, 9.805e-04, 3.551e-02, 9.639e-04, 1.488e-02,\n",
       "         1.516e-03, 3.543e-03, 1.128e-02, 4.846e-03, 2.045e-03, 1.343e-03,\n",
       "         2.751e-02, 1.358e-03, 1.261e-03],\n",
       "        [6.726e-01, 1.511e-02, 3.257e-02, 1.122e-02, 2.189e-02, 1.818e-02,\n",
       "         1.517e-02, 1.746e-02, 6.242e-03, 3.659e-02, 1.504e-02, 1.207e-03,\n",
       "         4.482e-03, 1.197e-02, 1.358e-02, 2.041e-02, 2.059e-02, 4.014e-03,\n",
       "         1.222e-02, 2.902e-02, 2.046e-02],\n",
       "        [8.126e-01, 1.504e-03, 3.593e-03, 5.924e-03, 6.994e-03, 2.940e-02,\n",
       "         8.638e-04, 4.832e-03, 5.319e-03, 2.805e-02, 7.520e-03, 5.336e-04,\n",
       "         5.107e-03, 1.271e-02, 1.250e-02, 2.191e-02, 1.911e-02, 3.323e-03,\n",
       "         4.749e-03, 3.270e-03, 1.024e-02],\n",
       "        [7.570e-01, 1.053e-02, 2.947e-02, 4.484e-03, 1.185e-02, 2.551e-03,\n",
       "         2.541e-02, 6.754e-03, 3.007e-03, 2.246e-02, 3.970e-03, 6.537e-03,\n",
       "         5.483e-03, 1.088e-02, 1.490e-02, 1.068e-02, 2.046e-02, 3.010e-03,\n",
       "         2.589e-02, 1.512e-02, 9.570e-03],\n",
       "        [8.286e-01, 3.385e-03, 2.439e-02, 8.121e-03, 5.167e-03, 4.013e-03,\n",
       "         4.671e-03, 1.343e-02, 2.233e-03, 2.037e-02, 1.460e-02, 4.963e-04,\n",
       "         3.121e-03, 7.239e-03, 1.173e-02, 1.627e-02, 1.024e-02, 2.689e-03,\n",
       "         5.595e-03, 7.948e-03, 5.700e-03],\n",
       "        [9.020e-01, 8.416e-04, 3.634e-03, 4.403e-03, 4.402e-03, 7.228e-03,\n",
       "         3.947e-04, 3.216e-03, 3.033e-03, 2.037e-02, 3.178e-03, 2.508e-04,\n",
       "         3.344e-03, 7.986e-03, 3.539e-03, 1.394e-02, 1.019e-02, 2.273e-03,\n",
       "         1.472e-03, 1.449e-03, 2.863e-03],\n",
       "        [9.236e-01, 8.844e-04, 7.702e-03, 3.119e-03, 1.143e-03, 1.859e-03,\n",
       "         1.472e-03, 3.852e-03, 1.351e-03, 1.112e-02, 6.563e-03, 1.751e-04,\n",
       "         1.174e-03, 4.352e-03, 5.168e-03, 5.868e-03, 8.773e-03, 2.097e-03,\n",
       "         3.698e-03, 2.879e-03, 3.174e-03],\n",
       "        [9.623e-01, 2.706e-04, 1.462e-03, 1.208e-03, 1.583e-03, 2.883e-03,\n",
       "         2.157e-04, 1.636e-03, 1.713e-03, 6.702e-03, 1.406e-03, 7.866e-05,\n",
       "         1.598e-03, 2.682e-03, 8.409e-04, 6.349e-03, 3.554e-03, 1.043e-03,\n",
       "         6.200e-04, 5.852e-04, 1.318e-03]], device='cuda:0',\n",
       "       grad_fn=<SoftmaxBackward>)"
      ]
     },
     "execution_count": 61,
     "metadata": {},
     "output_type": "execute_result"
    }
   ],
   "source": [
    "F.softmax(cls_pred[pos_mask])"
   ]
  },
  {
   "cell_type": "code",
   "execution_count": 70,
   "metadata": {},
   "outputs": [
    {
     "name": "stderr",
     "output_type": "stream",
     "text": [
      "/home/kindeqi/.local/lib/python3.6/site-packages/ipykernel_launcher.py:1: UserWarning: Implicit dimension choice for softmax has been deprecated. Change the call to include dim=X as an argument.\n",
      "  \"\"\"Entry point for launching an IPython kernel.\n"
     ]
    },
    {
     "data": {
      "text/plain": [
       "tensor(92962, device='cuda:0')"
      ]
     },
     "execution_count": 70,
     "metadata": {},
     "output_type": "execute_result"
    }
   ],
   "source": [
    "torch.sum(torch.sort(F.softmax(cls_pred), dim=1, descending=True)[1][:, :2])"
   ]
  },
  {
   "cell_type": "code",
   "execution_count": 66,
   "metadata": {},
   "outputs": [
    {
     "name": "stderr",
     "output_type": "stream",
     "text": [
      "/home/kindeqi/.local/lib/python3.6/site-packages/ipykernel_launcher.py:1: UserWarning: Implicit dimension choice for softmax has been deprecated. Change the call to include dim=X as an argument.\n",
      "  \"\"\"Entry point for launching an IPython kernel.\n"
     ]
    },
    {
     "data": {
      "text/plain": [
       "tensor([[0.950, 0.033, 0.006, 0.002],\n",
       "        [0.778, 0.149, 0.021, 0.013],\n",
       "        [0.927, 0.040, 0.012, 0.009],\n",
       "        [0.606, 0.262, 0.058, 0.034],\n",
       "        [0.881, 0.073, 0.010, 0.009],\n",
       "        [0.857, 0.039, 0.039, 0.017],\n",
       "        [0.877, 0.062, 0.015, 0.011],\n",
       "        [0.896, 0.045, 0.026, 0.009],\n",
       "        [0.802, 0.113, 0.032, 0.020],\n",
       "        [0.898, 0.032, 0.016, 0.011],\n",
       "        [0.874, 0.038, 0.029, 0.017],\n",
       "        [0.914, 0.031, 0.016, 0.011],\n",
       "        [0.803, 0.041, 0.021, 0.021],\n",
       "        [0.747, 0.070, 0.032, 0.025],\n",
       "        [0.670, 0.087, 0.043, 0.037],\n",
       "        [0.801, 0.062, 0.027, 0.019],\n",
       "        [0.688, 0.084, 0.042, 0.040],\n",
       "        [0.860, 0.036, 0.028, 0.015],\n",
       "        [0.673, 0.037, 0.033, 0.029],\n",
       "        [0.813, 0.029, 0.028, 0.022],\n",
       "        [0.757, 0.029, 0.026, 0.025],\n",
       "        [0.829, 0.024, 0.020, 0.016],\n",
       "        [0.902, 0.020, 0.014, 0.010],\n",
       "        [0.924, 0.011, 0.009, 0.008],\n",
       "        [0.962, 0.007, 0.006, 0.004]], device='cuda:0',\n",
       "       grad_fn=<SliceBackward>)"
      ]
     },
     "execution_count": 66,
     "metadata": {},
     "output_type": "execute_result"
    }
   ],
   "source": [
    "torch.sort(F.softmax(cls_pred[pos_mask]), dim=1, descending=True)[0][:, :4]"
   ]
  },
  {
   "cell_type": "code",
   "execution_count": 75,
   "metadata": {},
   "outputs": [
    {
     "data": {
      "text/plain": [
       "tensor(0.498, device='cuda:0', grad_fn=<MeanBackward1>)"
      ]
     },
     "execution_count": 75,
     "metadata": {},
     "output_type": "execute_result"
    }
   ],
   "source": [
    "torch.mean(ssd_model.base_net[0].bias)"
   ]
  },
  {
   "cell_type": "code",
   "execution_count": 111,
   "metadata": {},
   "outputs": [
    {
     "data": {
      "text/plain": [
       "tensor(0.326, device='cuda:0', grad_fn=<StdBackward0>)"
      ]
     },
     "execution_count": 111,
     "metadata": {},
     "output_type": "execute_result"
    }
   ],
   "source": [
    "torch.std(ssd_model.base_net[0].bias, unbiased=False)"
   ]
  },
  {
   "cell_type": "code",
   "execution_count": 140,
   "metadata": {},
   "outputs": [
    {
     "data": {
      "text/plain": [
       "array([[-0.00411294],\n",
       "       [-0.00409996],\n",
       "       [-0.00284778],\n",
       "       ...,\n",
       "       [ 0.0009375 ],\n",
       "       [ 0.0123158 ],\n",
       "       [ 0.01456793]], dtype=float32)"
      ]
     },
     "execution_count": 140,
     "metadata": {},
     "output_type": "execute_result"
    }
   ],
   "source": [
    "t"
   ]
  },
  {
   "cell_type": "code",
   "execution_count": 164,
   "metadata": {},
   "outputs": [],
   "source": [
    "original_state_dict = torch.load(config.vgg_reduced_weight_path)"
   ]
  },
  {
   "cell_type": "code",
   "execution_count": 165,
   "metadata": {},
   "outputs": [],
   "source": [
    "trained_state_dict = torch.load(config.trained_path)"
   ]
  },
  {
   "cell_type": "code",
   "execution_count": 166,
   "metadata": {},
   "outputs": [],
   "source": [
    "my_state_dict = torch.load('./15_epoch_trained.pth')"
   ]
  },
  {
   "cell_type": "code",
   "execution_count": 172,
   "metadata": {
    "scrolled": true
   },
   "outputs": [
    {
     "name": "stdout",
     "output_type": "stream",
     "text": [
      "vgg.0.weight\n",
      "vgg.0.bias\n",
      "vgg.2.weight\n",
      "vgg.2.bias\n",
      "vgg.5.weight\n",
      "vgg.5.bias\n",
      "vgg.7.weight\n",
      "vgg.7.bias\n",
      "vgg.10.weight\n",
      "vgg.10.bias\n",
      "vgg.12.weight\n",
      "vgg.12.bias\n",
      "vgg.14.weight\n",
      "vgg.14.bias\n",
      "vgg.17.weight\n",
      "vgg.17.bias\n",
      "vgg.19.weight\n",
      "vgg.19.bias\n",
      "vgg.21.weight\n",
      "vgg.21.bias\n",
      "vgg.24.weight\n",
      "vgg.24.bias\n",
      "vgg.26.weight\n",
      "vgg.26.bias\n",
      "vgg.28.weight\n",
      "vgg.28.bias\n",
      "vgg.31.weight\n",
      "vgg.31.bias\n",
      "vgg.33.weight\n",
      "vgg.33.bias\n",
      "L2Norm.weight\n",
      "extras.0.weight\n",
      "extras.0.bias\n",
      "extras.1.weight\n",
      "extras.1.bias\n",
      "extras.2.weight\n",
      "extras.2.bias\n",
      "extras.3.weight\n",
      "extras.3.bias\n",
      "extras.4.weight\n",
      "extras.4.bias\n",
      "extras.5.weight\n",
      "extras.5.bias\n",
      "extras.6.weight\n",
      "extras.6.bias\n",
      "extras.7.weight\n",
      "extras.7.bias\n",
      "loc.0.weight\n",
      "loc.0.bias\n",
      "loc.1.weight\n",
      "loc.1.bias\n",
      "loc.2.weight\n",
      "loc.2.bias\n",
      "loc.3.weight\n",
      "loc.3.bias\n",
      "loc.4.weight\n",
      "loc.4.bias\n",
      "loc.5.weight\n",
      "loc.5.bias\n",
      "conf.0.weight\n",
      "conf.0.bias\n",
      "conf.1.weight\n",
      "conf.1.bias\n",
      "conf.2.weight\n",
      "conf.2.bias\n",
      "conf.3.weight\n",
      "conf.3.bias\n",
      "conf.4.weight\n",
      "conf.4.bias\n",
      "conf.5.weight\n",
      "conf.5.bias\n"
     ]
    }
   ],
   "source": [
    "for k in trained_state_dict:\n",
    "    print(k)"
   ]
  },
  {
   "cell_type": "code",
   "execution_count": 177,
   "metadata": {},
   "outputs": [
    {
     "name": "stdout",
     "output_type": "stream",
     "text": [
      "layer: base_net.0.weight    mean: 0.0, std: -0.014\n",
      "layer: base_net.0.bias      mean: -0.152, std: -0.102\n",
      "layer: base_net.2.weight    mean: -0.003, std: -0.003\n",
      "layer: base_net.2.bias      mean: -0.018, std: -0.108\n",
      "layer: base_net.5.weight    mean: -0.001, std: 0.0\n",
      "layer: base_net.5.bias      mean: -0.036, std: -0.039\n",
      "layer: base_net.7.weight    mean: 0.0, std: 0.001\n",
      "layer: base_net.7.bias      mean: -0.005, std: -0.062\n",
      "layer: base_net.10.weight   mean: -0.001, std: 0.001\n",
      "layer: base_net.10.bias     mean: -0.005, std: -0.023\n",
      "layer: base_net.12.weight   mean: -0.001, std: 0.001\n",
      "layer: base_net.12.bias     mean: -0.012, std: -0.025\n",
      "layer: base_net.14.weight   mean: 0.0, std: 0.001\n",
      "layer: base_net.14.bias     mean: -0.008, std: -0.027\n",
      "layer: base_net.17.weight   mean: 0.0, std: 0.002\n",
      "layer: base_net.17.bias     mean: -0.006, std: -0.017\n",
      "layer: base_net.19.weight   mean: 0.0, std: 0.001\n",
      "layer: base_net.19.bias     mean: -0.01, std: -0.014\n",
      "layer: base_net.21.weight   mean: 0.0, std: 0.001\n",
      "layer: base_net.21.bias     mean: -0.01, std: -0.022\n",
      "layer: base_net.24.weight   mean: 0.0, std: 0.0\n",
      "layer: base_net.24.bias     mean: -0.014, std: -0.043\n",
      "layer: base_net.26.weight   mean: 0.0, std: 0.0\n",
      "layer: base_net.26.bias     mean: -0.016, std: -0.069\n",
      "layer: base_net.28.weight   mean: 0.0, std: 0.0\n",
      "layer: base_net.28.bias     mean: -0.048, std: -0.16\n",
      "layer: reduced_fc.1.weight  mean: 0.0, std: 0.004\n",
      "layer: reduced_fc.1.bias    mean: -0.027, std: -0.06\n",
      "layer: reduced_fc.3.weight  mean: 0.0, std: 0.003\n",
      "layer: reduced_fc.3.bias    mean: -0.16, std: -0.045\n",
      "layer: extra.0.weight       mean: 13.253, std: -0.04\n",
      "layer: extra.0.bias         mean: 0.0, std: 0.026\n",
      "layer: extra.1.weight       mean: 0.013, std: -0.014\n",
      "layer: extra.1.bias         mean: -0.001, std: 0.01\n",
      "layer: extra.2.weight       mean: 0.007, std: -0.052\n",
      "layer: extra.2.bias         mean: 0.0, std: 0.036\n",
      "layer: extra.3.weight       mean: 0.01, std: -0.031\n",
      "layer: extra.3.bias         mean: -0.001, std: 0.015\n",
      "layer: extra.4.weight       mean: 0.002, std: -0.082\n",
      "layer: extra.4.bias         mean: 0.001, std: 0.048\n",
      "layer: extra.5.weight       mean: 0.004, std: -0.036\n",
      "layer: extra.5.bias         mean: 0.0, std: 0.015\n",
      "layer: extra.6.weight       mean: 0.001, std: -0.084\n",
      "layer: extra.6.bias         mean: 0.003, std: 0.049\n",
      "layer: extra.7.weight       mean: 0.002, std: -0.039\n",
      "layer: extra.7.bias         mean: 0.001, std: 0.016\n",
      "layer: conf_layers.0.weight mean: 0.0, std: -0.019\n",
      "layer: conf_layers.0.bias   mean: 0.0, std: 0.005\n",
      "layer: conf_layers.1.weight mean: -0.002, std: -0.006\n",
      "layer: conf_layers.1.bias   mean: -0.0, std: 0.006\n",
      "layer: conf_layers.2.weight mean: 0.004, std: -0.008\n",
      "layer: conf_layers.2.bias   mean: -0.0, std: 0.006\n",
      "layer: conf_layers.3.weight mean: 0.004, std: -0.015\n",
      "layer: conf_layers.3.bias   mean: 0.0, std: 0.007\n",
      "layer: conf_layers.4.weight mean: 0.001, std: -0.02\n",
      "layer: conf_layers.4.bias   mean: -0.0, std: 0.01\n",
      "layer: conf_layers.5.weight mean: -0.002, std: -0.02\n",
      "layer: conf_layers.5.bias   mean: 0.0, std: 0.016\n",
      "layer: loc_layers.0.weight  mean: 0.005, std: -0.004\n",
      "layer: loc_layers.0.bias    mean: 0.001, std: 0.014\n",
      "layer: loc_layers.1.weight  mean: 0.0, std: 0.038\n",
      "layer: loc_layers.1.bias    mean: -0.0, std: 0.01\n",
      "layer: loc_layers.2.weight  mean: 0.0, std: 0.001\n",
      "layer: loc_layers.2.bias    mean: 0.0, std: 0.013\n",
      "layer: loc_layers.3.weight  mean: 0.0, std: -0.014\n",
      "layer: loc_layers.3.bias    mean: 0.0, std: 0.017\n",
      "layer: loc_layers.4.weight  mean: 0.0, std: -0.017\n",
      "layer: loc_layers.4.bias    mean: -0.0, std: 0.015\n",
      "layer: loc_layers.5.weight  mean: 0.0, std: -0.014\n",
      "layer: loc_layers.5.bias    mean: -0.002, std: 0.013\n",
      "layer: l2_norm.weight       mean: -19.874, std: 0.001\n"
     ]
    }
   ],
   "source": [
    "for k_trained, k_my in zip(trained_state_dict, my_state_dict):\n",
    "    mean1 = round(float(torch.mean(trained_state_dict[k_trained])), 3)\n",
    "    std1 = round(float(torch.std(trained_state_dict[k_trained], unbiased=False)), 3)\n",
    "    \n",
    "    mean2 = round(float(torch.mean(my_state_dict[k_my])), 3)\n",
    "    std2 = round(float(torch.std(my_state_dict[k_my], unbiased=False)), 3)\n",
    "#     print('layer: {:20} mean: {} vs {}, std: {} vs {}'.format(k_my, mean1, mean2, std1, std2))\n",
    "    print('layer: {:20} mean: {}, std: {}'.format(k_my, round(mean1 - mean2, 4), round(std1 - std2, 4)))"
   ]
  },
  {
   "cell_type": "code",
   "execution_count": 153,
   "metadata": {},
   "outputs": [
    {
     "name": "stdout",
     "output_type": "stream",
     "text": [
      "layer: 0.weight                       mean: -0.002, std: 0.207\n",
      "layer: 0.bias                         mean: 0.501, std: 0.328\n",
      "layer: 2.weight                       mean: 0.005, std: 0.042\n",
      "layer: 2.bias                         mean: 0.059, std: 0.335\n",
      "layer: 5.weight                       mean: 0.0, std: 0.032\n",
      "layer: 5.bias                         mean: 0.111, std: 0.122\n",
      "layer: 7.weight                       mean: -0.0, std: 0.024\n",
      "layer: 7.bias                         mean: 0.016, std: 0.189\n",
      "layer: 10.weight                      mean: -0.0, std: 0.017\n",
      "layer: 10.bias                        mean: 0.017, std: 0.071\n",
      "layer: 12.weight                      mean: -0.0, std: 0.012\n",
      "layer: 12.bias                        mean: 0.036, std: 0.076\n",
      "layer: 14.weight                      mean: -0.001, std: 0.013\n",
      "layer: 14.bias                        mean: 0.026, std: 0.083\n",
      "layer: 17.weight                      mean: -0.0, std: 0.01\n",
      "layer: 17.bias                        mean: 0.02, std: 0.054\n",
      "layer: 19.weight                      mean: -0.0, std: 0.008\n",
      "layer: 19.bias                        mean: 0.03, std: 0.044\n",
      "layer: 21.weight                      mean: -0.001, std: 0.008\n",
      "layer: 21.bias                        mean: 0.032, std: 0.068\n",
      "layer: 24.weight                      mean: -0.001, std: 0.009\n",
      "layer: 24.bias                        mean: 0.046, std: 0.131\n",
      "layer: 26.weight                      mean: -0.001, std: 0.009\n",
      "layer: 26.bias                        mean: 0.05, std: 0.213\n",
      "layer: 28.weight                      mean: -0.001, std: 0.008\n",
      "layer: 28.bias                        mean: 0.15, std: 0.493\n",
      "layer: 31.weight                      mean: -0.0, std: 0.002\n",
      "layer: 31.bias                        mean: 0.081, std: 0.188\n",
      "layer: 33.weight                      mean: -0.0, std: 0.004\n",
      "layer: 33.bias                        mean: 0.508, std: 0.149\n"
     ]
    }
   ],
   "source": [
    "for k in original_state_dict:\n",
    "    mean = round(float(torch.mean(original_state_dict[k])), 3)\n",
    "    std = round(float(torch.std(original_state_dict[k], unbiased=False)), 3)\n",
    "    print('layer: {:30s} mean: {}, std: {}'.format(k, mean, std))"
   ]
  },
  {
   "cell_type": "code",
   "execution_count": 173,
   "metadata": {},
   "outputs": [
    {
     "data": {
      "text/plain": [
       "(array([  3.,   2.,   0.,   2.,   4.,  18.,  30., 150., 294.,   9.]),\n",
       " array([13.226197 , 13.229576 , 13.232956 , 13.236336 , 13.239715 ,\n",
       "        13.2430935, 13.246473 , 13.249853 , 13.253232 , 13.256611 ,\n",
       "        13.259991 ], dtype=float32),\n",
       " <a list of 10 Patch objects>)"
      ]
     },
     "execution_count": 173,
     "metadata": {},
     "output_type": "execute_result"
    },
    {
     "data": {
      "image/png": "[encoded data removed]",
      "text/plain": [
       "<Figure size 432x288 with 1 Axes>"
      ]
     },
     "metadata": {
      "needs_background": "light"
     },
     "output_type": "display_data"
    }
   ],
   "source": [
    "t = np.array(trained_state_dict['L2Norm.weight'].cpu().reshape(-1, 1))\n",
    "\n",
    "plt.hist(t)"
   ]
  },
  {
   "cell_type": "code",
   "execution_count": 128,
   "metadata": {},
   "outputs": [
    {
     "name": "stdout",
     "output_type": "stream",
     "text": [
      "layer: base_net.0.weight              mean: -0.004, std: 0.205\n",
      "layer: base_net.0.bias                mean: 0.498, std: 0.326\n",
      "layer: base_net.2.weight              mean: 0.005, std: 0.042\n",
      "layer: base_net.2.bias                mean: 0.058, std: 0.333\n",
      "layer: base_net.5.weight              mean: -0.0, std: 0.032\n",
      "layer: base_net.5.bias                mean: 0.11, std: 0.121\n",
      "layer: base_net.7.weight              mean: -0.001, std: 0.023\n",
      "layer: base_net.7.bias                mean: 0.016, std: 0.188\n",
      "layer: base_net.10.weight             mean: -0.0, std: 0.017\n",
      "layer: base_net.10.bias               mean: 0.017, std: 0.07\n",
      "layer: base_net.12.weight             mean: -0.0, std: 0.012\n",
      "layer: base_net.12.bias               mean: 0.036, std: 0.076\n",
      "layer: base_net.14.weight             mean: -0.001, std: 0.013\n",
      "layer: base_net.14.bias               mean: 0.026, std: 0.083\n",
      "layer: base_net.17.weight             mean: -0.001, std: 0.01\n",
      "layer: base_net.17.bias               mean: 0.02, std: 0.053\n",
      "layer: base_net.19.weight             mean: -0.001, std: 0.008\n",
      "layer: base_net.19.bias               mean: 0.03, std: 0.044\n",
      "layer: base_net.21.weight             mean: -0.001, std: 0.008\n",
      "layer: base_net.21.bias               mean: 0.032, std: 0.068\n",
      "layer: base_net.24.weight             mean: -0.001, std: 0.009\n",
      "layer: base_net.24.bias               mean: 0.045, std: 0.131\n",
      "layer: base_net.26.weight             mean: -0.001, std: 0.009\n",
      "layer: base_net.26.bias               mean: 0.05, std: 0.212\n",
      "layer: base_net.28.weight             mean: -0.001, std: 0.008\n",
      "layer: base_net.28.bias               mean: 0.149, std: 0.49\n",
      "layer: reduced_fc.1.weight            mean: -0.0, std: 0.002\n",
      "layer: reduced_fc.1.bias              mean: 0.081, std: 0.187\n",
      "layer: reduced_fc.3.weight            mean: -0.001, std: 0.005\n",
      "layer: reduced_fc.3.bias              mean: 0.504, std: 0.148\n",
      "layer: extra.0.weight                 mean: 0.0, std: 0.044\n",
      "layer: extra.0.bias                   mean: 0.001, std: 0.002\n",
      "layer: extra.1.weight                 mean: -0.0, std: 0.029\n",
      "layer: extra.1.bias                   mean: 0.001, std: 0.002\n",
      "layer: extra.2.weight                 mean: 0.0, std: 0.062\n",
      "layer: extra.2.bias                   mean: 0.002, std: 0.004\n",
      "layer: extra.3.weight                 mean: 0.0, std: 0.041\n",
      "layer: extra.3.bias                   mean: 0.001, std: 0.003\n",
      "layer: extra.4.weight                 mean: 0.001, std: 0.088\n",
      "layer: extra.4.bias                   mean: 0.001, std: 0.002\n",
      "layer: extra.5.weight                 mean: 0.0, std: 0.041\n",
      "layer: extra.5.bias                   mean: 0.0, std: 0.002\n",
      "layer: extra.6.weight                 mean: 0.0, std: 0.088\n",
      "layer: extra.6.bias                   mean: 0.0, std: 0.001\n",
      "layer: extra.7.weight                 mean: 0.0, std: 0.041\n",
      "layer: extra.7.bias                   mean: 0.0, std: 0.001\n",
      "layer: conf_layers.0.weight           mean: -0.0, std: 0.021\n",
      "layer: conf_layers.0.bias             mean: 0.0, std: 0.008\n",
      "layer: conf_layers.1.weight           mean: 0.0, std: 0.015\n",
      "layer: conf_layers.1.bias             mean: 0.0, std: 0.005\n",
      "layer: conf_layers.2.weight           mean: -0.0, std: 0.021\n",
      "layer: conf_layers.2.bias             mean: 0.0, std: 0.008\n",
      "layer: conf_layers.3.weight           mean: 0.0, std: 0.029\n",
      "layer: conf_layers.3.bias             mean: -0.0, std: 0.011\n",
      "layer: conf_layers.4.weight           mean: -0.0, std: 0.029\n",
      "layer: conf_layers.4.bias             mean: 0.0, std: 0.008\n",
      "layer: conf_layers.5.weight           mean: -0.0, std: 0.029\n",
      "layer: conf_layers.5.bias             mean: -0.0, std: 0.003\n",
      "layer: loc_layers.0.weight            mean: -0.0, std: 0.021\n",
      "layer: loc_layers.0.bias              mean: -0.001, std: 0.001\n",
      "layer: loc_layers.1.weight            mean: 0.0, std: 0.015\n",
      "layer: loc_layers.1.bias              mean: 0.0, std: 0.001\n",
      "layer: loc_layers.2.weight            mean: 0.0, std: 0.021\n",
      "layer: loc_layers.2.bias              mean: -0.0, std: 0.001\n",
      "layer: loc_layers.3.weight            mean: 0.0, std: 0.029\n",
      "layer: loc_layers.3.bias              mean: -0.0, std: 0.001\n",
      "layer: loc_layers.4.weight            mean: -0.0, std: 0.029\n",
      "layer: loc_layers.4.bias              mean: 0.0, std: 0.003\n",
      "layer: loc_layers.5.weight            mean: -0.0, std: 0.029\n",
      "layer: loc_layers.5.bias              mean: 0.002, std: 0.005\n",
      "layer: l2_norm.weight                 mean: 19.874, std: 0.002\n"
     ]
    }
   ],
   "source": [
    "for k in ssd_model.state_dict():\n",
    "    mean = round(float(torch.mean(ssd_model.state_dict()[k])), 3)\n",
    "    std = round(float(torch.std(ssd_model.state_dict()[k], unbiased=False)), 3)\n",
    "    print('layer: {:30s} mean: {}, std: {}'.format(k, mean, std))"
   ]
  },
  {
   "cell_type": "code",
   "execution_count": 53,
   "metadata": {},
   "outputs": [
    {
     "data": {
      "text/plain": [
       "tensor([[ 6.838, -2.736, -3.210, -2.359, -0.408, -0.937, -0.525, -0.207, -1.012,\n",
       "          0.797, -0.505, -2.020, -1.370, -2.575, -1.090,  0.586,  0.754, -1.255,\n",
       "         -0.546,  1.756,  3.472],\n",
       "        [ 5.995, -2.427, -3.035, -2.996,  0.240,  0.741,  2.375,  1.129, -1.071,\n",
       "          1.932, -1.691,  0.176, -3.470, -1.938, -1.993,  1.203,  1.115, -1.218,\n",
       "          0.990,  0.733,  4.342],\n",
       "        [ 6.590, -2.767, -3.335, -2.189, -1.164, -0.651, -0.124,  0.179, -1.845,\n",
       "          1.906, -0.952, -1.661, -1.178, -2.155, -1.177,  0.182,  0.753, -1.934,\n",
       "          0.621,  2.260,  3.436],\n",
       "        [ 5.559, -2.500, -3.245, -2.956, -0.078,  0.485,  3.209,  1.282, -0.742,\n",
       "          2.675, -2.034, -0.475, -3.534, -1.964, -1.837,  0.543,  0.925, -0.654,\n",
       "          0.233,  1.105,  4.721],\n",
       "        [ 6.373, -2.336, -2.698, -2.068, -0.093,  1.094,  0.949,  1.267, -1.140,\n",
       "          1.908, -2.593, -2.677, -0.299, -1.674, -2.243,  0.708,  1.824, -0.264,\n",
       "         -0.291,  0.986,  3.876],\n",
       "        [ 5.804, -1.956, -2.437, -2.396,  0.464, -0.069,  1.859,  0.766, -1.251,\n",
       "          2.709, -1.136,  0.281, -1.978, -1.444, -1.843,  0.568,  1.461, -0.660,\n",
       "          0.266,  1.211,  2.716],\n",
       "        [ 6.226, -1.403, -2.226, -3.068,  0.567,  0.406,  2.157,  1.739, -1.407,\n",
       "          1.891, -2.156, -0.093, -2.853, -1.846, -1.926,  1.246,  0.686, -2.375,\n",
       "          0.541,  0.699,  3.571],\n",
       "        [ 6.099, -2.751, -2.014, -1.987, -0.855, -0.127,  0.257,  0.168, -2.333,\n",
       "          2.560, -1.472, -1.703, -0.628, -1.751, -1.683, -0.188,  1.282, -2.295,\n",
       "          0.703,  1.468,  3.098],\n",
       "        [ 5.942, -1.574, -2.772, -3.520,  0.201, -0.208,  2.728,  1.679, -1.445,\n",
       "          2.246, -1.922, -0.267, -3.146, -1.608, -1.793,  0.456,  0.109, -1.728,\n",
       "         -0.042,  0.925,  3.979],\n",
       "        [ 6.201, -2.119, -2.088, -2.614,  0.447,  0.915,  1.130,  1.266, -1.214,\n",
       "          2.183, -2.075, -1.706, -0.065, -1.837, -1.192,  1.594,  1.842, -0.623,\n",
       "         -0.120,  1.347,  2.864],\n",
       "        [ 5.692, -1.385, -1.733, -2.567,  0.563, -0.674,  1.728,  1.146, -1.861,\n",
       "          2.279, -1.227,  0.147, -1.902, -1.192, -1.932,  0.489,  0.566, -1.703,\n",
       "         -0.211,  0.656,  2.552],\n",
       "        [ 6.300, -1.112, -1.544, -1.214,  1.377,  1.915, -0.746,  1.387, -0.940,\n",
       "          0.932, -0.534, -1.458, -0.675, -1.098, -0.760,  2.903,  2.242, -0.757,\n",
       "         -2.033, -1.036,  0.373],\n",
       "        [ 4.657, -0.841,  0.514, -2.234,  0.569, -0.651,  0.318,  0.991, -2.504,\n",
       "          1.683, -1.494,  0.216, -1.679, -1.247,  0.208, -0.192,  0.346, -1.463,\n",
       "          1.033, -0.030,  0.880],\n",
       "        [ 4.460, -1.205,  0.751, -1.931, -0.353, -0.420, -0.504,  0.823, -2.316,\n",
       "          2.092, -1.278,  0.310, -1.135, -0.319,  1.063,  0.749,  0.083, -1.121,\n",
       "          1.322, -0.902, -0.035],\n",
       "        [ 4.114, -1.063,  0.863, -1.940, -0.368, -0.669, -0.125,  1.230, -2.124,\n",
       "          2.079, -1.375,  0.691, -1.263, -0.666,  1.142,  0.211, -0.164, -1.126,\n",
       "          1.361, -0.859, -0.223],\n",
       "        [ 4.867, -1.235,  1.148, -1.960, -0.703, -0.377, -0.612,  0.842, -2.164,\n",
       "          2.306, -1.732,  0.729, -1.214, -0.382,  1.041,  0.771, -0.495, -1.166,\n",
       "          1.485, -1.220, -0.507],\n",
       "        [ 4.367, -1.072,  1.065, -1.699, -0.858, -0.607, -0.516,  1.534, -1.652,\n",
       "          2.264, -1.534,  1.072, -1.087, -0.384,  1.469,  0.383, -0.739, -1.345,\n",
       "          1.562, -1.126, -0.839],\n",
       "        [ 5.269, -1.180,  1.140, -1.470, -0.811, -0.792, -0.922,  0.938, -1.507,\n",
       "          2.082, -1.524,  1.213, -1.071, -0.222,  0.936,  0.091, -0.772, -1.192,\n",
       "          1.827, -1.181, -1.255],\n",
       "        [ 3.716, -0.080,  0.688, -0.377,  0.291,  0.105, -0.076,  0.065, -0.964,\n",
       "          0.805, -0.084, -2.607, -1.295, -0.313, -0.186,  0.221,  0.230, -1.405,\n",
       "         -0.292,  0.573,  0.223],\n",
       "        [ 4.914, -1.378, -0.507, -0.007,  0.159,  1.595, -1.933, -0.211, -0.115,\n",
       "          1.548,  0.231, -2.415, -0.156,  0.756,  0.739,  1.300,  1.164, -0.585,\n",
       "         -0.228, -0.601,  0.540],\n",
       "        [ 3.713, -0.562,  0.467, -1.416, -0.444, -1.980,  0.319, -1.006, -1.815,\n",
       "          0.196, -1.537, -1.039, -1.215, -0.529, -0.215, -0.548,  0.102, -1.814,\n",
       "          0.338, -0.200, -0.658],\n",
       "        [ 4.614, -0.886,  1.089, -0.011, -0.463, -0.716, -0.564,  0.492, -1.302,\n",
       "          0.909,  0.576, -2.806, -0.967, -0.126,  0.356,  0.684,  0.221, -1.116,\n",
       "         -0.384, -0.033, -0.365],\n",
       "        [ 5.562, -1.415,  0.048,  0.240,  0.239,  0.735, -2.172, -0.074, -0.133,\n",
       "          1.771, -0.086, -2.626, -0.036,  0.835,  0.021,  1.392,  1.079, -0.422,\n",
       "         -0.856, -0.872, -0.191],\n",
       "        [ 5.440, -1.511,  0.654, -0.250, -1.254, -0.768, -1.001, -0.039, -1.087,\n",
       "          1.021,  0.494, -3.131, -1.227,  0.083,  0.255,  0.382,  0.784, -0.647,\n",
       "         -0.080, -0.331, -0.233],\n",
       "        [ 6.465, -1.711, -0.024, -0.215,  0.056,  0.655, -1.938,  0.088,  0.135,\n",
       "          1.499, -0.063, -2.946,  0.065,  0.583, -0.577,  1.445,  0.864, -0.361,\n",
       "         -0.882, -0.940, -0.128]], device='cuda:0', grad_fn=<IndexBackward>)"
      ]
     },
     "execution_count": 53,
     "metadata": {},
     "output_type": "execute_result"
    }
   ],
   "source": [
    "draw_im_with_data()"
   ]
  },
  {
   "cell_type": "code",
   "execution_count": null,
   "metadata": {},
   "outputs": [],
   "source": []
  },
  {
   "cell_type": "code",
   "execution_count": null,
   "metadata": {},
   "outputs": [],
   "source": []
  },
  {
   "cell_type": "code",
   "execution_count": null,
   "metadata": {},
   "outputs": [],
   "source": []
  },
  {
   "cell_type": "code",
   "execution_count": null,
   "metadata": {},
   "outputs": [],
   "source": []
  },
  {
   "cell_type": "code",
   "execution_count": null,
   "metadata": {},
   "outputs": [],
   "source": []
  },
  {
   "cell_type": "code",
   "execution_count": null,
   "metadata": {},
   "outputs": [],
   "source": []
  },
  {
   "cell_type": "code",
   "execution_count": null,
   "metadata": {},
   "outputs": [],
   "source": []
  },
  {
   "cell_type": "code",
   "execution_count": null,
   "metadata": {},
   "outputs": [],
   "source": []
  },
  {
   "cell_type": "code",
   "execution_count": 27,
   "metadata": {},
   "outputs": [],
   "source": [
    "val_dataset = VOC_dataset(config.voc2007_root, config.voc2007_val_anno)"
   ]
  },
  {
   "cell_type": "code",
   "execution_count": 30,
   "metadata": {},
   "outputs": [],
   "source": [
    "val_dataloader = DataLoader(val_dataset, config.batch_size, shuffle=True, collate_fn=detection_collate_fn)"
   ]
  },
  {
   "cell_type": "code",
   "execution_count": 7,
   "metadata": {},
   "outputs": [
    {
     "data": {
      "text/plain": [
       "[<matplotlib.lines.Line2D at 0x7fb53a6cfb70>]"
      ]
     },
     "execution_count": 7,
     "metadata": {},
     "output_type": "execute_result"
    },
    {
     "data": {
      "image/png": "[encoded data removed]",
      "text/plain": [
       "<Figure size 432x288 with 1 Axes>"
      ]
     },
     "metadata": {
      "needs_background": "light"
     },
     "output_type": "display_data"
    }
   ],
   "source": [
    "plt.plot(loss_array)"
   ]
  },
  {
   "cell_type": "code",
   "execution_count": null,
   "metadata": {},
   "outputs": [],
   "source": []
  },
  {
   "cell_type": "code",
   "execution_count": 32,
   "metadata": {},
   "outputs": [
    {
     "data": {
      "text/plain": [
       "2510"
      ]
     },
     "execution_count": 32,
     "metadata": {},
     "output_type": "execute_result"
    }
   ],
   "source": [
    "len(val_dataset)"
   ]
  },
  {
   "cell_type": "code",
   "execution_count": 25,
   "metadata": {},
   "outputs": [
    {
     "data": {
      "text/plain": [
       "'/home/kindeqi/PyTorch_SSD/dataset/VOCdevkit/VOC2007/JPEGImages/'"
      ]
     },
     "execution_count": 25,
     "metadata": {},
     "output_type": "execute_result"
    }
   ],
   "source": [
    "config.voc2007_root"
   ]
  },
  {
   "cell_type": "code",
   "execution_count": 26,
   "metadata": {},
   "outputs": [
    {
     "data": {
      "text/plain": [
       "'/home/kindeqi/PyTorch_SSD/annotation/PASCAL_VOC/pascal_val2007.json'"
      ]
     },
     "execution_count": 26,
     "metadata": {},
     "output_type": "execute_result"
    }
   ],
   "source": [
    "config.voc2007_val_anno"
   ]
  },
  {
   "cell_type": "code",
   "execution_count": null,
   "metadata": {},
   "outputs": [],
   "source": []
  },
  {
   "cell_type": "code",
   "execution_count": null,
   "metadata": {},
   "outputs": [],
   "source": []
  },
  {
   "cell_type": "code",
   "execution_count": null,
   "metadata": {},
   "outputs": [],
   "source": []
  },
  {
   "cell_type": "code",
   "execution_count": null,
   "metadata": {},
   "outputs": [],
   "source": []
  },
  {
   "cell_type": "code",
   "execution_count": null,
   "metadata": {},
   "outputs": [],
   "source": []
  },
  {
   "cell_type": "code",
   "execution_count": null,
   "metadata": {},
   "outputs": [],
   "source": []
  },
  {
   "cell_type": "code",
   "execution_count": null,
   "metadata": {},
   "outputs": [],
   "source": []
  },
  {
   "cell_type": "code",
   "execution_count": 3,
   "metadata": {},
   "outputs": [
    {
     "data": {
      "text/plain": [
       "[<matplotlib.lines.Line2D at 0x7f560e627588>]"
      ]
     },
     "execution_count": 3,
     "metadata": {},
     "output_type": "execute_result"
    },
    {
     "data": {
      "image/png": "[encoded data removed]",
      "text/plain": [
       "<Figure size 432x288 with 1 Axes>"
      ]
     },
     "metadata": {
      "needs_background": "light"
     },
     "output_type": "display_data"
    }
   ],
   "source": [
    "x = torch.randn(4, 4)\n",
    "w = nn.Parameter(torch.randn(4, 3))\n",
    "b = nn.Parameter(torch.randn(1, 3))\n",
    "y = torch.randn(4, 3)\n",
    "\n",
    "criterion = nn.SmoothL1Loss()\n",
    "optimizer = torch.optim.SGD([w, b], lr=1e-2, momentum=0.9)\n",
    "scheduler = torch.optim.lr_scheduler.CosineAnnealingLR(optimizer, 16)\n",
    "\n",
    "epoch, batch = 4, 16\n",
    "\n",
    "lr_array = []\n",
    "\n",
    "for j in range(epoch):\n",
    "    for k in range(batch):\n",
    "        pred = torch.matmul(x, w) + b\n",
    "        loss = criterion(pred, y)\n",
    "        loss.backward()\n",
    "        optimizer.step()\n",
    "        scheduler.step()\n",
    "        lr_array.append(optimizer.param_groups[0]['lr'])\n",
    "\n",
    "plt.plot(lr_array)"
   ]
  },
  {
   "cell_type": "code",
   "execution_count": 6,
   "metadata": {},
   "outputs": [
    {
     "data": {
      "text/plain": [
       "[<matplotlib.lines.Line2D at 0x7f560cd9d4a8>]"
      ]
     },
     "execution_count": 6,
     "metadata": {},
     "output_type": "execute_result"
    },
    {
     "data": {
      "image/png": "[encoded data removed]",
      "text/plain": [
       "<Figure size 432x288 with 1 Axes>"
      ]
     },
     "metadata": {
      "needs_background": "light"
     },
     "output_type": "display_data"
    }
   ],
   "source": [
    "x = torch.randn(4, 4)\n",
    "w = nn.Parameter(torch.randn(4, 3))\n",
    "b = nn.Parameter(torch.randn(1, 3))\n",
    "y = torch.randn(4, 3)\n",
    "\n",
    "criterion = nn.SmoothL1Loss()\n",
    "optimizer = torch.optim.SGD([w, b], lr=1e-2, momentum=0.9)\n",
    "scheduler = torch.optim.lr_scheduler.CosineAnnealingLR(optimizer, 16)\n",
    "\n",
    "lr_change = []\n",
    "lr_min, lr_max = 1e-4, 10\n",
    "ratio = lr_max / lr_min\n",
    "\n",
    "for t in range(batch + 1):\n",
    "    optimizer.param_groups[0]['lr'] = lr_min * ratio ** (t / batch)\n",
    "    lr_change.append(lr_min * ratio ** (t / batch))\n",
    "#     print(optimizer.param_groups[0]['lr'])\n",
    "\n",
    "plt.plot(lr_change)"
   ]
  },
  {
   "cell_type": "code",
   "execution_count": null,
   "metadata": {},
   "outputs": [],
   "source": []
  }
 ],
 "metadata": {
  "kernelspec": {
   "display_name": "Python 3",
   "language": "python",
   "name": "python3"
  },
  "language_info": {
   "codemirror_mode": {
    "name": "ipython",
    "version": 3
   },
   "file_extension": ".py",
   "mimetype": "text/x-python",
   "name": "python",
   "nbconvert_exporter": "python",
   "pygments_lexer": "ipython3",
   "version": "3.6.7"
  }
 },
 "nbformat": 4,
 "nbformat_minor": 2
}
