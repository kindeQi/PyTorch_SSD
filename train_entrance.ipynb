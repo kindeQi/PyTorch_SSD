{
 "cells": [
  {
   "cell_type": "code",
   "execution_count": 1,
   "metadata": {},
   "outputs": [],
   "source": [
    "import os\n",
    "import torch\n",
    "from tqdm import tqdm_notebook\n",
    "from matplotlib import pyplot as plt\n",
    "from itertools import product\n",
    "import json\n",
    "from collections import defaultdict\n",
    "import random\n",
    "\n",
    "from torch import nn\n",
    "from torch.autograd import Variable\n",
    "from torch.functional import F\n",
    "from torchvision import models\n",
    "import torchvision\n",
    "from torch.utils.data import Dataset, DataLoader\n",
    "import cv2\n",
    "import numpy as np\n",
    "from torchviz import make_dot\n",
    "\n",
    "\n",
    "%matplotlib inline\n",
    "%reload_ext autoreload\n",
    "%autoreload 2\n",
    "\n",
    "# from fastai import transforms, model, dataset, conv_learner\n",
    "\n",
    "from PIL import ImageDraw, ImageFont\n",
    "from matplotlib import patches, patheffects\n",
    "from matplotlib import pyplot as plt\n",
    "import numpy as np\n",
    "import pandas as pd\n",
    "\n",
    "torch.set_printoptions(precision=3)\n",
    "\n",
    "from SSD_model import get_SSD_model\n",
    "from VOC_data import VOC_dataset\n",
    "from draw_img_utils import *\n",
    "from SSDloss import *\n",
    "from Config import Config\n",
    "\n",
    "torch.set_printoptions(precision=3)\n",
    "\n",
    "config = Config('remote')\n",
    "\n",
    "# PATH = '/home/kindeqi/PyTorch_SSD/dataset/VOCdevkit/VOC2007'\n",
    "# trn_anno_path = '/home/kindeqi/PyTorch_SSD/annotation/PASCAL_VOC/pascal_train2007.json'\n",
    "# val_anno_path = '/home/kindeqi/PyTorch_SSD/annotation/PASCAL_VOC/pascal_val2007.json'\n",
    "\n",
    "train_dataset = VOC_dataset(config.voc2007_root, config.voc2007_trn_anno)\n",
    "batch_size = config.batch_size\n",
    "learning_rate = config.learning_rate\n",
    "\n",
    "num_iter = 1"
   ]
  },
  {
   "cell_type": "code",
   "execution_count": 10,
   "metadata": {},
   "outputs": [
    {
     "name": "stderr",
     "output_type": "stream",
     "text": [
      "/home/kindeqi/PyTorch_SSD/SSD_model.py:142: UserWarning: nn.init.kaiming_uniform is now deprecated in favor of nn.init.kaiming_uniform_.\n",
      "  nn.init.kaiming_uniform(m.weight.data)\n"
     ]
    }
   ],
   "source": [
    "def detection_collate_fn(batch):\n",
    "    imgs, bboxes, labels = [], [], []\n",
    "    for i, b, l in batch:\n",
    "        imgs.append(i); bboxes.append(b); labels.append(l)\n",
    "    return torch.stack(imgs), bboxes, labels\n",
    "\n",
    "trn_dataloader = DataLoader(train_dataset, batch_size=batch_size, shuffle=False, num_workers=0, collate_fn=detection_collate_fn)\n",
    "\n",
    "use_cuda = torch.cuda.is_available()\n",
    "device = torch.device(\"cuda:0\" if use_cuda else \"cpu\")\n",
    "\n",
    "model = get_SSD_model(config.batch_size, config.vgg_weight_path, config.vgg_reduced_weight_path)\n",
    "\n",
    "# the freeze part is really important, unless you could never train a network\n",
    "model.freeze_basenet()\n",
    "model = model.to(device)"
   ]
  },
  {
   "cell_type": "code",
   "execution_count": 11,
   "metadata": {},
   "outputs": [],
   "source": [
    "# model.load_state_dict(torch.load('./train_last_layer'))\n",
    "# model.defreeze_basenet()\n",
    "# model = model.to(device)"
   ]
  },
  {
   "cell_type": "code",
   "execution_count": 15,
   "metadata": {
    "scrolled": false
   },
   "outputs": [
    {
     "name": "stderr",
     "output_type": "stream",
     "text": [
      "/home/kindeqi/.local/lib/python3.6/site-packages/torch/nn/_reduction.py:49: UserWarning: size_average and reduce args will be deprecated, please use reduction='none' instead.\n",
      "  warnings.warn(warning.format(ret))\n"
     ]
    },
    {
     "name": "stdout",
     "output_type": "stream",
     "text": [
      "0 cls_loss: 5.454, loc_loss: 5.286, loss: 5.454\n",
      "1 cls_loss: 5.277, loc_loss: 6.751, loss: 5.277\n",
      "2 cls_loss: 4.973, loc_loss: 6.292, loss: 4.973\n",
      "3 cls_loss: 4.992, loc_loss: 4.894, loss: 4.992\n",
      "4 cls_loss: 4.763, loc_loss: 5.587, loss: 4.763\n",
      "5 cls_loss: 5.309, loc_loss: 6.648, loss: 5.309\n",
      "6 cls_loss: 4.084, loc_loss: 6.137, loss: 4.084\n",
      "7 cls_loss: 4.278, loc_loss: 6.699, loss: 4.278\n",
      "8 cls_loss: 4.619, loc_loss: 6.168, loss: 4.619\n",
      "9 cls_loss: 4.266, loc_loss: 7.043, loss: 4.266\n",
      "10 cls_loss: 4.649, loc_loss: 5.856, loss: 4.649\n",
      "11 cls_loss: 4.162, loc_loss: 5.706, loss: 4.162\n",
      "12 cls_loss: 4.064, loc_loss: 8.429, loss: 4.064\n",
      "13 cls_loss: 4.201, loc_loss: 6.053, loss: 4.201\n",
      "14 cls_loss: 4.17, loc_loss: 6.134, loss: 4.17\n",
      "15 cls_loss: 4.222, loc_loss: 7.224, loss: 4.222\n",
      "16 cls_loss: 3.162, loc_loss: 4.42, loss: 3.162\n",
      "17 cls_loss: 4.051, loc_loss: 4.841, loss: 4.051\n",
      "18 cls_loss: 3.108, loc_loss: 7.299, loss: 3.108\n",
      "19 cls_loss: 4.23, loc_loss: 6.301, loss: 4.23\n",
      "20 cls_loss: 3.945, loc_loss: 5.796, loss: 3.945\n",
      "21 cls_loss: 3.673, loc_loss: 5.376, loss: 3.673\n",
      "22 cls_loss: 3.451, loc_loss: 6.791, loss: 3.451\n",
      "23 cls_loss: 3.319, loc_loss: 8.428, loss: 3.319\n",
      "24 cls_loss: 3.603, loc_loss: 6.051, loss: 3.603\n",
      "25 cls_loss: 5.05, loc_loss: 5.319, loss: 5.05\n",
      "26 cls_loss: 3.449, loc_loss: 7.686, loss: 3.449\n",
      "27 cls_loss: 3.717, loc_loss: 6.564, loss: 3.717\n",
      "28 cls_loss: 3.91, loc_loss: 4.702, loss: 3.91\n",
      "29 cls_loss: 2.936, loc_loss: 6.036, loss: 2.936\n",
      "30 cls_loss: 2.97, loc_loss: 7.641, loss: 2.97\n",
      "31 cls_loss: 3.945, loc_loss: 6.386, loss: 3.945\n",
      "32 cls_loss: 3.207, loc_loss: 5.866, loss: 3.207\n",
      "33 cls_loss: 3.784, loc_loss: 6.66, loss: 3.784\n",
      "34 cls_loss: 3.631, loc_loss: 4.599, loss: 3.631\n",
      "35 cls_loss: 3.965, loc_loss: 4.933, loss: 3.965\n",
      "36 cls_loss: 4.086, loc_loss: 7.196, loss: 4.086\n",
      "37 cls_loss: 2.729, loc_loss: 5.306, loss: 2.729\n",
      "38 cls_loss: 4.377, loc_loss: 4.696, loss: 4.377\n",
      "39 cls_loss: 2.968, loc_loss: 5.473, loss: 2.968\n",
      "40 cls_loss: 3.656, loc_loss: 7.087, loss: 3.656\n",
      "41 cls_loss: 4.454, loc_loss: 6.015, loss: 4.454\n",
      "42 cls_loss: 3.5, loc_loss: 5.198, loss: 3.5\n",
      "43 cls_loss: 4.085, loc_loss: 6.609, loss: 4.085\n",
      "44 cls_loss: 3.065, loc_loss: 7.222, loss: 3.065\n",
      "45 cls_loss: 3.325, loc_loss: 5.476, loss: 3.325\n",
      "46 cls_loss: 3.584, loc_loss: 5.143, loss: 3.584\n",
      "47 cls_loss: 3.479, loc_loss: 5.57, loss: 3.479\n",
      "48 cls_loss: 2.871, loc_loss: 6.85, loss: 2.871\n",
      "49 cls_loss: 3.535, loc_loss: 7.052, loss: 3.535\n",
      "50 cls_loss: 3.116, loc_loss: 10.935, loss: 3.116\n",
      "51 cls_loss: 3.024, loc_loss: 5.649, loss: 3.024\n",
      "52 cls_loss: 3.393, loc_loss: 5.396, loss: 3.393\n",
      "53 cls_loss: 3.223, loc_loss: 6.237, loss: 3.223\n",
      "54 cls_loss: 3.79, loc_loss: 5.247, loss: 3.79\n",
      "55 cls_loss: 3.548, loc_loss: 6.202, loss: 3.548\n",
      "56 cls_loss: 3.257, loc_loss: 5.993, loss: 3.257\n",
      "57 cls_loss: 3.32, loc_loss: 6.607, loss: 3.32\n",
      "58 cls_loss: 3.307, loc_loss: 7.018, loss: 3.307\n",
      "59 cls_loss: 3.219, loc_loss: 5.419, loss: 3.219\n",
      "60 cls_loss: 2.785, loc_loss: 7.165, loss: 2.785\n",
      "61 cls_loss: 3.0, loc_loss: 7.921, loss: 3.0\n",
      "62 cls_loss: 3.106, loc_loss: 6.115, loss: 3.106\n",
      "63 cls_loss: 3.245, loc_loss: 5.879, loss: 3.245\n",
      "64 cls_loss: 2.915, loc_loss: 7.85, loss: 2.915\n",
      "65 cls_loss: 3.351, loc_loss: 7.992, loss: 3.351\n",
      "66 cls_loss: 3.612, loc_loss: 4.847, loss: 3.612\n",
      "67 cls_loss: 3.161, loc_loss: 6.683, loss: 3.161\n",
      "68 cls_loss: 3.038, loc_loss: 4.387, loss: 3.038\n",
      "69 cls_loss: 3.262, loc_loss: 7.65, loss: 3.262\n",
      "70 cls_loss: 3.043, loc_loss: 8.048, loss: 3.043\n",
      "71 cls_loss: 2.688, loc_loss: 4.304, loss: 2.688\n",
      "72 cls_loss: 2.79, loc_loss: 6.197, loss: 2.79\n",
      "73 cls_loss: 3.274, loc_loss: 7.555, loss: 3.274\n",
      "74 cls_loss: 3.057, loc_loss: 6.91, loss: 3.057\n",
      "75 cls_loss: 2.633, loc_loss: 4.955, loss: 2.633\n",
      "76 cls_loss: 3.091, loc_loss: 6.439, loss: 3.091\n",
      "77 cls_loss: 3.475, loc_loss: 5.67, loss: 3.475\n",
      "78 cls_loss: 3.227, loc_loss: 5.198, loss: 3.227\n",
      "79 cls_loss: 3.321, loc_loss: 7.31, loss: 3.321\n",
      "80 cls_loss: 2.915, loc_loss: 6.947, loss: 2.915\n",
      "81 cls_loss: 2.95, loc_loss: 8.921, loss: 2.95\n",
      "82 cls_loss: 3.203, loc_loss: 6.833, loss: 3.203\n",
      "83 cls_loss: 2.971, loc_loss: 7.28, loss: 2.971\n",
      "84 cls_loss: 2.657, loc_loss: 6.06, loss: 2.657\n",
      "85 cls_loss: 3.249, loc_loss: 6.099, loss: 3.249\n",
      "86 cls_loss: 2.808, loc_loss: 4.577, loss: 2.808\n",
      "87 cls_loss: 2.739, loc_loss: 6.376, loss: 2.739\n",
      "88 cls_loss: 2.65, loc_loss: 5.263, loss: 2.65\n",
      "89 cls_loss: 2.821, loc_loss: 6.108, loss: 2.821\n",
      "90 cls_loss: 3.047, loc_loss: 6.865, loss: 3.047\n",
      "91 cls_loss: 2.397, loc_loss: 6.235, loss: 2.397\n",
      "92 cls_loss: 2.695, loc_loss: 6.101, loss: 2.695\n",
      "93 cls_loss: 2.407, loc_loss: 7.802, loss: 2.407\n",
      "94 cls_loss: 3.294, loc_loss: 5.738, loss: 3.294\n",
      "95 cls_loss: 3.01, loc_loss: 7.653, loss: 3.01\n",
      "96 cls_loss: 3.939, loc_loss: 7.242, loss: 3.939\n",
      "97 cls_loss: 2.957, loc_loss: 8.831, loss: 2.957\n",
      "98 cls_loss: 2.799, loc_loss: 6.122, loss: 2.799\n",
      "99 cls_loss: 3.094, loc_loss: 7.919, loss: 3.094\n",
      "100 cls_loss: 3.162, loc_loss: 5.047, loss: 3.162\n",
      "101 cls_loss: 3.384, loc_loss: 6.025, loss: 3.384\n",
      "102 cls_loss: 3.385, loc_loss: 4.644, loss: 3.385\n",
      "103 cls_loss: 2.618, loc_loss: 6.073, loss: 2.618\n",
      "104 cls_loss: 2.612, loc_loss: 5.376, loss: 2.612\n",
      "105 cls_loss: 2.993, loc_loss: 4.804, loss: 2.993\n",
      "106 cls_loss: 2.687, loc_loss: 5.948, loss: 2.687\n",
      "107 cls_loss: 2.542, loc_loss: 5.24, loss: 2.542\n",
      "108 cls_loss: 2.504, loc_loss: 7.277, loss: 2.504\n",
      "109 cls_loss: 2.758, loc_loss: 8.234, loss: 2.758\n",
      "110 cls_loss: 2.616, loc_loss: 5.579, loss: 2.616\n",
      "111 cls_loss: 3.016, loc_loss: 5.374, loss: 3.016\n",
      "112 cls_loss: 2.751, loc_loss: 6.31, loss: 2.751\n",
      "113 cls_loss: 2.478, loc_loss: 4.329, loss: 2.478\n",
      "114 cls_loss: 2.523, loc_loss: 5.497, loss: 2.523\n",
      "115 cls_loss: 2.765, loc_loss: 8.777, loss: 2.765\n",
      "116 cls_loss: 3.415, loc_loss: 5.042, loss: 3.415\n",
      "117 cls_loss: 2.61, loc_loss: 5.613, loss: 2.61\n",
      "118 cls_loss: 2.744, loc_loss: 7.165, loss: 2.744\n",
      "119 cls_loss: 2.435, loc_loss: 6.107, loss: 2.435\n",
      "120 cls_loss: 3.018, loc_loss: 6.445, loss: 3.018\n",
      "121 cls_loss: 2.833, loc_loss: 5.986, loss: 2.833\n",
      "122 cls_loss: 3.274, loc_loss: 6.217, loss: 3.274\n",
      "123 cls_loss: 2.761, loc_loss: 5.946, loss: 2.761\n",
      "124 cls_loss: 2.865, loc_loss: 7.044, loss: 2.865\n",
      "125 cls_loss: 3.143, loc_loss: 7.097, loss: 3.143\n",
      "126 cls_loss: 2.889, loc_loss: 7.337, loss: 2.889\n",
      "127 cls_loss: 2.827, loc_loss: 8.401, loss: 2.827\n",
      "128 cls_loss: 3.001, loc_loss: 5.791, loss: 3.001\n",
      "129 cls_loss: 2.564, loc_loss: 4.793, loss: 2.564\n",
      "130 cls_loss: 2.967, loc_loss: 4.552, loss: 2.967\n",
      "131 cls_loss: 2.987, loc_loss: 5.428, loss: 2.987\n",
      "132 cls_loss: 2.698, loc_loss: 6.076, loss: 2.698\n",
      "133 cls_loss: 2.971, loc_loss: 4.468, loss: 2.971\n",
      "134 cls_loss: 2.701, loc_loss: 7.676, loss: 2.701\n",
      "135 cls_loss: 2.62, loc_loss: 5.898, loss: 2.62\n",
      "136 cls_loss: 3.071, loc_loss: 7.756, loss: 3.071\n",
      "137 cls_loss: 3.058, loc_loss: 6.422, loss: 3.058\n",
      "138 cls_loss: 2.533, loc_loss: 6.087, loss: 2.533\n",
      "139 cls_loss: 2.691, loc_loss: 6.724, loss: 2.691\n",
      "140 cls_loss: 2.877, loc_loss: 5.425, loss: 2.877\n",
      "141 cls_loss: 2.636, loc_loss: 8.403, loss: 2.636\n",
      "142 cls_loss: 2.784, loc_loss: 6.163, loss: 2.784\n",
      "143 cls_loss: 3.237, loc_loss: 4.709, loss: 3.237\n",
      "144 cls_loss: 2.627, loc_loss: 5.643, loss: 2.627\n",
      "145 cls_loss: 2.544, loc_loss: 5.34, loss: 2.544\n",
      "146 cls_loss: 2.551, loc_loss: 6.601, loss: 2.551\n",
      "147 cls_loss: 2.348, loc_loss: 4.371, loss: 2.348\n",
      "148 cls_loss: 2.613, loc_loss: 7.853, loss: 2.613\n",
      "149 cls_loss: 2.437, loc_loss: 5.038, loss: 2.437\n",
      "150 cls_loss: 2.708, loc_loss: 5.495, loss: 2.708\n",
      "151 cls_loss: 2.659, loc_loss: 6.854, loss: 2.659\n",
      "152 cls_loss: 2.867, loc_loss: 7.716, loss: 2.867\n",
      "153 cls_loss: 2.469, loc_loss: 4.705, loss: 2.469\n",
      "154 cls_loss: 2.44, loc_loss: 5.308, loss: 2.44\n",
      "155 cls_loss: 2.506, loc_loss: 6.466, loss: 2.506\n",
      "156 cls_loss: 3.064, loc_loss: 9.436, loss: 3.064\n"
     ]
    }
   ],
   "source": [
    "# optimizer = torch.optim.SGD(params = model.parameters(), lr=1e-4, momentum=0.9)\n",
    "# optimizer = torch.optim.Adam(model.parameters(), lr=1e-3)\n",
    "leanring_rate = 1e-3\n",
    "optimizer = torch.optim.Adam([{'params': model.base_net.parameters(), 'lr':leanring_rate/10},\n",
    "                             {'params': model.reduced_fc.parameters()},\n",
    "                             {'params': model.extra.parameters()},\n",
    "                             {'params': model.loc_layers.parameters()},\n",
    "                             {'params': model.conf_layers.parameters()},\n",
    "                             {'params': model.l2_norm.parameters()}\n",
    "                            ], lr=learning_rate, momentum=0.9)\n",
    "prior_box = get_prior_box()\n",
    "\n",
    "loss_array = []\n",
    "\n",
    "\n",
    "for _ in range(num_iter):\n",
    "    \n",
    "    for i, batch in enumerate(trn_dataloader):\n",
    "        \n",
    "#         just the first 10 batch\n",
    "#         if i >= 60:\n",
    "#             continue\n",
    "        \n",
    "        imgs, bboxes, labels = batch\n",
    "        imgs = imgs.to(device)\n",
    "        cls_preds, loc_preds = model(imgs)\n",
    "\n",
    "        model.zero_grad()\n",
    "\n",
    "        total_loss = 0\n",
    "        total_loc_loss, total_cls_loss = 0, 0\n",
    "\n",
    "        for idx in range(imgs.shape[0]):\n",
    "\n",
    "            img, bbox, label = imgs[idx], bboxes[idx], labels[idx]\n",
    "            cls_pred, loc_pred = cls_preds[idx], loc_preds[idx]\n",
    "\n",
    "            # img, bbox, label = tmp\n",
    "            # img, bbox, label = train_dataset[0]\n",
    "\n",
    "            # img = img.unsqueeze(0)\n",
    "\n",
    "            # cls_pred, loc_pred = model(img)\n",
    "            # cls_pred, loc_pred = cls_pred.squeeze(0), loc_pred.squeeze(0)\n",
    "\n",
    "            # PATH = 'C:\\\\datasets\\\\pascal\\\\'\n",
    "            # anno_path = f'{PATH}PASCAL_VOC\\\\pascal_train2007.json'\n",
    "            # train_dataset = VOC_dataset(PATH, anno_path)\n",
    "\n",
    "            # img, bbox, label = train_dataset[7]\n",
    "            # img = img.unsqueeze(0)\n",
    "\n",
    "#             prior_box = get_prior_box()\n",
    "            iou = get_iou(bbox, prior_box)\n",
    "\n",
    "            pos_mask, cls_target, bbox_target = get_target(iou, prior_box, img, bbox, label)\n",
    "            pos_mask, cls_target, bbox_target = pos_mask.to(device), cls_target.to(device), bbox_target.to(device)\n",
    "\n",
    "            # model = get_SSD_model(1)\n",
    "            # cls_pred, loc_pred = model(img)\n",
    "            # cls_pred, loc_pred = cls_pred.squeeze(0), loc_pred.squeeze(0)\n",
    "\n",
    "            loss_loc, loss_cls = loss(cls_pred, loc_pred, pos_mask, cls_target, bbox_target)\n",
    "            total_loc_loss += loss_loc; total_cls_loss += loss_cls\n",
    "\n",
    "#             total_loss += (loss_loc + loss_cls)\n",
    "            total_loss += loss_cls\n",
    "\n",
    "        total_loss /= float(imgs.shape[0])\n",
    "        total_cls_loss /= float(imgs.shape[0])\n",
    "        total_loc_loss /= float(imgs.shape[0])\n",
    "        \n",
    "        total_loss.backward()\n",
    "\n",
    "        optimizer.step()\n",
    "#         if i % 10 == 0:\n",
    "        cls_loss = round(float(total_cls_loss), 3)\n",
    "        loc_loss = round(float(total_loc_loss), 3)\n",
    "        t_loss = round(float(total_loss), 3)\n",
    "\n",
    "        print(i, 'cls_loss: {}, loc_loss: {}, loss: {}'.format(cls_loss, loc_loss, t_loss))\n",
    "        loss_array.append(t_loss)\n",
    "        \n",
    "#         if i == 20:\n",
    "#             torch.save(model.state_dict(), '20.pth')\n",
    "        \n",
    "#         if i == 50:\n",
    "#             torch.save(model.state_dict(), '50.pth')\n",
    "            \n",
    "#         if i == 100:\n",
    "#             torch.save(model.state_dict(), '100.pth')\n"
   ]
  },
  {
   "cell_type": "code",
   "execution_count": 16,
   "metadata": {},
   "outputs": [
    {
     "data": {
      "text/plain": [
       "[<matplotlib.lines.Line2D at 0x7f6b60649ba8>]"
      ]
     },
     "execution_count": 16,
     "metadata": {},
     "output_type": "execute_result"
    },
    {
     "data": {
      "image/png": "[encoded data removed]",
      "text/plain": [
       "<Figure size 432x288 with 1 Axes>"
      ]
     },
     "metadata": {
      "needs_background": "light"
     },
     "output_type": "display_data"
    }
   ],
   "source": [
    "# different learning rate\n",
    "\n",
    "plt.plot(loss_array)"
   ]
  },
  {
   "cell_type": "code",
   "execution_count": 4,
   "metadata": {},
   "outputs": [
    {
     "data": {
      "text/plain": [
       "[<matplotlib.lines.Line2D at 0x7f6b6643b9b0>]"
      ]
     },
     "execution_count": 4,
     "metadata": {},
     "output_type": "execute_result"
    },
    {
     "data": {
      "image/png": "[encoded data removed]",
      "text/plain": [
       "<Figure size 432x288 with 1 Axes>"
      ]
     },
     "metadata": {
      "needs_background": "light"
     },
     "output_type": "display_data"
    }
   ],
   "source": [
    "# 1 epoch to train layers except basenet, with augmentation\n",
    "\n",
    "plt.plot(loss_array)"
   ]
  },
  {
   "cell_type": "code",
   "execution_count": 5,
   "metadata": {},
   "outputs": [],
   "source": [
    "torch.save(model.state_dict(), 'train_last_layer')"
   ]
  },
  {
   "cell_type": "code",
   "execution_count": null,
   "metadata": {},
   "outputs": [],
   "source": []
  },
  {
   "cell_type": "code",
   "execution_count": 5,
   "metadata": {},
   "outputs": [
    {
     "data": {
      "text/plain": [
       "[<matplotlib.lines.Line2D at 0x7f0611f73a20>]"
      ]
     },
     "execution_count": 5,
     "metadata": {},
     "output_type": "execute_result"
    },
    {
     "data": {
      "image/png": "[encoded data removed]",
      "text/plain": [
       "<Figure size 432x288 with 1 Axes>"
      ]
     },
     "metadata": {
      "needs_background": "light"
     },
     "output_type": "display_data"
    }
   ],
   "source": [
    "# 1 epoch to train layers except basenet, no augmentation\n",
    "\n",
    "plt.plot(loss_array)"
   ]
  },
  {
   "cell_type": "code",
   "execution_count": 6,
   "metadata": {},
   "outputs": [
    {
     "data": {
      "text/plain": [
       "[<matplotlib.lines.Line2D at 0x7f31cecdb7b8>]"
      ]
     },
     "execution_count": 6,
     "metadata": {},
     "output_type": "execute_result"
    },
    {
     "data": {
      "image/png": "[encoded data removed]",
      "text/plain": [
       "<Figure size 432x288 with 1 Axes>"
      ]
     },
     "metadata": {
      "needs_background": "light"
     },
     "output_type": "display_data"
    }
   ],
   "source": [
    "# reduced fc weight\n",
    "\n",
    "plt.plot(loss_array)"
   ]
  },
  {
   "cell_type": "code",
   "execution_count": null,
   "metadata": {},
   "outputs": [],
   "source": []
  },
  {
   "cell_type": "code",
   "execution_count": 3,
   "metadata": {},
   "outputs": [
    {
     "data": {
      "text/plain": [
       "[<matplotlib.lines.Line2D at 0x7f2dd14aaac8>]"
      ]
     },
     "execution_count": 3,
     "metadata": {},
     "output_type": "execute_result"
    },
    {
     "data": {
      "image/png": "[encoded data removed]",
      "text/plain": [
       "<Figure size 432x288 with 1 Axes>"
      ]
     },
     "metadata": {
      "needs_background": "light"
     },
     "output_type": "display_data"
    }
   ],
   "source": [
    "# not reduced weight\n",
    "\n",
    "plt.plot(loss_array)"
   ]
  },
  {
   "cell_type": "code",
   "execution_count": 34,
   "metadata": {},
   "outputs": [
    {
     "name": "stderr",
     "output_type": "stream",
     "text": [
      "/home/kindeqi/.local/lib/python3.6/site-packages/ipykernel_launcher.py:11: UserWarning: Implicit dimension choice for softmax has been deprecated. Change the call to include dim=X as an argument.\n",
      "  # This is added back by InteractiveShellApp.init_path()\n"
     ]
    }
   ],
   "source": [
    "img, bbox, label = train_dataset[1995]\n",
    "img = img.unsqueeze(0).to(device)\n",
    "\n",
    "conf_pred, loc_pred = model(img)\n",
    "\n",
    "prior_box = get_prior_box()\n",
    "iou = get_iou(bbox, prior_box)\n",
    "\n",
    "pos_mask, cls_target, bbox_target = get_target(iou, prior_box, img, bbox, label)\n",
    "\n",
    "cls = F.softmax(conf_pred[0][pos_mask])"
   ]
  },
  {
   "cell_type": "code",
   "execution_count": 35,
   "metadata": {},
   "outputs": [
    {
     "data": {
      "text/plain": [
       "(tensor([0.267, 0.632, 0.477, 0.519, 0.741, 0.375, 0.309, 0.258, 0.316, 0.328,\n",
       "         0.567, 0.619, 0.592, 0.674, 0.699, 0.736, 0.752, 0.752, 0.771, 0.767,\n",
       "         0.784, 0.771, 0.790, 0.760, 0.735, 0.791, 0.797, 0.840, 0.841, 0.854,\n",
       "         0.856, 0.862, 0.864, 0.853, 0.860, 0.830, 0.812, 0.813, 0.861, 0.858,\n",
       "         0.873, 0.873, 0.875, 0.877, 0.860, 0.869, 0.946, 0.974, 0.957, 0.990,\n",
       "         0.811, 0.899, 0.983, 0.996, 0.783, 0.920, 0.993, 0.998, 0.689, 0.892,\n",
       "         0.994, 0.997, 0.987, 0.992, 0.878, 0.950, 0.893, 0.958],\n",
       "        device='cuda:0', grad_fn=<MaxBackward0>),\n",
       " tensor([14,  3, 14, 14,  4, 15, 15,  7,  7,  7,  7,  7,  7,  7,  7,  7,  7,  7,\n",
       "          7,  7,  7,  7,  7,  7,  7,  7,  7,  7,  7,  7,  7,  7,  7,  7,  7,  7,\n",
       "          7,  7,  7,  7,  7,  7,  7,  7,  7,  7,  7,  7,  7,  7,  7,  7,  7,  7,\n",
       "          7,  7,  7,  7,  7,  7,  7,  7,  7,  7,  7,  7,  7,  7],\n",
       "        device='cuda:0'))"
      ]
     },
     "execution_count": 35,
     "metadata": {},
     "output_type": "execute_result"
    }
   ],
   "source": [
    "cls.max(dim=1)"
   ]
  },
  {
   "cell_type": "code",
   "execution_count": 36,
   "metadata": {},
   "outputs": [
    {
     "data": {
      "text/plain": [
       "tensor([15, 15, 15, 15, 15, 15, 15, 15, 15, 15,  7,  7,  7,  7,  7,  7,  7,  7,\n",
       "         7,  7,  7,  7,  7,  7,  7,  7,  7,  7,  7,  7,  7,  7,  7,  7,  7,  7,\n",
       "         7,  7,  7,  7,  7,  7,  7,  7,  7,  7,  7,  7,  7,  7,  7,  7,  7,  7,\n",
       "         7,  7,  7,  7,  7,  7,  7,  7,  7,  7,  7,  7,  7,  7],\n",
       "       dtype=torch.int32)"
      ]
     },
     "execution_count": 36,
     "metadata": {},
     "output_type": "execute_result"
    }
   ],
   "source": [
    "cls_target[pos_mask]"
   ]
  },
  {
   "cell_type": "code",
   "execution_count": 39,
   "metadata": {},
   "outputs": [
    {
     "data": {
      "text/plain": [
       "torch.Size([256, 256, 3, 3])"
      ]
     },
     "execution_count": 39,
     "metadata": {},
     "output_type": "execute_result"
    }
   ],
   "source": [
    "model.base_net[12].weight.shape"
   ]
  },
  {
   "cell_type": "code",
   "execution_count": null,
   "metadata": {},
   "outputs": [],
   "source": []
  },
  {
   "cell_type": "code",
   "execution_count": null,
   "metadata": {},
   "outputs": [],
   "source": []
  },
  {
   "cell_type": "code",
   "execution_count": null,
   "metadata": {},
   "outputs": [],
   "source": []
  },
  {
   "cell_type": "code",
   "execution_count": null,
   "metadata": {},
   "outputs": [],
   "source": []
  },
  {
   "cell_type": "code",
   "execution_count": null,
   "metadata": {},
   "outputs": [],
   "source": []
  },
  {
   "cell_type": "code",
   "execution_count": 40,
   "metadata": {},
   "outputs": [],
   "source": [
    "model_20 = get_SSD_model(1, vgg_weight_path)\n",
    "model_20.load_state_dict(torch.load('100.pth'))"
   ]
  },
  {
   "cell_type": "code",
   "execution_count": 41,
   "metadata": {},
   "outputs": [],
   "source": [
    "img, bbox, label = train_dataset[0]"
   ]
  },
  {
   "cell_type": "code",
   "execution_count": 42,
   "metadata": {},
   "outputs": [],
   "source": [
    "img = img.unsqueeze(0)"
   ]
  },
  {
   "cell_type": "code",
   "execution_count": 43,
   "metadata": {},
   "outputs": [],
   "source": [
    "cls_pred, loc_pred = model_20(img)"
   ]
  },
  {
   "cell_type": "code",
   "execution_count": 44,
   "metadata": {},
   "outputs": [],
   "source": [
    "prior_box = get_prior_box()\n",
    "iou = get_iou(bbox, prior_box)\n",
    "\n",
    "pos_mask, cls_target, bbox_target = get_target(iou, prior_box, img, bbox, label)"
   ]
  },
  {
   "cell_type": "code",
   "execution_count": 45,
   "metadata": {},
   "outputs": [],
   "source": [
    "pred = cls_pred[0][pos_mask]"
   ]
  },
  {
   "cell_type": "code",
   "execution_count": 46,
   "metadata": {},
   "outputs": [
    {
     "data": {
      "text/plain": [
       "tensor([7, 7, 7, 7, 7, 7, 7, 7, 7, 7, 7, 7, 7, 7, 7, 7, 7, 7, 7, 7, 7, 7, 7, 7,\n",
       "        7, 7, 7, 7, 7, 7], dtype=torch.int32)"
      ]
     },
     "execution_count": 46,
     "metadata": {},
     "output_type": "execute_result"
    }
   ],
   "source": [
    "cls_target[pos_mask]"
   ]
  },
  {
   "cell_type": "code",
   "execution_count": 47,
   "metadata": {},
   "outputs": [
    {
     "name": "stderr",
     "output_type": "stream",
     "text": [
      "/home/kindeqi/.local/lib/python3.6/site-packages/ipykernel_launcher.py:1: UserWarning: Implicit dimension choice for softmax has been deprecated. Change the call to include dim=X as an argument.\n",
      "  \"\"\"Entry point for launching an IPython kernel.\n"
     ]
    },
    {
     "data": {
      "text/plain": [
       "tensor([[7.446e-01, 3.591e-04, 1.342e-03, 1.275e-02, 2.664e-03, 1.323e-03,\n",
       "         1.368e-04, 1.786e-03, 2.293e-03, 6.282e-03, 1.915e-03, 1.188e-04,\n",
       "         2.109e-02, 6.637e-03, 1.521e-03, 1.833e-01, 2.602e-03, 6.436e-04,\n",
       "         2.065e-03, 1.601e-03, 4.908e-03],\n",
       "        [7.446e-01, 3.591e-04, 1.342e-03, 1.275e-02, 2.664e-03, 1.323e-03,\n",
       "         1.368e-04, 1.786e-03, 2.293e-03, 6.282e-03, 1.915e-03, 1.188e-04,\n",
       "         2.109e-02, 6.637e-03, 1.521e-03, 1.833e-01, 2.602e-03, 6.436e-04,\n",
       "         2.065e-03, 1.601e-03, 4.908e-03],\n",
       "        [7.446e-01, 3.591e-04, 1.342e-03, 1.275e-02, 2.664e-03, 1.323e-03,\n",
       "         1.368e-04, 1.786e-03, 2.293e-03, 6.282e-03, 1.915e-03, 1.188e-04,\n",
       "         2.109e-02, 6.637e-03, 1.521e-03, 1.833e-01, 2.602e-03, 6.436e-04,\n",
       "         2.065e-03, 1.601e-03, 4.908e-03],\n",
       "        [7.446e-01, 3.591e-04, 1.342e-03, 1.275e-02, 2.664e-03, 1.323e-03,\n",
       "         1.368e-04, 1.786e-03, 2.293e-03, 6.282e-03, 1.915e-03, 1.188e-04,\n",
       "         2.109e-02, 6.637e-03, 1.521e-03, 1.833e-01, 2.602e-03, 6.436e-04,\n",
       "         2.065e-03, 1.601e-03, 4.908e-03],\n",
       "        [7.446e-01, 3.591e-04, 1.342e-03, 1.275e-02, 2.664e-03, 1.323e-03,\n",
       "         1.368e-04, 1.786e-03, 2.293e-03, 6.282e-03, 1.915e-03, 1.188e-04,\n",
       "         2.109e-02, 6.637e-03, 1.521e-03, 1.833e-01, 2.602e-03, 6.436e-04,\n",
       "         2.065e-03, 1.601e-03, 4.908e-03],\n",
       "        [7.446e-01, 3.591e-04, 1.342e-03, 1.275e-02, 2.664e-03, 1.323e-03,\n",
       "         1.368e-04, 1.786e-03, 2.293e-03, 6.282e-03, 1.915e-03, 1.188e-04,\n",
       "         2.109e-02, 6.637e-03, 1.521e-03, 1.833e-01, 2.602e-03, 6.436e-04,\n",
       "         2.065e-03, 1.601e-03, 4.908e-03],\n",
       "        [7.446e-01, 3.591e-04, 1.342e-03, 1.275e-02, 2.664e-03, 1.323e-03,\n",
       "         1.368e-04, 1.786e-03, 2.293e-03, 6.282e-03, 1.915e-03, 1.188e-04,\n",
       "         2.109e-02, 6.637e-03, 1.521e-03, 1.833e-01, 2.602e-03, 6.436e-04,\n",
       "         2.065e-03, 1.601e-03, 4.908e-03],\n",
       "        [7.446e-01, 3.591e-04, 1.342e-03, 1.275e-02, 2.664e-03, 1.323e-03,\n",
       "         1.368e-04, 1.786e-03, 2.293e-03, 6.282e-03, 1.915e-03, 1.188e-04,\n",
       "         2.109e-02, 6.637e-03, 1.521e-03, 1.833e-01, 2.602e-03, 6.436e-04,\n",
       "         2.065e-03, 1.601e-03, 4.908e-03],\n",
       "        [7.446e-01, 3.591e-04, 1.342e-03, 1.275e-02, 2.664e-03, 1.323e-03,\n",
       "         1.368e-04, 1.786e-03, 2.293e-03, 6.282e-03, 1.915e-03, 1.188e-04,\n",
       "         2.109e-02, 6.637e-03, 1.521e-03, 1.833e-01, 2.602e-03, 6.436e-04,\n",
       "         2.065e-03, 1.601e-03, 4.908e-03],\n",
       "        [7.446e-01, 3.591e-04, 1.342e-03, 1.275e-02, 2.664e-03, 1.323e-03,\n",
       "         1.368e-04, 1.786e-03, 2.293e-03, 6.282e-03, 1.915e-03, 1.188e-04,\n",
       "         2.109e-02, 6.637e-03, 1.521e-03, 1.833e-01, 2.602e-03, 6.436e-04,\n",
       "         2.065e-03, 1.601e-03, 4.908e-03],\n",
       "        [7.446e-01, 3.591e-04, 1.342e-03, 1.275e-02, 2.664e-03, 1.323e-03,\n",
       "         1.368e-04, 1.786e-03, 2.293e-03, 6.282e-03, 1.915e-03, 1.188e-04,\n",
       "         2.109e-02, 6.637e-03, 1.521e-03, 1.833e-01, 2.602e-03, 6.436e-04,\n",
       "         2.065e-03, 1.601e-03, 4.908e-03],\n",
       "        [7.446e-01, 3.591e-04, 1.342e-03, 1.275e-02, 2.664e-03, 1.323e-03,\n",
       "         1.368e-04, 1.786e-03, 2.293e-03, 6.282e-03, 1.915e-03, 1.188e-04,\n",
       "         2.109e-02, 6.637e-03, 1.521e-03, 1.833e-01, 2.602e-03, 6.436e-04,\n",
       "         2.065e-03, 1.601e-03, 4.908e-03],\n",
       "        [7.446e-01, 3.591e-04, 1.342e-03, 1.275e-02, 2.664e-03, 1.323e-03,\n",
       "         1.368e-04, 1.786e-03, 2.293e-03, 6.282e-03, 1.915e-03, 1.188e-04,\n",
       "         2.109e-02, 6.637e-03, 1.521e-03, 1.833e-01, 2.602e-03, 6.436e-04,\n",
       "         2.065e-03, 1.601e-03, 4.908e-03],\n",
       "        [7.446e-01, 3.591e-04, 1.342e-03, 1.275e-02, 2.664e-03, 1.323e-03,\n",
       "         1.368e-04, 1.786e-03, 2.293e-03, 6.282e-03, 1.915e-03, 1.188e-04,\n",
       "         2.109e-02, 6.637e-03, 1.521e-03, 1.833e-01, 2.602e-03, 6.436e-04,\n",
       "         2.065e-03, 1.601e-03, 4.908e-03],\n",
       "        [7.446e-01, 3.591e-04, 1.342e-03, 1.275e-02, 2.664e-03, 1.323e-03,\n",
       "         1.368e-04, 1.786e-03, 2.293e-03, 6.282e-03, 1.915e-03, 1.188e-04,\n",
       "         2.109e-02, 6.637e-03, 1.521e-03, 1.833e-01, 2.602e-03, 6.436e-04,\n",
       "         2.065e-03, 1.601e-03, 4.908e-03],\n",
       "        [8.919e-01, 9.078e-04, 7.869e-03, 4.684e-03, 1.449e-03, 8.323e-04,\n",
       "         5.266e-04, 5.682e-03, 1.889e-03, 1.840e-03, 2.615e-03, 9.069e-04,\n",
       "         9.195e-03, 3.311e-03, 9.819e-04, 4.404e-02, 8.419e-04, 3.215e-04,\n",
       "         1.137e-02, 4.345e-03, 4.533e-03],\n",
       "        [9.790e-01, 2.614e-04, 1.240e-03, 1.517e-03, 2.369e-04, 2.168e-04,\n",
       "         5.880e-04, 1.532e-03, 2.478e-04, 1.299e-03, 9.068e-04, 3.366e-04,\n",
       "         9.254e-04, 8.900e-04, 5.745e-04, 5.490e-03, 3.667e-04, 2.010e-04,\n",
       "         1.881e-03, 1.448e-04, 2.192e-03],\n",
       "        [8.919e-01, 9.078e-04, 7.869e-03, 4.684e-03, 1.449e-03, 8.323e-04,\n",
       "         5.266e-04, 5.682e-03, 1.889e-03, 1.840e-03, 2.615e-03, 9.069e-04,\n",
       "         9.195e-03, 3.311e-03, 9.819e-04, 4.404e-02, 8.419e-04, 3.215e-04,\n",
       "         1.137e-02, 4.345e-03, 4.533e-03],\n",
       "        [7.423e-01, 6.901e-04, 1.484e-03, 4.642e-03, 3.937e-03, 1.021e-03,\n",
       "         6.685e-04, 4.262e-03, 5.574e-02, 9.642e-04, 2.658e-03, 7.006e-05,\n",
       "         2.842e-02, 3.027e-03, 1.104e-03, 1.345e-01, 2.298e-03, 5.491e-04,\n",
       "         2.030e-03, 6.576e-03, 3.074e-03],\n",
       "        [9.790e-01, 2.614e-04, 1.240e-03, 1.517e-03, 2.369e-04, 2.168e-04,\n",
       "         5.880e-04, 1.532e-03, 2.478e-04, 1.299e-03, 9.068e-04, 3.366e-04,\n",
       "         9.254e-04, 8.900e-04, 5.745e-04, 5.490e-03, 3.667e-04, 2.010e-04,\n",
       "         1.881e-03, 1.448e-04, 2.192e-03],\n",
       "        [8.919e-01, 9.078e-04, 7.869e-03, 4.684e-03, 1.449e-03, 8.323e-04,\n",
       "         5.266e-04, 5.682e-03, 1.889e-03, 1.840e-03, 2.615e-03, 9.069e-04,\n",
       "         9.195e-03, 3.311e-03, 9.819e-04, 4.404e-02, 8.419e-04, 3.215e-04,\n",
       "         1.137e-02, 4.345e-03, 4.533e-03],\n",
       "        [9.790e-01, 2.614e-04, 1.240e-03, 1.517e-03, 2.369e-04, 2.168e-04,\n",
       "         5.880e-04, 1.532e-03, 2.478e-04, 1.299e-03, 9.068e-04, 3.366e-04,\n",
       "         9.254e-04, 8.900e-04, 5.745e-04, 5.490e-03, 3.667e-04, 2.010e-04,\n",
       "         1.881e-03, 1.448e-04, 2.192e-03],\n",
       "        [8.919e-01, 9.078e-04, 7.869e-03, 4.684e-03, 1.449e-03, 8.323e-04,\n",
       "         5.266e-04, 5.682e-03, 1.889e-03, 1.840e-03, 2.615e-03, 9.069e-04,\n",
       "         9.195e-03, 3.311e-03, 9.819e-04, 4.404e-02, 8.419e-04, 3.215e-04,\n",
       "         1.137e-02, 4.345e-03, 4.533e-03],\n",
       "        [7.423e-01, 6.901e-04, 1.484e-03, 4.642e-03, 3.937e-03, 1.021e-03,\n",
       "         6.685e-04, 4.262e-03, 5.574e-02, 9.642e-04, 2.658e-03, 7.006e-05,\n",
       "         2.842e-02, 3.027e-03, 1.104e-03, 1.345e-01, 2.298e-03, 5.491e-04,\n",
       "         2.030e-03, 6.576e-03, 3.074e-03],\n",
       "        [8.919e-01, 9.078e-04, 7.869e-03, 4.684e-03, 1.449e-03, 8.323e-04,\n",
       "         5.266e-04, 5.682e-03, 1.889e-03, 1.840e-03, 2.615e-03, 9.069e-04,\n",
       "         9.195e-03, 3.311e-03, 9.819e-04, 4.404e-02, 8.419e-04, 3.215e-04,\n",
       "         1.137e-02, 4.345e-03, 4.533e-03],\n",
       "        [9.790e-01, 2.614e-04, 1.240e-03, 1.517e-03, 2.369e-04, 2.168e-04,\n",
       "         5.880e-04, 1.532e-03, 2.478e-04, 1.299e-03, 9.068e-04, 3.366e-04,\n",
       "         9.254e-04, 8.900e-04, 5.745e-04, 5.490e-03, 3.667e-04, 2.010e-04,\n",
       "         1.881e-03, 1.448e-04, 2.192e-03],\n",
       "        [8.919e-01, 9.078e-04, 7.869e-03, 4.684e-03, 1.449e-03, 8.323e-04,\n",
       "         5.266e-04, 5.682e-03, 1.889e-03, 1.840e-03, 2.615e-03, 9.069e-04,\n",
       "         9.195e-03, 3.311e-03, 9.819e-04, 4.404e-02, 8.419e-04, 3.215e-04,\n",
       "         1.137e-02, 4.345e-03, 4.533e-03],\n",
       "        [7.423e-01, 6.901e-04, 1.484e-03, 4.642e-03, 3.937e-03, 1.021e-03,\n",
       "         6.685e-04, 4.262e-03, 5.574e-02, 9.642e-04, 2.658e-03, 7.006e-05,\n",
       "         2.842e-02, 3.027e-03, 1.104e-03, 1.345e-01, 2.298e-03, 5.491e-04,\n",
       "         2.030e-03, 6.576e-03, 3.074e-03],\n",
       "        [7.611e-01, 4.186e-03, 5.286e-03, 1.921e-02, 9.602e-03, 3.258e-03,\n",
       "         2.994e-02, 1.391e-02, 1.483e-02, 5.032e-03, 9.974e-03, 9.030e-03,\n",
       "         1.479e-02, 5.482e-03, 6.156e-03, 3.279e-02, 4.356e-03, 1.442e-03,\n",
       "         1.874e-02, 2.371e-02, 7.141e-03],\n",
       "        [7.554e-01, 6.356e-03, 4.417e-03, 2.585e-02, 8.606e-03, 3.552e-03,\n",
       "         3.175e-02, 1.888e-02, 1.131e-02, 2.473e-03, 6.403e-03, 4.059e-03,\n",
       "         1.495e-02, 5.373e-03, 7.545e-03, 3.597e-02, 4.738e-03, 9.929e-03,\n",
       "         1.175e-02, 2.515e-02, 5.492e-03]], grad_fn=<SoftmaxBackward>)"
      ]
     },
     "execution_count": 47,
     "metadata": {},
     "output_type": "execute_result"
    }
   ],
   "source": [
    "F.softmax(pred)"
   ]
  },
  {
   "cell_type": "code",
   "execution_count": 48,
   "metadata": {},
   "outputs": [
    {
     "data": {
      "text/plain": [
       "tensor([[ 4.767,  6.817,  1.074, -0.955],\n",
       "        [ 4.767,  7.649,  1.074, -0.955],\n",
       "        [ 4.767,  8.065,  1.074, -0.955],\n",
       "        [ 5.599,  3.072,  1.074, -0.955],\n",
       "        [ 5.599,  3.488,  1.074, -0.955],\n",
       "        [ 5.599,  4.320,  1.074, -0.955],\n",
       "        [ 6.431, -1.089,  1.074, -0.955],\n",
       "        [ 6.431, -0.257,  1.074, -0.955],\n",
       "        [ 6.431,  0.159,  1.074, -0.955],\n",
       "        [ 7.263, -4.834,  1.074, -0.955],\n",
       "        [ 7.263, -4.418,  1.074, -0.955],\n",
       "        [ 7.263, -3.585,  1.074, -0.955],\n",
       "        [ 7.263,  6.817,  1.074, -0.955],\n",
       "        [ 7.263,  7.649,  1.074, -0.955],\n",
       "        [ 7.263,  8.065,  1.074, -0.955],\n",
       "        [ 9.260,  1.992, -0.656,  0.781],\n",
       "        [11.186,  3.829,  0.289,  1.726],\n",
       "        [ 9.260,  3.169, -0.656,  0.781],\n",
       "        [ 9.623,  1.647, -0.464, -2.493],\n",
       "        [11.186, 13.075,  0.289,  1.726],\n",
       "        [ 9.260, 10.823, -0.656,  0.781],\n",
       "        [11.186, 14.497,  0.289,  1.726],\n",
       "        [ 9.260, 12.000, -0.656,  0.781],\n",
       "        [ 9.623,  6.235, -0.464, -2.493],\n",
       "        [ 9.848, -2.718, -0.656,  0.781],\n",
       "        [11.898, -1.861,  0.289,  1.726],\n",
       "        [ 9.848, -1.541, -0.656,  0.781],\n",
       "        [10.235, -0.801, -0.464, -2.493],\n",
       "        [ 9.127, -4.199, -1.602, -0.165],\n",
       "        [ 7.959, -3.662, -2.286, -0.849]])"
      ]
     },
     "execution_count": 48,
     "metadata": {},
     "output_type": "execute_result"
    }
   ],
   "source": [
    "bbox_target[pos_mask]"
   ]
  },
  {
   "cell_type": "code",
   "execution_count": 49,
   "metadata": {},
   "outputs": [
    {
     "data": {
      "text/plain": [
       "tensor([[ 5.631e+00,  7.717e-01,  2.746e-01,  2.131e-03],\n",
       "        [ 5.631e+00,  7.717e-01,  2.746e-01,  2.131e-03],\n",
       "        [ 5.631e+00,  7.717e-01,  2.746e-01,  2.131e-03],\n",
       "        [ 5.631e+00,  7.717e-01,  2.746e-01,  2.131e-03],\n",
       "        [ 5.631e+00,  7.717e-01,  2.746e-01,  2.131e-03],\n",
       "        [ 5.631e+00,  7.717e-01,  2.746e-01,  2.131e-03],\n",
       "        [ 5.631e+00,  7.717e-01,  2.746e-01,  2.131e-03],\n",
       "        [ 5.631e+00,  7.717e-01,  2.746e-01,  2.131e-03],\n",
       "        [ 5.631e+00,  7.717e-01,  2.746e-01,  2.131e-03],\n",
       "        [ 5.631e+00,  7.717e-01,  2.746e-01,  2.131e-03],\n",
       "        [ 5.631e+00,  7.717e-01,  2.746e-01,  2.131e-03],\n",
       "        [ 5.631e+00,  7.717e-01,  2.746e-01,  2.131e-03],\n",
       "        [ 5.631e+00,  7.717e-01,  2.746e-01,  2.131e-03],\n",
       "        [ 5.631e+00,  7.717e-01,  2.746e-01,  2.131e-03],\n",
       "        [ 5.631e+00,  7.717e-01,  2.746e-01,  2.131e-03],\n",
       "        [ 9.183e+00,  1.652e+00,  7.651e-01,  9.103e-01],\n",
       "        [ 1.106e+01,  1.067e+00, -4.055e-01,  6.250e-01],\n",
       "        [ 9.183e+00,  1.652e+00,  7.651e-01,  9.103e-01],\n",
       "        [ 9.719e+00,  9.797e-01,  1.616e+00, -4.933e-01],\n",
       "        [ 1.106e+01,  1.067e+00, -4.055e-01,  6.250e-01],\n",
       "        [ 9.183e+00,  1.652e+00,  7.651e-01,  9.103e-01],\n",
       "        [ 1.106e+01,  1.067e+00, -4.055e-01,  6.250e-01],\n",
       "        [ 9.183e+00,  1.652e+00,  7.651e-01,  9.103e-01],\n",
       "        [ 9.719e+00,  9.797e-01,  1.616e+00, -4.933e-01],\n",
       "        [ 9.183e+00,  1.652e+00,  7.651e-01,  9.103e-01],\n",
       "        [ 1.106e+01,  1.067e+00, -4.055e-01,  6.250e-01],\n",
       "        [ 9.183e+00,  1.652e+00,  7.651e-01,  9.103e-01],\n",
       "        [ 9.719e+00,  9.797e-01,  1.616e+00, -4.933e-01],\n",
       "        [ 7.780e+00, -1.705e+00,  6.312e-01,  8.397e-01],\n",
       "        [ 6.641e+00, -2.375e+00,  5.100e-01,  9.978e-01]],\n",
       "       grad_fn=<IndexBackward>)"
      ]
     },
     "execution_count": 49,
     "metadata": {},
     "output_type": "execute_result"
    }
   ],
   "source": [
    "loc_pred[0][pos_mask]"
   ]
  },
  {
   "cell_type": "code",
   "execution_count": 14,
   "metadata": {},
   "outputs": [],
   "source": [
    "s = slice(None, 20, None)"
   ]
  },
  {
   "cell_type": "code",
   "execution_count": 16,
   "metadata": {
    "scrolled": true
   },
   "outputs": [
    {
     "name": "stdout",
     "output_type": "stream",
     "text": [
      "0\n",
      "1\n",
      "2\n",
      "3\n",
      "4\n",
      "5\n",
      "6\n",
      "7\n",
      "8\n",
      "9\n",
      "10\n",
      "11\n",
      "12\n",
      "13\n",
      "14\n",
      "15\n",
      "16\n",
      "17\n",
      "18\n",
      "19\n"
     ]
    }
   ],
   "source": [
    "for i in range(s.start, s.stop):\n",
    "    print(i)"
   ]
  },
  {
   "cell_type": "code",
   "execution_count": null,
   "metadata": {},
   "outputs": [],
   "source": []
  }
 ],
 "metadata": {
  "kernelspec": {
   "display_name": "Python 3",
   "language": "python",
   "name": "python3"
  },
  "language_info": {
   "codemirror_mode": {
    "name": "ipython",
    "version": 3
   },
   "file_extension": ".py",
   "mimetype": "text/x-python",
   "name": "python",
   "nbconvert_exporter": "python",
   "pygments_lexer": "ipython3",
   "version": "3.6.5"
  }
 },
 "nbformat": 4,
 "nbformat_minor": 2
}
