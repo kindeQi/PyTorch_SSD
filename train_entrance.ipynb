{
 "cells": [
  {
   "cell_type": "code",
   "execution_count": 1,
   "metadata": {},
   "outputs": [],
   "source": [
    "import os\n",
    "import torch\n",
    "from tqdm import tqdm_notebook\n",
    "from matplotlib import pyplot as plt\n",
    "from itertools import product\n",
    "import json\n",
    "from collections import defaultdict\n",
    "import random\n",
    "\n",
    "from torch import nn\n",
    "from torch.autograd import Variable\n",
    "from torch.functional import F\n",
    "from torchvision import models\n",
    "import torchvision\n",
    "from torch.utils.data import Dataset, DataLoader\n",
    "import cv2\n",
    "import numpy as np\n",
    "from torchviz import make_dot\n",
    "\n",
    "\n",
    "%matplotlib inline\n",
    "%reload_ext autoreload\n",
    "%autoreload 2\n",
    "\n",
    "# from fastai import transforms, model, dataset, conv_learner\n",
    "\n",
    "from PIL import ImageDraw, ImageFont\n",
    "from matplotlib import patches, patheffects\n",
    "from matplotlib import pyplot as plt\n",
    "import numpy as np\n",
    "import pandas as pd\n",
    "\n",
    "torch.set_printoptions(precision=3)\n",
    "\n",
    "from SSD_model import get_SSD_model\n",
    "from VOC_data import VOC_dataset\n",
    "from draw_img_utils import *\n",
    "from SSDloss import *\n",
    "from Config import Config\n",
    "\n",
    "torch.set_printoptions(precision=3)\n",
    "\n",
    "config = Config('remote')\n",
    "\n",
    "# PATH = '/home/kindeqi/PyTorch_SSD/dataset/VOCdevkit/VOC2007'\n",
    "# trn_anno_path = '/home/kindeqi/PyTorch_SSD/annotation/PASCAL_VOC/pascal_train2007.json'\n",
    "# val_anno_path = '/home/kindeqi/PyTorch_SSD/annotation/PASCAL_VOC/pascal_val2007.json'\n",
    "\n",
    "train_dataset = VOC_dataset(config.voc2007_root, config.voc2007_trn_anno)\n",
    "batch_size = config.batch_size\n",
    "learning_rate = config.learning_rate\n",
    "\n",
    "num_iter = 3"
   ]
  },
  {
   "cell_type": "code",
   "execution_count": 5,
   "metadata": {
    "scrolled": false
   },
   "outputs": [
    {
     "name": "stderr",
     "output_type": "stream",
     "text": [
      "/home/kindeqi/PyTorch_SSD/SSD_model.py:141: UserWarning: nn.init.xavier_uniform is now deprecated in favor of nn.init.xavier_uniform_.\n",
      "  nn.init.xavier_uniform(m.weight.data)\n",
      "/home/kindeqi/.local/lib/python3.6/site-packages/torch/nn/_reduction.py:49: UserWarning: size_average and reduce args will be deprecated, please use reduction='none' instead.\n",
      "  warnings.warn(warning.format(ret))\n"
     ]
    },
    {
     "name": "stdout",
     "output_type": "stream",
     "text": [
      "0 cls_loss: 3.426, loc_loss: 4.712, loss: 3.426\n",
      "1 cls_loss: 5.519, loc_loss: 6.079, loss: 5.519\n",
      "2 cls_loss: 5.292, loc_loss: 4.456, loss: 5.292\n",
      "3 cls_loss: 4.992, loc_loss: 4.542, loss: 4.992\n",
      "4 cls_loss: 3.504, loc_loss: 4.844, loss: 3.504\n",
      "5 cls_loss: 3.343, loc_loss: 4.571, loss: 3.343\n",
      "6 cls_loss: 3.169, loc_loss: 4.313, loss: 3.169\n",
      "7 cls_loss: 3.6, loc_loss: 6.65, loss: 3.6\n",
      "8 cls_loss: 2.991, loc_loss: 5.146, loss: 2.991\n",
      "9 cls_loss: 3.67, loc_loss: 6.26, loss: 3.67\n",
      "10 cls_loss: 3.405, loc_loss: 4.51, loss: 3.405\n",
      "11 cls_loss: 3.49, loc_loss: 5.51, loss: 3.49\n",
      "12 cls_loss: 2.977, loc_loss: 4.643, loss: 2.977\n",
      "13 cls_loss: 3.384, loc_loss: 6.107, loss: 3.384\n",
      "14 cls_loss: 3.38, loc_loss: 5.21, loss: 3.38\n",
      "15 cls_loss: 3.035, loc_loss: 6.305, loss: 3.035\n",
      "16 cls_loss: 3.003, loc_loss: 5.174, loss: 3.003\n",
      "17 cls_loss: 2.953, loc_loss: 4.277, loss: 2.953\n",
      "18 cls_loss: 2.752, loc_loss: 4.606, loss: 2.752\n",
      "19 cls_loss: 2.711, loc_loss: 6.134, loss: 2.711\n",
      "20 cls_loss: 2.754, loc_loss: 5.397, loss: 2.754\n",
      "21 cls_loss: 2.781, loc_loss: 4.872, loss: 2.781\n",
      "22 cls_loss: 2.91, loc_loss: 6.512, loss: 2.91\n",
      "23 cls_loss: 3.007, loc_loss: 5.272, loss: 3.007\n",
      "24 cls_loss: 3.087, loc_loss: 4.952, loss: 3.087\n",
      "25 cls_loss: 2.682, loc_loss: 3.39, loss: 2.682\n",
      "26 cls_loss: 3.113, loc_loss: 6.535, loss: 3.113\n",
      "27 cls_loss: 2.853, loc_loss: 4.339, loss: 2.853\n",
      "28 cls_loss: 2.816, loc_loss: 3.782, loss: 2.816\n",
      "29 cls_loss: 2.526, loc_loss: 6.584, loss: 2.526\n",
      "30 cls_loss: 2.276, loc_loss: 5.534, loss: 2.276\n",
      "31 cls_loss: 4.452, loc_loss: 4.583, loss: 4.452\n",
      "32 cls_loss: 2.44, loc_loss: 4.261, loss: 2.44\n",
      "33 cls_loss: 2.688, loc_loss: 4.445, loss: 2.688\n",
      "34 cls_loss: 2.779, loc_loss: 4.262, loss: 2.779\n",
      "35 cls_loss: 3.003, loc_loss: 4.209, loss: 3.003\n",
      "36 cls_loss: 3.072, loc_loss: 4.349, loss: 3.072\n",
      "37 cls_loss: 2.233, loc_loss: 5.246, loss: 2.233\n",
      "38 cls_loss: 3.267, loc_loss: 4.243, loss: 3.267\n",
      "39 cls_loss: 2.198, loc_loss: 5.382, loss: 2.198\n",
      "40 cls_loss: 2.811, loc_loss: 5.493, loss: 2.811\n",
      "41 cls_loss: 2.688, loc_loss: 5.536, loss: 2.688\n",
      "42 cls_loss: 2.964, loc_loss: 4.415, loss: 2.964\n",
      "43 cls_loss: 2.797, loc_loss: 6.388, loss: 2.797\n",
      "44 cls_loss: 3.189, loc_loss: 5.405, loss: 3.189\n",
      "45 cls_loss: 2.718, loc_loss: 4.193, loss: 2.718\n",
      "46 cls_loss: 2.675, loc_loss: 4.968, loss: 2.675\n",
      "47 cls_loss: 2.725, loc_loss: 6.39, loss: 2.725\n",
      "48 cls_loss: 2.259, loc_loss: 4.14, loss: 2.259\n",
      "49 cls_loss: 2.818, loc_loss: 5.826, loss: 2.818\n",
      "50 cls_loss: 2.379, loc_loss: 4.681, loss: 2.379\n",
      "51 cls_loss: 2.815, loc_loss: 4.882, loss: 2.815\n",
      "52 cls_loss: 2.635, loc_loss: 4.242, loss: 2.635\n",
      "53 cls_loss: 2.548, loc_loss: 4.763, loss: 2.548\n",
      "54 cls_loss: 2.578, loc_loss: 4.01, loss: 2.578\n",
      "55 cls_loss: 2.718, loc_loss: 3.931, loss: 2.718\n",
      "56 cls_loss: 2.566, loc_loss: 3.978, loss: 2.566\n",
      "57 cls_loss: 3.029, loc_loss: 6.333, loss: 3.029\n",
      "58 cls_loss: 2.808, loc_loss: 5.816, loss: 2.808\n",
      "59 cls_loss: 2.733, loc_loss: 4.766, loss: 2.733\n",
      "0 cls_loss: 2.331, loc_loss: 4.672, loss: 2.331\n",
      "1 cls_loss: 1.813, loc_loss: 5.796, loss: 1.813\n",
      "2 cls_loss: 1.815, loc_loss: 4.49, loss: 1.815\n",
      "3 cls_loss: 2.012, loc_loss: 4.413, loss: 2.012\n",
      "4 cls_loss: 2.206, loc_loss: 4.877, loss: 2.206\n",
      "5 cls_loss: 2.309, loc_loss: 4.496, loss: 2.309\n",
      "6 cls_loss: 2.254, loc_loss: 4.292, loss: 2.254\n",
      "7 cls_loss: 2.057, loc_loss: 6.632, loss: 2.057\n",
      "8 cls_loss: 2.077, loc_loss: 5.169, loss: 2.077\n",
      "9 cls_loss: 2.086, loc_loss: 6.279, loss: 2.086\n",
      "10 cls_loss: 2.2, loc_loss: 4.524, loss: 2.2\n",
      "11 cls_loss: 2.025, loc_loss: 5.501, loss: 2.025\n",
      "12 cls_loss: 2.108, loc_loss: 4.656, loss: 2.108\n",
      "13 cls_loss: 2.016, loc_loss: 6.089, loss: 2.016\n",
      "14 cls_loss: 1.974, loc_loss: 5.183, loss: 1.974\n",
      "15 cls_loss: 1.829, loc_loss: 6.331, loss: 1.829\n",
      "16 cls_loss: 1.778, loc_loss: 5.191, loss: 1.778\n",
      "17 cls_loss: 2.467, loc_loss: 4.3, loss: 2.467\n",
      "18 cls_loss: 1.911, loc_loss: 4.603, loss: 1.911\n",
      "19 cls_loss: 1.881, loc_loss: 6.122, loss: 1.881\n",
      "20 cls_loss: 1.98, loc_loss: 5.369, loss: 1.98\n",
      "21 cls_loss: 2.074, loc_loss: 4.867, loss: 2.074\n",
      "22 cls_loss: 1.614, loc_loss: 6.496, loss: 1.614\n",
      "23 cls_loss: 1.959, loc_loss: 5.264, loss: 1.959\n",
      "24 cls_loss: 1.778, loc_loss: 4.943, loss: 1.778\n",
      "25 cls_loss: 2.489, loc_loss: 3.41, loss: 2.489\n",
      "26 cls_loss: 1.888, loc_loss: 6.557, loss: 1.888\n",
      "27 cls_loss: 2.329, loc_loss: 4.348, loss: 2.329\n",
      "28 cls_loss: 2.322, loc_loss: 3.793, loss: 2.322\n",
      "29 cls_loss: 1.963, loc_loss: 6.574, loss: 1.963\n",
      "30 cls_loss: 1.703, loc_loss: 5.553, loss: 1.703\n",
      "31 cls_loss: 2.471, loc_loss: 4.566, loss: 2.471\n",
      "32 cls_loss: 2.027, loc_loss: 4.236, loss: 2.027\n",
      "33 cls_loss: 2.011, loc_loss: 4.439, loss: 2.011\n",
      "34 cls_loss: 2.298, loc_loss: 4.254, loss: 2.298\n",
      "35 cls_loss: 2.445, loc_loss: 4.216, loss: 2.445\n",
      "36 cls_loss: 2.49, loc_loss: 4.361, loss: 2.49\n",
      "37 cls_loss: 1.779, loc_loss: 5.238, loss: 1.779\n",
      "38 cls_loss: 2.422, loc_loss: 4.256, loss: 2.422\n",
      "39 cls_loss: 1.572, loc_loss: 5.426, loss: 1.572\n",
      "40 cls_loss: 2.439, loc_loss: 5.505, loss: 2.439\n",
      "41 cls_loss: 2.152, loc_loss: 5.522, loss: 2.152\n",
      "42 cls_loss: 2.166, loc_loss: 4.401, loss: 2.166\n",
      "43 cls_loss: 1.833, loc_loss: 6.38, loss: 1.833\n",
      "44 cls_loss: 2.281, loc_loss: 5.389, loss: 2.281\n",
      "45 cls_loss: 2.344, loc_loss: 4.188, loss: 2.344\n",
      "46 cls_loss: 1.942, loc_loss: 4.962, loss: 1.942\n",
      "47 cls_loss: 1.826, loc_loss: 6.401, loss: 1.826\n",
      "48 cls_loss: 1.626, loc_loss: 4.137, loss: 1.626\n",
      "49 cls_loss: 1.941, loc_loss: 5.873, loss: 1.941\n",
      "50 cls_loss: 1.852, loc_loss: 4.695, loss: 1.852\n",
      "51 cls_loss: 2.101, loc_loss: 4.918, loss: 2.101\n",
      "52 cls_loss: 2.168, loc_loss: 4.258, loss: 2.168\n",
      "53 cls_loss: 2.22, loc_loss: 4.771, loss: 2.22\n",
      "54 cls_loss: 2.17, loc_loss: 3.996, loss: 2.17\n",
      "55 cls_loss: 1.917, loc_loss: 3.921, loss: 1.917\n",
      "56 cls_loss: 2.156, loc_loss: 3.97, loss: 2.156\n",
      "57 cls_loss: 1.867, loc_loss: 6.325, loss: 1.867\n",
      "58 cls_loss: 1.857, loc_loss: 5.819, loss: 1.857\n",
      "59 cls_loss: 1.741, loc_loss: 4.74, loss: 1.741\n",
      "0 cls_loss: 1.954, loc_loss: 4.679, loss: 1.954\n",
      "1 cls_loss: 1.717, loc_loss: 5.761, loss: 1.717\n",
      "2 cls_loss: 1.427, loc_loss: 4.415, loss: 1.427\n",
      "3 cls_loss: 1.68, loc_loss: 4.393, loss: 1.68\n",
      "4 cls_loss: 1.972, loc_loss: 4.834, loss: 1.972\n",
      "5 cls_loss: 2.1, loc_loss: 4.493, loss: 2.1\n",
      "6 cls_loss: 1.583, loc_loss: 4.315, loss: 1.583\n",
      "7 cls_loss: 1.85, loc_loss: 6.63, loss: 1.85\n",
      "8 cls_loss: 1.63, loc_loss: 5.171, loss: 1.63\n",
      "9 cls_loss: 1.754, loc_loss: 6.3, loss: 1.754\n",
      "10 cls_loss: 1.833, loc_loss: 4.525, loss: 1.833\n",
      "11 cls_loss: 1.617, loc_loss: 5.506, loss: 1.617\n",
      "12 cls_loss: 1.629, loc_loss: 4.655, loss: 1.629\n",
      "13 cls_loss: 1.995, loc_loss: 6.087, loss: 1.995\n",
      "14 cls_loss: 1.815, loc_loss: 5.189, loss: 1.815\n",
      "15 cls_loss: 1.512, loc_loss: 6.292, loss: 1.512\n",
      "16 cls_loss: 1.468, loc_loss: 5.173, loss: 1.468\n",
      "17 cls_loss: 1.995, loc_loss: 4.292, loss: 1.995\n",
      "18 cls_loss: 1.456, loc_loss: 4.62, loss: 1.456\n",
      "19 cls_loss: 1.449, loc_loss: 6.15, loss: 1.449\n",
      "20 cls_loss: 1.518, loc_loss: 5.378, loss: 1.518\n",
      "21 cls_loss: 1.805, loc_loss: 4.87, loss: 1.805\n",
      "22 cls_loss: 1.258, loc_loss: 6.501, loss: 1.258\n",
      "23 cls_loss: 1.601, loc_loss: 5.292, loss: 1.601\n",
      "24 cls_loss: 1.483, loc_loss: 4.951, loss: 1.483\n",
      "25 cls_loss: 1.839, loc_loss: 3.394, loss: 1.839\n",
      "26 cls_loss: 1.623, loc_loss: 6.542, loss: 1.623\n",
      "27 cls_loss: 1.997, loc_loss: 4.359, loss: 1.997\n",
      "28 cls_loss: 1.924, loc_loss: 3.813, loss: 1.924\n",
      "29 cls_loss: 1.568, loc_loss: 6.569, loss: 1.568\n",
      "30 cls_loss: 1.627, loc_loss: 5.562, loss: 1.627\n",
      "31 cls_loss: 1.895, loc_loss: 4.562, loss: 1.895\n",
      "32 cls_loss: 1.629, loc_loss: 4.256, loss: 1.629\n",
      "33 cls_loss: 1.499, loc_loss: 4.435, loss: 1.499\n",
      "34 cls_loss: 1.937, loc_loss: 4.277, loss: 1.937\n",
      "35 cls_loss: 2.047, loc_loss: 4.213, loss: 2.047\n",
      "36 cls_loss: 1.78, loc_loss: 4.337, loss: 1.78\n",
      "37 cls_loss: 0.999, loc_loss: 5.26, loss: 0.999\n",
      "38 cls_loss: 1.981, loc_loss: 4.244, loss: 1.981\n",
      "39 cls_loss: 1.59, loc_loss: 5.421, loss: 1.59\n",
      "40 cls_loss: 2.024, loc_loss: 5.493, loss: 2.024\n",
      "41 cls_loss: 1.865, loc_loss: 5.523, loss: 1.865\n",
      "42 cls_loss: 1.759, loc_loss: 4.404, loss: 1.759\n",
      "43 cls_loss: 1.469, loc_loss: 6.403, loss: 1.469\n",
      "44 cls_loss: 1.515, loc_loss: 5.391, loss: 1.515\n",
      "45 cls_loss: 1.794, loc_loss: 4.206, loss: 1.794\n",
      "46 cls_loss: 1.614, loc_loss: 4.97, loss: 1.614\n",
      "47 cls_loss: 1.52, loc_loss: 6.388, loss: 1.52\n",
      "48 cls_loss: 1.263, loc_loss: 4.15, loss: 1.263\n",
      "49 cls_loss: 1.457, loc_loss: 5.883, loss: 1.457\n"
     ]
    },
    {
     "name": "stdout",
     "output_type": "stream",
     "text": [
      "50 cls_loss: 1.675, loc_loss: 4.674, loss: 1.675\n",
      "51 cls_loss: 1.652, loc_loss: 4.929, loss: 1.652\n",
      "52 cls_loss: 1.791, loc_loss: 4.274, loss: 1.791\n",
      "53 cls_loss: 1.843, loc_loss: 4.761, loss: 1.843\n",
      "54 cls_loss: 1.72, loc_loss: 4.017, loss: 1.72\n",
      "55 cls_loss: 1.622, loc_loss: 3.927, loss: 1.622\n",
      "56 cls_loss: 1.613, loc_loss: 4.001, loss: 1.613\n",
      "57 cls_loss: 1.304, loc_loss: 6.333, loss: 1.304\n",
      "58 cls_loss: 1.48, loc_loss: 5.825, loss: 1.48\n",
      "59 cls_loss: 1.502, loc_loss: 4.767, loss: 1.502\n"
     ]
    }
   ],
   "source": [
    "def detection_collate_fn(batch):\n",
    "    imgs, bboxes, labels = [], [], []\n",
    "    for i, b, l in batch:\n",
    "        imgs.append(i); bboxes.append(b); labels.append(l)\n",
    "    return torch.stack(imgs), bboxes, labels\n",
    "\n",
    "trn_dataloader = DataLoader(train_dataset, batch_size=batch_size, shuffle=False, num_workers=0, collate_fn=detection_collate_fn)\n",
    "\n",
    "use_cuda = torch.cuda.is_available()\n",
    "device = torch.device(\"cuda:0\" if use_cuda else \"cpu\")\n",
    "\n",
    "model = get_SSD_model(config.batch_size, config.vgg_weight_path, config.vgg_reduced_weight_path)\n",
    "\n",
    "# the freeze part is really important, unless you could never train a network\n",
    "model.freeze_basenet()\n",
    "model = model.to(device)\n",
    "\n",
    "# optimizer = torch.optim.SGD(params = model.parameters(), lr=1e-4, momentum=0.9)\n",
    "optimizer = torch.optim.Adam(model.parameters(), lr=1e-3)\n",
    "prior_box = get_prior_box()\n",
    "\n",
    "loss_array = []\n",
    "\n",
    "\n",
    "for _ in range(num_iter):\n",
    "    \n",
    "    for i, batch in enumerate(trn_dataloader):\n",
    "        \n",
    "#         just the first 10 batch\n",
    "        if i >= 60:\n",
    "            continue\n",
    "        \n",
    "        imgs, bboxes, labels = batch\n",
    "        imgs = imgs.to(device)\n",
    "        cls_preds, loc_preds = model(imgs)\n",
    "\n",
    "        model.zero_grad()\n",
    "\n",
    "        total_loss = 0\n",
    "        total_loc_loss, total_cls_loss = 0, 0\n",
    "\n",
    "        for idx in range(imgs.shape[0]):\n",
    "\n",
    "            img, bbox, label = imgs[idx], bboxes[idx], labels[idx]\n",
    "            cls_pred, loc_pred = cls_preds[idx], loc_preds[idx]\n",
    "\n",
    "            # img, bbox, label = tmp\n",
    "            # img, bbox, label = train_dataset[0]\n",
    "\n",
    "            # img = img.unsqueeze(0)\n",
    "\n",
    "            # cls_pred, loc_pred = model(img)\n",
    "            # cls_pred, loc_pred = cls_pred.squeeze(0), loc_pred.squeeze(0)\n",
    "\n",
    "            # PATH = 'C:\\\\datasets\\\\pascal\\\\'\n",
    "            # anno_path = f'{PATH}PASCAL_VOC\\\\pascal_train2007.json'\n",
    "            # train_dataset = VOC_dataset(PATH, anno_path)\n",
    "\n",
    "            # img, bbox, label = train_dataset[7]\n",
    "            # img = img.unsqueeze(0)\n",
    "\n",
    "#             prior_box = get_prior_box()\n",
    "            iou = get_iou(bbox, prior_box)\n",
    "\n",
    "            pos_mask, cls_target, bbox_target = get_target(iou, prior_box, img, bbox, label)\n",
    "            pos_mask, cls_target, bbox_target = pos_mask.to(device), cls_target.to(device), bbox_target.to(device)\n",
    "\n",
    "            # model = get_SSD_model(1)\n",
    "            # cls_pred, loc_pred = model(img)\n",
    "            # cls_pred, loc_pred = cls_pred.squeeze(0), loc_pred.squeeze(0)\n",
    "\n",
    "            loss_loc, loss_cls = loss(cls_pred, loc_pred, pos_mask, cls_target, bbox_target)\n",
    "            total_loc_loss += loss_loc; total_cls_loss += loss_cls\n",
    "\n",
    "#             total_loss += (loss_loc + loss_cls)\n",
    "            total_loss += loss_cls\n",
    "\n",
    "        total_loss /= float(imgs.shape[0])\n",
    "        total_cls_loss /= float(imgs.shape[0])\n",
    "        total_loc_loss /= float(imgs.shape[0])\n",
    "        \n",
    "        total_loss.backward()\n",
    "\n",
    "        optimizer.step()\n",
    "#         if i % 10 == 0:\n",
    "        cls_loss = round(float(total_cls_loss), 3)\n",
    "        loc_loss = round(float(total_loc_loss), 3)\n",
    "        t_loss = round(float(total_loss), 3)\n",
    "\n",
    "        print(i, 'cls_loss: {}, loc_loss: {}, loss: {}'.format(cls_loss, loc_loss, t_loss))\n",
    "        loss_array.append(t_loss)\n",
    "        \n",
    "#         if i == 20:\n",
    "#             torch.save(model.state_dict(), '20.pth')\n",
    "        \n",
    "#         if i == 50:\n",
    "#             torch.save(model.state_dict(), '50.pth')\n",
    "            \n",
    "#         if i == 100:\n",
    "#             torch.save(model.state_dict(), '100.pth')\n"
   ]
  },
  {
   "cell_type": "code",
   "execution_count": 6,
   "metadata": {},
   "outputs": [
    {
     "data": {
      "text/plain": [
       "[<matplotlib.lines.Line2D at 0x7f31cecdb7b8>]"
      ]
     },
     "execution_count": 6,
     "metadata": {},
     "output_type": "execute_result"
    },
    {
     "data": {
      "image/png": "[encoded data removed]",
      "text/plain": [
       "<Figure size 432x288 with 1 Axes>"
      ]
     },
     "metadata": {
      "needs_background": "light"
     },
     "output_type": "display_data"
    }
   ],
   "source": [
    "plt.plot(loss_array)"
   ]
  },
  {
   "cell_type": "code",
   "execution_count": null,
   "metadata": {},
   "outputs": [],
   "source": []
  },
  {
   "cell_type": "code",
   "execution_count": 3,
   "metadata": {},
   "outputs": [
    {
     "data": {
      "text/plain": [
       "[<matplotlib.lines.Line2D at 0x7f2dd14aaac8>]"
      ]
     },
     "execution_count": 3,
     "metadata": {},
     "output_type": "execute_result"
    },
    {
     "data": {
      "image/png": "[encoded data removed]",
      "text/plain": [
       "<Figure size 432x288 with 1 Axes>"
      ]
     },
     "metadata": {
      "needs_background": "light"
     },
     "output_type": "display_data"
    }
   ],
   "source": [
    "# not reduced weight\n",
    "\n",
    "plt.plot(loss_array)"
   ]
  },
  {
   "cell_type": "code",
   "execution_count": 34,
   "metadata": {},
   "outputs": [
    {
     "name": "stderr",
     "output_type": "stream",
     "text": [
      "/home/kindeqi/.local/lib/python3.6/site-packages/ipykernel_launcher.py:11: UserWarning: Implicit dimension choice for softmax has been deprecated. Change the call to include dim=X as an argument.\n",
      "  # This is added back by InteractiveShellApp.init_path()\n"
     ]
    }
   ],
   "source": [
    "img, bbox, label = train_dataset[1995]\n",
    "img = img.unsqueeze(0).to(device)\n",
    "\n",
    "conf_pred, loc_pred = model(img)\n",
    "\n",
    "prior_box = get_prior_box()\n",
    "iou = get_iou(bbox, prior_box)\n",
    "\n",
    "pos_mask, cls_target, bbox_target = get_target(iou, prior_box, img, bbox, label)\n",
    "\n",
    "cls = F.softmax(conf_pred[0][pos_mask])"
   ]
  },
  {
   "cell_type": "code",
   "execution_count": 35,
   "metadata": {},
   "outputs": [
    {
     "data": {
      "text/plain": [
       "(tensor([0.267, 0.632, 0.477, 0.519, 0.741, 0.375, 0.309, 0.258, 0.316, 0.328,\n",
       "         0.567, 0.619, 0.592, 0.674, 0.699, 0.736, 0.752, 0.752, 0.771, 0.767,\n",
       "         0.784, 0.771, 0.790, 0.760, 0.735, 0.791, 0.797, 0.840, 0.841, 0.854,\n",
       "         0.856, 0.862, 0.864, 0.853, 0.860, 0.830, 0.812, 0.813, 0.861, 0.858,\n",
       "         0.873, 0.873, 0.875, 0.877, 0.860, 0.869, 0.946, 0.974, 0.957, 0.990,\n",
       "         0.811, 0.899, 0.983, 0.996, 0.783, 0.920, 0.993, 0.998, 0.689, 0.892,\n",
       "         0.994, 0.997, 0.987, 0.992, 0.878, 0.950, 0.893, 0.958],\n",
       "        device='cuda:0', grad_fn=<MaxBackward0>),\n",
       " tensor([14,  3, 14, 14,  4, 15, 15,  7,  7,  7,  7,  7,  7,  7,  7,  7,  7,  7,\n",
       "          7,  7,  7,  7,  7,  7,  7,  7,  7,  7,  7,  7,  7,  7,  7,  7,  7,  7,\n",
       "          7,  7,  7,  7,  7,  7,  7,  7,  7,  7,  7,  7,  7,  7,  7,  7,  7,  7,\n",
       "          7,  7,  7,  7,  7,  7,  7,  7,  7,  7,  7,  7,  7,  7],\n",
       "        device='cuda:0'))"
      ]
     },
     "execution_count": 35,
     "metadata": {},
     "output_type": "execute_result"
    }
   ],
   "source": [
    "cls.max(dim=1)"
   ]
  },
  {
   "cell_type": "code",
   "execution_count": 36,
   "metadata": {},
   "outputs": [
    {
     "data": {
      "text/plain": [
       "tensor([15, 15, 15, 15, 15, 15, 15, 15, 15, 15,  7,  7,  7,  7,  7,  7,  7,  7,\n",
       "         7,  7,  7,  7,  7,  7,  7,  7,  7,  7,  7,  7,  7,  7,  7,  7,  7,  7,\n",
       "         7,  7,  7,  7,  7,  7,  7,  7,  7,  7,  7,  7,  7,  7,  7,  7,  7,  7,\n",
       "         7,  7,  7,  7,  7,  7,  7,  7,  7,  7,  7,  7,  7,  7],\n",
       "       dtype=torch.int32)"
      ]
     },
     "execution_count": 36,
     "metadata": {},
     "output_type": "execute_result"
    }
   ],
   "source": [
    "cls_target[pos_mask]"
   ]
  },
  {
   "cell_type": "code",
   "execution_count": 39,
   "metadata": {},
   "outputs": [
    {
     "data": {
      "text/plain": [
       "torch.Size([256, 256, 3, 3])"
      ]
     },
     "execution_count": 39,
     "metadata": {},
     "output_type": "execute_result"
    }
   ],
   "source": [
    "model.base_net[12].weight.shape"
   ]
  },
  {
   "cell_type": "code",
   "execution_count": null,
   "metadata": {},
   "outputs": [],
   "source": []
  },
  {
   "cell_type": "code",
   "execution_count": null,
   "metadata": {},
   "outputs": [],
   "source": []
  },
  {
   "cell_type": "code",
   "execution_count": null,
   "metadata": {},
   "outputs": [],
   "source": []
  },
  {
   "cell_type": "code",
   "execution_count": null,
   "metadata": {},
   "outputs": [],
   "source": []
  },
  {
   "cell_type": "code",
   "execution_count": null,
   "metadata": {},
   "outputs": [],
   "source": []
  },
  {
   "cell_type": "code",
   "execution_count": 40,
   "metadata": {},
   "outputs": [],
   "source": [
    "model_20 = get_SSD_model(1, vgg_weight_path)\n",
    "model_20.load_state_dict(torch.load('100.pth'))"
   ]
  },
  {
   "cell_type": "code",
   "execution_count": 41,
   "metadata": {},
   "outputs": [],
   "source": [
    "img, bbox, label = train_dataset[0]"
   ]
  },
  {
   "cell_type": "code",
   "execution_count": 42,
   "metadata": {},
   "outputs": [],
   "source": [
    "img = img.unsqueeze(0)"
   ]
  },
  {
   "cell_type": "code",
   "execution_count": 43,
   "metadata": {},
   "outputs": [],
   "source": [
    "cls_pred, loc_pred = model_20(img)"
   ]
  },
  {
   "cell_type": "code",
   "execution_count": 44,
   "metadata": {},
   "outputs": [],
   "source": [
    "prior_box = get_prior_box()\n",
    "iou = get_iou(bbox, prior_box)\n",
    "\n",
    "pos_mask, cls_target, bbox_target = get_target(iou, prior_box, img, bbox, label)"
   ]
  },
  {
   "cell_type": "code",
   "execution_count": 45,
   "metadata": {},
   "outputs": [],
   "source": [
    "pred = cls_pred[0][pos_mask]"
   ]
  },
  {
   "cell_type": "code",
   "execution_count": 46,
   "metadata": {},
   "outputs": [
    {
     "data": {
      "text/plain": [
       "tensor([7, 7, 7, 7, 7, 7, 7, 7, 7, 7, 7, 7, 7, 7, 7, 7, 7, 7, 7, 7, 7, 7, 7, 7,\n",
       "        7, 7, 7, 7, 7, 7], dtype=torch.int32)"
      ]
     },
     "execution_count": 46,
     "metadata": {},
     "output_type": "execute_result"
    }
   ],
   "source": [
    "cls_target[pos_mask]"
   ]
  },
  {
   "cell_type": "code",
   "execution_count": 47,
   "metadata": {},
   "outputs": [
    {
     "name": "stderr",
     "output_type": "stream",
     "text": [
      "/home/kindeqi/.local/lib/python3.6/site-packages/ipykernel_launcher.py:1: UserWarning: Implicit dimension choice for softmax has been deprecated. Change the call to include dim=X as an argument.\n",
      "  \"\"\"Entry point for launching an IPython kernel.\n"
     ]
    },
    {
     "data": {
      "text/plain": [
       "tensor([[7.446e-01, 3.591e-04, 1.342e-03, 1.275e-02, 2.664e-03, 1.323e-03,\n",
       "         1.368e-04, 1.786e-03, 2.293e-03, 6.282e-03, 1.915e-03, 1.188e-04,\n",
       "         2.109e-02, 6.637e-03, 1.521e-03, 1.833e-01, 2.602e-03, 6.436e-04,\n",
       "         2.065e-03, 1.601e-03, 4.908e-03],\n",
       "        [7.446e-01, 3.591e-04, 1.342e-03, 1.275e-02, 2.664e-03, 1.323e-03,\n",
       "         1.368e-04, 1.786e-03, 2.293e-03, 6.282e-03, 1.915e-03, 1.188e-04,\n",
       "         2.109e-02, 6.637e-03, 1.521e-03, 1.833e-01, 2.602e-03, 6.436e-04,\n",
       "         2.065e-03, 1.601e-03, 4.908e-03],\n",
       "        [7.446e-01, 3.591e-04, 1.342e-03, 1.275e-02, 2.664e-03, 1.323e-03,\n",
       "         1.368e-04, 1.786e-03, 2.293e-03, 6.282e-03, 1.915e-03, 1.188e-04,\n",
       "         2.109e-02, 6.637e-03, 1.521e-03, 1.833e-01, 2.602e-03, 6.436e-04,\n",
       "         2.065e-03, 1.601e-03, 4.908e-03],\n",
       "        [7.446e-01, 3.591e-04, 1.342e-03, 1.275e-02, 2.664e-03, 1.323e-03,\n",
       "         1.368e-04, 1.786e-03, 2.293e-03, 6.282e-03, 1.915e-03, 1.188e-04,\n",
       "         2.109e-02, 6.637e-03, 1.521e-03, 1.833e-01, 2.602e-03, 6.436e-04,\n",
       "         2.065e-03, 1.601e-03, 4.908e-03],\n",
       "        [7.446e-01, 3.591e-04, 1.342e-03, 1.275e-02, 2.664e-03, 1.323e-03,\n",
       "         1.368e-04, 1.786e-03, 2.293e-03, 6.282e-03, 1.915e-03, 1.188e-04,\n",
       "         2.109e-02, 6.637e-03, 1.521e-03, 1.833e-01, 2.602e-03, 6.436e-04,\n",
       "         2.065e-03, 1.601e-03, 4.908e-03],\n",
       "        [7.446e-01, 3.591e-04, 1.342e-03, 1.275e-02, 2.664e-03, 1.323e-03,\n",
       "         1.368e-04, 1.786e-03, 2.293e-03, 6.282e-03, 1.915e-03, 1.188e-04,\n",
       "         2.109e-02, 6.637e-03, 1.521e-03, 1.833e-01, 2.602e-03, 6.436e-04,\n",
       "         2.065e-03, 1.601e-03, 4.908e-03],\n",
       "        [7.446e-01, 3.591e-04, 1.342e-03, 1.275e-02, 2.664e-03, 1.323e-03,\n",
       "         1.368e-04, 1.786e-03, 2.293e-03, 6.282e-03, 1.915e-03, 1.188e-04,\n",
       "         2.109e-02, 6.637e-03, 1.521e-03, 1.833e-01, 2.602e-03, 6.436e-04,\n",
       "         2.065e-03, 1.601e-03, 4.908e-03],\n",
       "        [7.446e-01, 3.591e-04, 1.342e-03, 1.275e-02, 2.664e-03, 1.323e-03,\n",
       "         1.368e-04, 1.786e-03, 2.293e-03, 6.282e-03, 1.915e-03, 1.188e-04,\n",
       "         2.109e-02, 6.637e-03, 1.521e-03, 1.833e-01, 2.602e-03, 6.436e-04,\n",
       "         2.065e-03, 1.601e-03, 4.908e-03],\n",
       "        [7.446e-01, 3.591e-04, 1.342e-03, 1.275e-02, 2.664e-03, 1.323e-03,\n",
       "         1.368e-04, 1.786e-03, 2.293e-03, 6.282e-03, 1.915e-03, 1.188e-04,\n",
       "         2.109e-02, 6.637e-03, 1.521e-03, 1.833e-01, 2.602e-03, 6.436e-04,\n",
       "         2.065e-03, 1.601e-03, 4.908e-03],\n",
       "        [7.446e-01, 3.591e-04, 1.342e-03, 1.275e-02, 2.664e-03, 1.323e-03,\n",
       "         1.368e-04, 1.786e-03, 2.293e-03, 6.282e-03, 1.915e-03, 1.188e-04,\n",
       "         2.109e-02, 6.637e-03, 1.521e-03, 1.833e-01, 2.602e-03, 6.436e-04,\n",
       "         2.065e-03, 1.601e-03, 4.908e-03],\n",
       "        [7.446e-01, 3.591e-04, 1.342e-03, 1.275e-02, 2.664e-03, 1.323e-03,\n",
       "         1.368e-04, 1.786e-03, 2.293e-03, 6.282e-03, 1.915e-03, 1.188e-04,\n",
       "         2.109e-02, 6.637e-03, 1.521e-03, 1.833e-01, 2.602e-03, 6.436e-04,\n",
       "         2.065e-03, 1.601e-03, 4.908e-03],\n",
       "        [7.446e-01, 3.591e-04, 1.342e-03, 1.275e-02, 2.664e-03, 1.323e-03,\n",
       "         1.368e-04, 1.786e-03, 2.293e-03, 6.282e-03, 1.915e-03, 1.188e-04,\n",
       "         2.109e-02, 6.637e-03, 1.521e-03, 1.833e-01, 2.602e-03, 6.436e-04,\n",
       "         2.065e-03, 1.601e-03, 4.908e-03],\n",
       "        [7.446e-01, 3.591e-04, 1.342e-03, 1.275e-02, 2.664e-03, 1.323e-03,\n",
       "         1.368e-04, 1.786e-03, 2.293e-03, 6.282e-03, 1.915e-03, 1.188e-04,\n",
       "         2.109e-02, 6.637e-03, 1.521e-03, 1.833e-01, 2.602e-03, 6.436e-04,\n",
       "         2.065e-03, 1.601e-03, 4.908e-03],\n",
       "        [7.446e-01, 3.591e-04, 1.342e-03, 1.275e-02, 2.664e-03, 1.323e-03,\n",
       "         1.368e-04, 1.786e-03, 2.293e-03, 6.282e-03, 1.915e-03, 1.188e-04,\n",
       "         2.109e-02, 6.637e-03, 1.521e-03, 1.833e-01, 2.602e-03, 6.436e-04,\n",
       "         2.065e-03, 1.601e-03, 4.908e-03],\n",
       "        [7.446e-01, 3.591e-04, 1.342e-03, 1.275e-02, 2.664e-03, 1.323e-03,\n",
       "         1.368e-04, 1.786e-03, 2.293e-03, 6.282e-03, 1.915e-03, 1.188e-04,\n",
       "         2.109e-02, 6.637e-03, 1.521e-03, 1.833e-01, 2.602e-03, 6.436e-04,\n",
       "         2.065e-03, 1.601e-03, 4.908e-03],\n",
       "        [8.919e-01, 9.078e-04, 7.869e-03, 4.684e-03, 1.449e-03, 8.323e-04,\n",
       "         5.266e-04, 5.682e-03, 1.889e-03, 1.840e-03, 2.615e-03, 9.069e-04,\n",
       "         9.195e-03, 3.311e-03, 9.819e-04, 4.404e-02, 8.419e-04, 3.215e-04,\n",
       "         1.137e-02, 4.345e-03, 4.533e-03],\n",
       "        [9.790e-01, 2.614e-04, 1.240e-03, 1.517e-03, 2.369e-04, 2.168e-04,\n",
       "         5.880e-04, 1.532e-03, 2.478e-04, 1.299e-03, 9.068e-04, 3.366e-04,\n",
       "         9.254e-04, 8.900e-04, 5.745e-04, 5.490e-03, 3.667e-04, 2.010e-04,\n",
       "         1.881e-03, 1.448e-04, 2.192e-03],\n",
       "        [8.919e-01, 9.078e-04, 7.869e-03, 4.684e-03, 1.449e-03, 8.323e-04,\n",
       "         5.266e-04, 5.682e-03, 1.889e-03, 1.840e-03, 2.615e-03, 9.069e-04,\n",
       "         9.195e-03, 3.311e-03, 9.819e-04, 4.404e-02, 8.419e-04, 3.215e-04,\n",
       "         1.137e-02, 4.345e-03, 4.533e-03],\n",
       "        [7.423e-01, 6.901e-04, 1.484e-03, 4.642e-03, 3.937e-03, 1.021e-03,\n",
       "         6.685e-04, 4.262e-03, 5.574e-02, 9.642e-04, 2.658e-03, 7.006e-05,\n",
       "         2.842e-02, 3.027e-03, 1.104e-03, 1.345e-01, 2.298e-03, 5.491e-04,\n",
       "         2.030e-03, 6.576e-03, 3.074e-03],\n",
       "        [9.790e-01, 2.614e-04, 1.240e-03, 1.517e-03, 2.369e-04, 2.168e-04,\n",
       "         5.880e-04, 1.532e-03, 2.478e-04, 1.299e-03, 9.068e-04, 3.366e-04,\n",
       "         9.254e-04, 8.900e-04, 5.745e-04, 5.490e-03, 3.667e-04, 2.010e-04,\n",
       "         1.881e-03, 1.448e-04, 2.192e-03],\n",
       "        [8.919e-01, 9.078e-04, 7.869e-03, 4.684e-03, 1.449e-03, 8.323e-04,\n",
       "         5.266e-04, 5.682e-03, 1.889e-03, 1.840e-03, 2.615e-03, 9.069e-04,\n",
       "         9.195e-03, 3.311e-03, 9.819e-04, 4.404e-02, 8.419e-04, 3.215e-04,\n",
       "         1.137e-02, 4.345e-03, 4.533e-03],\n",
       "        [9.790e-01, 2.614e-04, 1.240e-03, 1.517e-03, 2.369e-04, 2.168e-04,\n",
       "         5.880e-04, 1.532e-03, 2.478e-04, 1.299e-03, 9.068e-04, 3.366e-04,\n",
       "         9.254e-04, 8.900e-04, 5.745e-04, 5.490e-03, 3.667e-04, 2.010e-04,\n",
       "         1.881e-03, 1.448e-04, 2.192e-03],\n",
       "        [8.919e-01, 9.078e-04, 7.869e-03, 4.684e-03, 1.449e-03, 8.323e-04,\n",
       "         5.266e-04, 5.682e-03, 1.889e-03, 1.840e-03, 2.615e-03, 9.069e-04,\n",
       "         9.195e-03, 3.311e-03, 9.819e-04, 4.404e-02, 8.419e-04, 3.215e-04,\n",
       "         1.137e-02, 4.345e-03, 4.533e-03],\n",
       "        [7.423e-01, 6.901e-04, 1.484e-03, 4.642e-03, 3.937e-03, 1.021e-03,\n",
       "         6.685e-04, 4.262e-03, 5.574e-02, 9.642e-04, 2.658e-03, 7.006e-05,\n",
       "         2.842e-02, 3.027e-03, 1.104e-03, 1.345e-01, 2.298e-03, 5.491e-04,\n",
       "         2.030e-03, 6.576e-03, 3.074e-03],\n",
       "        [8.919e-01, 9.078e-04, 7.869e-03, 4.684e-03, 1.449e-03, 8.323e-04,\n",
       "         5.266e-04, 5.682e-03, 1.889e-03, 1.840e-03, 2.615e-03, 9.069e-04,\n",
       "         9.195e-03, 3.311e-03, 9.819e-04, 4.404e-02, 8.419e-04, 3.215e-04,\n",
       "         1.137e-02, 4.345e-03, 4.533e-03],\n",
       "        [9.790e-01, 2.614e-04, 1.240e-03, 1.517e-03, 2.369e-04, 2.168e-04,\n",
       "         5.880e-04, 1.532e-03, 2.478e-04, 1.299e-03, 9.068e-04, 3.366e-04,\n",
       "         9.254e-04, 8.900e-04, 5.745e-04, 5.490e-03, 3.667e-04, 2.010e-04,\n",
       "         1.881e-03, 1.448e-04, 2.192e-03],\n",
       "        [8.919e-01, 9.078e-04, 7.869e-03, 4.684e-03, 1.449e-03, 8.323e-04,\n",
       "         5.266e-04, 5.682e-03, 1.889e-03, 1.840e-03, 2.615e-03, 9.069e-04,\n",
       "         9.195e-03, 3.311e-03, 9.819e-04, 4.404e-02, 8.419e-04, 3.215e-04,\n",
       "         1.137e-02, 4.345e-03, 4.533e-03],\n",
       "        [7.423e-01, 6.901e-04, 1.484e-03, 4.642e-03, 3.937e-03, 1.021e-03,\n",
       "         6.685e-04, 4.262e-03, 5.574e-02, 9.642e-04, 2.658e-03, 7.006e-05,\n",
       "         2.842e-02, 3.027e-03, 1.104e-03, 1.345e-01, 2.298e-03, 5.491e-04,\n",
       "         2.030e-03, 6.576e-03, 3.074e-03],\n",
       "        [7.611e-01, 4.186e-03, 5.286e-03, 1.921e-02, 9.602e-03, 3.258e-03,\n",
       "         2.994e-02, 1.391e-02, 1.483e-02, 5.032e-03, 9.974e-03, 9.030e-03,\n",
       "         1.479e-02, 5.482e-03, 6.156e-03, 3.279e-02, 4.356e-03, 1.442e-03,\n",
       "         1.874e-02, 2.371e-02, 7.141e-03],\n",
       "        [7.554e-01, 6.356e-03, 4.417e-03, 2.585e-02, 8.606e-03, 3.552e-03,\n",
       "         3.175e-02, 1.888e-02, 1.131e-02, 2.473e-03, 6.403e-03, 4.059e-03,\n",
       "         1.495e-02, 5.373e-03, 7.545e-03, 3.597e-02, 4.738e-03, 9.929e-03,\n",
       "         1.175e-02, 2.515e-02, 5.492e-03]], grad_fn=<SoftmaxBackward>)"
      ]
     },
     "execution_count": 47,
     "metadata": {},
     "output_type": "execute_result"
    }
   ],
   "source": [
    "F.softmax(pred)"
   ]
  },
  {
   "cell_type": "code",
   "execution_count": 48,
   "metadata": {},
   "outputs": [
    {
     "data": {
      "text/plain": [
       "tensor([[ 4.767,  6.817,  1.074, -0.955],\n",
       "        [ 4.767,  7.649,  1.074, -0.955],\n",
       "        [ 4.767,  8.065,  1.074, -0.955],\n",
       "        [ 5.599,  3.072,  1.074, -0.955],\n",
       "        [ 5.599,  3.488,  1.074, -0.955],\n",
       "        [ 5.599,  4.320,  1.074, -0.955],\n",
       "        [ 6.431, -1.089,  1.074, -0.955],\n",
       "        [ 6.431, -0.257,  1.074, -0.955],\n",
       "        [ 6.431,  0.159,  1.074, -0.955],\n",
       "        [ 7.263, -4.834,  1.074, -0.955],\n",
       "        [ 7.263, -4.418,  1.074, -0.955],\n",
       "        [ 7.263, -3.585,  1.074, -0.955],\n",
       "        [ 7.263,  6.817,  1.074, -0.955],\n",
       "        [ 7.263,  7.649,  1.074, -0.955],\n",
       "        [ 7.263,  8.065,  1.074, -0.955],\n",
       "        [ 9.260,  1.992, -0.656,  0.781],\n",
       "        [11.186,  3.829,  0.289,  1.726],\n",
       "        [ 9.260,  3.169, -0.656,  0.781],\n",
       "        [ 9.623,  1.647, -0.464, -2.493],\n",
       "        [11.186, 13.075,  0.289,  1.726],\n",
       "        [ 9.260, 10.823, -0.656,  0.781],\n",
       "        [11.186, 14.497,  0.289,  1.726],\n",
       "        [ 9.260, 12.000, -0.656,  0.781],\n",
       "        [ 9.623,  6.235, -0.464, -2.493],\n",
       "        [ 9.848, -2.718, -0.656,  0.781],\n",
       "        [11.898, -1.861,  0.289,  1.726],\n",
       "        [ 9.848, -1.541, -0.656,  0.781],\n",
       "        [10.235, -0.801, -0.464, -2.493],\n",
       "        [ 9.127, -4.199, -1.602, -0.165],\n",
       "        [ 7.959, -3.662, -2.286, -0.849]])"
      ]
     },
     "execution_count": 48,
     "metadata": {},
     "output_type": "execute_result"
    }
   ],
   "source": [
    "bbox_target[pos_mask]"
   ]
  },
  {
   "cell_type": "code",
   "execution_count": 49,
   "metadata": {},
   "outputs": [
    {
     "data": {
      "text/plain": [
       "tensor([[ 5.631e+00,  7.717e-01,  2.746e-01,  2.131e-03],\n",
       "        [ 5.631e+00,  7.717e-01,  2.746e-01,  2.131e-03],\n",
       "        [ 5.631e+00,  7.717e-01,  2.746e-01,  2.131e-03],\n",
       "        [ 5.631e+00,  7.717e-01,  2.746e-01,  2.131e-03],\n",
       "        [ 5.631e+00,  7.717e-01,  2.746e-01,  2.131e-03],\n",
       "        [ 5.631e+00,  7.717e-01,  2.746e-01,  2.131e-03],\n",
       "        [ 5.631e+00,  7.717e-01,  2.746e-01,  2.131e-03],\n",
       "        [ 5.631e+00,  7.717e-01,  2.746e-01,  2.131e-03],\n",
       "        [ 5.631e+00,  7.717e-01,  2.746e-01,  2.131e-03],\n",
       "        [ 5.631e+00,  7.717e-01,  2.746e-01,  2.131e-03],\n",
       "        [ 5.631e+00,  7.717e-01,  2.746e-01,  2.131e-03],\n",
       "        [ 5.631e+00,  7.717e-01,  2.746e-01,  2.131e-03],\n",
       "        [ 5.631e+00,  7.717e-01,  2.746e-01,  2.131e-03],\n",
       "        [ 5.631e+00,  7.717e-01,  2.746e-01,  2.131e-03],\n",
       "        [ 5.631e+00,  7.717e-01,  2.746e-01,  2.131e-03],\n",
       "        [ 9.183e+00,  1.652e+00,  7.651e-01,  9.103e-01],\n",
       "        [ 1.106e+01,  1.067e+00, -4.055e-01,  6.250e-01],\n",
       "        [ 9.183e+00,  1.652e+00,  7.651e-01,  9.103e-01],\n",
       "        [ 9.719e+00,  9.797e-01,  1.616e+00, -4.933e-01],\n",
       "        [ 1.106e+01,  1.067e+00, -4.055e-01,  6.250e-01],\n",
       "        [ 9.183e+00,  1.652e+00,  7.651e-01,  9.103e-01],\n",
       "        [ 1.106e+01,  1.067e+00, -4.055e-01,  6.250e-01],\n",
       "        [ 9.183e+00,  1.652e+00,  7.651e-01,  9.103e-01],\n",
       "        [ 9.719e+00,  9.797e-01,  1.616e+00, -4.933e-01],\n",
       "        [ 9.183e+00,  1.652e+00,  7.651e-01,  9.103e-01],\n",
       "        [ 1.106e+01,  1.067e+00, -4.055e-01,  6.250e-01],\n",
       "        [ 9.183e+00,  1.652e+00,  7.651e-01,  9.103e-01],\n",
       "        [ 9.719e+00,  9.797e-01,  1.616e+00, -4.933e-01],\n",
       "        [ 7.780e+00, -1.705e+00,  6.312e-01,  8.397e-01],\n",
       "        [ 6.641e+00, -2.375e+00,  5.100e-01,  9.978e-01]],\n",
       "       grad_fn=<IndexBackward>)"
      ]
     },
     "execution_count": 49,
     "metadata": {},
     "output_type": "execute_result"
    }
   ],
   "source": [
    "loc_pred[0][pos_mask]"
   ]
  },
  {
   "cell_type": "code",
   "execution_count": 14,
   "metadata": {},
   "outputs": [],
   "source": [
    "s = slice(None, 20, None)"
   ]
  },
  {
   "cell_type": "code",
   "execution_count": 16,
   "metadata": {
    "scrolled": true
   },
   "outputs": [
    {
     "name": "stdout",
     "output_type": "stream",
     "text": [
      "0\n",
      "1\n",
      "2\n",
      "3\n",
      "4\n",
      "5\n",
      "6\n",
      "7\n",
      "8\n",
      "9\n",
      "10\n",
      "11\n",
      "12\n",
      "13\n",
      "14\n",
      "15\n",
      "16\n",
      "17\n",
      "18\n",
      "19\n"
     ]
    }
   ],
   "source": [
    "for i in range(s.start, s.stop):\n",
    "    print(i)"
   ]
  },
  {
   "cell_type": "code",
   "execution_count": null,
   "metadata": {},
   "outputs": [],
   "source": []
  }
 ],
 "metadata": {
  "kernelspec": {
   "display_name": "Python 3",
   "language": "python",
   "name": "python3"
  },
  "language_info": {
   "codemirror_mode": {
    "name": "ipython",
    "version": 3
   },
   "file_extension": ".py",
   "mimetype": "text/x-python",
   "name": "python",
   "nbconvert_exporter": "python",
   "pygments_lexer": "ipython3",
   "version": "3.6.7"
  }
 },
 "nbformat": 4,
 "nbformat_minor": 2
}
