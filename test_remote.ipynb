{
 "cells": [
  {
   "cell_type": "code",
   "execution_count": 1,
   "metadata": {},
   "outputs": [],
   "source": [
    "import os\n",
    "import torch\n",
    "from tqdm import tqdm_notebook\n",
    "from matplotlib import pyplot as plt\n",
    "from itertools import product\n",
    "import json\n",
    "from collections import defaultdict\n",
    "\n",
    "from torch import nn\n",
    "from torch.autograd import Variable\n",
    "from torch.functional import F\n",
    "from torchvision import models\n",
    "import torchvision\n",
    "from torch.utils.data import Dataset, DataLoader\n",
    "import cv2\n",
    "import numpy as np\n",
    "\n",
    "# from fastai import transforms, model, dataset, conv_learner\n",
    "\n",
    "from PIL import ImageDraw, ImageFont\n",
    "from matplotlib import patches, patheffects\n",
    "from matplotlib import pyplot as plt\n",
    "import numpy as np\n",
    "import pandas as pd\n",
    "from augmentation import SSDAugmentation\n",
    "\n",
    "from Config import Config\n",
    "from SSD_model import get_SSD_model, lr_find\n",
    "from VOC_data import VOC_dataset\n",
    "from SSDloss import *\n",
    "\n",
    "torch.set_printoptions(precision=3)"
   ]
  },
  {
   "cell_type": "code",
   "execution_count": 2,
   "metadata": {},
   "outputs": [],
   "source": [
    "def detection_collate_fn(batch):\n",
    "    imgs, bboxes, labels = [], [], []\n",
    "    for i, b, l in batch:\n",
    "        imgs.append(i); bboxes.append(b); labels.append(l)\n",
    "    return torch.stack(imgs), bboxes, labels"
   ]
  },
  {
   "cell_type": "code",
   "execution_count": 3,
   "metadata": {},
   "outputs": [
    {
     "name": "stderr",
     "output_type": "stream",
     "text": [
      "/home/kindeqi/PyTorch_SSD/SSD_model.py:180: UserWarning: nn.init.kaiming_uniform is now deprecated in favor of nn.init.kaiming_uniform_.\n",
      "  nn.init.kaiming_uniform(m.weight.data)\n"
     ]
    },
    {
     "name": "stdout",
     "output_type": "stream",
     "text": [
      "success build ssd model\n"
     ]
    },
    {
     "name": "stderr",
     "output_type": "stream",
     "text": [
      "\r",
      "  0%|          | 0/157 [00:00<?, ?it/s]"
     ]
    },
    {
     "name": "stdout",
     "output_type": "stream",
     "text": [
      "SGD\n"
     ]
    },
    {
     "name": "stderr",
     "output_type": "stream",
     "text": [
      "/home/kindeqi/.local/lib/python3.6/site-packages/torch/nn/_reduction.py:49: UserWarning: size_average and reduce args will be deprecated, please use reduction='none' instead.\n",
      "  warnings.warn(warning.format(ret))\n"
     ]
    },
    {
     "name": "stdout",
     "output_type": "stream",
     "text": [
      "tensor(1020.436, device='cuda:0', grad_fn=<SumBackward0>) tensor(8327.303, device='cuda:0', grad_fn=<SumBackward0>) tensor(1725.962, device='cuda:0', grad_fn=<SumBackward0>)\n",
      "tensor(2128.590, device='cuda:0', grad_fn=<SumBackward0>) tensor(15688.219, device='cuda:0', grad_fn=<SumBackward0>) tensor(3450.290, device='cuda:0', grad_fn=<SumBackward0>)\n",
      "tensor(7196.363, device='cuda:0', grad_fn=<SumBackward0>) tensor(45002.910, device='cuda:0', grad_fn=<SumBackward0>) tensor(7923.960, device='cuda:0', grad_fn=<SumBackward0>)\n",
      "tensor(1171.138, device='cuda:0', grad_fn=<SumBackward0>) tensor(8758.389, device='cuda:0', grad_fn=<SumBackward0>) tensor(1911.250, device='cuda:0', grad_fn=<SumBackward0>)\n",
      "tensor(876.139, device='cuda:0', grad_fn=<SumBackward0>) tensor(13713.261, device='cuda:0', grad_fn=<SumBackward0>) tensor(1302.746, device='cuda:0', grad_fn=<SumBackward0>)\n",
      "tensor(602.392, device='cuda:0', grad_fn=<SumBackward0>) tensor(15815.205, device='cuda:0', grad_fn=<SumBackward0>) tensor(862.032, device='cuda:0', grad_fn=<SumBackward0>)\n",
      "tensor(1109.883, device='cuda:0', grad_fn=<SumBackward0>) tensor(6757.533, device='cuda:0', grad_fn=<SumBackward0>) tensor(1210.396, device='cuda:0', grad_fn=<SumBackward0>)\n",
      "tensor(2448.678, device='cuda:0', grad_fn=<SumBackward0>) tensor(13636.888, device='cuda:0', grad_fn=<SumBackward0>) tensor(2083.813, device='cuda:0', grad_fn=<SumBackward0>)\n",
      "tensor(315.673, device='cuda:0', grad_fn=<SumBackward0>) tensor(3720.348, device='cuda:0', grad_fn=<SumBackward0>) tensor(507.056, device='cuda:0', grad_fn=<SumBackward0>)\n",
      "tensor(2118.366, device='cuda:0', grad_fn=<SumBackward0>) tensor(15371.733, device='cuda:0', grad_fn=<SumBackward0>) tensor(3345.459, device='cuda:0', grad_fn=<SumBackward0>)\n",
      "tensor(1232.802, device='cuda:0', grad_fn=<SumBackward0>) tensor(10325.223, device='cuda:0', grad_fn=<SumBackward0>) tensor(2407.437, device='cuda:0', grad_fn=<SumBackward0>)\n",
      "tensor(478.532, device='cuda:0', grad_fn=<SumBackward0>) tensor(12875.289, device='cuda:0', grad_fn=<SumBackward0>) tensor(1049.675, device='cuda:0', grad_fn=<SumBackward0>)\n",
      "tensor(315.261, device='cuda:0', grad_fn=<SumBackward0>) tensor(6265.309, device='cuda:0', grad_fn=<SumBackward0>) tensor(1104.980, device='cuda:0', grad_fn=<SumBackward0>)\n",
      "tensor(471.978, device='cuda:0', grad_fn=<SumBackward0>) tensor(5844.749, device='cuda:0', grad_fn=<SumBackward0>) tensor(910.041, device='cuda:0', grad_fn=<SumBackward0>)\n",
      "tensor(135.903, device='cuda:0', grad_fn=<SumBackward0>) tensor(3606.406, device='cuda:0', grad_fn=<SumBackward0>) tensor(476.771, device='cuda:0', grad_fn=<SumBackward0>)\n",
      "tensor(21.385, device='cuda:0', grad_fn=<SumBackward0>) tensor(4109.888, device='cuda:0', grad_fn=<SumBackward0>) tensor(33.027, device='cuda:0', grad_fn=<SumBackward0>)\n"
     ]
    },
    {
     "name": "stderr",
     "output_type": "stream",
     "text": [
      "\r",
      "  1%|          | 1/157 [00:03<08:19,  3.20s/it]"
     ]
    },
    {
     "name": "stdout",
     "output_type": "stream",
     "text": [
      "tensor(2880.311, device='cuda:0', grad_fn=<SumBackward0>) tensor(9638.580, device='cuda:0', grad_fn=<SumBackward0>) tensor(2680.857, device='cuda:0', grad_fn=<SumBackward0>)\n",
      "tensor(414.360, device='cuda:0', grad_fn=<SumBackward0>) tensor(2560.885, device='cuda:0', grad_fn=<SumBackward0>) tensor(549.070, device='cuda:0', grad_fn=<SumBackward0>)\n",
      "tensor(848.101, device='cuda:0', grad_fn=<SumBackward0>) tensor(5703.065, device='cuda:0', grad_fn=<SumBackward0>) tensor(1295.139, device='cuda:0', grad_fn=<SumBackward0>)\n",
      "tensor(2187.830, device='cuda:0', grad_fn=<SumBackward0>) tensor(15151.990, device='cuda:0', grad_fn=<SumBackward0>) tensor(5543.824, device='cuda:0', grad_fn=<SumBackward0>)\n",
      "tensor(2550.124, device='cuda:0', grad_fn=<SumBackward0>) tensor(10059.319, device='cuda:0', grad_fn=<SumBackward0>) tensor(2904.864, device='cuda:0', grad_fn=<SumBackward0>)\n",
      "tensor(41.562, device='cuda:0', grad_fn=<SumBackward0>) tensor(3668.216, device='cuda:0', grad_fn=<SumBackward0>) tensor(57.892, device='cuda:0', grad_fn=<SumBackward0>)\n",
      "tensor(1195.849, device='cuda:0', grad_fn=<SumBackward0>) tensor(6895.389, device='cuda:0', grad_fn=<SumBackward0>) tensor(1390.309, device='cuda:0', grad_fn=<SumBackward0>)\n",
      "tensor(809.273, device='cuda:0', grad_fn=<SumBackward0>) tensor(5610.329, device='cuda:0', grad_fn=<SumBackward0>) tensor(1404.983, device='cuda:0', grad_fn=<SumBackward0>)\n",
      "tensor(101.209, device='cuda:0', grad_fn=<SumBackward0>) tensor(1116.713, device='cuda:0', grad_fn=<SumBackward0>) tensor(215.244, device='cuda:0', grad_fn=<SumBackward0>)\n",
      "tensor(6989.961, device='cuda:0', grad_fn=<SumBackward0>) tensor(27283.463, device='cuda:0', grad_fn=<SumBackward0>) tensor(7946.802, device='cuda:0', grad_fn=<SumBackward0>)\n",
      "tensor(2939.790, device='cuda:0', grad_fn=<SumBackward0>) tensor(12563.998, device='cuda:0', grad_fn=<SumBackward0>) tensor(2863.742, device='cuda:0', grad_fn=<SumBackward0>)\n",
      "tensor(474.295, device='cuda:0', grad_fn=<SumBackward0>) tensor(4921.367, device='cuda:0', grad_fn=<SumBackward0>) tensor(871.145, device='cuda:0', grad_fn=<SumBackward0>)\n",
      "tensor(3812.478, device='cuda:0', grad_fn=<SumBackward0>) tensor(13194.709, device='cuda:0', grad_fn=<SumBackward0>) tensor(3698.131, device='cuda:0', grad_fn=<SumBackward0>)\n",
      "tensor(1648.666, device='cuda:0', grad_fn=<SumBackward0>) tensor(8329.916, device='cuda:0', grad_fn=<SumBackward0>) tensor(2055.619, device='cuda:0', grad_fn=<SumBackward0>)\n",
      "tensor(296.267, device='cuda:0', grad_fn=<SumBackward0>) tensor(2582.961, device='cuda:0', grad_fn=<SumBackward0>) tensor(635.971, device='cuda:0', grad_fn=<SumBackward0>)\n",
      "tensor(76.231, device='cuda:0', grad_fn=<SumBackward0>) tensor(4396.497, device='cuda:0', grad_fn=<SumBackward0>) tensor(114.922, device='cuda:0', grad_fn=<SumBackward0>)\n"
     ]
    },
    {
     "name": "stderr",
     "output_type": "stream",
     "text": [
      "\r",
      "  1%|▏         | 2/157 [00:05<07:18,  2.83s/it]"
     ]
    },
    {
     "name": "stdout",
     "output_type": "stream",
     "text": [
      "tensor(3221.375, device='cuda:0', grad_fn=<SumBackward0>) tensor(2435.750, device='cuda:0', grad_fn=<SumBackward0>) tensor(688.293, device='cuda:0', grad_fn=<SumBackward0>)\n",
      "tensor(469.247, device='cuda:0', grad_fn=<SumBackward0>) tensor(1762.468, device='cuda:0', grad_fn=<SumBackward0>) tensor(666.635, device='cuda:0', grad_fn=<SumBackward0>)\n",
      "tensor(519.788, device='cuda:0', grad_fn=<SumBackward0>) tensor(3382.806, device='cuda:0', grad_fn=<SumBackward0>) tensor(687.414, device='cuda:0', grad_fn=<SumBackward0>)\n",
      "tensor(1409.157, device='cuda:0', grad_fn=<SumBackward0>) tensor(3070.318, device='cuda:0', grad_fn=<SumBackward0>) tensor(1221.927, device='cuda:0', grad_fn=<SumBackward0>)\n",
      "tensor(2225.500, device='cuda:0', grad_fn=<SumBackward0>) tensor(2836.908, device='cuda:0', grad_fn=<SumBackward0>) tensor(975.461, device='cuda:0', grad_fn=<SumBackward0>)\n",
      "tensor(1228.646, device='cuda:0', grad_fn=<SumBackward0>) tensor(4926.835, device='cuda:0', grad_fn=<SumBackward0>) tensor(1455.614, device='cuda:0', grad_fn=<SumBackward0>)\n",
      "tensor(1494.714, device='cuda:0', grad_fn=<SumBackward0>) tensor(3547.787, device='cuda:0', grad_fn=<SumBackward0>) tensor(1764.786, device='cuda:0', grad_fn=<SumBackward0>)\n",
      "tensor(1721.473, device='cuda:0', grad_fn=<SumBackward0>) tensor(2216.200, device='cuda:0', grad_fn=<SumBackward0>) tensor(571.751, device='cuda:0', grad_fn=<SumBackward0>)\n",
      "tensor(1385.324, device='cuda:0', grad_fn=<SumBackward0>) tensor(5657.340, device='cuda:0', grad_fn=<SumBackward0>) tensor(2224.868, device='cuda:0', grad_fn=<SumBackward0>)\n",
      "tensor(403.829, device='cuda:0', grad_fn=<SumBackward0>) tensor(2096.270, device='cuda:0', grad_fn=<SumBackward0>) tensor(717.682, device='cuda:0', grad_fn=<SumBackward0>)\n",
      "tensor(507.948, device='cuda:0', grad_fn=<SumBackward0>) tensor(2377.167, device='cuda:0', grad_fn=<SumBackward0>) tensor(648.055, device='cuda:0', grad_fn=<SumBackward0>)\n",
      "tensor(107.865, device='cuda:0', grad_fn=<SumBackward0>) tensor(1226.318, device='cuda:0', grad_fn=<SumBackward0>) tensor(274.920, device='cuda:0', grad_fn=<SumBackward0>)\n",
      "tensor(712.148, device='cuda:0', grad_fn=<SumBackward0>) tensor(2372.119, device='cuda:0', grad_fn=<SumBackward0>) tensor(1046.409, device='cuda:0', grad_fn=<SumBackward0>)\n",
      "tensor(850.557, device='cuda:0', grad_fn=<SumBackward0>) tensor(3790.013, device='cuda:0', grad_fn=<SumBackward0>) tensor(1064.509, device='cuda:0', grad_fn=<SumBackward0>)\n",
      "tensor(2741.070, device='cuda:0', grad_fn=<SumBackward0>) tensor(5050.550, device='cuda:0', grad_fn=<SumBackward0>) tensor(2568.408, device='cuda:0', grad_fn=<SumBackward0>)\n",
      "tensor(2332.217, device='cuda:0', grad_fn=<SumBackward0>) tensor(2035.736, device='cuda:0', grad_fn=<SumBackward0>) tensor(737.332, device='cuda:0', grad_fn=<SumBackward0>)\n"
     ]
    },
    {
     "name": "stderr",
     "output_type": "stream",
     "text": [
      "\r",
      "  2%|▏         | 3/157 [00:06<06:29,  2.53s/it]"
     ]
    },
    {
     "name": "stdout",
     "output_type": "stream",
     "text": [
      "tensor(919.346, device='cuda:0', grad_fn=<SumBackward0>) tensor(1555.117, device='cuda:0', grad_fn=<SumBackward0>) tensor(915.133, device='cuda:0', grad_fn=<SumBackward0>)\n",
      "tensor(3808.903, device='cuda:0', grad_fn=<SumBackward0>) tensor(899.504, device='cuda:0', grad_fn=<SumBackward0>) tensor(767.933, device='cuda:0', grad_fn=<SumBackward0>)\n",
      "tensor(199.149, device='cuda:0', grad_fn=<SumBackward0>) tensor(919.177, device='cuda:0', grad_fn=<SumBackward0>) tensor(296.442, device='cuda:0', grad_fn=<SumBackward0>)\n",
      "tensor(1761.158, device='cuda:0', grad_fn=<SumBackward0>) tensor(1350.750, device='cuda:0', grad_fn=<SumBackward0>) tensor(971.024, device='cuda:0', grad_fn=<SumBackward0>)\n",
      "tensor(2508.148, device='cuda:0', grad_fn=<SumBackward0>) tensor(2969.924, device='cuda:0', grad_fn=<SumBackward0>) tensor(1103.673, device='cuda:0', grad_fn=<SumBackward0>)\n",
      "tensor(19594.590, device='cuda:0', grad_fn=<SumBackward0>) tensor(4139.104, device='cuda:0', grad_fn=<SumBackward0>) tensor(5736.349, device='cuda:0', grad_fn=<SumBackward0>)\n",
      "tensor(1016.503, device='cuda:0', grad_fn=<SumBackward0>) tensor(1315.928, device='cuda:0', grad_fn=<SumBackward0>) tensor(858.761, device='cuda:0', grad_fn=<SumBackward0>)\n",
      "tensor(1463.283, device='cuda:0', grad_fn=<SumBackward0>) tensor(1735.004, device='cuda:0', grad_fn=<SumBackward0>) tensor(1331.150, device='cuda:0', grad_fn=<SumBackward0>)\n",
      "tensor(18930.164, device='cuda:0', grad_fn=<SumBackward0>) tensor(3193.350, device='cuda:0', grad_fn=<SumBackward0>) tensor(3726.264, device='cuda:0', grad_fn=<SumBackward0>)\n",
      "tensor(54.372, device='cuda:0', grad_fn=<SumBackward0>) tensor(591.917, device='cuda:0', grad_fn=<SumBackward0>) tensor(119.005, device='cuda:0', grad_fn=<SumBackward0>)\n",
      "tensor(3683.124, device='cuda:0', grad_fn=<SumBackward0>) tensor(1879.992, device='cuda:0', grad_fn=<SumBackward0>) tensor(1774.223, device='cuda:0', grad_fn=<SumBackward0>)\n",
      "tensor(263.332, device='cuda:0', grad_fn=<SumBackward0>) tensor(1170.021, device='cuda:0', grad_fn=<SumBackward0>) tensor(529.856, device='cuda:0', grad_fn=<SumBackward0>)\n",
      "tensor(477.056, device='cuda:0', grad_fn=<SumBackward0>) tensor(1496.080, device='cuda:0', grad_fn=<SumBackward0>) tensor(819.523, device='cuda:0', grad_fn=<SumBackward0>)\n",
      "tensor(753.123, device='cuda:0', grad_fn=<SumBackward0>) tensor(828.762, device='cuda:0', grad_fn=<SumBackward0>) tensor(446.948, device='cuda:0', grad_fn=<SumBackward0>)\n",
      "tensor(8091.192, device='cuda:0', grad_fn=<SumBackward0>) tensor(1771.667, device='cuda:0', grad_fn=<SumBackward0>) tensor(1781.661, device='cuda:0', grad_fn=<SumBackward0>)\n",
      "tensor(20574.725, device='cuda:0', grad_fn=<SumBackward0>) tensor(2495.892, device='cuda:0', grad_fn=<SumBackward0>) tensor(3204.680, device='cuda:0', grad_fn=<SumBackward0>)\n"
     ]
    },
    {
     "name": "stderr",
     "output_type": "stream",
     "text": [
      "\r",
      "  3%|▎         | 4/157 [00:08<05:58,  2.34s/it]"
     ]
    },
    {
     "name": "stdout",
     "output_type": "stream",
     "text": [
      "tensor(1905.093, device='cuda:0', grad_fn=<SumBackward0>) tensor(1098.430, device='cuda:0', grad_fn=<SumBackward0>) tensor(1506.930, device='cuda:0', grad_fn=<SumBackward0>)\n",
      "tensor(4818.924, device='cuda:0', grad_fn=<SumBackward0>) tensor(1199.493, device='cuda:0', grad_fn=<SumBackward0>) tensor(2306.996, device='cuda:0', grad_fn=<SumBackward0>)\n",
      "tensor(8625.930, device='cuda:0', grad_fn=<SumBackward0>) tensor(1645.649, device='cuda:0', grad_fn=<SumBackward0>) tensor(2335.240, device='cuda:0', grad_fn=<SumBackward0>)\n",
      "tensor(1156.099, device='cuda:0', grad_fn=<SumBackward0>) tensor(647.221, device='cuda:0', grad_fn=<SumBackward0>) tensor(677.857, device='cuda:0', grad_fn=<SumBackward0>)\n",
      "tensor(1625.093, device='cuda:0', grad_fn=<SumBackward0>) tensor(743.241, device='cuda:0', grad_fn=<SumBackward0>) tensor(514.080, device='cuda:0', grad_fn=<SumBackward0>)\n",
      "tensor(12656.656, device='cuda:0', grad_fn=<SumBackward0>) tensor(1009.387, device='cuda:0', grad_fn=<SumBackward0>) tensor(2467.533, device='cuda:0', grad_fn=<SumBackward0>)\n",
      "tensor(984.259, device='cuda:0', grad_fn=<SumBackward0>) tensor(459.934, device='cuda:0', grad_fn=<SumBackward0>) tensor(498.623, device='cuda:0', grad_fn=<SumBackward0>)\n",
      "tensor(113.980, device='cuda:0', grad_fn=<SumBackward0>) tensor(460.749, device='cuda:0', grad_fn=<SumBackward0>) tensor(220.476, device='cuda:0', grad_fn=<SumBackward0>)\n",
      "tensor(170.340, device='cuda:0', grad_fn=<SumBackward0>) tensor(483.630, device='cuda:0', grad_fn=<SumBackward0>) tensor(223.104, device='cuda:0', grad_fn=<SumBackward0>)\n",
      "tensor(1102.294, device='cuda:0', grad_fn=<SumBackward0>) tensor(555.734, device='cuda:0', grad_fn=<SumBackward0>) tensor(638.360, device='cuda:0', grad_fn=<SumBackward0>)\n",
      "tensor(108.349, device='cuda:0', grad_fn=<SumBackward0>) tensor(595.159, device='cuda:0', grad_fn=<SumBackward0>) tensor(157.382, device='cuda:0', grad_fn=<SumBackward0>)\n",
      "tensor(66.273, device='cuda:0', grad_fn=<SumBackward0>) tensor(208.267, device='cuda:0', grad_fn=<SumBackward0>) tensor(45.815, device='cuda:0', grad_fn=<SumBackward0>)\n",
      "tensor(7752.633, device='cuda:0', grad_fn=<SumBackward0>) tensor(1266.096, device='cuda:0', grad_fn=<SumBackward0>) tensor(2570.845, device='cuda:0', grad_fn=<SumBackward0>)\n",
      "tensor(2210.123, device='cuda:0', grad_fn=<SumBackward0>) tensor(533.413, device='cuda:0', grad_fn=<SumBackward0>) tensor(627.607, device='cuda:0', grad_fn=<SumBackward0>)\n",
      "tensor(15664.486, device='cuda:0', grad_fn=<SumBackward0>) tensor(1903.349, device='cuda:0', grad_fn=<SumBackward0>) tensor(4154.790, device='cuda:0', grad_fn=<SumBackward0>)\n",
      "tensor(166.262, device='cuda:0', grad_fn=<SumBackward0>) tensor(370.131, device='cuda:0', grad_fn=<SumBackward0>) tensor(246.925, device='cuda:0', grad_fn=<SumBackward0>)\n"
     ]
    },
    {
     "name": "stderr",
     "output_type": "stream",
     "text": [
      "\r",
      "  3%|▎         | 5/157 [00:10<05:36,  2.22s/it]"
     ]
    },
    {
     "name": "stdout",
     "output_type": "stream",
     "text": [
      "tensor(89.591, device='cuda:0', grad_fn=<SumBackward0>) tensor(225.890, device='cuda:0', grad_fn=<SumBackward0>) tensor(128.792, device='cuda:0', grad_fn=<SumBackward0>)\n",
      "tensor(14050.330, device='cuda:0', grad_fn=<SumBackward0>) tensor(1551.419, device='cuda:0', grad_fn=<SumBackward0>) tensor(4137.672, device='cuda:0', grad_fn=<SumBackward0>)\n",
      "tensor(108.163, device='cuda:0', grad_fn=<SumBackward0>) tensor(270.568, device='cuda:0', grad_fn=<SumBackward0>) tensor(189.308, device='cuda:0', grad_fn=<SumBackward0>)\n",
      "tensor(2953.733, device='cuda:0', grad_fn=<SumBackward0>) tensor(701.146, device='cuda:0', grad_fn=<SumBackward0>) tensor(1202.783, device='cuda:0', grad_fn=<SumBackward0>)\n",
      "tensor(8185.336, device='cuda:0', grad_fn=<SumBackward0>) tensor(792.890, device='cuda:0', grad_fn=<SumBackward0>) tensor(2036.756, device='cuda:0', grad_fn=<SumBackward0>)\n",
      "tensor(7620.996, device='cuda:0', grad_fn=<SumBackward0>) tensor(708.362, device='cuda:0', grad_fn=<SumBackward0>) tensor(1774.190, device='cuda:0', grad_fn=<SumBackward0>)\n",
      "tensor(665.225, device='cuda:0', grad_fn=<SumBackward0>) tensor(583.260, device='cuda:0', grad_fn=<SumBackward0>) tensor(348.730, device='cuda:0', grad_fn=<SumBackward0>)\n",
      "tensor(219.893, device='cuda:0', grad_fn=<SumBackward0>) tensor(450.473, device='cuda:0', grad_fn=<SumBackward0>) tensor(320.725, device='cuda:0', grad_fn=<SumBackward0>)\n",
      "tensor(238.169, device='cuda:0', grad_fn=<SumBackward0>) tensor(283.400, device='cuda:0', grad_fn=<SumBackward0>) tensor(286.639, device='cuda:0', grad_fn=<SumBackward0>)\n",
      "tensor(77.344, device='cuda:0', grad_fn=<SumBackward0>) tensor(307.791, device='cuda:0', grad_fn=<SumBackward0>) tensor(191.065, device='cuda:0', grad_fn=<SumBackward0>)\n",
      "tensor(187.548, device='cuda:0', grad_fn=<SumBackward0>) tensor(276.937, device='cuda:0', grad_fn=<SumBackward0>) tensor(184.430, device='cuda:0', grad_fn=<SumBackward0>)\n",
      "tensor(768.469, device='cuda:0', grad_fn=<SumBackward0>) tensor(844.413, device='cuda:0', grad_fn=<SumBackward0>) tensor(942.347, device='cuda:0', grad_fn=<SumBackward0>)\n",
      "tensor(150.125, device='cuda:0', grad_fn=<SumBackward0>) tensor(320.147, device='cuda:0', grad_fn=<SumBackward0>) tensor(228.201, device='cuda:0', grad_fn=<SumBackward0>)\n",
      "tensor(98.598, device='cuda:0', grad_fn=<SumBackward0>) tensor(252.876, device='cuda:0', grad_fn=<SumBackward0>) tensor(134.395, device='cuda:0', grad_fn=<SumBackward0>)\n",
      "tensor(453.564, device='cuda:0', grad_fn=<SumBackward0>) tensor(451.431, device='cuda:0', grad_fn=<SumBackward0>) tensor(697.954, device='cuda:0', grad_fn=<SumBackward0>)\n",
      "tensor(31.812, device='cuda:0', grad_fn=<SumBackward0>) tensor(365.430, device='cuda:0', grad_fn=<SumBackward0>) tensor(69.978, device='cuda:0', grad_fn=<SumBackward0>)\n"
     ]
    },
    {
     "name": "stderr",
     "output_type": "stream",
     "text": [
      "\r",
      "  4%|▍         | 6/157 [00:12<05:19,  2.12s/it]"
     ]
    },
    {
     "name": "stdout",
     "output_type": "stream",
     "text": [
      "tensor(2579.211, device='cuda:0', grad_fn=<SumBackward0>) tensor(523.657, device='cuda:0', grad_fn=<SumBackward0>) tensor(1161.074, device='cuda:0', grad_fn=<SumBackward0>)\n",
      "tensor(21935.814, device='cuda:0', grad_fn=<SumBackward0>) tensor(1221.863, device='cuda:0', grad_fn=<SumBackward0>) tensor(3674.654, device='cuda:0', grad_fn=<SumBackward0>)\n",
      "tensor(19589.836, device='cuda:0', grad_fn=<SumBackward0>) tensor(715.087, device='cuda:0', grad_fn=<SumBackward0>) tensor(2525.833, device='cuda:0', grad_fn=<SumBackward0>)\n",
      "tensor(49.214, device='cuda:0', grad_fn=<SumBackward0>) tensor(153.749, device='cuda:0', grad_fn=<SumBackward0>) tensor(46.191, device='cuda:0', grad_fn=<SumBackward0>)\n",
      "tensor(65.090, device='cuda:0', grad_fn=<SumBackward0>) tensor(218.561, device='cuda:0', grad_fn=<SumBackward0>) tensor(79.170, device='cuda:0', grad_fn=<SumBackward0>)\n",
      "tensor(209.608, device='cuda:0', grad_fn=<SumBackward0>) tensor(209.675, device='cuda:0', grad_fn=<SumBackward0>) tensor(228.544, device='cuda:0', grad_fn=<SumBackward0>)\n",
      "tensor(1828.339, device='cuda:0', grad_fn=<SumBackward0>) tensor(520.072, device='cuda:0', grad_fn=<SumBackward0>) tensor(1006.276, device='cuda:0', grad_fn=<SumBackward0>)\n",
      "tensor(223.907, device='cuda:0', grad_fn=<SumBackward0>) tensor(236.870, device='cuda:0', grad_fn=<SumBackward0>) tensor(253.002, device='cuda:0', grad_fn=<SumBackward0>)\n",
      "tensor(59.292, device='cuda:0', grad_fn=<SumBackward0>) tensor(184.873, device='cuda:0', grad_fn=<SumBackward0>) tensor(70.132, device='cuda:0', grad_fn=<SumBackward0>)\n",
      "tensor(860.172, device='cuda:0', grad_fn=<SumBackward0>) tensor(158.582, device='cuda:0', grad_fn=<SumBackward0>) tensor(250.875, device='cuda:0', grad_fn=<SumBackward0>)\n",
      "tensor(131.876, device='cuda:0', grad_fn=<SumBackward0>) tensor(305.668, device='cuda:0', grad_fn=<SumBackward0>) tensor(261.982, device='cuda:0', grad_fn=<SumBackward0>)\n",
      "tensor(133.390, device='cuda:0', grad_fn=<SumBackward0>) tensor(236.413, device='cuda:0', grad_fn=<SumBackward0>) tensor(224.896, device='cuda:0', grad_fn=<SumBackward0>)\n",
      "tensor(9265.709, device='cuda:0', grad_fn=<SumBackward0>) tensor(804.333, device='cuda:0', grad_fn=<SumBackward0>) tensor(3471.190, device='cuda:0', grad_fn=<SumBackward0>)\n",
      "tensor(12500.449, device='cuda:0', grad_fn=<SumBackward0>) tensor(832.884, device='cuda:0', grad_fn=<SumBackward0>) tensor(1948.925, device='cuda:0', grad_fn=<SumBackward0>)\n",
      "tensor(3427.720, device='cuda:0', grad_fn=<SumBackward0>) tensor(604.597, device='cuda:0', grad_fn=<SumBackward0>) tensor(1425.086, device='cuda:0', grad_fn=<SumBackward0>)\n",
      "tensor(15465.651, device='cuda:0', grad_fn=<SumBackward0>) tensor(615.200, device='cuda:0', grad_fn=<SumBackward0>) tensor(3174.786, device='cuda:0', grad_fn=<SumBackward0>)\n"
     ]
    },
    {
     "name": "stderr",
     "output_type": "stream",
     "text": [
      "\r",
      "  4%|▍         | 7/157 [00:14<05:04,  2.03s/it]"
     ]
    },
    {
     "name": "stdout",
     "output_type": "stream",
     "text": [
      "tensor(2685.679, device='cuda:0', grad_fn=<SumBackward0>) tensor(511.330, device='cuda:0', grad_fn=<SumBackward0>) tensor(1030.940, device='cuda:0', grad_fn=<SumBackward0>)\n",
      "tensor(55.513, device='cuda:0', grad_fn=<SumBackward0>) tensor(264.828, device='cuda:0', grad_fn=<SumBackward0>) tensor(53.155, device='cuda:0', grad_fn=<SumBackward0>)\n",
      "tensor(6219.737, device='cuda:0', grad_fn=<SumBackward0>) tensor(266.936, device='cuda:0', grad_fn=<SumBackward0>) tensor(922.537, device='cuda:0', grad_fn=<SumBackward0>)\n",
      "tensor(1605.803, device='cuda:0', grad_fn=<SumBackward0>) tensor(328.192, device='cuda:0', grad_fn=<SumBackward0>) tensor(523.017, device='cuda:0', grad_fn=<SumBackward0>)\n",
      "tensor(8082.115, device='cuda:0', grad_fn=<SumBackward0>) tensor(1253.708, device='cuda:0', grad_fn=<SumBackward0>) tensor(2768.903, device='cuda:0', grad_fn=<SumBackward0>)\n",
      "tensor(544.727, device='cuda:0', grad_fn=<SumBackward0>) tensor(497.063, device='cuda:0', grad_fn=<SumBackward0>) tensor(548.919, device='cuda:0', grad_fn=<SumBackward0>)\n",
      "tensor(87.767, device='cuda:0', grad_fn=<SumBackward0>) tensor(277.135, device='cuda:0', grad_fn=<SumBackward0>) tensor(102.496, device='cuda:0', grad_fn=<SumBackward0>)\n",
      "tensor(10729.348, device='cuda:0', grad_fn=<SumBackward0>) tensor(651.025, device='cuda:0', grad_fn=<SumBackward0>) tensor(1050.201, device='cuda:0', grad_fn=<SumBackward0>)\n",
      "tensor(696.704, device='cuda:0', grad_fn=<SumBackward0>) tensor(272.730, device='cuda:0', grad_fn=<SumBackward0>) tensor(719.878, device='cuda:0', grad_fn=<SumBackward0>)\n",
      "tensor(4504.123, device='cuda:0', grad_fn=<SumBackward0>) tensor(464.160, device='cuda:0', grad_fn=<SumBackward0>) tensor(1095.678, device='cuda:0', grad_fn=<SumBackward0>)\n",
      "tensor(13471.801, device='cuda:0', grad_fn=<SumBackward0>) tensor(754.428, device='cuda:0', grad_fn=<SumBackward0>) tensor(1568.982, device='cuda:0', grad_fn=<SumBackward0>)\n",
      "tensor(10731.346, device='cuda:0', grad_fn=<SumBackward0>) tensor(749.135, device='cuda:0', grad_fn=<SumBackward0>) tensor(2915.639, device='cuda:0', grad_fn=<SumBackward0>)\n",
      "tensor(1444.604, device='cuda:0', grad_fn=<SumBackward0>) tensor(367.939, device='cuda:0', grad_fn=<SumBackward0>) tensor(848.455, device='cuda:0', grad_fn=<SumBackward0>)\n",
      "tensor(16418.848, device='cuda:0', grad_fn=<SumBackward0>) tensor(840.525, device='cuda:0', grad_fn=<SumBackward0>) tensor(4119.573, device='cuda:0', grad_fn=<SumBackward0>)\n",
      "tensor(294.566, device='cuda:0', grad_fn=<SumBackward0>) tensor(289.726, device='cuda:0', grad_fn=<SumBackward0>) tensor(303.731, device='cuda:0', grad_fn=<SumBackward0>)\n",
      "tensor(67.670, device='cuda:0', grad_fn=<SumBackward0>) tensor(384.100, device='cuda:0', grad_fn=<SumBackward0>) tensor(97.002, device='cuda:0', grad_fn=<SumBackward0>)\n"
     ]
    },
    {
     "name": "stderr",
     "output_type": "stream",
     "text": [
      "\r",
      "  5%|▌         | 8/157 [00:16<04:55,  1.98s/it]"
     ]
    },
    {
     "name": "stdout",
     "output_type": "stream",
     "text": [
      "tensor(1194.871, device='cuda:0', grad_fn=<SumBackward0>) tensor(543.713, device='cuda:0', grad_fn=<SumBackward0>) tensor(694.716, device='cuda:0', grad_fn=<SumBackward0>)\n",
      "tensor(54.210, device='cuda:0', grad_fn=<SumBackward0>) tensor(166.649, device='cuda:0', grad_fn=<SumBackward0>) tensor(61.204, device='cuda:0', grad_fn=<SumBackward0>)\n",
      "tensor(38444.426, device='cuda:0', grad_fn=<SumBackward0>) tensor(1235.978, device='cuda:0', grad_fn=<SumBackward0>) tensor(4944.287, device='cuda:0', grad_fn=<SumBackward0>)\n",
      "tensor(873.714, device='cuda:0', grad_fn=<SumBackward0>) tensor(237.843, device='cuda:0', grad_fn=<SumBackward0>) tensor(316.612, device='cuda:0', grad_fn=<SumBackward0>)\n",
      "tensor(15282.392, device='cuda:0', grad_fn=<SumBackward0>) tensor(1227.753, device='cuda:0', grad_fn=<SumBackward0>) tensor(1518.508, device='cuda:0', grad_fn=<SumBackward0>)\n",
      "tensor(25142.850, device='cuda:0', grad_fn=<SumBackward0>) tensor(1900.080, device='cuda:0', grad_fn=<SumBackward0>) tensor(6081.585, device='cuda:0', grad_fn=<SumBackward0>)\n",
      "tensor(4846.284, device='cuda:0', grad_fn=<SumBackward0>) tensor(426.496, device='cuda:0', grad_fn=<SumBackward0>) tensor(1355.760, device='cuda:0', grad_fn=<SumBackward0>)\n",
      "tensor(182.320, device='cuda:0', grad_fn=<SumBackward0>) tensor(285.987, device='cuda:0', grad_fn=<SumBackward0>) tensor(224.492, device='cuda:0', grad_fn=<SumBackward0>)\n",
      "tensor(27.510, device='cuda:0', grad_fn=<SumBackward0>) tensor(155.234, device='cuda:0', grad_fn=<SumBackward0>) tensor(28.853, device='cuda:0', grad_fn=<SumBackward0>)\n",
      "tensor(18728.635, device='cuda:0', grad_fn=<SumBackward0>) tensor(753.482, device='cuda:0', grad_fn=<SumBackward0>) tensor(1620.513, device='cuda:0', grad_fn=<SumBackward0>)\n",
      "tensor(2259.990, device='cuda:0', grad_fn=<SumBackward0>) tensor(264.617, device='cuda:0', grad_fn=<SumBackward0>) tensor(538.060, device='cuda:0', grad_fn=<SumBackward0>)\n",
      "tensor(128.537, device='cuda:0', grad_fn=<SumBackward0>) tensor(117.686, device='cuda:0', grad_fn=<SumBackward0>) tensor(116.366, device='cuda:0', grad_fn=<SumBackward0>)\n",
      "tensor(12322.633, device='cuda:0', grad_fn=<SumBackward0>) tensor(1848.254, device='cuda:0', grad_fn=<SumBackward0>) tensor(2427.385, device='cuda:0', grad_fn=<SumBackward0>)\n",
      "tensor(12071.553, device='cuda:0', grad_fn=<SumBackward0>) tensor(1435.398, device='cuda:0', grad_fn=<SumBackward0>) tensor(1942.470, device='cuda:0', grad_fn=<SumBackward0>)\n",
      "tensor(8.570, device='cuda:0', grad_fn=<SumBackward0>) tensor(44.961, device='cuda:0', grad_fn=<SumBackward0>) tensor(9.207, device='cuda:0', grad_fn=<SumBackward0>)\n",
      "tensor(85.312, device='cuda:0', grad_fn=<SumBackward0>) tensor(134.848, device='cuda:0', grad_fn=<SumBackward0>) tensor(74.131, device='cuda:0', grad_fn=<SumBackward0>)\n"
     ]
    },
    {
     "name": "stderr",
     "output_type": "stream",
     "text": [
      "\r",
      "  6%|▌         | 9/157 [00:18<04:47,  1.94s/it]"
     ]
    },
    {
     "name": "stdout",
     "output_type": "stream",
     "text": [
      "tensor(348.960, device='cuda:0', grad_fn=<SumBackward0>) tensor(401.233, device='cuda:0', grad_fn=<SumBackward0>) tensor(265.765, device='cuda:0', grad_fn=<SumBackward0>)\n",
      "tensor(2527.256, device='cuda:0', grad_fn=<SumBackward0>) tensor(460.442, device='cuda:0', grad_fn=<SumBackward0>) tensor(992.547, device='cuda:0', grad_fn=<SumBackward0>)\n",
      "tensor(216.168, device='cuda:0', grad_fn=<SumBackward0>) tensor(311.676, device='cuda:0', grad_fn=<SumBackward0>) tensor(164.446, device='cuda:0', grad_fn=<SumBackward0>)\n",
      "tensor(121174.852, device='cuda:0', grad_fn=<SumBackward0>) tensor(4448.891, device='cuda:0', grad_fn=<SumBackward0>) tensor(11035.770, device='cuda:0', grad_fn=<SumBackward0>)\n",
      "tensor(6253.677, device='cuda:0', grad_fn=<SumBackward0>) tensor(734.727, device='cuda:0', grad_fn=<SumBackward0>) tensor(902.635, device='cuda:0', grad_fn=<SumBackward0>)\n",
      "tensor(1666.254, device='cuda:0', grad_fn=<SumBackward0>) tensor(398.822, device='cuda:0', grad_fn=<SumBackward0>) tensor(480.158, device='cuda:0', grad_fn=<SumBackward0>)\n",
      "tensor(323.112, device='cuda:0', grad_fn=<SumBackward0>) tensor(291.407, device='cuda:0', grad_fn=<SumBackward0>) tensor(320.222, device='cuda:0', grad_fn=<SumBackward0>)\n",
      "tensor(2375.889, device='cuda:0', grad_fn=<SumBackward0>) tensor(526.038, device='cuda:0', grad_fn=<SumBackward0>) tensor(911.531, device='cuda:0', grad_fn=<SumBackward0>)\n",
      "tensor(20779.402, device='cuda:0', grad_fn=<SumBackward0>) tensor(1284.251, device='cuda:0', grad_fn=<SumBackward0>) tensor(3338.057, device='cuda:0', grad_fn=<SumBackward0>)\n",
      "tensor(77.450, device='cuda:0', grad_fn=<SumBackward0>) tensor(448.085, device='cuda:0', grad_fn=<SumBackward0>) tensor(93.456, device='cuda:0', grad_fn=<SumBackward0>)\n",
      "tensor(761.544, device='cuda:0', grad_fn=<SumBackward0>) tensor(184.819, device='cuda:0', grad_fn=<SumBackward0>) tensor(314.929, device='cuda:0', grad_fn=<SumBackward0>)\n",
      "tensor(256.978, device='cuda:0', grad_fn=<SumBackward0>) tensor(292.840, device='cuda:0', grad_fn=<SumBackward0>) tensor(229.904, device='cuda:0', grad_fn=<SumBackward0>)\n",
      "tensor(6030.939, device='cuda:0', grad_fn=<SumBackward0>) tensor(238.215, device='cuda:0', grad_fn=<SumBackward0>) tensor(576.829, device='cuda:0', grad_fn=<SumBackward0>)\n",
      "tensor(85.438, device='cuda:0', grad_fn=<SumBackward0>) tensor(192.837, device='cuda:0', grad_fn=<SumBackward0>) tensor(119.498, device='cuda:0', grad_fn=<SumBackward0>)\n",
      "tensor(4146.415, device='cuda:0', grad_fn=<SumBackward0>) tensor(523.641, device='cuda:0', grad_fn=<SumBackward0>) tensor(1258.923, device='cuda:0', grad_fn=<SumBackward0>)\n",
      "tensor(39.376, device='cuda:0', grad_fn=<SumBackward0>) tensor(148.309, device='cuda:0', grad_fn=<SumBackward0>) tensor(40.866, device='cuda:0', grad_fn=<SumBackward0>)\n"
     ]
    },
    {
     "name": "stderr",
     "output_type": "stream",
     "text": [
      "\r",
      "  6%|▋         | 10/157 [00:20<04:43,  1.93s/it]"
     ]
    },
    {
     "name": "stdout",
     "output_type": "stream",
     "text": [
      "tensor(8758.622, device='cuda:0', grad_fn=<SumBackward0>) tensor(594.988, device='cuda:0', grad_fn=<SumBackward0>) tensor(1253.629, device='cuda:0', grad_fn=<SumBackward0>)\n",
      "tensor(1684.478, device='cuda:0', grad_fn=<SumBackward0>) tensor(827.561, device='cuda:0', grad_fn=<SumBackward0>) tensor(1160.456, device='cuda:0', grad_fn=<SumBackward0>)\n",
      "tensor(714.965, device='cuda:0', grad_fn=<SumBackward0>) tensor(669.728, device='cuda:0', grad_fn=<SumBackward0>) tensor(382.667, device='cuda:0', grad_fn=<SumBackward0>)\n",
      "tensor(610.545, device='cuda:0', grad_fn=<SumBackward0>) tensor(504.902, device='cuda:0', grad_fn=<SumBackward0>) tensor(434.107, device='cuda:0', grad_fn=<SumBackward0>)\n",
      "tensor(13337.152, device='cuda:0', grad_fn=<SumBackward0>) tensor(819.017, device='cuda:0', grad_fn=<SumBackward0>) tensor(1580.918, device='cuda:0', grad_fn=<SumBackward0>)\n",
      "tensor(6945.842, device='cuda:0', grad_fn=<SumBackward0>) tensor(583.078, device='cuda:0', grad_fn=<SumBackward0>) tensor(1451.781, device='cuda:0', grad_fn=<SumBackward0>)\n",
      "tensor(2407.843, device='cuda:0', grad_fn=<SumBackward0>) tensor(693.661, device='cuda:0', grad_fn=<SumBackward0>) tensor(1344.006, device='cuda:0', grad_fn=<SumBackward0>)\n",
      "tensor(47.210, device='cuda:0', grad_fn=<SumBackward0>) tensor(161.655, device='cuda:0', grad_fn=<SumBackward0>) tensor(71.796, device='cuda:0', grad_fn=<SumBackward0>)\n",
      "tensor(5750.607, device='cuda:0', grad_fn=<SumBackward0>) tensor(741.544, device='cuda:0', grad_fn=<SumBackward0>) tensor(758.715, device='cuda:0', grad_fn=<SumBackward0>)\n",
      "tensor(381.438, device='cuda:0', grad_fn=<SumBackward0>) tensor(431.902, device='cuda:0', grad_fn=<SumBackward0>) tensor(314.327, device='cuda:0', grad_fn=<SumBackward0>)\n",
      "tensor(1238.733, device='cuda:0', grad_fn=<SumBackward0>) tensor(743.086, device='cuda:0', grad_fn=<SumBackward0>) tensor(946.107, device='cuda:0', grad_fn=<SumBackward0>)\n",
      "tensor(1433.066, device='cuda:0', grad_fn=<SumBackward0>) tensor(413.909, device='cuda:0', grad_fn=<SumBackward0>) tensor(323.954, device='cuda:0', grad_fn=<SumBackward0>)\n",
      "tensor(12744.524, device='cuda:0', grad_fn=<SumBackward0>) tensor(1401.819, device='cuda:0', grad_fn=<SumBackward0>) tensor(3307.245, device='cuda:0', grad_fn=<SumBackward0>)\n",
      "tensor(2398.365, device='cuda:0', grad_fn=<SumBackward0>) tensor(786.465, device='cuda:0', grad_fn=<SumBackward0>) tensor(727.999, device='cuda:0', grad_fn=<SumBackward0>)\n",
      "tensor(4675.651, device='cuda:0', grad_fn=<SumBackward0>) tensor(712.680, device='cuda:0', grad_fn=<SumBackward0>) tensor(1242.455, device='cuda:0', grad_fn=<SumBackward0>)\n",
      "tensor(124.071, device='cuda:0', grad_fn=<SumBackward0>) tensor(324.463, device='cuda:0', grad_fn=<SumBackward0>) tensor(110.412, device='cuda:0', grad_fn=<SumBackward0>)\n"
     ]
    },
    {
     "name": "stderr",
     "output_type": "stream",
     "text": [
      "\r",
      "  7%|▋         | 11/157 [00:22<04:39,  1.91s/it]"
     ]
    },
    {
     "name": "stdout",
     "output_type": "stream",
     "text": [
      "tensor(64.403, device='cuda:0', grad_fn=<SumBackward0>) tensor(196.409, device='cuda:0', grad_fn=<SumBackward0>) tensor(71.051, device='cuda:0', grad_fn=<SumBackward0>)\n",
      "tensor(391.108, device='cuda:0', grad_fn=<SumBackward0>) tensor(378.529, device='cuda:0', grad_fn=<SumBackward0>) tensor(263.516, device='cuda:0', grad_fn=<SumBackward0>)\n",
      "tensor(1460.587, device='cuda:0', grad_fn=<SumBackward0>) tensor(629.695, device='cuda:0', grad_fn=<SumBackward0>) tensor(729.185, device='cuda:0', grad_fn=<SumBackward0>)\n",
      "tensor(106.514, device='cuda:0', grad_fn=<SumBackward0>) tensor(249.249, device='cuda:0', grad_fn=<SumBackward0>) tensor(65.277, device='cuda:0', grad_fn=<SumBackward0>)\n",
      "tensor(3681.218, device='cuda:0', grad_fn=<SumBackward0>) tensor(887.583, device='cuda:0', grad_fn=<SumBackward0>) tensor(1543.978, device='cuda:0', grad_fn=<SumBackward0>)\n",
      "tensor(690.545, device='cuda:0', grad_fn=<SumBackward0>) tensor(341.645, device='cuda:0', grad_fn=<SumBackward0>) tensor(475.561, device='cuda:0', grad_fn=<SumBackward0>)\n",
      "tensor(10727.249, device='cuda:0', grad_fn=<SumBackward0>) tensor(751.302, device='cuda:0', grad_fn=<SumBackward0>) tensor(1082.862, device='cuda:0', grad_fn=<SumBackward0>)\n",
      "tensor(4039.865, device='cuda:0', grad_fn=<SumBackward0>) tensor(426.485, device='cuda:0', grad_fn=<SumBackward0>) tensor(588.739, device='cuda:0', grad_fn=<SumBackward0>)\n",
      "tensor(51.703, device='cuda:0', grad_fn=<SumBackward0>) tensor(201.749, device='cuda:0', grad_fn=<SumBackward0>) tensor(61.578, device='cuda:0', grad_fn=<SumBackward0>)\n",
      "tensor(567.139, device='cuda:0', grad_fn=<SumBackward0>) tensor(850.731, device='cuda:0', grad_fn=<SumBackward0>) tensor(418.184, device='cuda:0', grad_fn=<SumBackward0>)\n",
      "tensor(690.847, device='cuda:0', grad_fn=<SumBackward0>) tensor(394.329, device='cuda:0', grad_fn=<SumBackward0>) tensor(444.272, device='cuda:0', grad_fn=<SumBackward0>)\n",
      "tensor(297.617, device='cuda:0', grad_fn=<SumBackward0>) tensor(297.947, device='cuda:0', grad_fn=<SumBackward0>) tensor(205.796, device='cuda:0', grad_fn=<SumBackward0>)\n",
      "tensor(2910.790, device='cuda:0', grad_fn=<SumBackward0>) tensor(537.271, device='cuda:0', grad_fn=<SumBackward0>) tensor(1245.009, device='cuda:0', grad_fn=<SumBackward0>)\n",
      "tensor(756.929, device='cuda:0', grad_fn=<SumBackward0>) tensor(253.220, device='cuda:0', grad_fn=<SumBackward0>) tensor(465.599, device='cuda:0', grad_fn=<SumBackward0>)\n",
      "tensor(83.322, device='cuda:0', grad_fn=<SumBackward0>) tensor(368.515, device='cuda:0', grad_fn=<SumBackward0>) tensor(87.313, device='cuda:0', grad_fn=<SumBackward0>)\n",
      "tensor(2874.790, device='cuda:0', grad_fn=<SumBackward0>) tensor(940.883, device='cuda:0', grad_fn=<SumBackward0>) tensor(1449.625, device='cuda:0', grad_fn=<SumBackward0>)\n"
     ]
    },
    {
     "name": "stderr",
     "output_type": "stream",
     "text": [
      "\r",
      "  8%|▊         | 12/157 [00:23<04:38,  1.92s/it]"
     ]
    },
    {
     "name": "stdout",
     "output_type": "stream",
     "text": [
      "tensor(4405.912, device='cuda:0', grad_fn=<SumBackward0>) tensor(1309.962, device='cuda:0', grad_fn=<SumBackward0>) tensor(890.486, device='cuda:0', grad_fn=<SumBackward0>)\n",
      "tensor(4297.958, device='cuda:0', grad_fn=<SumBackward0>) tensor(776.866, device='cuda:0', grad_fn=<SumBackward0>) tensor(1271.605, device='cuda:0', grad_fn=<SumBackward0>)\n",
      "tensor(122.851, device='cuda:0', grad_fn=<SumBackward0>) tensor(146.905, device='cuda:0', grad_fn=<SumBackward0>) tensor(80.320, device='cuda:0', grad_fn=<SumBackward0>)\n",
      "tensor(63.834, device='cuda:0', grad_fn=<SumBackward0>) tensor(254.036, device='cuda:0', grad_fn=<SumBackward0>) tensor(45.561, device='cuda:0', grad_fn=<SumBackward0>)\n",
      "tensor(1067.371, device='cuda:0', grad_fn=<SumBackward0>) tensor(286.025, device='cuda:0', grad_fn=<SumBackward0>) tensor(487.369, device='cuda:0', grad_fn=<SumBackward0>)\n",
      "tensor(551.432, device='cuda:0', grad_fn=<SumBackward0>) tensor(436.642, device='cuda:0', grad_fn=<SumBackward0>) tensor(450.639, device='cuda:0', grad_fn=<SumBackward0>)\n",
      "tensor(773.405, device='cuda:0', grad_fn=<SumBackward0>) tensor(856.746, device='cuda:0', grad_fn=<SumBackward0>) tensor(477.576, device='cuda:0', grad_fn=<SumBackward0>)\n",
      "tensor(4397.047, device='cuda:0', grad_fn=<SumBackward0>) tensor(863.965, device='cuda:0', grad_fn=<SumBackward0>) tensor(1311.666, device='cuda:0', grad_fn=<SumBackward0>)\n",
      "tensor(14957.286, device='cuda:0', grad_fn=<SumBackward0>) tensor(1635.368, device='cuda:0', grad_fn=<SumBackward0>) tensor(3115.206, device='cuda:0', grad_fn=<SumBackward0>)\n",
      "tensor(1355.493, device='cuda:0', grad_fn=<SumBackward0>) tensor(198.766, device='cuda:0', grad_fn=<SumBackward0>) tensor(217.740, device='cuda:0', grad_fn=<SumBackward0>)\n",
      "tensor(256.617, device='cuda:0', grad_fn=<SumBackward0>) tensor(507.277, device='cuda:0', grad_fn=<SumBackward0>) tensor(215.013, device='cuda:0', grad_fn=<SumBackward0>)\n",
      "tensor(88.285, device='cuda:0', grad_fn=<SumBackward0>) tensor(411.487, device='cuda:0', grad_fn=<SumBackward0>) tensor(47.395, device='cuda:0', grad_fn=<SumBackward0>)\n",
      "tensor(256.154, device='cuda:0', grad_fn=<SumBackward0>) tensor(686.914, device='cuda:0', grad_fn=<SumBackward0>) tensor(363.030, device='cuda:0', grad_fn=<SumBackward0>)\n",
      "tensor(5862.927, device='cuda:0', grad_fn=<SumBackward0>) tensor(752.347, device='cuda:0', grad_fn=<SumBackward0>) tensor(833.350, device='cuda:0', grad_fn=<SumBackward0>)\n",
      "tensor(2155.967, device='cuda:0', grad_fn=<SumBackward0>) tensor(536.640, device='cuda:0', grad_fn=<SumBackward0>) tensor(790.401, device='cuda:0', grad_fn=<SumBackward0>)\n",
      "tensor(97.858, device='cuda:0', grad_fn=<SumBackward0>) tensor(711.663, device='cuda:0', grad_fn=<SumBackward0>) tensor(87.109, device='cuda:0', grad_fn=<SumBackward0>)\n"
     ]
    },
    {
     "name": "stderr",
     "output_type": "stream",
     "text": [
      "\r",
      "  8%|▊         | 13/157 [00:25<04:38,  1.93s/it]"
     ]
    },
    {
     "name": "stdout",
     "output_type": "stream",
     "text": [
      "tensor(132.678, device='cuda:0', grad_fn=<SumBackward0>) tensor(120.702, device='cuda:0', grad_fn=<SumBackward0>) tensor(77.903, device='cuda:0', grad_fn=<SumBackward0>)\n",
      "tensor(6915.412, device='cuda:0', grad_fn=<SumBackward0>) tensor(541.729, device='cuda:0', grad_fn=<SumBackward0>) tensor(1440.003, device='cuda:0', grad_fn=<SumBackward0>)\n",
      "tensor(8932.963, device='cuda:0', grad_fn=<SumBackward0>) tensor(979.292, device='cuda:0', grad_fn=<SumBackward0>) tensor(1168.887, device='cuda:0', grad_fn=<SumBackward0>)\n",
      "tensor(4811.436, device='cuda:0', grad_fn=<SumBackward0>) tensor(683.183, device='cuda:0', grad_fn=<SumBackward0>) tensor(1473.023, device='cuda:0', grad_fn=<SumBackward0>)\n",
      "tensor(5675.162, device='cuda:0', grad_fn=<SumBackward0>) tensor(938.300, device='cuda:0', grad_fn=<SumBackward0>) tensor(1939.377, device='cuda:0', grad_fn=<SumBackward0>)\n",
      "tensor(26.844, device='cuda:0', grad_fn=<SumBackward0>) tensor(121.235, device='cuda:0', grad_fn=<SumBackward0>) tensor(31.256, device='cuda:0', grad_fn=<SumBackward0>)\n",
      "tensor(41.999, device='cuda:0', grad_fn=<SumBackward0>) tensor(186.999, device='cuda:0', grad_fn=<SumBackward0>) tensor(44.483, device='cuda:0', grad_fn=<SumBackward0>)\n",
      "tensor(3684.761, device='cuda:0', grad_fn=<SumBackward0>) tensor(878.602, device='cuda:0', grad_fn=<SumBackward0>) tensor(982.544, device='cuda:0', grad_fn=<SumBackward0>)\n",
      "tensor(139.740, device='cuda:0', grad_fn=<SumBackward0>) tensor(255.215, device='cuda:0', grad_fn=<SumBackward0>) tensor(85.534, device='cuda:0', grad_fn=<SumBackward0>)\n",
      "tensor(11003.150, device='cuda:0', grad_fn=<SumBackward0>) tensor(803.086, device='cuda:0', grad_fn=<SumBackward0>) tensor(2107.485, device='cuda:0', grad_fn=<SumBackward0>)\n",
      "tensor(206.621, device='cuda:0', grad_fn=<SumBackward0>) tensor(868.020, device='cuda:0', grad_fn=<SumBackward0>) tensor(235.570, device='cuda:0', grad_fn=<SumBackward0>)\n",
      "tensor(17991.801, device='cuda:0', grad_fn=<SumBackward0>) tensor(1669.260, device='cuda:0', grad_fn=<SumBackward0>) tensor(3570.573, device='cuda:0', grad_fn=<SumBackward0>)\n",
      "tensor(4602.346, device='cuda:0', grad_fn=<SumBackward0>) tensor(652.657, device='cuda:0', grad_fn=<SumBackward0>) tensor(1005.661, device='cuda:0', grad_fn=<SumBackward0>)\n",
      "tensor(4.205, device='cuda:0', grad_fn=<SumBackward0>) tensor(34.762, device='cuda:0', grad_fn=<SumBackward0>) tensor(6.036, device='cuda:0', grad_fn=<SumBackward0>)\n",
      "tensor(711.123, device='cuda:0', grad_fn=<SumBackward0>) tensor(170.494, device='cuda:0', grad_fn=<SumBackward0>) tensor(68.528, device='cuda:0', grad_fn=<SumBackward0>)\n",
      "tensor(62.627, device='cuda:0', grad_fn=<SumBackward0>) tensor(190.308, device='cuda:0', grad_fn=<SumBackward0>) tensor(49.009, device='cuda:0', grad_fn=<SumBackward0>)\n"
     ]
    },
    {
     "name": "stderr",
     "output_type": "stream",
     "text": [
      "\r",
      "  9%|▉         | 14/157 [00:27<04:32,  1.91s/it]"
     ]
    },
    {
     "name": "stdout",
     "output_type": "stream",
     "text": [
      "tensor(1049.779, device='cuda:0', grad_fn=<SumBackward0>) tensor(351.162, device='cuda:0', grad_fn=<SumBackward0>) tensor(217.190, device='cuda:0', grad_fn=<SumBackward0>)\n",
      "tensor(293.100, device='cuda:0', grad_fn=<SumBackward0>) tensor(222.103, device='cuda:0', grad_fn=<SumBackward0>) tensor(186.139, device='cuda:0', grad_fn=<SumBackward0>)\n",
      "tensor(1574.729, device='cuda:0', grad_fn=<SumBackward0>) tensor(400.872, device='cuda:0', grad_fn=<SumBackward0>) tensor(408.911, device='cuda:0', grad_fn=<SumBackward0>)\n",
      "tensor(77.035, device='cuda:0', grad_fn=<SumBackward0>) tensor(211.098, device='cuda:0', grad_fn=<SumBackward0>) tensor(55.041, device='cuda:0', grad_fn=<SumBackward0>)\n",
      "tensor(4987.942, device='cuda:0', grad_fn=<SumBackward0>) tensor(519.929, device='cuda:0', grad_fn=<SumBackward0>) tensor(2249.656, device='cuda:0', grad_fn=<SumBackward0>)\n",
      "tensor(8378.467, device='cuda:0', grad_fn=<SumBackward0>) tensor(832.903, device='cuda:0', grad_fn=<SumBackward0>) tensor(1403.139, device='cuda:0', grad_fn=<SumBackward0>)\n",
      "tensor(85.905, device='cuda:0', grad_fn=<SumBackward0>) tensor(196.182, device='cuda:0', grad_fn=<SumBackward0>) tensor(76.814, device='cuda:0', grad_fn=<SumBackward0>)\n",
      "tensor(2351.968, device='cuda:0', grad_fn=<SumBackward0>) tensor(605.584, device='cuda:0', grad_fn=<SumBackward0>) tensor(752.625, device='cuda:0', grad_fn=<SumBackward0>)\n",
      "tensor(486.507, device='cuda:0', grad_fn=<SumBackward0>) tensor(117.515, device='cuda:0', grad_fn=<SumBackward0>) tensor(60.900, device='cuda:0', grad_fn=<SumBackward0>)\n",
      "tensor(900.272, device='cuda:0', grad_fn=<SumBackward0>) tensor(460.235, device='cuda:0', grad_fn=<SumBackward0>) tensor(545.981, device='cuda:0', grad_fn=<SumBackward0>)\n",
      "tensor(3171.384, device='cuda:0', grad_fn=<SumBackward0>) tensor(398.772, device='cuda:0', grad_fn=<SumBackward0>) tensor(863.705, device='cuda:0', grad_fn=<SumBackward0>)\n",
      "tensor(13270.336, device='cuda:0', grad_fn=<SumBackward0>) tensor(1540.884, device='cuda:0', grad_fn=<SumBackward0>) tensor(3298.235, device='cuda:0', grad_fn=<SumBackward0>)\n",
      "tensor(2225.147, device='cuda:0', grad_fn=<SumBackward0>) tensor(429.739, device='cuda:0', grad_fn=<SumBackward0>) tensor(380.924, device='cuda:0', grad_fn=<SumBackward0>)\n",
      "tensor(1413.925, device='cuda:0', grad_fn=<SumBackward0>) tensor(334.252, device='cuda:0', grad_fn=<SumBackward0>) tensor(393.230, device='cuda:0', grad_fn=<SumBackward0>)\n",
      "tensor(365.520, device='cuda:0', grad_fn=<SumBackward0>) tensor(468.249, device='cuda:0', grad_fn=<SumBackward0>) tensor(383.086, device='cuda:0', grad_fn=<SumBackward0>)\n",
      "tensor(4688.151, device='cuda:0', grad_fn=<SumBackward0>) tensor(334.060, device='cuda:0', grad_fn=<SumBackward0>) tensor(283.674, device='cuda:0', grad_fn=<SumBackward0>)\n"
     ]
    },
    {
     "name": "stderr",
     "output_type": "stream",
     "text": [
      "\r",
      " 10%|▉         | 15/157 [00:29<04:27,  1.88s/it]"
     ]
    },
    {
     "name": "stdout",
     "output_type": "stream",
     "text": [
      "tensor(1752.311, device='cuda:0', grad_fn=<SumBackward0>) tensor(221.082, device='cuda:0', grad_fn=<SumBackward0>) tensor(586.567, device='cuda:0', grad_fn=<SumBackward0>)\n",
      "tensor(843.396, device='cuda:0', grad_fn=<SumBackward0>) tensor(208.370, device='cuda:0', grad_fn=<SumBackward0>) tensor(336.618, device='cuda:0', grad_fn=<SumBackward0>)\n",
      "tensor(4205.025, device='cuda:0', grad_fn=<SumBackward0>) tensor(366.365, device='cuda:0', grad_fn=<SumBackward0>) tensor(785.181, device='cuda:0', grad_fn=<SumBackward0>)\n",
      "tensor(852.315, device='cuda:0', grad_fn=<SumBackward0>) tensor(646.330, device='cuda:0', grad_fn=<SumBackward0>) tensor(481.573, device='cuda:0', grad_fn=<SumBackward0>)\n",
      "tensor(14.734, device='cuda:0', grad_fn=<SumBackward0>) tensor(54.584, device='cuda:0', grad_fn=<SumBackward0>) tensor(23.723, device='cuda:0', grad_fn=<SumBackward0>)\n",
      "tensor(279.188, device='cuda:0', grad_fn=<SumBackward0>) tensor(300.978, device='cuda:0', grad_fn=<SumBackward0>) tensor(135.215, device='cuda:0', grad_fn=<SumBackward0>)\n",
      "tensor(6567.262, device='cuda:0', grad_fn=<SumBackward0>) tensor(728.447, device='cuda:0', grad_fn=<SumBackward0>) tensor(1786.898, device='cuda:0', grad_fn=<SumBackward0>)\n",
      "tensor(36.366, device='cuda:0', grad_fn=<SumBackward0>) tensor(132.293, device='cuda:0', grad_fn=<SumBackward0>) tensor(24.818, device='cuda:0', grad_fn=<SumBackward0>)\n",
      "tensor(3219.232, device='cuda:0', grad_fn=<SumBackward0>) tensor(230.109, device='cuda:0', grad_fn=<SumBackward0>) tensor(804.712, device='cuda:0', grad_fn=<SumBackward0>)\n",
      "tensor(6139.544, device='cuda:0', grad_fn=<SumBackward0>) tensor(511.545, device='cuda:0', grad_fn=<SumBackward0>) tensor(442.244, device='cuda:0', grad_fn=<SumBackward0>)\n",
      "tensor(39.446, device='cuda:0', grad_fn=<SumBackward0>) tensor(183.683, device='cuda:0', grad_fn=<SumBackward0>) tensor(55.958, device='cuda:0', grad_fn=<SumBackward0>)\n",
      "tensor(230.346, device='cuda:0', grad_fn=<SumBackward0>) tensor(342.451, device='cuda:0', grad_fn=<SumBackward0>) tensor(228.403, device='cuda:0', grad_fn=<SumBackward0>)\n",
      "tensor(82.571, device='cuda:0', grad_fn=<SumBackward0>) tensor(158.523, device='cuda:0', grad_fn=<SumBackward0>) tensor(59.958, device='cuda:0', grad_fn=<SumBackward0>)\n",
      "tensor(3223.916, device='cuda:0', grad_fn=<SumBackward0>) tensor(989.741, device='cuda:0', grad_fn=<SumBackward0>) tensor(1626.407, device='cuda:0', grad_fn=<SumBackward0>)\n",
      "tensor(13508.295, device='cuda:0', grad_fn=<SumBackward0>) tensor(965.655, device='cuda:0', grad_fn=<SumBackward0>) tensor(2083.368, device='cuda:0', grad_fn=<SumBackward0>)\n",
      "tensor(404.238, device='cuda:0', grad_fn=<SumBackward0>) tensor(216.238, device='cuda:0', grad_fn=<SumBackward0>) tensor(202.423, device='cuda:0', grad_fn=<SumBackward0>)\n"
     ]
    },
    {
     "name": "stderr",
     "output_type": "stream",
     "text": [
      "\r",
      " 10%|█         | 16/157 [00:31<04:26,  1.89s/it]"
     ]
    },
    {
     "name": "stdout",
     "output_type": "stream",
     "text": [
      "tensor(78.794, device='cuda:0', grad_fn=<SumBackward0>) tensor(197.301, device='cuda:0', grad_fn=<SumBackward0>) tensor(82.442, device='cuda:0', grad_fn=<SumBackward0>)\n",
      "tensor(8535.924, device='cuda:0', grad_fn=<SumBackward0>) tensor(954.894, device='cuda:0', grad_fn=<SumBackward0>) tensor(2525.667, device='cuda:0', grad_fn=<SumBackward0>)\n",
      "tensor(1059.602, device='cuda:0', grad_fn=<SumBackward0>) tensor(369.399, device='cuda:0', grad_fn=<SumBackward0>) tensor(519.594, device='cuda:0', grad_fn=<SumBackward0>)\n",
      "tensor(1190.007, device='cuda:0', grad_fn=<SumBackward0>) tensor(596.348, device='cuda:0', grad_fn=<SumBackward0>) tensor(704.936, device='cuda:0', grad_fn=<SumBackward0>)\n",
      "tensor(2408.479, device='cuda:0', grad_fn=<SumBackward0>) tensor(691.393, device='cuda:0', grad_fn=<SumBackward0>) tensor(865.612, device='cuda:0', grad_fn=<SumBackward0>)\n",
      "tensor(6495.096, device='cuda:0', grad_fn=<SumBackward0>) tensor(722.986, device='cuda:0', grad_fn=<SumBackward0>) tensor(1259.850, device='cuda:0', grad_fn=<SumBackward0>)\n",
      "tensor(2960.516, device='cuda:0', grad_fn=<SumBackward0>) tensor(512.186, device='cuda:0', grad_fn=<SumBackward0>) tensor(1063.419, device='cuda:0', grad_fn=<SumBackward0>)\n",
      "tensor(2398.656, device='cuda:0', grad_fn=<SumBackward0>) tensor(158.574, device='cuda:0', grad_fn=<SumBackward0>) tensor(178.158, device='cuda:0', grad_fn=<SumBackward0>)\n",
      "tensor(2818.613, device='cuda:0', grad_fn=<SumBackward0>) tensor(689.218, device='cuda:0', grad_fn=<SumBackward0>) tensor(1556.610, device='cuda:0', grad_fn=<SumBackward0>)\n",
      "tensor(340.164, device='cuda:0', grad_fn=<SumBackward0>) tensor(465.663, device='cuda:0', grad_fn=<SumBackward0>) tensor(248.407, device='cuda:0', grad_fn=<SumBackward0>)\n",
      "tensor(528.158, device='cuda:0', grad_fn=<SumBackward0>) tensor(201.759, device='cuda:0', grad_fn=<SumBackward0>) tensor(249.577, device='cuda:0', grad_fn=<SumBackward0>)\n",
      "tensor(4525.977, device='cuda:0', grad_fn=<SumBackward0>) tensor(520.279, device='cuda:0', grad_fn=<SumBackward0>) tensor(887.740, device='cuda:0', grad_fn=<SumBackward0>)\n",
      "tensor(46.753, device='cuda:0', grad_fn=<SumBackward0>) tensor(240.142, device='cuda:0', grad_fn=<SumBackward0>) tensor(69.301, device='cuda:0', grad_fn=<SumBackward0>)\n",
      "tensor(219.537, device='cuda:0', grad_fn=<SumBackward0>) tensor(353.469, device='cuda:0', grad_fn=<SumBackward0>) tensor(177.754, device='cuda:0', grad_fn=<SumBackward0>)\n",
      "tensor(173.242, device='cuda:0', grad_fn=<SumBackward0>) tensor(379.963, device='cuda:0', grad_fn=<SumBackward0>) tensor(196.730, device='cuda:0', grad_fn=<SumBackward0>)\n",
      "tensor(125.715, device='cuda:0', grad_fn=<SumBackward0>) tensor(225.197, device='cuda:0', grad_fn=<SumBackward0>) tensor(129.914, device='cuda:0', grad_fn=<SumBackward0>)\n"
     ]
    },
    {
     "name": "stderr",
     "output_type": "stream",
     "text": [
      "\r",
      " 11%|█         | 17/157 [00:33<04:21,  1.87s/it]"
     ]
    },
    {
     "name": "stdout",
     "output_type": "stream",
     "text": [
      "tensor(145.191, device='cuda:0', grad_fn=<SumBackward0>) tensor(271.474, device='cuda:0', grad_fn=<SumBackward0>) tensor(100.370, device='cuda:0', grad_fn=<SumBackward0>)\n",
      "tensor(152.368, device='cuda:0', grad_fn=<SumBackward0>) tensor(304.961, device='cuda:0', grad_fn=<SumBackward0>) tensor(136.419, device='cuda:0', grad_fn=<SumBackward0>)\n",
      "tensor(757.593, device='cuda:0', grad_fn=<SumBackward0>) tensor(547.196, device='cuda:0', grad_fn=<SumBackward0>) tensor(629.646, device='cuda:0', grad_fn=<SumBackward0>)\n",
      "tensor(40.655, device='cuda:0', grad_fn=<SumBackward0>) tensor(101.244, device='cuda:0', grad_fn=<SumBackward0>) tensor(24.266, device='cuda:0', grad_fn=<SumBackward0>)\n",
      "tensor(2616.850, device='cuda:0', grad_fn=<SumBackward0>) tensor(574.029, device='cuda:0', grad_fn=<SumBackward0>) tensor(938.438, device='cuda:0', grad_fn=<SumBackward0>)\n",
      "tensor(3231.905, device='cuda:0', grad_fn=<SumBackward0>) tensor(359.773, device='cuda:0', grad_fn=<SumBackward0>) tensor(404.533, device='cuda:0', grad_fn=<SumBackward0>)\n",
      "tensor(33.008, device='cuda:0', grad_fn=<SumBackward0>) tensor(116.912, device='cuda:0', grad_fn=<SumBackward0>) tensor(32.754, device='cuda:0', grad_fn=<SumBackward0>)\n",
      "tensor(648.025, device='cuda:0', grad_fn=<SumBackward0>) tensor(225.761, device='cuda:0', grad_fn=<SumBackward0>) tensor(329.319, device='cuda:0', grad_fn=<SumBackward0>)\n",
      "tensor(176.124, device='cuda:0', grad_fn=<SumBackward0>) tensor(276.134, device='cuda:0', grad_fn=<SumBackward0>) tensor(109.112, device='cuda:0', grad_fn=<SumBackward0>)\n",
      "tensor(173.526, device='cuda:0', grad_fn=<SumBackward0>) tensor(165.358, device='cuda:0', grad_fn=<SumBackward0>) tensor(113.799, device='cuda:0', grad_fn=<SumBackward0>)\n",
      "tensor(70.675, device='cuda:0', grad_fn=<SumBackward0>) tensor(187.121, device='cuda:0', grad_fn=<SumBackward0>) tensor(73.150, device='cuda:0', grad_fn=<SumBackward0>)\n",
      "tensor(837.617, device='cuda:0', grad_fn=<SumBackward0>) tensor(108.876, device='cuda:0', grad_fn=<SumBackward0>) tensor(205.944, device='cuda:0', grad_fn=<SumBackward0>)\n",
      "tensor(5217.279, device='cuda:0', grad_fn=<SumBackward0>) tensor(962.779, device='cuda:0', grad_fn=<SumBackward0>) tensor(1676.397, device='cuda:0', grad_fn=<SumBackward0>)\n",
      "tensor(1649.006, device='cuda:0', grad_fn=<SumBackward0>) tensor(491.687, device='cuda:0', grad_fn=<SumBackward0>) tensor(625.462, device='cuda:0', grad_fn=<SumBackward0>)\n",
      "tensor(71.927, device='cuda:0', grad_fn=<SumBackward0>) tensor(174.402, device='cuda:0', grad_fn=<SumBackward0>) tensor(49.142, device='cuda:0', grad_fn=<SumBackward0>)\n",
      "tensor(814.663, device='cuda:0', grad_fn=<SumBackward0>) tensor(540.362, device='cuda:0', grad_fn=<SumBackward0>) tensor(693.029, device='cuda:0', grad_fn=<SumBackward0>)\n"
     ]
    },
    {
     "name": "stderr",
     "output_type": "stream",
     "text": [
      "\r",
      " 11%|█▏        | 18/157 [00:35<04:20,  1.87s/it]"
     ]
    },
    {
     "name": "stdout",
     "output_type": "stream",
     "text": [
      "tensor(162.984, device='cuda:0', grad_fn=<SumBackward0>) tensor(130.976, device='cuda:0', grad_fn=<SumBackward0>) tensor(62.524, device='cuda:0', grad_fn=<SumBackward0>)\n",
      "tensor(4117.429, device='cuda:0', grad_fn=<SumBackward0>) tensor(423.644, device='cuda:0', grad_fn=<SumBackward0>) tensor(493.663, device='cuda:0', grad_fn=<SumBackward0>)\n",
      "tensor(1982.702, device='cuda:0', grad_fn=<SumBackward0>) tensor(131.776, device='cuda:0', grad_fn=<SumBackward0>) tensor(361.729, device='cuda:0', grad_fn=<SumBackward0>)\n",
      "tensor(1047.203, device='cuda:0', grad_fn=<SumBackward0>) tensor(608.162, device='cuda:0', grad_fn=<SumBackward0>) tensor(768.281, device='cuda:0', grad_fn=<SumBackward0>)\n",
      "tensor(736.243, device='cuda:0', grad_fn=<SumBackward0>) tensor(457.606, device='cuda:0', grad_fn=<SumBackward0>) tensor(391.504, device='cuda:0', grad_fn=<SumBackward0>)\n",
      "tensor(268.139, device='cuda:0', grad_fn=<SumBackward0>) tensor(430.679, device='cuda:0', grad_fn=<SumBackward0>) tensor(365.212, device='cuda:0', grad_fn=<SumBackward0>)\n",
      "tensor(4963.820, device='cuda:0', grad_fn=<SumBackward0>) tensor(345.330, device='cuda:0', grad_fn=<SumBackward0>) tensor(811.721, device='cuda:0', grad_fn=<SumBackward0>)\n",
      "tensor(4783.774, device='cuda:0', grad_fn=<SumBackward0>) tensor(527.671, device='cuda:0', grad_fn=<SumBackward0>) tensor(1690.673, device='cuda:0', grad_fn=<SumBackward0>)\n",
      "tensor(489.654, device='cuda:0', grad_fn=<SumBackward0>) tensor(388.399, device='cuda:0', grad_fn=<SumBackward0>) tensor(429.817, device='cuda:0', grad_fn=<SumBackward0>)\n",
      "tensor(47.480, device='cuda:0', grad_fn=<SumBackward0>) tensor(129.917, device='cuda:0', grad_fn=<SumBackward0>) tensor(30.026, device='cuda:0', grad_fn=<SumBackward0>)\n",
      "tensor(130.420, device='cuda:0', grad_fn=<SumBackward0>) tensor(131.957, device='cuda:0', grad_fn=<SumBackward0>) tensor(62.516, device='cuda:0', grad_fn=<SumBackward0>)\n",
      "tensor(76.268, device='cuda:0', grad_fn=<SumBackward0>) tensor(140.409, device='cuda:0', grad_fn=<SumBackward0>) tensor(53.877, device='cuda:0', grad_fn=<SumBackward0>)\n",
      "tensor(1585.593, device='cuda:0', grad_fn=<SumBackward0>) tensor(562.951, device='cuda:0', grad_fn=<SumBackward0>) tensor(688.925, device='cuda:0', grad_fn=<SumBackward0>)\n",
      "tensor(258.081, device='cuda:0', grad_fn=<SumBackward0>) tensor(231.472, device='cuda:0', grad_fn=<SumBackward0>) tensor(176.017, device='cuda:0', grad_fn=<SumBackward0>)\n",
      "tensor(389.531, device='cuda:0', grad_fn=<SumBackward0>) tensor(176.363, device='cuda:0', grad_fn=<SumBackward0>) tensor(143.634, device='cuda:0', grad_fn=<SumBackward0>)\n",
      "tensor(1063.322, device='cuda:0', grad_fn=<SumBackward0>) tensor(453.231, device='cuda:0', grad_fn=<SumBackward0>) tensor(680.266, device='cuda:0', grad_fn=<SumBackward0>)\n"
     ]
    },
    {
     "name": "stderr",
     "output_type": "stream",
     "text": [
      "\r",
      " 12%|█▏        | 19/157 [00:37<04:20,  1.89s/it]"
     ]
    },
    {
     "name": "stdout",
     "output_type": "stream",
     "text": [
      "tensor(88.068, device='cuda:0', grad_fn=<SumBackward0>) tensor(282.373, device='cuda:0', grad_fn=<SumBackward0>) tensor(89.967, device='cuda:0', grad_fn=<SumBackward0>)\n",
      "tensor(460.989, device='cuda:0', grad_fn=<SumBackward0>) tensor(473.283, device='cuda:0', grad_fn=<SumBackward0>) tensor(290.949, device='cuda:0', grad_fn=<SumBackward0>)\n",
      "tensor(24.374, device='cuda:0', grad_fn=<SumBackward0>) tensor(176.227, device='cuda:0', grad_fn=<SumBackward0>) tensor(18.213, device='cuda:0', grad_fn=<SumBackward0>)\n",
      "tensor(29.245, device='cuda:0', grad_fn=<SumBackward0>) tensor(154.880, device='cuda:0', grad_fn=<SumBackward0>) tensor(24.294, device='cuda:0', grad_fn=<SumBackward0>)\n",
      "tensor(121.826, device='cuda:0', grad_fn=<SumBackward0>) tensor(283.699, device='cuda:0', grad_fn=<SumBackward0>) tensor(78.957, device='cuda:0', grad_fn=<SumBackward0>)\n",
      "tensor(86.030, device='cuda:0', grad_fn=<SumBackward0>) tensor(329.173, device='cuda:0', grad_fn=<SumBackward0>) tensor(36.044, device='cuda:0', grad_fn=<SumBackward0>)\n",
      "tensor(14951.023, device='cuda:0', grad_fn=<SumBackward0>) tensor(1360.973, device='cuda:0', grad_fn=<SumBackward0>) tensor(2535.331, device='cuda:0', grad_fn=<SumBackward0>)\n",
      "tensor(32.061, device='cuda:0', grad_fn=<SumBackward0>) tensor(553.593, device='cuda:0', grad_fn=<SumBackward0>) tensor(30.304, device='cuda:0', grad_fn=<SumBackward0>)\n",
      "tensor(69.060, device='cuda:0', grad_fn=<SumBackward0>) tensor(338.926, device='cuda:0', grad_fn=<SumBackward0>) tensor(70.376, device='cuda:0', grad_fn=<SumBackward0>)\n",
      "tensor(44.613, device='cuda:0', grad_fn=<SumBackward0>) tensor(121.750, device='cuda:0', grad_fn=<SumBackward0>) tensor(46.428, device='cuda:0', grad_fn=<SumBackward0>)\n",
      "tensor(100.826, device='cuda:0', grad_fn=<SumBackward0>) tensor(881.402, device='cuda:0', grad_fn=<SumBackward0>) tensor(128.082, device='cuda:0', grad_fn=<SumBackward0>)\n",
      "tensor(163.517, device='cuda:0', grad_fn=<SumBackward0>) tensor(872.208, device='cuda:0', grad_fn=<SumBackward0>) tensor(120.662, device='cuda:0', grad_fn=<SumBackward0>)\n",
      "tensor(3593.798, device='cuda:0', grad_fn=<SumBackward0>) tensor(463.700, device='cuda:0', grad_fn=<SumBackward0>) tensor(1103.922, device='cuda:0', grad_fn=<SumBackward0>)\n",
      "tensor(580.419, device='cuda:0', grad_fn=<SumBackward0>) tensor(263.239, device='cuda:0', grad_fn=<SumBackward0>) tensor(209.845, device='cuda:0', grad_fn=<SumBackward0>)\n",
      "tensor(218.380, device='cuda:0', grad_fn=<SumBackward0>) tensor(167.313, device='cuda:0', grad_fn=<SumBackward0>) tensor(102.435, device='cuda:0', grad_fn=<SumBackward0>)\n",
      "tensor(91.696, device='cuda:0', grad_fn=<SumBackward0>) tensor(510.584, device='cuda:0', grad_fn=<SumBackward0>) tensor(72.133, device='cuda:0', grad_fn=<SumBackward0>)\n"
     ]
    },
    {
     "name": "stderr",
     "output_type": "stream",
     "text": [
      "\r",
      " 13%|█▎        | 20/157 [00:38<04:17,  1.88s/it]"
     ]
    },
    {
     "name": "stdout",
     "output_type": "stream",
     "text": [
      "tensor(1459.491, device='cuda:0', grad_fn=<SumBackward0>) tensor(137.178, device='cuda:0', grad_fn=<SumBackward0>) tensor(160.017, device='cuda:0', grad_fn=<SumBackward0>)\n",
      "tensor(99.045, device='cuda:0', grad_fn=<SumBackward0>) tensor(214.277, device='cuda:0', grad_fn=<SumBackward0>) tensor(95.403, device='cuda:0', grad_fn=<SumBackward0>)\n",
      "tensor(3614.456, device='cuda:0', grad_fn=<SumBackward0>) tensor(528.455, device='cuda:0', grad_fn=<SumBackward0>) tensor(833.037, device='cuda:0', grad_fn=<SumBackward0>)\n",
      "tensor(661.137, device='cuda:0', grad_fn=<SumBackward0>) tensor(227.319, device='cuda:0', grad_fn=<SumBackward0>) tensor(278.957, device='cuda:0', grad_fn=<SumBackward0>)\n",
      "tensor(38.342, device='cuda:0', grad_fn=<SumBackward0>) tensor(134.457, device='cuda:0', grad_fn=<SumBackward0>) tensor(35.908, device='cuda:0', grad_fn=<SumBackward0>)\n",
      "tensor(1638.745, device='cuda:0', grad_fn=<SumBackward0>) tensor(214.789, device='cuda:0', grad_fn=<SumBackward0>) tensor(528.502, device='cuda:0', grad_fn=<SumBackward0>)\n",
      "tensor(2417.203, device='cuda:0', grad_fn=<SumBackward0>) tensor(900.552, device='cuda:0', grad_fn=<SumBackward0>) tensor(1070.608, device='cuda:0', grad_fn=<SumBackward0>)\n",
      "tensor(27.308, device='cuda:0', grad_fn=<SumBackward0>) tensor(96.834, device='cuda:0', grad_fn=<SumBackward0>) tensor(16.386, device='cuda:0', grad_fn=<SumBackward0>)\n",
      "tensor(808.575, device='cuda:0', grad_fn=<SumBackward0>) tensor(310.028, device='cuda:0', grad_fn=<SumBackward0>) tensor(306.098, device='cuda:0', grad_fn=<SumBackward0>)\n",
      "tensor(41.663, device='cuda:0', grad_fn=<SumBackward0>) tensor(103.150, device='cuda:0', grad_fn=<SumBackward0>) tensor(30.491, device='cuda:0', grad_fn=<SumBackward0>)\n",
      "tensor(103.087, device='cuda:0', grad_fn=<SumBackward0>) tensor(216.150, device='cuda:0', grad_fn=<SumBackward0>) tensor(104.268, device='cuda:0', grad_fn=<SumBackward0>)\n",
      "tensor(102.461, device='cuda:0', grad_fn=<SumBackward0>) tensor(226.754, device='cuda:0', grad_fn=<SumBackward0>) tensor(104.444, device='cuda:0', grad_fn=<SumBackward0>)\n",
      "tensor(2526.383, device='cuda:0', grad_fn=<SumBackward0>) tensor(646.153, device='cuda:0', grad_fn=<SumBackward0>) tensor(1491.844, device='cuda:0', grad_fn=<SumBackward0>)\n",
      "tensor(333.694, device='cuda:0', grad_fn=<SumBackward0>) tensor(268.698, device='cuda:0', grad_fn=<SumBackward0>) tensor(262.236, device='cuda:0', grad_fn=<SumBackward0>)\n",
      "tensor(339.558, device='cuda:0', grad_fn=<SumBackward0>) tensor(262.515, device='cuda:0', grad_fn=<SumBackward0>) tensor(185.664, device='cuda:0', grad_fn=<SumBackward0>)\n",
      "tensor(46.521, device='cuda:0', grad_fn=<SumBackward0>) tensor(98.263, device='cuda:0', grad_fn=<SumBackward0>) tensor(41.239, device='cuda:0', grad_fn=<SumBackward0>)\n"
     ]
    },
    {
     "name": "stderr",
     "output_type": "stream",
     "text": [
      "\r",
      " 13%|█▎        | 21/157 [00:40<04:12,  1.86s/it]"
     ]
    },
    {
     "name": "stdout",
     "output_type": "stream",
     "text": [
      "tensor(908.316, device='cuda:0', grad_fn=<SumBackward0>) tensor(255.456, device='cuda:0', grad_fn=<SumBackward0>) tensor(382.157, device='cuda:0', grad_fn=<SumBackward0>)\n",
      "tensor(3299.030, device='cuda:0', grad_fn=<SumBackward0>) tensor(340.851, device='cuda:0', grad_fn=<SumBackward0>) tensor(525.109, device='cuda:0', grad_fn=<SumBackward0>)\n",
      "tensor(1906.133, device='cuda:0', grad_fn=<SumBackward0>) tensor(506.450, device='cuda:0', grad_fn=<SumBackward0>) tensor(425.932, device='cuda:0', grad_fn=<SumBackward0>)\n",
      "tensor(4480.146, device='cuda:0', grad_fn=<SumBackward0>) tensor(470.367, device='cuda:0', grad_fn=<SumBackward0>) tensor(1216.716, device='cuda:0', grad_fn=<SumBackward0>)\n",
      "tensor(6347.062, device='cuda:0', grad_fn=<SumBackward0>) tensor(300.325, device='cuda:0', grad_fn=<SumBackward0>) tensor(1207.258, device='cuda:0', grad_fn=<SumBackward0>)\n",
      "tensor(953.427, device='cuda:0', grad_fn=<SumBackward0>) tensor(60.047, device='cuda:0', grad_fn=<SumBackward0>) tensor(94.898, device='cuda:0', grad_fn=<SumBackward0>)\n",
      "tensor(68.159, device='cuda:0', grad_fn=<SumBackward0>) tensor(153.362, device='cuda:0', grad_fn=<SumBackward0>) tensor(40.801, device='cuda:0', grad_fn=<SumBackward0>)\n",
      "tensor(826.307, device='cuda:0', grad_fn=<SumBackward0>) tensor(307.265, device='cuda:0', grad_fn=<SumBackward0>) tensor(386.182, device='cuda:0', grad_fn=<SumBackward0>)\n",
      "tensor(2460.497, device='cuda:0', grad_fn=<SumBackward0>) tensor(527.642, device='cuda:0', grad_fn=<SumBackward0>) tensor(1058.568, device='cuda:0', grad_fn=<SumBackward0>)\n",
      "tensor(150.660, device='cuda:0', grad_fn=<SumBackward0>) tensor(194.854, device='cuda:0', grad_fn=<SumBackward0>) tensor(63.045, device='cuda:0', grad_fn=<SumBackward0>)\n",
      "tensor(435.485, device='cuda:0', grad_fn=<SumBackward0>) tensor(499.104, device='cuda:0', grad_fn=<SumBackward0>) tensor(411.682, device='cuda:0', grad_fn=<SumBackward0>)\n",
      "tensor(755.800, device='cuda:0', grad_fn=<SumBackward0>) tensor(203.356, device='cuda:0', grad_fn=<SumBackward0>) tensor(264.507, device='cuda:0', grad_fn=<SumBackward0>)\n",
      "tensor(778.167, device='cuda:0', grad_fn=<SumBackward0>) tensor(283.378, device='cuda:0', grad_fn=<SumBackward0>) tensor(284.053, device='cuda:0', grad_fn=<SumBackward0>)\n",
      "tensor(367.446, device='cuda:0', grad_fn=<SumBackward0>) tensor(222.946, device='cuda:0', grad_fn=<SumBackward0>) tensor(170.152, device='cuda:0', grad_fn=<SumBackward0>)\n",
      "tensor(453.837, device='cuda:0', grad_fn=<SumBackward0>) tensor(202.295, device='cuda:0', grad_fn=<SumBackward0>) tensor(266.944, device='cuda:0', grad_fn=<SumBackward0>)\n",
      "tensor(1879.281, device='cuda:0', grad_fn=<SumBackward0>) tensor(565.421, device='cuda:0', grad_fn=<SumBackward0>) tensor(587.843, device='cuda:0', grad_fn=<SumBackward0>)\n"
     ]
    },
    {
     "name": "stderr",
     "output_type": "stream",
     "text": [
      "\r",
      " 14%|█▍        | 22/157 [00:42<04:10,  1.86s/it]"
     ]
    },
    {
     "name": "stdout",
     "output_type": "stream",
     "text": [
      "tensor(2407.537, device='cuda:0', grad_fn=<SumBackward0>) tensor(248.358, device='cuda:0', grad_fn=<SumBackward0>) tensor(619.764, device='cuda:0', grad_fn=<SumBackward0>)\n",
      "tensor(849.457, device='cuda:0', grad_fn=<SumBackward0>) tensor(363.293, device='cuda:0', grad_fn=<SumBackward0>) tensor(459.816, device='cuda:0', grad_fn=<SumBackward0>)\n",
      "tensor(82.583, device='cuda:0', grad_fn=<SumBackward0>) tensor(154.016, device='cuda:0', grad_fn=<SumBackward0>) tensor(74.524, device='cuda:0', grad_fn=<SumBackward0>)\n",
      "tensor(1789.434, device='cuda:0', grad_fn=<SumBackward0>) tensor(122.712, device='cuda:0', grad_fn=<SumBackward0>) tensor(503.993, device='cuda:0', grad_fn=<SumBackward0>)\n",
      "tensor(382.957, device='cuda:0', grad_fn=<SumBackward0>) tensor(312.988, device='cuda:0', grad_fn=<SumBackward0>) tensor(294.593, device='cuda:0', grad_fn=<SumBackward0>)\n",
      "tensor(300.113, device='cuda:0', grad_fn=<SumBackward0>) tensor(131.458, device='cuda:0', grad_fn=<SumBackward0>) tensor(182.412, device='cuda:0', grad_fn=<SumBackward0>)\n",
      "tensor(88.063, device='cuda:0', grad_fn=<SumBackward0>) tensor(118.753, device='cuda:0', grad_fn=<SumBackward0>) tensor(63.982, device='cuda:0', grad_fn=<SumBackward0>)\n",
      "tensor(22.149, device='cuda:0', grad_fn=<SumBackward0>) tensor(47.406, device='cuda:0', grad_fn=<SumBackward0>) tensor(48.322, device='cuda:0', grad_fn=<SumBackward0>)\n",
      "tensor(429.629, device='cuda:0', grad_fn=<SumBackward0>) tensor(67.744, device='cuda:0', grad_fn=<SumBackward0>) tensor(120.501, device='cuda:0', grad_fn=<SumBackward0>)\n",
      "tensor(33.755, device='cuda:0', grad_fn=<SumBackward0>) tensor(76.969, device='cuda:0', grad_fn=<SumBackward0>) tensor(23.575, device='cuda:0', grad_fn=<SumBackward0>)\n",
      "tensor(141.754, device='cuda:0', grad_fn=<SumBackward0>) tensor(126.332, device='cuda:0', grad_fn=<SumBackward0>) tensor(71.590, device='cuda:0', grad_fn=<SumBackward0>)\n",
      "tensor(31.264, device='cuda:0', grad_fn=<SumBackward0>) tensor(75.657, device='cuda:0', grad_fn=<SumBackward0>) tensor(29.323, device='cuda:0', grad_fn=<SumBackward0>)\n",
      "tensor(75.680, device='cuda:0', grad_fn=<SumBackward0>) tensor(127.782, device='cuda:0', grad_fn=<SumBackward0>) tensor(54.022, device='cuda:0', grad_fn=<SumBackward0>)\n",
      "tensor(1019.355, device='cuda:0', grad_fn=<SumBackward0>) tensor(262.707, device='cuda:0', grad_fn=<SumBackward0>) tensor(433.767, device='cuda:0', grad_fn=<SumBackward0>)\n",
      "tensor(2231.812, device='cuda:0', grad_fn=<SumBackward0>) tensor(160.423, device='cuda:0', grad_fn=<SumBackward0>) tensor(416.486, device='cuda:0', grad_fn=<SumBackward0>)\n",
      "tensor(306.631, device='cuda:0', grad_fn=<SumBackward0>) tensor(260.556, device='cuda:0', grad_fn=<SumBackward0>) tensor(299.173, device='cuda:0', grad_fn=<SumBackward0>)\n"
     ]
    },
    {
     "name": "stderr",
     "output_type": "stream",
     "text": [
      "\r",
      " 15%|█▍        | 23/157 [00:44<04:11,  1.88s/it]"
     ]
    },
    {
     "ename": "KeyboardInterrupt",
     "evalue": "",
     "output_type": "error",
     "traceback": [
      "\u001b[0;31m---------------------------------------------------------------------------\u001b[0m",
      "\u001b[0;31mKeyboardInterrupt\u001b[0m                         Traceback (most recent call last)",
      "\u001b[0;32m<ipython-input-3-d2a6140aee66>\u001b[0m in \u001b[0;36m<module>\u001b[0;34m\u001b[0m\n\u001b[1;32m     17\u001b[0m \u001b[0;31m# print(conf_pred.shape, loc_pred.shape)\u001b[0m\u001b[0;34m\u001b[0m\u001b[0;34m\u001b[0m\u001b[0;34m\u001b[0m\u001b[0m\n\u001b[1;32m     18\u001b[0m \u001b[0mtrn_dataloader\u001b[0m \u001b[0;34m=\u001b[0m \u001b[0mDataLoader\u001b[0m\u001b[0;34m(\u001b[0m\u001b[0mtrain_dataset\u001b[0m\u001b[0;34m,\u001b[0m \u001b[0;36m16\u001b[0m\u001b[0;34m,\u001b[0m \u001b[0mshuffle\u001b[0m\u001b[0;34m=\u001b[0m\u001b[0;32mFalse\u001b[0m\u001b[0;34m,\u001b[0m \u001b[0mcollate_fn\u001b[0m\u001b[0;34m=\u001b[0m\u001b[0mdetection_collate_fn\u001b[0m\u001b[0;34m)\u001b[0m\u001b[0;34m\u001b[0m\u001b[0;34m\u001b[0m\u001b[0m\n\u001b[0;32m---> 19\u001b[0;31m \u001b[0mlr_array\u001b[0m\u001b[0;34m,\u001b[0m \u001b[0mloss_array\u001b[0m \u001b[0;34m=\u001b[0m \u001b[0mlr_find\u001b[0m\u001b[0;34m(\u001b[0m\u001b[0mssd_model\u001b[0m\u001b[0;34m,\u001b[0m \u001b[0;36m1e-1\u001b[0m\u001b[0;34m,\u001b[0m \u001b[0;36m1e-4\u001b[0m\u001b[0;34m,\u001b[0m \u001b[0mtrn_dataloader\u001b[0m\u001b[0;34m,\u001b[0m \u001b[0mlinear\u001b[0m\u001b[0;34m=\u001b[0m\u001b[0;32mFalse\u001b[0m\u001b[0;34m)\u001b[0m\u001b[0;34m\u001b[0m\u001b[0;34m\u001b[0m\u001b[0m\n\u001b[0m",
      "\u001b[0;32m~/PyTorch_SSD/SSD_model.py\u001b[0m in \u001b[0;36mlr_find\u001b[0;34m(model, lr_max, lr_min, trn_dataloader, linear)\u001b[0m\n\u001b[1;32m    203\u001b[0m     \u001b[0mmin_loss\u001b[0m \u001b[0;34m=\u001b[0m \u001b[0mfloat\u001b[0m\u001b[0;34m(\u001b[0m\u001b[0;34m'inf'\u001b[0m\u001b[0;34m)\u001b[0m\u001b[0;34m\u001b[0m\u001b[0;34m\u001b[0m\u001b[0m\n\u001b[1;32m    204\u001b[0m \u001b[0;34m\u001b[0m\u001b[0m\n\u001b[0;32m--> 205\u001b[0;31m     \u001b[0;32mfor\u001b[0m \u001b[0mi\u001b[0m\u001b[0;34m,\u001b[0m \u001b[0mbatch\u001b[0m \u001b[0;32min\u001b[0m \u001b[0menumerate\u001b[0m\u001b[0;34m(\u001b[0m\u001b[0mtqdm\u001b[0m\u001b[0;34m(\u001b[0m\u001b[0mtrn_dataloader\u001b[0m\u001b[0;34m)\u001b[0m\u001b[0;34m)\u001b[0m\u001b[0;34m:\u001b[0m\u001b[0;34m\u001b[0m\u001b[0;34m\u001b[0m\u001b[0m\n\u001b[0m\u001b[1;32m    206\u001b[0m         \u001b[0;32mif\u001b[0m \u001b[0mlinear\u001b[0m\u001b[0;34m:\u001b[0m\u001b[0;34m\u001b[0m\u001b[0;34m\u001b[0m\u001b[0m\n\u001b[1;32m    207\u001b[0m             \u001b[0mlr\u001b[0m \u001b[0;34m=\u001b[0m \u001b[0mlr_min\u001b[0m \u001b[0;34m+\u001b[0m \u001b[0mstep\u001b[0m \u001b[0;34m*\u001b[0m \u001b[0mi\u001b[0m\u001b[0;34m\u001b[0m\u001b[0;34m\u001b[0m\u001b[0m\n",
      "\u001b[0;32m~/.local/lib/python3.6/site-packages/tqdm/_tqdm.py\u001b[0m in \u001b[0;36m__iter__\u001b[0;34m(self)\u001b[0m\n\u001b[1;32m    977\u001b[0m \"\"\", fp_write=getattr(self.fp, 'write', sys.stderr.write))\n\u001b[1;32m    978\u001b[0m \u001b[0;34m\u001b[0m\u001b[0m\n\u001b[0;32m--> 979\u001b[0;31m             \u001b[0;32mfor\u001b[0m \u001b[0mobj\u001b[0m \u001b[0;32min\u001b[0m \u001b[0miterable\u001b[0m\u001b[0;34m:\u001b[0m\u001b[0;34m\u001b[0m\u001b[0;34m\u001b[0m\u001b[0m\n\u001b[0m\u001b[1;32m    980\u001b[0m                 \u001b[0;32myield\u001b[0m \u001b[0mobj\u001b[0m\u001b[0;34m\u001b[0m\u001b[0;34m\u001b[0m\u001b[0m\n\u001b[1;32m    981\u001b[0m                 \u001b[0;31m# Update and possibly print the progressbar.\u001b[0m\u001b[0;34m\u001b[0m\u001b[0;34m\u001b[0m\u001b[0;34m\u001b[0m\u001b[0m\n",
      "\u001b[0;32m~/.local/lib/python3.6/site-packages/torch/utils/data/dataloader.py\u001b[0m in \u001b[0;36m__next__\u001b[0;34m(self)\u001b[0m\n\u001b[1;32m    613\u001b[0m         \u001b[0;32mif\u001b[0m \u001b[0mself\u001b[0m\u001b[0;34m.\u001b[0m\u001b[0mnum_workers\u001b[0m \u001b[0;34m==\u001b[0m \u001b[0;36m0\u001b[0m\u001b[0;34m:\u001b[0m  \u001b[0;31m# same-process loading\u001b[0m\u001b[0;34m\u001b[0m\u001b[0;34m\u001b[0m\u001b[0m\n\u001b[1;32m    614\u001b[0m             \u001b[0mindices\u001b[0m \u001b[0;34m=\u001b[0m \u001b[0mnext\u001b[0m\u001b[0;34m(\u001b[0m\u001b[0mself\u001b[0m\u001b[0;34m.\u001b[0m\u001b[0msample_iter\u001b[0m\u001b[0;34m)\u001b[0m  \u001b[0;31m# may raise StopIteration\u001b[0m\u001b[0;34m\u001b[0m\u001b[0;34m\u001b[0m\u001b[0m\n\u001b[0;32m--> 615\u001b[0;31m             \u001b[0mbatch\u001b[0m \u001b[0;34m=\u001b[0m \u001b[0mself\u001b[0m\u001b[0;34m.\u001b[0m\u001b[0mcollate_fn\u001b[0m\u001b[0;34m(\u001b[0m\u001b[0;34m[\u001b[0m\u001b[0mself\u001b[0m\u001b[0;34m.\u001b[0m\u001b[0mdataset\u001b[0m\u001b[0;34m[\u001b[0m\u001b[0mi\u001b[0m\u001b[0;34m]\u001b[0m \u001b[0;32mfor\u001b[0m \u001b[0mi\u001b[0m \u001b[0;32min\u001b[0m \u001b[0mindices\u001b[0m\u001b[0;34m]\u001b[0m\u001b[0;34m)\u001b[0m\u001b[0;34m\u001b[0m\u001b[0;34m\u001b[0m\u001b[0m\n\u001b[0m\u001b[1;32m    616\u001b[0m             \u001b[0;32mif\u001b[0m \u001b[0mself\u001b[0m\u001b[0;34m.\u001b[0m\u001b[0mpin_memory\u001b[0m\u001b[0;34m:\u001b[0m\u001b[0;34m\u001b[0m\u001b[0;34m\u001b[0m\u001b[0m\n\u001b[1;32m    617\u001b[0m                 \u001b[0mbatch\u001b[0m \u001b[0;34m=\u001b[0m \u001b[0mpin_memory_batch\u001b[0m\u001b[0;34m(\u001b[0m\u001b[0mbatch\u001b[0m\u001b[0;34m)\u001b[0m\u001b[0;34m\u001b[0m\u001b[0;34m\u001b[0m\u001b[0m\n",
      "\u001b[0;32m~/.local/lib/python3.6/site-packages/torch/utils/data/dataloader.py\u001b[0m in \u001b[0;36m<listcomp>\u001b[0;34m(.0)\u001b[0m\n\u001b[1;32m    613\u001b[0m         \u001b[0;32mif\u001b[0m \u001b[0mself\u001b[0m\u001b[0;34m.\u001b[0m\u001b[0mnum_workers\u001b[0m \u001b[0;34m==\u001b[0m \u001b[0;36m0\u001b[0m\u001b[0;34m:\u001b[0m  \u001b[0;31m# same-process loading\u001b[0m\u001b[0;34m\u001b[0m\u001b[0;34m\u001b[0m\u001b[0m\n\u001b[1;32m    614\u001b[0m             \u001b[0mindices\u001b[0m \u001b[0;34m=\u001b[0m \u001b[0mnext\u001b[0m\u001b[0;34m(\u001b[0m\u001b[0mself\u001b[0m\u001b[0;34m.\u001b[0m\u001b[0msample_iter\u001b[0m\u001b[0;34m)\u001b[0m  \u001b[0;31m# may raise StopIteration\u001b[0m\u001b[0;34m\u001b[0m\u001b[0;34m\u001b[0m\u001b[0m\n\u001b[0;32m--> 615\u001b[0;31m             \u001b[0mbatch\u001b[0m \u001b[0;34m=\u001b[0m \u001b[0mself\u001b[0m\u001b[0;34m.\u001b[0m\u001b[0mcollate_fn\u001b[0m\u001b[0;34m(\u001b[0m\u001b[0;34m[\u001b[0m\u001b[0mself\u001b[0m\u001b[0;34m.\u001b[0m\u001b[0mdataset\u001b[0m\u001b[0;34m[\u001b[0m\u001b[0mi\u001b[0m\u001b[0;34m]\u001b[0m \u001b[0;32mfor\u001b[0m \u001b[0mi\u001b[0m \u001b[0;32min\u001b[0m \u001b[0mindices\u001b[0m\u001b[0;34m]\u001b[0m\u001b[0;34m)\u001b[0m\u001b[0;34m\u001b[0m\u001b[0;34m\u001b[0m\u001b[0m\n\u001b[0m\u001b[1;32m    616\u001b[0m             \u001b[0;32mif\u001b[0m \u001b[0mself\u001b[0m\u001b[0;34m.\u001b[0m\u001b[0mpin_memory\u001b[0m\u001b[0;34m:\u001b[0m\u001b[0;34m\u001b[0m\u001b[0;34m\u001b[0m\u001b[0m\n\u001b[1;32m    617\u001b[0m                 \u001b[0mbatch\u001b[0m \u001b[0;34m=\u001b[0m \u001b[0mpin_memory_batch\u001b[0m\u001b[0;34m(\u001b[0m\u001b[0mbatch\u001b[0m\u001b[0;34m)\u001b[0m\u001b[0;34m\u001b[0m\u001b[0;34m\u001b[0m\u001b[0m\n",
      "\u001b[0;32m~/PyTorch_SSD/VOC_data.py\u001b[0m in \u001b[0;36m__getitem__\u001b[0;34m(self, idx)\u001b[0m\n\u001b[1;32m     68\u001b[0m \u001b[0;34m\u001b[0m\u001b[0m\n\u001b[1;32m     69\u001b[0m         \u001b[0;31m# print(self.img_path + self.id_fname[self.id_list[idx]])\u001b[0m\u001b[0;34m\u001b[0m\u001b[0;34m\u001b[0m\u001b[0;34m\u001b[0m\u001b[0m\n\u001b[0;32m---> 70\u001b[0;31m         \u001b[0mimg\u001b[0m \u001b[0;34m=\u001b[0m \u001b[0mcv2\u001b[0m\u001b[0;34m.\u001b[0m\u001b[0mimread\u001b[0m\u001b[0;34m(\u001b[0m\u001b[0mself\u001b[0m\u001b[0;34m.\u001b[0m\u001b[0mimg_path\u001b[0m \u001b[0;34m+\u001b[0m \u001b[0mself\u001b[0m\u001b[0;34m.\u001b[0m\u001b[0mid_fname\u001b[0m\u001b[0;34m[\u001b[0m\u001b[0mself\u001b[0m\u001b[0;34m.\u001b[0m\u001b[0mid_list\u001b[0m\u001b[0;34m[\u001b[0m\u001b[0midx\u001b[0m\u001b[0;34m]\u001b[0m\u001b[0;34m]\u001b[0m\u001b[0;34m)\u001b[0m\u001b[0;34m\u001b[0m\u001b[0;34m\u001b[0m\u001b[0m\n\u001b[0m\u001b[1;32m     71\u001b[0m         \u001b[0mimg\u001b[0m\u001b[0;34m,\u001b[0m \u001b[0mbbox\u001b[0m\u001b[0;34m,\u001b[0m \u001b[0mlabel\u001b[0m \u001b[0;34m=\u001b[0m \u001b[0mnp\u001b[0m\u001b[0;34m.\u001b[0m\u001b[0mfloat32\u001b[0m\u001b[0;34m(\u001b[0m\u001b[0mimg\u001b[0m\u001b[0;34m)\u001b[0m\u001b[0;34m,\u001b[0m \u001b[0mnp\u001b[0m\u001b[0;34m.\u001b[0m\u001b[0mfloat32\u001b[0m\u001b[0;34m(\u001b[0m\u001b[0mbbox\u001b[0m\u001b[0;34m)\u001b[0m\u001b[0;34m.\u001b[0m\u001b[0mreshape\u001b[0m\u001b[0;34m(\u001b[0m\u001b[0;34m-\u001b[0m\u001b[0;36m1\u001b[0m\u001b[0;34m,\u001b[0m \u001b[0;36m4\u001b[0m\u001b[0;34m)\u001b[0m\u001b[0;34m,\u001b[0m \u001b[0mnp\u001b[0m\u001b[0;34m.\u001b[0m\u001b[0mint32\u001b[0m\u001b[0;34m(\u001b[0m\u001b[0mlabel\u001b[0m\u001b[0;34m)\u001b[0m\u001b[0;34m\u001b[0m\u001b[0;34m\u001b[0m\u001b[0m\n\u001b[1;32m     72\u001b[0m \u001b[0;34m\u001b[0m\u001b[0m\n",
      "\u001b[0;31mKeyboardInterrupt\u001b[0m: "
     ]
    }
   ],
   "source": [
    "use_cuda = torch.cuda.is_available()\n",
    "device = torch.device(\"cuda:0\" if use_cuda else \"cpu\")\n",
    "\n",
    "config = Config('remote')\n",
    "ssd_model = get_SSD_model(1, config.vgg_weight_path, config.vgg_reduced_weight_path)\n",
    "ssd_model.freeze_basenet()\n",
    "ssd_model = ssd_model.to(device)\n",
    "\n",
    "print('success build ssd model')\n",
    "\n",
    "train_dataset = VOC_dataset(config.voc2007_root, config.voc2007_trn_anno)\n",
    "\n",
    "# img, bbox, label = train_dataset[0]\n",
    "# img = img.unsqueeze(0)\n",
    "\n",
    "# conf_pred, loc_pred = ssd_model(img)\n",
    "# print(conf_pred.shape, loc_pred.shape)\n",
    "trn_dataloader = DataLoader(train_dataset, 16, shuffle=False, collate_fn=detection_collate_fn)\n",
    "lr_array, loss_array = lr_find(ssd_model, 1e-1, 1e-4, trn_dataloader, linear=False)"
   ]
  },
  {
   "cell_type": "code",
   "execution_count": 4,
   "metadata": {},
   "outputs": [
    {
     "data": {
      "text/plain": [
       "[<matplotlib.lines.Line2D at 0x7febb8e3c470>]"
      ]
     },
     "execution_count": 4,
     "metadata": {},
     "output_type": "execute_result"
    },
    {
     "data": {
      "image/png": "[encoded data removed]",
      "text/plain": [
       "<Figure size 432x288 with 1 Axes>"
      ]
     },
     "metadata": {
      "needs_background": "light"
     },
     "output_type": "display_data"
    }
   ],
   "source": [
    "plt.plot(loss_array)"
   ]
  },
  {
   "cell_type": "code",
   "execution_count": 5,
   "metadata": {},
   "outputs": [
    {
     "data": {
      "text/plain": [
       "2.41"
      ]
     },
     "execution_count": 5,
     "metadata": {},
     "output_type": "execute_result"
    }
   ],
   "source": [
    "min(loss_array)"
   ]
  },
  {
   "cell_type": "code",
   "execution_count": null,
   "metadata": {},
   "outputs": [],
   "source": []
  },
  {
   "cell_type": "code",
   "execution_count": null,
   "metadata": {},
   "outputs": [],
   "source": []
  },
  {
   "cell_type": "code",
   "execution_count": 4,
   "metadata": {},
   "outputs": [],
   "source": [
    "ssd_model.load_trained_model(config.trained_path)"
   ]
  },
  {
   "cell_type": "code",
   "execution_count": 5,
   "metadata": {},
   "outputs": [],
   "source": [
    "optimizer = torch.optim.Adam(ssd_model.parameters())"
   ]
  },
  {
   "cell_type": "code",
   "execution_count": 6,
   "metadata": {},
   "outputs": [
    {
     "name": "stderr",
     "output_type": "stream",
     "text": [
      "/home/kindeqi/.local/lib/python3.6/site-packages/torch/nn/_reduction.py:49: UserWarning: size_average and reduce args will be deprecated, please use reduction='none' instead.\n",
      "  warnings.warn(warning.format(ret))\n"
     ]
    },
    {
     "name": "stdout",
     "output_type": "stream",
     "text": [
      "0 cls_loss: 9.75, loc_loss: 6.921, loss: 9.75\n",
      "1 cls_loss: 10.844, loc_loss: 5.979, loss: 10.844\n",
      "2 cls_loss: 5.542, loc_loss: 8.049, loss: 5.542\n",
      "3 cls_loss: 4.635, loc_loss: 6.594, loss: 4.635\n",
      "4 cls_loss: 3.47, loc_loss: 7.149, loss: 3.47\n",
      "5 cls_loss: 3.444, loc_loss: 5.886, loss: 3.444\n",
      "6 cls_loss: 3.28, loc_loss: 6.612, loss: 3.28\n",
      "7 cls_loss: 3.989, loc_loss: 5.878, loss: 3.989\n",
      "8 cls_loss: 3.529, loc_loss: 7.656, loss: 3.529\n",
      "9 cls_loss: 3.322, loc_loss: 6.576, loss: 3.322\n",
      "10 cls_loss: 3.734, loc_loss: 7.213, loss: 3.734\n",
      "11 cls_loss: 3.345, loc_loss: 7.204, loss: 3.345\n",
      "12 cls_loss: 3.0, loc_loss: 6.589, loss: 3.0\n",
      "13 cls_loss: 3.557, loc_loss: 8.754, loss: 3.557\n",
      "14 cls_loss: 3.685, loc_loss: 6.91, loss: 3.685\n",
      "15 cls_loss: 4.188, loc_loss: 8.668, loss: 4.188\n",
      "16 cls_loss: 2.758, loc_loss: 5.577, loss: 2.758\n",
      "17 cls_loss: 4.259, loc_loss: 7.196, loss: 4.259\n",
      "18 cls_loss: 2.744, loc_loss: 6.569, loss: 2.744\n",
      "19 cls_loss: 3.611, loc_loss: 8.595, loss: 3.611\n",
      "20 cls_loss: 3.292, loc_loss: 8.414, loss: 3.292\n",
      "21 cls_loss: 3.127, loc_loss: 8.257, loss: 3.127\n",
      "22 cls_loss: 2.89, loc_loss: 6.935, loss: 2.89\n",
      "23 cls_loss: 3.469, loc_loss: 9.626, loss: 3.469\n",
      "24 cls_loss: 2.873, loc_loss: 7.643, loss: 2.873\n",
      "25 cls_loss: 2.92, loc_loss: 4.836, loss: 2.92\n",
      "26 cls_loss: 3.944, loc_loss: 8.551, loss: 3.944\n",
      "27 cls_loss: 3.162, loc_loss: 6.617, loss: 3.162\n",
      "28 cls_loss: 2.62, loc_loss: 5.257, loss: 2.62\n",
      "29 cls_loss: 2.95, loc_loss: 6.895, loss: 2.95\n",
      "30 cls_loss: 2.759, loc_loss: 7.439, loss: 2.759\n",
      "31 cls_loss: 3.637, loc_loss: 6.829, loss: 3.637\n",
      "32 cls_loss: 2.64, loc_loss: 4.551, loss: 2.64\n",
      "33 cls_loss: 2.661, loc_loss: 6.097, loss: 2.661\n",
      "34 cls_loss: 3.329, loc_loss: 6.778, loss: 3.329\n",
      "35 cls_loss: 2.988, loc_loss: 6.168, loss: 2.988\n",
      "36 cls_loss: 3.441, loc_loss: 8.182, loss: 3.441\n",
      "37 cls_loss: 2.895, loc_loss: 5.379, loss: 2.895\n",
      "38 cls_loss: 3.373, loc_loss: 6.496, loss: 3.373\n",
      "39 cls_loss: 2.652, loc_loss: 7.964, loss: 2.652\n",
      "40 cls_loss: 2.857, loc_loss: 6.044, loss: 2.857\n",
      "41 cls_loss: 2.705, loc_loss: 4.915, loss: 2.705\n",
      "42 cls_loss: 3.103, loc_loss: 6.933, loss: 3.103\n",
      "43 cls_loss: 3.178, loc_loss: 7.887, loss: 3.178\n",
      "44 cls_loss: 2.995, loc_loss: 6.494, loss: 2.995\n",
      "45 cls_loss: 2.629, loc_loss: 4.558, loss: 2.629\n",
      "46 cls_loss: 3.063, loc_loss: 8.454, loss: 3.063\n",
      "47 cls_loss: 3.332, loc_loss: 6.398, loss: 3.332\n",
      "48 cls_loss: 2.522, loc_loss: 4.853, loss: 2.522\n"
     ]
    },
    {
     "ename": "KeyboardInterrupt",
     "evalue": "",
     "output_type": "error",
     "traceback": [
      "\u001b[0;31m---------------------------------------------------------------------------\u001b[0m",
      "\u001b[0;31mKeyboardInterrupt\u001b[0m                         Traceback (most recent call last)",
      "\u001b[0;32m<ipython-input-6-ac07497e1a18>\u001b[0m in \u001b[0;36m<module>\u001b[0;34m\u001b[0m\n\u001b[1;32m      2\u001b[0m \u001b[0mloss_array\u001b[0m \u001b[0;34m=\u001b[0m \u001b[0;34m[\u001b[0m\u001b[0;34m]\u001b[0m\u001b[0;34m\u001b[0m\u001b[0;34m\u001b[0m\u001b[0m\n\u001b[1;32m      3\u001b[0m \u001b[0;34m\u001b[0m\u001b[0m\n\u001b[0;32m----> 4\u001b[0;31m \u001b[0;32mfor\u001b[0m \u001b[0mi\u001b[0m\u001b[0;34m,\u001b[0m \u001b[0mbatch\u001b[0m \u001b[0;32min\u001b[0m \u001b[0menumerate\u001b[0m\u001b[0;34m(\u001b[0m\u001b[0mtrn_dataloader\u001b[0m\u001b[0;34m)\u001b[0m\u001b[0;34m:\u001b[0m\u001b[0;34m\u001b[0m\u001b[0;34m\u001b[0m\u001b[0m\n\u001b[0m\u001b[1;32m      5\u001b[0m \u001b[0;34m\u001b[0m\u001b[0m\n\u001b[1;32m      6\u001b[0m     \u001b[0mimgs\u001b[0m\u001b[0;34m,\u001b[0m \u001b[0mbboxes\u001b[0m\u001b[0;34m,\u001b[0m \u001b[0mlabels\u001b[0m \u001b[0;34m=\u001b[0m \u001b[0mbatch\u001b[0m\u001b[0;34m\u001b[0m\u001b[0;34m\u001b[0m\u001b[0m\n",
      "\u001b[0;32m~/.local/lib/python3.6/site-packages/torch/utils/data/dataloader.py\u001b[0m in \u001b[0;36m__next__\u001b[0;34m(self)\u001b[0m\n\u001b[1;32m    613\u001b[0m         \u001b[0;32mif\u001b[0m \u001b[0mself\u001b[0m\u001b[0;34m.\u001b[0m\u001b[0mnum_workers\u001b[0m \u001b[0;34m==\u001b[0m \u001b[0;36m0\u001b[0m\u001b[0;34m:\u001b[0m  \u001b[0;31m# same-process loading\u001b[0m\u001b[0;34m\u001b[0m\u001b[0;34m\u001b[0m\u001b[0m\n\u001b[1;32m    614\u001b[0m             \u001b[0mindices\u001b[0m \u001b[0;34m=\u001b[0m \u001b[0mnext\u001b[0m\u001b[0;34m(\u001b[0m\u001b[0mself\u001b[0m\u001b[0;34m.\u001b[0m\u001b[0msample_iter\u001b[0m\u001b[0;34m)\u001b[0m  \u001b[0;31m# may raise StopIteration\u001b[0m\u001b[0;34m\u001b[0m\u001b[0;34m\u001b[0m\u001b[0m\n\u001b[0;32m--> 615\u001b[0;31m             \u001b[0mbatch\u001b[0m \u001b[0;34m=\u001b[0m \u001b[0mself\u001b[0m\u001b[0;34m.\u001b[0m\u001b[0mcollate_fn\u001b[0m\u001b[0;34m(\u001b[0m\u001b[0;34m[\u001b[0m\u001b[0mself\u001b[0m\u001b[0;34m.\u001b[0m\u001b[0mdataset\u001b[0m\u001b[0;34m[\u001b[0m\u001b[0mi\u001b[0m\u001b[0;34m]\u001b[0m \u001b[0;32mfor\u001b[0m \u001b[0mi\u001b[0m \u001b[0;32min\u001b[0m \u001b[0mindices\u001b[0m\u001b[0;34m]\u001b[0m\u001b[0;34m)\u001b[0m\u001b[0;34m\u001b[0m\u001b[0;34m\u001b[0m\u001b[0m\n\u001b[0m\u001b[1;32m    616\u001b[0m             \u001b[0;32mif\u001b[0m \u001b[0mself\u001b[0m\u001b[0;34m.\u001b[0m\u001b[0mpin_memory\u001b[0m\u001b[0;34m:\u001b[0m\u001b[0;34m\u001b[0m\u001b[0;34m\u001b[0m\u001b[0m\n\u001b[1;32m    617\u001b[0m                 \u001b[0mbatch\u001b[0m \u001b[0;34m=\u001b[0m \u001b[0mpin_memory_batch\u001b[0m\u001b[0;34m(\u001b[0m\u001b[0mbatch\u001b[0m\u001b[0;34m)\u001b[0m\u001b[0;34m\u001b[0m\u001b[0;34m\u001b[0m\u001b[0m\n",
      "\u001b[0;32m~/.local/lib/python3.6/site-packages/torch/utils/data/dataloader.py\u001b[0m in \u001b[0;36m<listcomp>\u001b[0;34m(.0)\u001b[0m\n\u001b[1;32m    613\u001b[0m         \u001b[0;32mif\u001b[0m \u001b[0mself\u001b[0m\u001b[0;34m.\u001b[0m\u001b[0mnum_workers\u001b[0m \u001b[0;34m==\u001b[0m \u001b[0;36m0\u001b[0m\u001b[0;34m:\u001b[0m  \u001b[0;31m# same-process loading\u001b[0m\u001b[0;34m\u001b[0m\u001b[0;34m\u001b[0m\u001b[0m\n\u001b[1;32m    614\u001b[0m             \u001b[0mindices\u001b[0m \u001b[0;34m=\u001b[0m \u001b[0mnext\u001b[0m\u001b[0;34m(\u001b[0m\u001b[0mself\u001b[0m\u001b[0;34m.\u001b[0m\u001b[0msample_iter\u001b[0m\u001b[0;34m)\u001b[0m  \u001b[0;31m# may raise StopIteration\u001b[0m\u001b[0;34m\u001b[0m\u001b[0;34m\u001b[0m\u001b[0m\n\u001b[0;32m--> 615\u001b[0;31m             \u001b[0mbatch\u001b[0m \u001b[0;34m=\u001b[0m \u001b[0mself\u001b[0m\u001b[0;34m.\u001b[0m\u001b[0mcollate_fn\u001b[0m\u001b[0;34m(\u001b[0m\u001b[0;34m[\u001b[0m\u001b[0mself\u001b[0m\u001b[0;34m.\u001b[0m\u001b[0mdataset\u001b[0m\u001b[0;34m[\u001b[0m\u001b[0mi\u001b[0m\u001b[0;34m]\u001b[0m \u001b[0;32mfor\u001b[0m \u001b[0mi\u001b[0m \u001b[0;32min\u001b[0m \u001b[0mindices\u001b[0m\u001b[0;34m]\u001b[0m\u001b[0;34m)\u001b[0m\u001b[0;34m\u001b[0m\u001b[0;34m\u001b[0m\u001b[0m\n\u001b[0m\u001b[1;32m    616\u001b[0m             \u001b[0;32mif\u001b[0m \u001b[0mself\u001b[0m\u001b[0;34m.\u001b[0m\u001b[0mpin_memory\u001b[0m\u001b[0;34m:\u001b[0m\u001b[0;34m\u001b[0m\u001b[0;34m\u001b[0m\u001b[0m\n\u001b[1;32m    617\u001b[0m                 \u001b[0mbatch\u001b[0m \u001b[0;34m=\u001b[0m \u001b[0mpin_memory_batch\u001b[0m\u001b[0;34m(\u001b[0m\u001b[0mbatch\u001b[0m\u001b[0;34m)\u001b[0m\u001b[0;34m\u001b[0m\u001b[0;34m\u001b[0m\u001b[0m\n",
      "\u001b[0;32m~/PyTorch_SSD/VOC_data.py\u001b[0m in \u001b[0;36m__getitem__\u001b[0;34m(self, idx)\u001b[0m\n\u001b[1;32m     73\u001b[0m         \u001b[0;31m# print(img.shape)\u001b[0m\u001b[0;34m\u001b[0m\u001b[0;34m\u001b[0m\u001b[0;34m\u001b[0m\u001b[0m\n\u001b[1;32m     74\u001b[0m \u001b[0;34m\u001b[0m\u001b[0m\n\u001b[0;32m---> 75\u001b[0;31m         \u001b[0mimg\u001b[0m\u001b[0;34m,\u001b[0m \u001b[0mbbox\u001b[0m\u001b[0;34m,\u001b[0m \u001b[0mlabel\u001b[0m \u001b[0;34m=\u001b[0m \u001b[0mself\u001b[0m\u001b[0;34m.\u001b[0m\u001b[0mtransforms\u001b[0m\u001b[0;34m(\u001b[0m\u001b[0mimg\u001b[0m\u001b[0;34m,\u001b[0m \u001b[0mbbox\u001b[0m\u001b[0;34m,\u001b[0m \u001b[0mlabel\u001b[0m\u001b[0;34m)\u001b[0m\u001b[0;34m\u001b[0m\u001b[0;34m\u001b[0m\u001b[0m\n\u001b[0m\u001b[1;32m     76\u001b[0m \u001b[0;34m\u001b[0m\u001b[0m\n\u001b[1;32m     77\u001b[0m         \u001b[0mimg\u001b[0m \u001b[0;34m=\u001b[0m \u001b[0mtorch\u001b[0m\u001b[0;34m.\u001b[0m\u001b[0mtensor\u001b[0m\u001b[0;34m(\u001b[0m\u001b[0mimg\u001b[0m\u001b[0;34m)\u001b[0m\u001b[0;34m.\u001b[0m\u001b[0mpermute\u001b[0m\u001b[0;34m(\u001b[0m\u001b[0;36m2\u001b[0m\u001b[0;34m,\u001b[0m \u001b[0;36m0\u001b[0m\u001b[0;34m,\u001b[0m \u001b[0;36m1\u001b[0m\u001b[0;34m)\u001b[0m\u001b[0;34m\u001b[0m\u001b[0;34m\u001b[0m\u001b[0m\n",
      "\u001b[0;32m~/PyTorch_SSD/augmentation.py\u001b[0m in \u001b[0;36m__call__\u001b[0;34m(self, img, boxes, labels)\u001b[0m\n\u001b[1;32m    454\u001b[0m \u001b[0;34m\u001b[0m\u001b[0m\n\u001b[1;32m    455\u001b[0m     \u001b[0;32mdef\u001b[0m \u001b[0m__call__\u001b[0m\u001b[0;34m(\u001b[0m\u001b[0mself\u001b[0m\u001b[0;34m,\u001b[0m \u001b[0mimg\u001b[0m\u001b[0;34m,\u001b[0m \u001b[0mboxes\u001b[0m\u001b[0;34m,\u001b[0m \u001b[0mlabels\u001b[0m\u001b[0;34m)\u001b[0m\u001b[0;34m:\u001b[0m\u001b[0;34m\u001b[0m\u001b[0;34m\u001b[0m\u001b[0m\n\u001b[0;32m--> 456\u001b[0;31m         \u001b[0;32mreturn\u001b[0m \u001b[0mself\u001b[0m\u001b[0;34m.\u001b[0m\u001b[0maugment\u001b[0m\u001b[0;34m(\u001b[0m\u001b[0mimg\u001b[0m\u001b[0;34m,\u001b[0m \u001b[0mboxes\u001b[0m\u001b[0;34m,\u001b[0m \u001b[0mlabels\u001b[0m\u001b[0;34m)\u001b[0m\u001b[0;34m\u001b[0m\u001b[0;34m\u001b[0m\u001b[0m\n\u001b[0m",
      "\u001b[0;32m~/PyTorch_SSD/augmentation.py\u001b[0m in \u001b[0;36m__call__\u001b[0;34m(self, img, boxes, labels)\u001b[0m\n\u001b[1;32m     52\u001b[0m     \u001b[0;32mdef\u001b[0m \u001b[0m__call__\u001b[0m\u001b[0;34m(\u001b[0m\u001b[0mself\u001b[0m\u001b[0;34m,\u001b[0m \u001b[0mimg\u001b[0m\u001b[0;34m,\u001b[0m \u001b[0mboxes\u001b[0m\u001b[0;34m=\u001b[0m\u001b[0;32mNone\u001b[0m\u001b[0;34m,\u001b[0m \u001b[0mlabels\u001b[0m\u001b[0;34m=\u001b[0m\u001b[0;32mNone\u001b[0m\u001b[0;34m)\u001b[0m\u001b[0;34m:\u001b[0m\u001b[0;34m\u001b[0m\u001b[0;34m\u001b[0m\u001b[0m\n\u001b[1;32m     53\u001b[0m         \u001b[0;32mfor\u001b[0m \u001b[0mt\u001b[0m \u001b[0;32min\u001b[0m \u001b[0mself\u001b[0m\u001b[0;34m.\u001b[0m\u001b[0mtransforms\u001b[0m\u001b[0;34m:\u001b[0m\u001b[0;34m\u001b[0m\u001b[0;34m\u001b[0m\u001b[0m\n\u001b[0;32m---> 54\u001b[0;31m             \u001b[0mimg\u001b[0m\u001b[0;34m,\u001b[0m \u001b[0mboxes\u001b[0m\u001b[0;34m,\u001b[0m \u001b[0mlabels\u001b[0m \u001b[0;34m=\u001b[0m \u001b[0mt\u001b[0m\u001b[0;34m(\u001b[0m\u001b[0mimg\u001b[0m\u001b[0;34m,\u001b[0m \u001b[0mboxes\u001b[0m\u001b[0;34m,\u001b[0m \u001b[0mlabels\u001b[0m\u001b[0;34m)\u001b[0m\u001b[0;34m\u001b[0m\u001b[0;34m\u001b[0m\u001b[0m\n\u001b[0m\u001b[1;32m     55\u001b[0m         \u001b[0;32mreturn\u001b[0m \u001b[0mimg\u001b[0m\u001b[0;34m,\u001b[0m \u001b[0mboxes\u001b[0m\u001b[0;34m,\u001b[0m \u001b[0mlabels\u001b[0m\u001b[0;34m\u001b[0m\u001b[0;34m\u001b[0m\u001b[0m\n\u001b[1;32m     56\u001b[0m \u001b[0;34m\u001b[0m\u001b[0m\n",
      "\u001b[0;32m~/PyTorch_SSD/augmentation.py\u001b[0m in \u001b[0;36m__call__\u001b[0;34m(self, image, boxes, labels)\u001b[0m\n\u001b[1;32m    349\u001b[0m             \u001b[0;34m(\u001b[0m\u001b[0mint\u001b[0m\u001b[0;34m(\u001b[0m\u001b[0mheight\u001b[0m\u001b[0;34m*\u001b[0m\u001b[0mratio\u001b[0m\u001b[0;34m)\u001b[0m\u001b[0;34m,\u001b[0m \u001b[0mint\u001b[0m\u001b[0;34m(\u001b[0m\u001b[0mwidth\u001b[0m\u001b[0;34m*\u001b[0m\u001b[0mratio\u001b[0m\u001b[0;34m)\u001b[0m\u001b[0;34m,\u001b[0m \u001b[0mdepth\u001b[0m\u001b[0;34m)\u001b[0m\u001b[0;34m,\u001b[0m\u001b[0;34m\u001b[0m\u001b[0;34m\u001b[0m\u001b[0m\n\u001b[1;32m    350\u001b[0m             dtype=image.dtype)\n\u001b[0;32m--> 351\u001b[0;31m         \u001b[0mexpand_image\u001b[0m\u001b[0;34m[\u001b[0m\u001b[0;34m:\u001b[0m\u001b[0;34m,\u001b[0m \u001b[0;34m:\u001b[0m\u001b[0;34m,\u001b[0m \u001b[0;34m:\u001b[0m\u001b[0;34m]\u001b[0m \u001b[0;34m=\u001b[0m \u001b[0mself\u001b[0m\u001b[0;34m.\u001b[0m\u001b[0mmean\u001b[0m\u001b[0;34m\u001b[0m\u001b[0;34m\u001b[0m\u001b[0m\n\u001b[0m\u001b[1;32m    352\u001b[0m         expand_image[int(top):int(top + height),\n\u001b[1;32m    353\u001b[0m                      int(left):int(left + width)] = image\n",
      "\u001b[0;31mKeyboardInterrupt\u001b[0m: "
     ]
    }
   ],
   "source": [
    "prior_box = get_prior_box()\n",
    "loss_array = []\n",
    "\n",
    "for i, batch in enumerate(trn_dataloader):\n",
    "\n",
    "    imgs, bboxes, labels = batch\n",
    "    imgs = imgs.to(device)\n",
    "    cls_preds, loc_preds = ssd_model(imgs)\n",
    "\n",
    "    ssd_model.zero_grad()\n",
    "\n",
    "    total_loss = 0\n",
    "    total_loc_loss, total_cls_loss = 0, 0\n",
    "\n",
    "    for idx in range(imgs.shape[0]):\n",
    "\n",
    "        img, bbox, label = imgs[idx], bboxes[idx], labels[idx]\n",
    "        cls_pred, loc_pred = cls_preds[idx], loc_preds[idx]\n",
    "        iou = get_iou(bbox, prior_box)\n",
    "\n",
    "        pos_mask, cls_target, bbox_target = get_target(iou, prior_box, img, bbox, label)\n",
    "        pos_mask, cls_target, bbox_target = pos_mask.to(device), cls_target.to(device), bbox_target.to(device)\n",
    "\n",
    "        loss_loc, loss_cls = loss(cls_pred, loc_pred, pos_mask, cls_target, bbox_target)\n",
    "        total_loc_loss += loss_loc; total_cls_loss += loss_cls\n",
    "\n",
    "        total_loss += loss_cls\n",
    "\n",
    "    total_loss /= float(imgs.shape[0])\n",
    "    total_cls_loss /= float(imgs.shape[0])\n",
    "    total_loc_loss /= float(imgs.shape[0])\n",
    "\n",
    "    total_loss.backward()\n",
    "\n",
    "    optimizer.step()\n",
    "    cls_loss = round(float(total_cls_loss), 3)\n",
    "    loc_loss = round(float(total_loc_loss), 3)\n",
    "    t_loss = round(float(total_loss), 3)\n",
    "\n",
    "    print(i, 'cls_loss: {}, loc_loss: {}, loss: {}'.format(cls_loss, loc_loss, t_loss))\n",
    "    loss_array.append(t_loss)"
   ]
  },
  {
   "cell_type": "code",
   "execution_count": 7,
   "metadata": {},
   "outputs": [
    {
     "data": {
      "text/plain": [
       "[<matplotlib.lines.Line2D at 0x7fb53a6cfb70>]"
      ]
     },
     "execution_count": 7,
     "metadata": {},
     "output_type": "execute_result"
    },
    {
     "data": {
      "image/png": "[encoded data removed]",
      "text/plain": [
       "<Figure size 432x288 with 1 Axes>"
      ]
     },
     "metadata": {
      "needs_background": "light"
     },
     "output_type": "display_data"
    }
   ],
   "source": [
    "plt.plot(loss_array)"
   ]
  },
  {
   "cell_type": "code",
   "execution_count": null,
   "metadata": {},
   "outputs": [],
   "source": []
  },
  {
   "cell_type": "code",
   "execution_count": null,
   "metadata": {},
   "outputs": [],
   "source": []
  },
  {
   "cell_type": "code",
   "execution_count": null,
   "metadata": {},
   "outputs": [],
   "source": []
  },
  {
   "cell_type": "code",
   "execution_count": null,
   "metadata": {},
   "outputs": [],
   "source": []
  },
  {
   "cell_type": "code",
   "execution_count": null,
   "metadata": {},
   "outputs": [],
   "source": []
  },
  {
   "cell_type": "code",
   "execution_count": null,
   "metadata": {},
   "outputs": [],
   "source": []
  },
  {
   "cell_type": "code",
   "execution_count": null,
   "metadata": {},
   "outputs": [],
   "source": []
  },
  {
   "cell_type": "code",
   "execution_count": null,
   "metadata": {},
   "outputs": [],
   "source": []
  },
  {
   "cell_type": "code",
   "execution_count": 3,
   "metadata": {},
   "outputs": [
    {
     "data": {
      "text/plain": [
       "[<matplotlib.lines.Line2D at 0x7f560e627588>]"
      ]
     },
     "execution_count": 3,
     "metadata": {},
     "output_type": "execute_result"
    },
    {
     "data": {
      "image/png": "[encoded data removed]",
      "text/plain": [
       "<Figure size 432x288 with 1 Axes>"
      ]
     },
     "metadata": {
      "needs_background": "light"
     },
     "output_type": "display_data"
    }
   ],
   "source": [
    "x = torch.randn(4, 4)\n",
    "w = nn.Parameter(torch.randn(4, 3))\n",
    "b = nn.Parameter(torch.randn(1, 3))\n",
    "y = torch.randn(4, 3)\n",
    "\n",
    "criterion = nn.SmoothL1Loss()\n",
    "optimizer = torch.optim.SGD([w, b], lr=1e-2, momentum=0.9)\n",
    "scheduler = torch.optim.lr_scheduler.CosineAnnealingLR(optimizer, 16)\n",
    "\n",
    "epoch, batch = 4, 16\n",
    "\n",
    "lr_array = []\n",
    "\n",
    "for j in range(epoch):\n",
    "    for k in range(batch):\n",
    "        pred = torch.matmul(x, w) + b\n",
    "        loss = criterion(pred, y)\n",
    "        loss.backward()\n",
    "        optimizer.step()\n",
    "        scheduler.step()\n",
    "        lr_array.append(optimizer.param_groups[0]['lr'])\n",
    "\n",
    "plt.plot(lr_array)"
   ]
  },
  {
   "cell_type": "code",
   "execution_count": 6,
   "metadata": {},
   "outputs": [
    {
     "data": {
      "text/plain": [
       "[<matplotlib.lines.Line2D at 0x7f560cd9d4a8>]"
      ]
     },
     "execution_count": 6,
     "metadata": {},
     "output_type": "execute_result"
    },
    {
     "data": {
      "image/png": "[encoded data removed]",
      "text/plain": [
       "<Figure size 432x288 with 1 Axes>"
      ]
     },
     "metadata": {
      "needs_background": "light"
     },
     "output_type": "display_data"
    }
   ],
   "source": [
    "x = torch.randn(4, 4)\n",
    "w = nn.Parameter(torch.randn(4, 3))\n",
    "b = nn.Parameter(torch.randn(1, 3))\n",
    "y = torch.randn(4, 3)\n",
    "\n",
    "criterion = nn.SmoothL1Loss()\n",
    "optimizer = torch.optim.SGD([w, b], lr=1e-2, momentum=0.9)\n",
    "scheduler = torch.optim.lr_scheduler.CosineAnnealingLR(optimizer, 16)\n",
    "\n",
    "lr_change = []\n",
    "lr_min, lr_max = 1e-4, 10\n",
    "ratio = lr_max / lr_min\n",
    "\n",
    "for t in range(batch + 1):\n",
    "    optimizer.param_groups[0]['lr'] = lr_min * ratio ** (t / batch)\n",
    "    lr_change.append(lr_min * ratio ** (t / batch))\n",
    "#     print(optimizer.param_groups[0]['lr'])\n",
    "\n",
    "plt.plot(lr_change)"
   ]
  },
  {
   "cell_type": "code",
   "execution_count": null,
   "metadata": {},
   "outputs": [],
   "source": []
  }
 ],
 "metadata": {
  "kernelspec": {
   "display_name": "Python 3",
   "language": "python",
   "name": "python3"
  },
  "language_info": {
   "codemirror_mode": {
    "name": "ipython",
    "version": 3
   },
   "file_extension": ".py",
   "mimetype": "text/x-python",
   "name": "python",
   "nbconvert_exporter": "python",
   "pygments_lexer": "ipython3",
   "version": "3.6.7"
  }
 },
 "nbformat": 4,
 "nbformat_minor": 2
}
